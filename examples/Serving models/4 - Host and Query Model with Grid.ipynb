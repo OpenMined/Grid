{
 "cells": [
  {
   "cell_type": "markdown",
   "metadata": {},
   "source": [
    "<h1>Host and Query Model with Grid</h1>\n",
    "<p>In this series of tutorials we show how you can serve and query models on Grid platform.</p>\n",
    "\n",
    "**NOTE:** At the time of running this notebook, we were running the grid components in background mode.  \n",
    "\n",
    "**NOTE:**\n",
    "Components:\n",
    " - Grid Gateway(http://localhost:5000)\n",
    " - Grid Node Alice (http://localhost:3000)\n",
    " - Grid Node Bob (http://localhost:3001)\n",
    " - Grid Node Bill (http://localhost:3002)"
   ]
  },
  {
   "cell_type": "markdown",
   "metadata": {},
   "source": [
    "<h3>Import dependencies</h3>"
   ]
  },
  {
   "cell_type": "code",
   "execution_count": 2,
   "metadata": {},
   "outputs": [],
   "source": [
    "import syft as sy\n",
    "import grid as gr\n",
    "import torch as th"
   ]
  },
  {
   "cell_type": "markdown",
   "metadata": {},
   "source": [
    "<h3>Set up configs</h3>\n",
    "<p>Now, we'll set our syft hook and instantiate our grid</p>"
   ]
  },
  {
   "cell_type": "code",
   "execution_count": 3,
   "metadata": {},
   "outputs": [],
   "source": [
    "hook = sy.TorchHook(th)"
   ]
  },
  {
   "cell_type": "code",
   "execution_count": 4,
   "metadata": {},
   "outputs": [],
   "source": [
    "my_grid = gr.GridNetwork(\"http://localhost:5000\")"
   ]
  },
  {
   "cell_type": "markdown",
   "metadata": {},
   "source": [
    "<h3>Create a test model</h3>\n",
    "<p>For test purposes, we'll create a toy model with random values as parameters</p>"
   ]
  },
  {
   "cell_type": "code",
   "execution_count": 5,
   "metadata": {},
   "outputs": [],
   "source": [
    "toy_model = th.nn.Linear(2, 5)\n",
    "data = th.zeros((5,2))\n",
    "traced_model = th.jit.trace(toy_model, data)"
   ]
  },
  {
   "cell_type": "markdown",
   "metadata": {},
   "source": [
    "<h3> Hosting our models</h3>\n",
    "<p>Now,we'll host our models on grid nodes registered on our grid network. For test purposes, we'll register the same model (can be jit model or plan model) changing only the model_id. </p>  \n",
    "<p>Nowadays, the choose of grid node that will host the model is random, but in the future we can add a better metric to do this.</p>"
   ]
  },
  {
   "cell_type": "code",
   "execution_count": 6,
   "metadata": {},
   "outputs": [
    {
     "name": "stdout",
     "output_type": "stream",
     "text": [
      "WARNING: Grid nodes publish datasets online and are for EXPERIMENTAL use only.Deploy nodes at your own risk. Do not use OpenGrid with any data/models you wish to keep private.\n",
      "\n"
     ]
    }
   ],
   "source": [
    "my_grid.serve_model(traced_model, \"MNIST\")"
   ]
  },
  {
   "cell_type": "code",
   "execution_count": 8,
   "metadata": {},
   "outputs": [],
   "source": [
    "my_grid.serve_model(traced_model, \"CIFAR10\")"
   ]
  },
  {
   "cell_type": "code",
   "execution_count": 9,
   "metadata": {},
   "outputs": [],
   "source": [
    "my_grid.serve_model(traced_model, \"SKINCANCER\")"
   ]
  },
  {
   "cell_type": "markdown",
   "metadata": {},
   "source": [
    "<h3>Querying/Running inference</h3>\n",
    "<p>Now, we want to recover the reference of our models registered previously.</p>\n",
    "<p>It is important to notice that we can have the same ID on different nodes (we can have different versions of same model distributed throughout our network). To solve this problem, when we perform a query, it will return a list of grid nodes that contains some version of this specific model.</p>"
   ]
  },
  {
   "cell_type": "code",
   "execution_count": 10,
   "metadata": {},
   "outputs": [
    {
     "data": {
      "text/plain": [
       "tensor([[-0.2962, -0.6693,  0.3216, -0.3708,  0.1329],\n",
       "        [-0.2962, -0.6693,  0.3216, -0.3708,  0.1329],\n",
       "        [-0.2962, -0.6693,  0.3216, -0.3708,  0.1329],\n",
       "        [-0.2962, -0.6693,  0.3216, -0.3708,  0.1329],\n",
       "        [-0.2962, -0.6693,  0.3216, -0.3708,  0.1329]])"
      ]
     },
     "execution_count": 10,
     "metadata": {},
     "output_type": "execute_result"
    }
   ],
   "source": [
    "toy_data = th.zeros((5,2))\n",
    "my_grid.run_inference(model_id=\"MNIST\", dataset=toy_data)"
   ]
  },
  {
   "cell_type": "code",
   "execution_count": 11,
   "metadata": {},
   "outputs": [
    {
     "data": {
      "text/plain": [
       "tensor([[-0.2962, -0.6693,  0.3216, -0.3708,  0.1329],\n",
       "        [-0.2962, -0.6693,  0.3216, -0.3708,  0.1329],\n",
       "        [-0.2962, -0.6693,  0.3216, -0.3708,  0.1329],\n",
       "        [-0.2962, -0.6693,  0.3216, -0.3708,  0.1329],\n",
       "        [-0.2962, -0.6693,  0.3216, -0.3708,  0.1329]])"
      ]
     },
     "execution_count": 11,
     "metadata": {},
     "output_type": "execute_result"
    }
   ],
   "source": [
    "toy_data = th.zeros((5,2))\n",
    "my_grid.run_inference(model_id=\"CIFAR10\", dataset=toy_data)"
   ]
  },
  {
   "cell_type": "code",
   "execution_count": 12,
   "metadata": {},
   "outputs": [
    {
     "data": {
      "text/plain": [
       "tensor([[-0.2962, -0.6693,  0.3216, -0.3708,  0.1329],\n",
       "        [-0.2962, -0.6693,  0.3216, -0.3708,  0.1329],\n",
       "        [-0.2962, -0.6693,  0.3216, -0.3708,  0.1329],\n",
       "        [-0.2962, -0.6693,  0.3216, -0.3708,  0.1329],\n",
       "        [-0.2962, -0.6693,  0.3216, -0.3708,  0.1329]])"
      ]
     },
     "execution_count": 12,
     "metadata": {},
     "output_type": "execute_result"
    }
   ],
   "source": [
    "toy_data = th.zeros((5,2))\n",
    "my_grid.run_inference(model_id=\"SKINCANCER\", dataset=toy_data)"
   ]
  },
  {
   "cell_type": "markdown",
   "metadata": {},
   "source": [
    "<h3>Disconnect Nodes</h3>"
   ]
  },
  {
   "cell_type": "code",
   "execution_count": 13,
   "metadata": {},
   "outputs": [],
   "source": [
    "my_grid.disconnect_nodes()"
   ]
  }
 ],
 "metadata": {
  "kernelspec": {
   "display_name": "Python 3",
   "language": "python",
   "name": "python3"
  },
  "language_info": {
   "codemirror_mode": {
    "name": "ipython",
    "version": 3
   },
   "file_extension": ".py",
   "mimetype": "text/x-python",
   "name": "python",
   "nbconvert_exporter": "python",
   "pygments_lexer": "ipython3",
   "version": "3.7.3"
  }
 },
 "nbformat": 4,
 "nbformat_minor": 2
}
