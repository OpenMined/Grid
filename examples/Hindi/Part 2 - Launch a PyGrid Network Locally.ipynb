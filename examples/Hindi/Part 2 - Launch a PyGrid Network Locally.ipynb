{
 "cells": [
  {
   "cell_type": "markdown",
   "metadata": {},
   "source": [
    "# भाग 2: स्थानीय रूप से ग्रिड नेटवर्क लॉन्च करें\n",
    "\n",
    "इस ट्यूटोरियल में, आप सीखेंगे कि ग्रिड मशीन को स्थानीय मशीन में कैसे तैनात किया जाए और फिर PySyft का उपयोग करके इसके साथ सहभागिता करें।\n",
    "\n",
    "_चेतावनी: ग्रिड नोड ऑनलाइन डेटासेट प्रकाशित करते हैं और केवल प्रायोगिक उपयोग के लिए होते हैं। अपने जोखिम पर नोड्स तैनात करें। किसी भी डेटा / मॉडल के साथ OpenGrid का उपयोग न करें जिसे आप निजी रखना चाहते हैं।_\n",
    "\n",
    "\n",
    "ग्रिड नेटवर्क चलाने के लिए स्थानीय स्तर पर आपको दो अलग-अलग ऐप चलाने होंगे: एक ग्रिड गेटवे और एक या अधिक ग्रिड वर्कर्स। इस ट्यूटोरियल में हम ग्रिड वर्कर्स को शुरू करने के लिए [यहाँ ](https://github.com/OpenMined/PyGrid/tree/dev/app/websocket) उपलब्ध वेबसोकेट ऐप का उपयोग करेंगे।\n",
    "\n",
    "\n",
    "## ग्रिड गेटवे शुरू करना\n",
    "\n",
    "\n",
    "### चरण 1: रिपॉजिटरी डाउनलोड करें\n",
    "\n",
    "```bash\n",
    "git clone https://github.com/OpenMined/PyGrid/\n",
    "```\n",
    "\n",
    "\n",
    "### चरण 2: निर्भरताएँ डाउनलोड करें\n",
    "\n",
    "आपको ऐप निर्भरता स्थापित करने की आवश्यकता होगी। हम लाइब्रेरी संस्करणों के साथ समस्याओं से बचने के लिए एक स्वतंत्र [conda environment](https://docs.conda.io/projects/conda/en/latest/user-guide/concepts/environments.html) स्थापित करने की सलाह देते हैं।\n",
    "\n",
    "आप चलाकर निर्भरता स्थापित कर सकते हैं:\n",
    "\n",
    "```bash\n",
    "cd PyGrid/gateway/\n",
    "pip install -r requirements.txt\n",
    "```\n",
    "\n",
    "\n",
    "### चरण 3: गेटवे ऐप शुरू करें\n",
    "\n",
    "फिर ऐप को शुरू करने के लिए बस `gateway.py` स्क्रिप्ट चलाएं। `--start_local_db` स्वचालित रूप से एक स्थानीय डेटाबेस शुरू करता है ताकि आपको स्वयं को कॉन्फ़िगर न करना पड़े\n",
    "\n",
    "```bash\n",
    "python gateway.py --start_local_db --port=<port_number>\n",
    "```\n",
    "\n",
    "यह पते पर ऐप शुरू करेगा: `http://0.0.0.0/<port_number>`.\n",
    "\n",
    "यह जाँचने के लिए कि इस ऐप को चलाते समय आप किन अन्य तर्कों का उपयोग कर सकते हैं, चलाएँ:\n",
    "\n",
    "```bash\n",
    "python gateway.py --help\n",
    "```\n",
    "\n",
    "आइए पोर्ट `5000` पर एक ग्रिड गेटवे शुरू करें\n",
    "\n",
    "```bash\n",
    "python gateway.py --port=5000\n",
    "```\n",
    "\n",
    "महान, इसलिए यदि आपका ऐप सफलतापूर्वक शुरू हो गया है तो स्क्रिप्ट अभी भी चलनी चाहिए।\n",
    "\n",
    "## ग्रिड वर्कर ऐप शुरू करना\n",
    "\n",
    "### चरण 4: ग्रिड कार्यकर्ता ऐप शुरू करना\n",
    "\n",
    "यह एक ही प्रक्रिया है जो पहले से ही भाग 1 में वर्णित है। लेकिन हम `--gateway_url` नामक ऐप शुरू करते समय एक नया तर्क जोड़ते हैं, यह ग्रिड नेटवर्क द्वारा उपयोग किए जाने वाले पते के बराबर होना चाहिए, यह \"http://localhost:5000\" है।\n",
    "\n",
    "\n",
    "दो श्रमिकों को शुरू करते हैं:\n",
    "\n",
    "* बॉब पोर्ट `3000` पर\n",
    "* ऐलिस पोर्ट `3001` पर\n",
    "\n",
    "```bash\n",
    "python websocket_app.py --db_url=redis:///redis:6379 --id=bob --port=3000 --gateway_url=http://localhost:5000\n",
    "```\n",
    "\n",
    "```bash\n",
    "python websocket_app.py --db_url=redis:///redis:6379 --id=alice --port=3001 --gateway_url=http://localhost:5000\n",
    "```\n",
    "\n",
    "हमें हमेशा ग्रिड गेटवे शुरू करने के बाद श्रमिकों को शुरू करना चाहिए !!\n",
    "\n",
    "\n",
    "महान, इसलिए यदि आपका ऐप सफलतापूर्वक शुरू हो गया है तो स्क्रिप्ट अभी भी चलनी चाहिए।\n",
    "\n",
    "\n",
    "### चरण 5: ग्रिड गेटवे और श्रमिकों के साथ संचार शुरू करें\n",
    "\n",
    "गेटवे और श्रमिकों के साथ संचार शुरू करते हैं।"
   ]
  },
  {
   "cell_type": "code",
   "execution_count": 4,
   "metadata": {},
   "outputs": [
    {
     "name": "stderr",
     "output_type": "stream",
     "text": [
      "WARNING:root:Torch was already hooked... skipping hooking process\n"
     ]
    }
   ],
   "source": [
    "# General dependencies\n",
    "import torch as th\n",
    "import syft as sy\n",
    "from syft.grid.public_grid import PublicGridNetwork\n",
    "from syft.workers.node_client import NodeClient\n",
    "hook = sy.TorchHook(th)"
   ]
  },
  {
   "cell_type": "code",
   "execution_count": 2,
   "metadata": {},
   "outputs": [],
   "source": [
    "GRID_ADDRESS = 'localhost'\n",
    "GRID_PORT = '5000'\n",
    "\n",
    "gateway = PublicGridNetwork(hook,\"http://\" + GRID_ADDRESS + \":\" + GRID_PORT)"
   ]
  },
  {
   "cell_type": "code",
   "execution_count": 5,
   "metadata": {},
   "outputs": [],
   "source": [
    "# WARNING: We should use the same id and port as the one used to start the app!!!\n",
    "bob = NodeClient(hook, \"ws://bob:3000\")\n",
    "\n",
    "# WARNING: We should use the same id and port as the one used to start the app!!!\n",
    "alice = NodeClient(hook, \"ws://alice:3001\")"
   ]
  },
  {
   "cell_type": "markdown",
   "metadata": {},
   "source": [
    "### चरण 6: सामान्य की तरह PySyft का उपयोग करें\n",
    "\n",
    "अब आप बस आपके द्वारा बनाए गए कार्यकर्ता का उपयोग कर सकते हैं जैसे कि आप किसी भी अन्य सामान्य PySyft कार्यकर्ता। PySyft कैसे काम करता है, इस पर अधिक जानकारी के लिए, PySyft ट्यूटोरियल देखें: https://github.com/OpenMined/PySyft/tree/master/examples/tutorials"
   ]
  },
  {
   "cell_type": "code",
   "execution_count": 6,
   "metadata": {},
   "outputs": [
    {
     "data": {
      "text/plain": [
       "(Wrapper)>[PointerTensor | me:7311489525 -> Bob:28859851125]"
      ]
     },
     "execution_count": 6,
     "metadata": {},
     "output_type": "execute_result"
    }
   ],
   "source": [
    "x = th.tensor([1,2,3,4]).send(bob)\n",
    "x"
   ]
  },
  {
   "cell_type": "code",
   "execution_count": 7,
   "metadata": {},
   "outputs": [
    {
     "data": {
      "text/plain": [
       "(Wrapper)>[PointerTensor | me:89355944812 -> Bob:43871047975]"
      ]
     },
     "execution_count": 7,
     "metadata": {},
     "output_type": "execute_result"
    }
   ],
   "source": [
    "y = x + x\n",
    "y"
   ]
  },
  {
   "cell_type": "code",
   "execution_count": 8,
   "metadata": {},
   "outputs": [
    {
     "data": {
      "text/plain": [
       "tensor([2, 4, 6, 8])"
      ]
     },
     "execution_count": 8,
     "metadata": {},
     "output_type": "execute_result"
    }
   ],
   "source": [
    "y.get()"
   ]
  },
  {
   "cell_type": "markdown",
   "metadata": {},
   "source": [
    "### चरण 7: ग्रिड नेटवर्क पर ऑपरेशन करें\n",
    "\n",
    "अभी तक हमने कुछ अलग नहीं किया है, लेकिन यहां जादू है: हम नेटवर्क के साथ बातचीत कर सकते हैं ताकि इसके बारे में सामान्य जानकारी को क्वेरी कर सकें।"
   ]
  },
  {
   "cell_type": "code",
   "execution_count": 9,
   "metadata": {},
   "outputs": [],
   "source": [
    "x = th.tensor([1, 2, 3, 4, 5]).tag(\"#tensor\").send(bob)"
   ]
  },
  {
   "cell_type": "markdown",
   "metadata": {},
   "source": [
    "हम पूरे नेटवर्क में एक tensor की खोज कर सकते हैं, और सभी tensors को पॉइंटर्स प्राप्त कर सकते हैं।"
   ]
  },
  {
   "cell_type": "code",
   "execution_count": 10,
   "metadata": {},
   "outputs": [
    {
     "data": {
      "text/plain": [
       "{'Bob': [(Wrapper)>[PointerTensor | me:9865241336 -> Bob:2228316112]\n",
       "  \tTags: #tensor \n",
       "  \tShape: torch.Size([5])]}"
      ]
     },
     "execution_count": 10,
     "metadata": {},
     "output_type": "execute_result"
    }
   ],
   "source": [
    "gateway.search(\"#tensor\")"
   ]
  },
  {
   "cell_type": "code",
   "execution_count": 11,
   "metadata": {},
   "outputs": [],
   "source": [
    "y = th.tensor([1, 2, 3, 4, 5]).tag(\"#tensor\").send(alice)"
   ]
  },
  {
   "cell_type": "code",
   "execution_count": 12,
   "metadata": {},
   "outputs": [
    {
     "data": {
      "text/plain": [
       "{'Bob': [(Wrapper)>[PointerTensor | me:39675731340 -> Bob:2228316112]\n",
       "  \tTags: #tensor \n",
       "  \tShape: torch.Size([5])],\n",
       " 'Alice': [(Wrapper)>[PointerTensor | me:69033538805 -> Alice:84105580423]\n",
       "  \tTags: #tensor \n",
       "  \tShape: torch.Size([5])]}"
      ]
     },
     "execution_count": 12,
     "metadata": {},
     "output_type": "execute_result"
    }
   ],
   "source": [
    "gateway.search(\"#tensor\")"
   ]
  }
 ],
 "metadata": {
  "kernelspec": {
   "display_name": "Python 3",
   "language": "python",
   "name": "python3"
  },
  "language_info": {
   "codemirror_mode": {
    "name": "ipython",
    "version": 3
   },
   "file_extension": ".py",
   "mimetype": "text/x-python",
   "name": "python",
   "nbconvert_exporter": "python",
   "pygments_lexer": "ipython3",
   "version": "3.7.3"
  }
 },
 "nbformat": 4,
 "nbformat_minor": 2
}
