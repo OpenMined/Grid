{
 "cells": [
  {
   "cell_type": "markdown",
   "metadata": {},
   "source": [
    "# भाग 1: स्थानीय रूप से ग्रिड नोड लॉन्च करें\n",
    "\n",
    "\n",
    "इस ट्यूटोरियल में, आप सीखेंगे कि ग्रिड नोड को स्थानीय मशीन में कैसे तैनात किया जाए और फिर PySyft का उपयोग करके इसके साथ सहभागिता करें।\n",
    "\n",
    "_चेतावनी: ग्रिड नोड ऑनलाइन डेटासेट प्रकाशित करते हैं और केवल प्रायोगिक उपयोग के लिए हैं। अपने जोखिम पर नोड्स तैनात करें। किसी भी डेटा / मॉडल के साथ OpenGrid का उपयोग न करें जिसे आप निजी रखना चाहते हैं।_\n",
    "\n",
    "\n",
    "नोड को स्थानीय रूप से चलाने के लिए आपको केवल एक एप्लिकेशन चलाना होगा और फिर ग्रिड वर्कर के माध्यम से इसके साथ संचार करना शुरू करना होगा। \n",
    "इस ट्यूटोरियल में हम उपलब्ध [वेबसोकेट ऐप](https://github.com/OpenMined/PyGrid/tree/dev/app/websocket) का उपयोग करेंगे.\n",
    "\n",
    "\n",
    "### चरण 1: रिपॉजिटरी डाउनलोड करें\n",
    "\n",
    "```bash\n",
    "git clone https://github.com/OpenMined/PyGrid/\n",
    "```\n",
    "\n",
    "\n",
    "### चरण 2: निर्भरताएँ डाउनलोड करें\n",
    "\n",
    "\n",
    "आपको ऐप निर्भरता स्थापित करने की आवश्यकता होगी। हम लाइब्रेरी संस्करणों के साथ समस्याओं से बचने के लिए एक स्वतंत्र [conda environment](https://docs.conda.io/projects/conda/en/latest/user-guide/concepts/environments.html) स्थापित करने की सलाह देते हैं।\n",
    "\n",
    "आप चलाकर निर्भरता स्थापित कर सकते हैं:\n",
    "\n",
    "```bash\n",
    "cd PyGrid/app/websocket/\n",
    "pip install -r requirements.txt\n",
    "```\n",
    "\n",
    "### चरण 3: ऐप शुरू करें\n",
    "\n",
    "\n",
    "फिर, एप्लिकेशन शुरू करने के लिए, बस `websocket_app` स्क्रिप्ट चलाएँ।\n",
    "\n",
    "```bash\n",
    "cd PyGrid/app/websocket\n",
    "python websocket_app.py --db_url=<redis_url, None> --id=<worker_id> --port=<port number>\n",
    "```\n",
    "\n",
    "यह आईडी पर `<worker_id>`  पते के बराबर आईडी के साथ ऐप शुरू करेगा: `http://0.0.0.0/<port_number>`. `--db_url`  एक REDIS डेटाबेस शुरू करता है। \n",
    "आप बिना db वाले वेबसोकेट का भी उपयोग कर सकते हैं।\n",
    "\n",
    "\n",
    "यह जाँचने के लिए कि इस ऐप को चलाते समय आप किन अन्य तर्कों का उपयोग कर सकते हैं, चलाएँ:\n",
    "\n",
    "```bash\n",
    "python websocket_app.py --help\n",
    "```\n",
    "\n",
    "\n",
    "आइए एक कार्यकर्ता को `bob` आइडी के बराबर पोर्ट `3000` पर शुरू करें\n",
    "\n",
    "```bash\n",
    "python websocket_app.py --db_url=redis:///redis:6379 --id=bob --port=3000\n",
    "```\n",
    "\n",
    "महान। यदि ऐप सफलतापूर्वक शुरू हो गया तो स्क्रिप्ट को चालू रखना चाहिए।\n"
   ]
  },
  {
   "cell_type": "markdown",
   "metadata": {},
   "source": [
    "### चरण 4: एक ग्रिड कार्यकर्ता बनाना और संचार शुरू करना\n",
    "\n",
    "आइए इस ऐप से बात करने के लिए एक WebsocketGridWorker को इंस्टेंट करें।"
   ]
  },
  {
   "cell_type": "code",
   "execution_count": 1,
   "metadata": {},
   "outputs": [],
   "source": [
    "# General dependencies\n",
    "import torch as th\n",
    "import syft as sy\n",
    "from syft.workers.node_client import NodeClient\n",
    "\n",
    "hook = sy.TorchHook(th)"
   ]
  },
  {
   "cell_type": "code",
   "execution_count": 2,
   "metadata": {},
   "outputs": [
    {
     "data": {
      "text/plain": [
       "'Bob'"
      ]
     },
     "execution_count": 2,
     "metadata": {},
     "output_type": "execute_result"
    }
   ],
   "source": [
    "# WARNING: We should use the same id and port as the one used to start the app!!!\n",
    "worker = NodeClient(hook, \"ws://localhost:3000\")\n",
    "\n",
    "worker.id"
   ]
  },
  {
   "cell_type": "markdown",
   "metadata": {},
   "source": [
    "### चरण 5: सामान्य की तरह PySyft का उपयोग करें\n",
    "\n",
    "अब आप बस आपके द्वारा बनाए गए कार्यकर्ता का उपयोग कर सकते हैं जैसे कि आप किसी भी अन्य सामान्य PySyft कार्यकर्ता। PySyft कैसे काम करता है, इसके बारे में अधिक जानने के लिए, कृपया PySyft ट्यूटोरियल देखें: https://github.com/OpenMined/PySyft/tree/dev/examples/tutorials"
   ]
  },
  {
   "cell_type": "code",
   "execution_count": 3,
   "metadata": {},
   "outputs": [
    {
     "data": {
      "text/plain": [
       "(Wrapper)>[PointerTensor | me:57749333399 -> Bob:87480523874]"
      ]
     },
     "execution_count": 3,
     "metadata": {},
     "output_type": "execute_result"
    }
   ],
   "source": [
    "x = th.tensor([1,2,3,4]).send(worker)\n",
    "x"
   ]
  },
  {
   "cell_type": "code",
   "execution_count": 4,
   "metadata": {},
   "outputs": [
    {
     "data": {
      "text/plain": [
       "(Wrapper)>[PointerTensor | me:53206369237 -> Bob:35008750669]"
      ]
     },
     "execution_count": 4,
     "metadata": {},
     "output_type": "execute_result"
    }
   ],
   "source": [
    "y = x + x\n",
    "y"
   ]
  },
  {
   "cell_type": "code",
   "execution_count": 5,
   "metadata": {},
   "outputs": [
    {
     "data": {
      "text/plain": [
       "tensor([2, 4, 6, 8])"
      ]
     },
     "execution_count": 5,
     "metadata": {},
     "output_type": "execute_result"
    }
   ],
   "source": [
    "y.get()"
   ]
  }
 ],
 "metadata": {
  "kernelspec": {
   "display_name": "Python 3",
   "language": "python",
   "name": "python3"
  },
  "language_info": {
   "codemirror_mode": {
    "name": "ipython",
    "version": 3
   },
   "file_extension": ".py",
   "mimetype": "text/x-python",
   "name": "python",
   "nbconvert_exporter": "python",
   "pygments_lexer": "ipython3",
   "version": "3.7.3"
  }
 },
 "nbformat": 4,
 "nbformat_minor": 2
}
