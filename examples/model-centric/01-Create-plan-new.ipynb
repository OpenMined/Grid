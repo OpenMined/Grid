{
 "cells": [
  {
   "cell_type": "code",
   "execution_count": 1,
   "metadata": {},
   "outputs": [],
   "source": [
    "%load_ext autoreload\n",
    "%autoreload 2"
   ]
  },
  {
   "cell_type": "code",
   "execution_count": 2,
   "metadata": {},
   "outputs": [],
   "source": [
    "# !pip install pyjwt"
   ]
  },
  {
   "cell_type": "code",
   "execution_count": 3,
   "metadata": {},
   "outputs": [],
   "source": [
    "import syft as sy\n",
    "import torch as th\n",
    "import os, websockets, json, requests, jwt\n",
    "from torch import nn\n",
    "from websocket import create_connection\n",
    "from syft.lib.python.list import List\n",
    "from syft import serialize, deserialize\n",
    "from syft.lib.python.collections import OrderedDict\n",
    "from syft.proto.lib.python.collections.ordered_dict_pb2 import OrderedDict as OrderedDictPB\n",
    "from syft.proto.lib.python.list_pb2 import List as ListPB\n",
    "from syft.lib.python.int import Int\n",
    "from syft.proto.core.plan.plan_pb2 import Plan as PlanPB\n",
    "from syft.core.plan.plan_builder import PLAN_BUILDER_VM, make_plan, build_plan_inputs, ROOT_CLIENT\n",
    "from syft.federated.model_centric_fl_client import ModelCentricFLClient, GridError\n",
    "import base64\n",
    "th.random.manual_seed(1);"
   ]
  },
  {
   "cell_type": "markdown",
   "metadata": {},
   "source": [
    "# Federated Learning - Model Centric MNIST Example: Create Plan"
   ]
  },
  {
   "cell_type": "code",
   "execution_count": 4,
   "metadata": {},
   "outputs": [],
   "source": [
    "class MLP(sy.Module):\n",
    "    def __init__(self, torch_ref):\n",
    "        super().__init__(torch_ref=torch_ref)\n",
    "        self.l1 = self.torch_ref.nn.Linear(784, 100)\n",
    "        self.a1 = self.torch_ref.nn.ReLU()\n",
    "        self.l2 = self.torch_ref.nn.Linear(100, 10)\n",
    "        \n",
    "    def forward(self, x):\n",
    "        x_reshaped = x.view(-1, 28 * 28)\n",
    "        l1_out = self.a1(self.l1(x_reshaped))\n",
    "        l2_out = self.l2(l1_out)\n",
    "        return l2_out"
   ]
  },
  {
   "cell_type": "code",
   "execution_count": 5,
   "metadata": {},
   "outputs": [],
   "source": [
    "def set_params(model, params):\n",
    "    for p, p_new in zip(model.parameters(), params): p.data = p_new.data\n",
    "        \n",
    "def cross_entropy_loss(logits, targets, batch_size):\n",
    "    norm_logits = logits - logits.max()\n",
    "    log_probs = norm_logits - norm_logits.exp().sum(dim=1, keepdim=True).log()\n",
    "    return -(targets * log_probs).sum() / batch_size\n",
    "\n",
    "def sgd_step(model, lr=0.1):\n",
    "    with ROOT_CLIENT.torch.no_grad():\n",
    "        for p in model.parameters():\n",
    "            p.data = p.data - lr * p.grad            \n",
    "            p.grad = th.zeros_like(p.grad.get())"
   ]
  },
  {
   "cell_type": "code",
   "execution_count": 6,
   "metadata": {},
   "outputs": [],
   "source": [
    "local_model = MLP(th)"
   ]
  },
  {
   "cell_type": "code",
   "execution_count": 7,
   "metadata": {},
   "outputs": [
    {
     "name": "stdout",
     "output_type": "stream",
     "text": [
      "Cant make real_module pointable. You do not have permission to update Object with ID: <UID: 89828e2a40994ef49204001b9b952bc6>Please submit a request.\n"
     ]
    },
    {
     "name": "stderr",
     "output_type": "stream",
     "text": [
      "[2021-03-22T13:36:57.396790+0100][CRITICAL][logger]][17733] <class 'syft.core.store.store_memory.MemoryStore'> __delitem__ error <UID: fe23c23750274f8cb0762276413c9391>.\n",
      "[2021-03-22T13:36:57.439207+0100][CRITICAL][logger]][17733] <class 'syft.core.store.store_memory.MemoryStore'> __delitem__ error <UID: 190ace41cfab47b2842ca48d9810a5c0>.\n",
      "[2021-03-22T13:36:57.468792+0100][CRITICAL][logger]][17733] <class 'syft.core.store.store_memory.MemoryStore'> __delitem__ error <UID: 466e15b91986420785368828aee91b73>.\n",
      "[2021-03-22T13:36:57.488401+0100][CRITICAL][logger]][17733] <class 'syft.core.store.store_memory.MemoryStore'> __delitem__ error <UID: 747b2c37de6747389a8da125c257487a>.\n"
     ]
    }
   ],
   "source": [
    "@make_plan\n",
    "def train(xs = th.rand([64*3, 1, 28, 28]), ys = th.randint(0, 10, [64*3, 10]),\n",
    "          params = List(local_model.parameters()) ):\n",
    "    \n",
    "    model = local_model.send(ROOT_CLIENT)\n",
    "    set_params(model, params)\n",
    "    for i in range(1):\n",
    "        indices = th.tensor(range(64*i, 64*(i+1)))\n",
    "        x, y = xs.index_select(0, indices), ys.index_select(0, indices)\n",
    "        out = model(x)\n",
    "        loss = cross_entropy_loss(out, y, 64)\n",
    "        loss.backward()\n",
    "        sgd_step(model)\n",
    "        \n",
    "    return model.parameters()"
   ]
  },
  {
   "cell_type": "code",
   "execution_count": 8,
   "metadata": {},
   "outputs": [],
   "source": [
    "@make_plan\n",
    "def avg_plan(avg = List(local_model.parameters()), item = List(local_model.parameters()),\n",
    "             num = Int(0)):\n",
    "    new_avg = []\n",
    "    for i, param in enumerate(avg):\n",
    "        new_avg.append((avg[i] * num + item[i]) / (num + 1))\n",
    "    return new_avg"
   ]
  },
  {
   "cell_type": "markdown",
   "metadata": {},
   "source": [
    "# Config & keys"
   ]
  },
  {
   "cell_type": "code",
   "execution_count": 9,
   "metadata": {},
   "outputs": [],
   "source": [
    "name = \"mnist\" \n",
    "version = \"1.0\"\n",
    "\n",
    "client_config = {\n",
    "    \"name\": name,\n",
    "    \"version\": version,\n",
    "    \"batch_size\": 64,\n",
    "    \"lr\": 0.1,\n",
    "    \"max_updates\": 1  # custom syft.js option that limits number of training loops per worker\n",
    "}\n",
    "\n",
    "server_config = {\n",
    "    \"min_workers\": 2,\n",
    "    \"max_workers\": 2,\n",
    "    \"pool_selection\": \"random\",\n",
    "    \"do_not_reuse_workers_until_cycle\": 6,\n",
    "    \"cycle_length\": 28800,  # max cycle length in seconds\n",
    "    \"num_cycles\": 30,  # max number of cycles\n",
    "    \"max_diffs\": 1,  # number of diffs to collect before avg\n",
    "    \"minimum_upload_speed\": 0,\n",
    "    \"minimum_download_speed\": 0,\n",
    "    \"iterative_plan\": True  # tells PyGrid that avg plan is executed per diff\n",
    "}"
   ]
  },
  {
   "cell_type": "code",
   "execution_count": 10,
   "metadata": {},
   "outputs": [],
   "source": [
    "def read_file(fname):\n",
    "    with open(fname, \"r\") as f:\n",
    "        return f.read()"
   ]
  },
  {
   "cell_type": "code",
   "execution_count": 11,
   "metadata": {},
   "outputs": [],
   "source": [
    "private_key = read_file(\"example_rsa\").strip()\n",
    "public_key  = read_file(\"example_rsa.pub\").strip()\n",
    "\n",
    "server_config[\"authentication\"] = {\n",
    "    \"type\": \"jwt\",\n",
    "    \"pub_key\": public_key,\n",
    "}"
   ]
  },
  {
   "cell_type": "markdown",
   "metadata": {},
   "source": [
    "# Auth"
   ]
  },
  {
   "cell_type": "code",
   "execution_count": 12,
   "metadata": {},
   "outputs": [],
   "source": [
    "grid_address = \"bob:7000\""
   ]
  },
  {
   "cell_type": "code",
   "execution_count": 13,
   "metadata": {},
   "outputs": [],
   "source": [
    "grid = ModelCentricFLClient(id=\"test\", address=grid_address, secure=False)\n",
    "grid.connect()"
   ]
  },
  {
   "cell_type": "markdown",
   "metadata": {},
   "source": [
    "# Host"
   ]
  },
  {
   "cell_type": "markdown",
   "metadata": {},
   "source": [
    "If the process already exists, might you need to clear the db. To do that, set path below correctly and run:"
   ]
  },
  {
   "cell_type": "code",
   "execution_count": 14,
   "metadata": {},
   "outputs": [],
   "source": [
    "# !rm /Users/koen/workspace/PyGrid/apps/domain/src/datadomain.db"
   ]
  },
  {
   "cell_type": "code",
   "execution_count": 15,
   "metadata": {},
   "outputs": [],
   "source": [
    "response = grid.host_federated_training(model=local_model, \n",
    "                                        client_plans={'training_plan': train},\n",
    "                                        client_protocols={},\n",
    "                                        server_averaging_plan=avg_plan,\n",
    "                                        client_config=client_config,\n",
    "                                        server_config=server_config)"
   ]
  },
  {
   "cell_type": "code",
   "execution_count": 16,
   "metadata": {},
   "outputs": [
    {
     "data": {
      "text/plain": [
       "{'type': 'model-centric/host-training', 'data': {'status': 'success'}}"
      ]
     },
     "execution_count": 16,
     "metadata": {},
     "output_type": "execute_result"
    }
   ],
   "source": [
    "response"
   ]
  },
  {
   "cell_type": "markdown",
   "metadata": {},
   "source": [
    "# Authenticate for cycle"
   ]
  },
  {
   "cell_type": "code",
   "execution_count": 17,
   "metadata": {},
   "outputs": [],
   "source": [
    "# Helper function to make WS requests\n",
    "def sendWsMessage(data):\n",
    "    ws = create_connection('ws://' + grid_address)\n",
    "    ws.send(json.dumps(data))\n",
    "    message = ws.recv()\n",
    "    return json.loads(message)"
   ]
  },
  {
   "cell_type": "code",
   "execution_count": 18,
   "metadata": {},
   "outputs": [],
   "source": [
    "auth_token = jwt.encode({}, private_key, algorithm='RS256').decode('ascii')"
   ]
  },
  {
   "cell_type": "code",
   "execution_count": 19,
   "metadata": {
    "scrolled": true
   },
   "outputs": [
    {
     "data": {
      "text/plain": [
       "{'type': 'model-centric/authenticate',\n",
       " 'data': {'status': 'success',\n",
       "  'worker_id': 'adee3e3f-c159-4a80-b388-19d435af5c6c',\n",
       "  'requires_speed_test': True}}"
      ]
     },
     "execution_count": 19,
     "metadata": {},
     "output_type": "execute_result"
    }
   ],
   "source": [
    "auth_request = {\n",
    "    \"type\": \"model-centric/authenticate\",\n",
    "    \"data\": {\n",
    "        \"model_name\": name,\n",
    "        \"model_version\": version,\n",
    "        \"auth_token\": auth_token,\n",
    "    }\n",
    "}\n",
    "auth_response = sendWsMessage(auth_request)\n",
    "auth_response"
   ]
  },
  {
   "cell_type": "markdown",
   "metadata": {},
   "source": [
    "# Do cycle request"
   ]
  },
  {
   "cell_type": "code",
   "execution_count": 20,
   "metadata": {},
   "outputs": [
    {
     "name": "stdout",
     "output_type": "stream",
     "text": [
      "Cycle response: {\n",
      "  \"type\": \"model-centric/cycle-request\",\n",
      "  \"data\": {\n",
      "    \"status\": \"accepted\",\n",
      "    \"request_key\": \"a496c206e87e2b0268ed76e9a35dec3111c32091033fb708de372ed8a2e88e59\",\n",
      "    \"version\": \"1.0\",\n",
      "    \"model\": \"mnist\",\n",
      "    \"plans\": {\n",
      "      \"training_plan\": 2\n",
      "    },\n",
      "    \"protocols\": {},\n",
      "    \"client_config\": {\n",
      "      \"name\": \"mnist\",\n",
      "      \"version\": \"1.0\",\n",
      "      \"batch_size\": 64,\n",
      "      \"lr\": 0.1,\n",
      "      \"max_updates\": 1\n",
      "    },\n",
      "    \"model_id\": 1\n",
      "  }\n",
      "}\n"
     ]
    }
   ],
   "source": [
    "cycle_request = {\n",
    "    \"type\": \"model-centric/cycle-request\",\n",
    "    \"data\": {\n",
    "        \"worker_id\": auth_response['data']['worker_id'],\n",
    "        \"model\": name,  \n",
    "        \"version\": version,\n",
    "        \"ping\": 1,\n",
    "        \"download\": 10000,\n",
    "        \"upload\": 10000,\n",
    "    }\n",
    "}\n",
    "cycle_response = sendWsMessage(cycle_request)\n",
    "print('Cycle response:', json.dumps(cycle_response, indent=2).replace(\"\\\\n\", \"\\n\"))\n"
   ]
  },
  {
   "cell_type": "markdown",
   "metadata": {},
   "source": [
    "# Download model"
   ]
  },
  {
   "cell_type": "code",
   "execution_count": 21,
   "metadata": {},
   "outputs": [],
   "source": [
    "worker_id = auth_response['data']['worker_id']\n",
    "request_key = cycle_response['data']['request_key']\n",
    "model_id = cycle_response['data']['model_id'] \n",
    "training_plan_id = cycle_response['data']['plans']['training_plan']"
   ]
  },
  {
   "cell_type": "code",
   "execution_count": 22,
   "metadata": {},
   "outputs": [],
   "source": [
    "def get_model(grid_address, worker_id, request_key, model_id):\n",
    "    req = requests.get(f\"http://{grid_address}/model-centric/get-model?worker_id={worker_id}&request_key={request_key}&model_id={model_id}\")\n",
    "    model_data = req.content\n",
    "    pb = ListPB()\n",
    "    pb.ParseFromString(req.content)\n",
    "    return deserialize(pb)"
   ]
  },
  {
   "cell_type": "code",
   "execution_count": 23,
   "metadata": {},
   "outputs": [
    {
     "name": "stdout",
     "output_type": "stream",
     "text": [
      "Params shapes: [torch.Size([100, 784]), torch.Size([100]), torch.Size([10, 100]), torch.Size([10])]\n"
     ]
    }
   ],
   "source": [
    "# Model\n",
    "model_params_downloaded = get_model(grid_address, worker_id, request_key, model_id)\n",
    "print(\"Params shapes:\", [p.shape for p in model_params_downloaded])"
   ]
  },
  {
   "cell_type": "code",
   "execution_count": 24,
   "metadata": {},
   "outputs": [
    {
     "data": {
      "text/plain": [
       "Parameter containing:\n",
       "tensor([[ 0.0184, -0.0158, -0.0069,  ...,  0.0068, -0.0041,  0.0025],\n",
       "        [-0.0274, -0.0224, -0.0309,  ..., -0.0029,  0.0013, -0.0167],\n",
       "        [ 0.0282, -0.0095, -0.0340,  ..., -0.0141,  0.0056, -0.0335],\n",
       "        ...,\n",
       "        [-0.0170, -0.0294, -0.0351,  ..., -0.0320, -0.0291, -0.0083],\n",
       "        [ 0.0207, -0.0126,  0.0167,  ..., -0.0350, -0.0347, -0.0292],\n",
       "        [ 0.0182,  0.0104,  0.0114,  ..., -0.0278, -0.0205,  0.0123]],\n",
       "       requires_grad=True)"
      ]
     },
     "execution_count": 24,
     "metadata": {},
     "output_type": "execute_result"
    }
   ],
   "source": [
    "model_params_downloaded[0]"
   ]
  },
  {
   "cell_type": "markdown",
   "metadata": {},
   "source": [
    "# Download & Execute Plan"
   ]
  },
  {
   "cell_type": "code",
   "execution_count": 25,
   "metadata": {},
   "outputs": [],
   "source": [
    "req = requests.get(f\"http://{grid_address}/model-centric/get-plan?worker_id={worker_id}&request_key={request_key}&plan_id={training_plan_id}&receive_operations_as=list\")\n",
    "pb = PlanPB()\n",
    "pb.ParseFromString(req.content)\n",
    "plan = deserialize(pb)"
   ]
  },
  {
   "cell_type": "code",
   "execution_count": 26,
   "metadata": {},
   "outputs": [],
   "source": [
    "xs = th.rand([64*3, 1, 28, 28])\n",
    "ys = th.randint(0, 10, [64*3, 10])"
   ]
  },
  {
   "cell_type": "code",
   "execution_count": 27,
   "metadata": {},
   "outputs": [
    {
     "name": "stderr",
     "output_type": "stream",
     "text": [
      "[2021-03-22T13:37:00.103602+0100][CRITICAL][logger]][17733] <class 'syft.core.store.store_memory.MemoryStore'> __delitem__ error <UID: 40ff4c125fdc49e28665e9f3789b8eac>.\n"
     ]
    }
   ],
   "source": [
    "res, = plan(xs=xs, ys=ys, params=model_params_downloaded)"
   ]
  },
  {
   "cell_type": "markdown",
   "metadata": {},
   "source": [
    "# Report Model diff"
   ]
  },
  {
   "cell_type": "code",
   "execution_count": 28,
   "metadata": {},
   "outputs": [
    {
     "name": "stderr",
     "output_type": "stream",
     "text": [
      "/Users/koen/workspace/PySyft/src/syft/lib/torch/uppercase_tensor.py:30: UserWarning: The .grad attribute of a Tensor that is not a leaf Tensor is being accessed. Its .grad attribute won't be populated during autograd.backward(). If you indeed want the gradient for a non-leaf Tensor, use .retain_grad() on the non-leaf Tensor. If you access the non-leaf Tensor by mistake, make sure you access the leaf Tensor instead. See github.com/pytorch/pytorch/pull/30531 for more informations.\n",
      "  grad = getattr(obj, \"grad\", None)\n"
     ]
    }
   ],
   "source": [
    "diff = [orig-new for orig, new in zip(res, local_model.parameters())]\n",
    "diff_serialized = serialize((List(diff))).SerializeToString()"
   ]
  },
  {
   "cell_type": "code",
   "execution_count": 29,
   "metadata": {},
   "outputs": [],
   "source": [
    "params = {\n",
    "    \"type\": \"model-centric/report\",\n",
    "    \"data\": {\"worker_id\": worker_id, \"request_key\": request_key,\n",
    "             \"diff\": base64.b64encode(diff_serialized).decode(\"ascii\")},\n",
    "}"
   ]
  },
  {
   "cell_type": "code",
   "execution_count": 30,
   "metadata": {},
   "outputs": [
    {
     "data": {
      "text/plain": [
       "{'type': 'model-centric/report', 'data': {'status': 'success'}}"
      ]
     },
     "execution_count": 30,
     "metadata": {},
     "output_type": "execute_result"
    }
   ],
   "source": [
    "sendWsMessage(params)"
   ]
  },
  {
   "cell_type": "markdown",
   "metadata": {},
   "source": [
    "# Check new model"
   ]
  },
  {
   "cell_type": "code",
   "execution_count": 31,
   "metadata": {},
   "outputs": [],
   "source": [
    "req_params = {\n",
    "    \"name\": name,\n",
    "    \"version\": version,\n",
    "    \"checkpoint\": \"latest\",\n",
    "}"
   ]
  },
  {
   "cell_type": "code",
   "execution_count": 32,
   "metadata": {},
   "outputs": [],
   "source": [
    "res = requests.get(f\"http://{grid_address}/model-centric/retrieve-model\", req_params)"
   ]
  },
  {
   "cell_type": "code",
   "execution_count": 33,
   "metadata": {},
   "outputs": [],
   "source": [
    "params_pb = ListPB()\n",
    "params_pb.ParseFromString(res.content)\n",
    "new_model_params = deserialize(params_pb)"
   ]
  },
  {
   "cell_type": "code",
   "execution_count": 34,
   "metadata": {},
   "outputs": [
    {
     "data": {
      "text/plain": [
       "tensor([[ 0.0202, -0.0075, -0.0027,  ...,  0.0129,  0.0020,  0.0086],\n",
       "        [-0.0262, -0.0207, -0.0279,  ..., -0.0014,  0.0025, -0.0133],\n",
       "        [ 0.0337, -0.0049, -0.0296,  ..., -0.0078,  0.0094, -0.0271],\n",
       "        ...,\n",
       "        [-0.0182, -0.0309, -0.0409,  ..., -0.0353, -0.0303, -0.0142],\n",
       "        [ 0.0195, -0.0134,  0.0152,  ..., -0.0370, -0.0363, -0.0299],\n",
       "        [ 0.0187,  0.0109,  0.0119,  ..., -0.0276, -0.0200,  0.0124]],\n",
       "       requires_grad=True)"
      ]
     },
     "execution_count": 34,
     "metadata": {},
     "output_type": "execute_result"
    }
   ],
   "source": [
    "new_model_params[0]"
   ]
  },
  {
   "cell_type": "code",
   "execution_count": 36,
   "metadata": {},
   "outputs": [],
   "source": [
    "# !rm /Users/koen/workspace/PyGrid/apps/domain/src/datadomain.db"
   ]
  },
  {
   "cell_type": "code",
   "execution_count": null,
   "metadata": {},
   "outputs": [],
   "source": []
  }
 ],
 "metadata": {
  "kernelspec": {
   "display_name": "Python 3",
   "language": "python",
   "name": "python3"
  },
  "language_info": {
   "codemirror_mode": {
    "name": "ipython",
    "version": 3
   },
   "file_extension": ".py",
   "mimetype": "text/x-python",
   "name": "python",
   "nbconvert_exporter": "python",
   "pygments_lexer": "ipython3",
   "version": "3.7.9"
  },
  "toc": {
   "base_numbering": 1,
   "nav_menu": {},
   "number_sections": true,
   "sideBar": true,
   "skip_h1_title": false,
   "title_cell": "Table of Contents",
   "title_sidebar": "Contents",
   "toc_cell": false,
   "toc_position": {},
   "toc_section_display": true,
   "toc_window_display": true
  }
 },
 "nbformat": 4,
 "nbformat_minor": 4
}
