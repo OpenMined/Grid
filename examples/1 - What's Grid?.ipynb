{
 "cells": [
  {
   "cell_type": "markdown",
   "metadata": {},
   "source": [
    "<h1>What is Grid? </h1>"
   ]
  },
  {
   "cell_type": "markdown",
   "metadata": {},
   "source": [
    "<p>Grid is a collaborative network platform of data owners and data scientists who can collectively train and share AI models using PySyft/Pytorch libraries.</p>"
   ]
  },
  {
   "cell_type": "markdown",
   "metadata": {},
   "source": [
    "## Overview\n",
    "- [Motivation](#motivation)\n",
    "- [Objectives](#Objectives)"
   ]
  },
  {
   "cell_type": "markdown",
   "metadata": {},
   "source": [
    "### Motivation\n",
    "Grid platform aim's to be a secure peer to peer platform used to train, manage and share models.We want to use pysyft's features to perform federated learning processes without neeed to manage distributed workers directly.Nowadays, to perform some machine learning process using syft library, the user needs to manage directly all the workers stuff (start nodes, manage node connections, turn off nodes, etc). Our purpose is build a platform that will do this in a transparent way. The user won't need to know about how the nodes are connected or what node have some specific dataset."
   ]
  },
  {
   "cell_type": "markdown",
   "metadata": {},
   "source": [
    "### Objectives"
   ]
  },
  {
   "cell_type": "markdown",
   "metadata": {},
   "source": [
    "- ***Create a secure federated learning platform.***\n",
    "  - Protect Intelectual Property\n",
    "  - Protect data privacy\n",
    "  - Mitigate miss use\n",
    "- ***Create a collaborative federated learning platform.***\n",
    "  - Allow users to send plain text / anonymized dataset that can be used by other users at the grid platform.\n",
    "  - Allow users to send plain text / anonymized models that can be used/improved by other users at the grid platform.\n",
    "  - Perform federated learning process using datasets available at the grid platform.\n",
    "- ***Serve models in a secure way***\n",
    "  - Run remote plain plain text / anonymized inferences on models hosted on grid network.\n",
    "  - Download models hosted on grid network.\n",
    "  - Perform arbitrary arithmetical / logic computing using anonymized datasets.\n",
    "  - Provide fault tolerance.\n",
    "  \n",
    "  \n"
   ]
  }
 ],
 "metadata": {
  "kernelspec": {
   "display_name": "Python 3",
   "language": "python",
   "name": "python3"
  },
  "language_info": {
   "codemirror_mode": {
    "name": "ipython",
    "version": 3
   },
   "file_extension": ".py",
   "mimetype": "text/x-python",
   "name": "python",
   "nbconvert_exporter": "python",
   "pygments_lexer": "ipython3",
   "version": "3.7.3"
  }
 },
 "nbformat": 4,
 "nbformat_minor": 2
}
