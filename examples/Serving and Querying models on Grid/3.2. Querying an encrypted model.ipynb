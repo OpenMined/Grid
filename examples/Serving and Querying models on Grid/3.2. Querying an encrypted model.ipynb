{
 "cells": [
  {
   "cell_type": "markdown",
   "metadata": {},
   "source": [
    "# 3.2. Querying an encrypted model\n",
    "**protecting privacy and IP simultaneously**\n"
   ]
  },
  {
   "cell_type": "markdown",
   "metadata": {},
   "source": [
    "### Set up"
   ]
  },
  {
   "cell_type": "code",
   "execution_count": null,
   "metadata": {},
   "outputs": [],
   "source": [
    "# Import dependencies\n",
    "import grid as gr\n",
    "from grid import syft as sy\n",
    "import torch as th\n",
    "import skin_cancer_model_utils as scmu\n",
    "\n",
    "# Ignore warnings\n",
    "import warnings\n",
    "warnings.filterwarnings('ignore')\n",
    "\n",
    "\n",
    "# Hook torch\n",
    "hook = sy.TorchHook(th)\n",
    "me = hook.local_worker\n",
    "me.is_client_worker = False\n",
    "    \n",
    "# Connect to nodes\n",
    "grid_server = gr.WebsocketGridClient(hook, \"http://localhost:3001\", id=\"grid_server\")\n",
    "patient_server = gr.WebsocketGridClient(hook, \"http://localhost:3000\", id=\"patient_server\")\n",
    "hospital_server = gr.WebsocketGridClient(hook, \"http://localhost:3002\", id=\"hospital_server\")\n",
    "crypto_provider = gr.WebsocketGridClient(hook, \"http://localhost:3003\", id=\"crypto_provider\")\n",
    "\n",
    "grid_server.connect()\n",
    "patient_server.connect()\n",
    "hospital_server.connect()\n",
    "crypto_provider.connect()\n",
    "\n",
    "# Connect nodes to each other\n",
    "gr.connect_all_nodes([grid_server, patient_server, hospital_server, crypto_provider])"
   ]
  },
  {
   "cell_type": "markdown",
   "metadata": {},
   "source": [
    "### Query model\n",
    "#### Get a copy of the encrypted model"
   ]
  },
  {
   "cell_type": "code",
   "execution_count": null,
   "metadata": {},
   "outputs": [],
   "source": [
    "encrypted_model = grid_server.download_model(\"skin-cancer-model-encrypted\")"
   ]
  },
  {
   "cell_type": "markdown",
   "metadata": {},
   "source": [
    "**Encrypted data for running through the model**"
   ]
  },
  {
   "cell_type": "code",
   "execution_count": null,
   "metadata": {},
   "outputs": [],
   "source": [
    "data, target = scmu.get_data_sample()"
   ]
  },
  {
   "cell_type": "code",
   "execution_count": null,
   "metadata": {},
   "outputs": [],
   "source": [
    "x_sh = data.encrypt(patient_server, hospital_server, crypto_provider=crypto_provider)"
   ]
  },
  {
   "cell_type": "markdown",
   "metadata": {},
   "source": [
    "#### Run encrypted inference"
   ]
  },
  {
   "cell_type": "code",
   "execution_count": null,
   "metadata": {
    "scrolled": true
   },
   "outputs": [],
   "source": [
    "%%time\n",
    "print(encrypted_model(x_sh).request_decryption(), target)"
   ]
  }
 ],
 "metadata": {
  "kernelspec": {
   "display_name": "Python 3",
   "language": "python",
   "name": "python3"
  },
  "language_info": {
   "codemirror_mode": {
    "name": "ipython",
    "version": 3
   },
   "file_extension": ".py",
   "mimetype": "text/x-python",
   "name": "python",
   "nbconvert_exporter": "python",
   "pygments_lexer": "ipython3",
   "version": "3.6.7"
  }
 },
 "nbformat": 4,
 "nbformat_minor": 2
}
