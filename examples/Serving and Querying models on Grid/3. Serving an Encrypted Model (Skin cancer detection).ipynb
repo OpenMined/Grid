{
 "cells": [
  {
   "cell_type": "markdown",
   "metadata": {},
   "source": [
    "# 3. Serving an Encrypted Model (Skin cancer dection)\n",
    "**protecting model owner's intellectual property (IP)**\n",
    "\n",
    "In these series of tutorials you'll learn how to serve and query an encrypted model on Grid. We use a CNN for for classifying an image as melanoma or benign keratosis as an use case.\n",
    "\n",
    "\n",
    "## Motivation\n",
    "\n",
    "On Part 1 we've seen how to serve public model that individuals can download and run locally while their data privacy is preserved. While On Part 2 we've seen how to serve a private model that an organization can protect and limit access to. But what if individual's data privacy is as important as keeping the model private? Then is not reasonable to choose between private or public serving.\n",
    "\n",
    "In this context, one potential solution is to encrypt both the model and the data in a way which allows one organization to use a model owned by another organization without either disclosing their IP to one another. Several encryption schemes exist that allow for computation over encrypted data, among which Secure Multi-Party Computation (SMPC), Homomorphic Encryption (FHE/SHE) and Functional Encryption (FE) are the most well known types. We will focus here on Secure Multi-Party Computation which consists of private additive sharing."
   ]
  }
 ],
 "metadata": {
  "kernelspec": {
   "display_name": "Python 3",
   "language": "python",
   "name": "python3"
  },
  "language_info": {
   "codemirror_mode": {
    "name": "ipython",
    "version": 3
   },
   "file_extension": ".py",
   "mimetype": "text/x-python",
   "name": "python",
   "nbconvert_exporter": "python",
   "pygments_lexer": "ipython3",
   "version": "3.6.7"
  }
 },
 "nbformat": 4,
 "nbformat_minor": 2
}
