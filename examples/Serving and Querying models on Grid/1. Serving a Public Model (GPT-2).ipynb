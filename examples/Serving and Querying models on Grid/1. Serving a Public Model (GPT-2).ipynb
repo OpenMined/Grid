{
 "cells": [
  {
   "cell_type": "markdown",
   "metadata": {},
   "source": [
    "# 1. Serving a Public Model (GPT-2)\n",
    "**Protecting Individual's data privacy**\n",
    "\n",
    "In these series of tutorials you'll learn how to serve and query a public model on Grid. We use the GPT-2 model as an use case.\n",
    "\n",
    "\n",
    "## Motivation\n",
    "\n",
    "Some times organizations are not as concerned with malicious use of their models as they are with individual's privacy. Serving a model for download can be extremely convenient for organizations that are not as concerned in preserving their intellectual property as they are to protect individual's data privacy.\n",
    "\n",
    "For research is extremely beneficial and makes research fast when models are made available to download in a easy and convenient way, approaches like [Torch Hub](https://pytorch.org/docs/stable/hub.html) are example of this trend.\n",
    "\n",
    "Despite is easier and cheaper to serve a worker to host a model for download then it is to maintain a server to receive multiple requests simultionasly.\n"
   ]
  },
  {
   "cell_type": "code",
   "execution_count": null,
   "metadata": {},
   "outputs": [],
   "source": []
  }
 ],
 "metadata": {
  "kernelspec": {
   "display_name": "Python 3",
   "language": "python",
   "name": "python3"
  },
  "language_info": {
   "codemirror_mode": {
    "name": "ipython",
    "version": 3
   },
   "file_extension": ".py",
   "mimetype": "text/x-python",
   "name": "python",
   "nbconvert_exporter": "python",
   "pygments_lexer": "ipython3",
   "version": "3.6.7"
  }
 },
 "nbformat": 4,
 "nbformat_minor": 2
}
