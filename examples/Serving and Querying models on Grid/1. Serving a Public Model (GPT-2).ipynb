{
 "cells": [
  {
   "cell_type": "markdown",
   "metadata": {},
   "source": [
    "# Serving a Public Model (GPT-2)\n",
    "**Protecting Individual's privacy**\n",
    "\n",
    "\n",
    "## Motivation\n",
    "\n",
    "* Makes sharing torch models easy\n",
    "* Make easy to share research results\n",
    "* Some times organizations are not as concerned with malicious use of their models as they are with individual's privacy\n",
    "\n",
    "\n",
    "In notebooks 1.1 and 1.2 we'll show respectively how to host and query a public model."
   ]
  }
 ],
 "metadata": {
  "kernelspec": {
   "display_name": "Python 3",
   "language": "python",
   "name": "python3"
  },
  "language_info": {
   "codemirror_mode": {
    "name": "ipython",
    "version": 3
   },
   "file_extension": ".py",
   "mimetype": "text/x-python",
   "name": "python",
   "nbconvert_exporter": "python",
   "pygments_lexer": "ipython3",
   "version": "3.6.7"
  }
 },
 "nbformat": 4,
 "nbformat_minor": 2
}
