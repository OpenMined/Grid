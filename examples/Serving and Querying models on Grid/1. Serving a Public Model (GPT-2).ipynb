{
 "cells": [
  {
   "cell_type": "markdown",
   "metadata": {},
   "source": [
    "# 1. Serving a Public Model (GPT-2)\n",
    "**Protecting Individual's data privacy**\n",
    "\n",
    "In this series of tutorials you'll learn how to serve and query a public model on Grid. We use the GPT-2 model as an use case.\n",
    "\n",
    "\n",
    "## Motivation\n",
    "\n",
    "Some times organizations are not as concerned with malicious use of their models as they are with individual's  data privacy. Allowing users to download the model and execute it locally is a way to ensure privacy guarantees to users.\n",
    "\n",
    "Making models available for download is also extremely beneficial for researchers. It makes easier to experiment and load models, approaches like [Torch Hub](https://pytorch.org/docs/stable/hub.html) are good examples of this trend.\n",
    "\n",
    "In addition it is easier and cheaper to serve a worker to host a model for download than it is to maintain a server to receive multiple requests simultaneously, which might be a motivation for researchers to use this approach."
   ]
  },
  {
   "cell_type": "code",
   "execution_count": null,
   "metadata": {},
   "outputs": [],
   "source": []
  }
 ],
 "metadata": {
  "kernelspec": {
   "display_name": "Python 3",
   "language": "python",
   "name": "python3"
  },
  "language_info": {
   "codemirror_mode": {
    "name": "ipython",
    "version": 3
   },
   "file_extension": ".py",
   "mimetype": "text/x-python",
   "name": "python",
   "nbconvert_exporter": "python",
   "pygments_lexer": "ipython3",
   "version": "3.6.7"
  }
 },
 "nbformat": 4,
 "nbformat_minor": 2
}
