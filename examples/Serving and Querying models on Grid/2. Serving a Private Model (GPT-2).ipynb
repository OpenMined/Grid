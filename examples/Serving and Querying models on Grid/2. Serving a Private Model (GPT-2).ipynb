{
 "cells": [
  {
   "cell_type": "markdown",
   "metadata": {},
   "source": [
    "# 2. Serving a Private Model (GPT-2)\n",
    "**protecting model owner's intellectual property (IP)**\n",
    "\n",
    "In these series of tutorials you'll learn how to serve and query a private model on Grid. We use the GPT-2 model as an use case.\n",
    "\n",
    "\n",
    "## Motivation\n",
    "\n",
    "Machine Learning as a Service (MLaaS) is already quite relevant in industry, companies train large models on big amounts of data and offer a model's predictions as a service to parties that don't have access to data or the expertise to train their own models. Is convenient for companies provinding MLaaS because they can keep their sIP privates while external organizations can also benefit from the model's predictions.\n",
    "\n",
    "Even though this is a trend in industry, in academia this approach is not as explored. We believe this could be a potential interesting direction for research as well, since researchers and organizations can protect their IP but also mitigate malicious use cases or even limit user access to their model while allowing researchers to analyse and interact with the model's outputs."
   ]
  }
 ],
 "metadata": {
  "kernelspec": {
   "display_name": "Python 3",
   "language": "python",
   "name": "python3"
  },
  "language_info": {
   "codemirror_mode": {
    "name": "ipython",
    "version": 3
   },
   "file_extension": ".py",
   "mimetype": "text/x-python",
   "name": "python",
   "nbconvert_exporter": "python",
   "pygments_lexer": "ipython3",
   "version": "3.6.7"
  }
 },
 "nbformat": 4,
 "nbformat_minor": 2
}
