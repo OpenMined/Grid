{
 "cells": [
  {
   "cell_type": "markdown",
   "metadata": {},
   "source": [
    "# Serving a Private Model (GPT-2)\n",
    "**protecting model owner's intellectual property (IP)**\n",
    "\n",
    "\n",
    "## Motivation\n",
    "\n",
    "* Makes sharing torch models easy\n",
    "* Make easy to share research results\n",
    "* Organizations can check for malicious use cases\n",
    "* Users have limited access to the model\n",
    "\n",
    "\n",
    "In notebooks 2.1 and 2.2 we'll show respectively how to host and query a private model."
   ]
  }
 ],
 "metadata": {
  "kernelspec": {
   "display_name": "Python 3",
   "language": "python",
   "name": "python3"
  },
  "language_info": {
   "codemirror_mode": {
    "name": "ipython",
    "version": 3
   },
   "file_extension": ".py",
   "mimetype": "text/x-python",
   "name": "python",
   "nbconvert_exporter": "python",
   "pygments_lexer": "ipython3",
   "version": "3.6.7"
  }
 },
 "nbformat": 4,
 "nbformat_minor": 2
}
