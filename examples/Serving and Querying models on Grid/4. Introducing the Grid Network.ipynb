{
 "cells": [
  {
   "cell_type": "markdown",
   "metadata": {},
   "source": [
    "# 4. Introducing the Grid Network\n",
    "\n",
    "\n",
    "In the previous tutorials we explicitly connected to the workers in order to interact with them, this can be useful for use cases where we want to have control over where the data is stored (which node?) and who performs each role on the application.\n",
    "\n",
    "Another possible way to see Grid is that workers that are connected consist of a Grid Network.\n",
    "\n",
    "\n",
    "## What is the Grid Network?\n",
    "\n",
    "<p align=\"center\">\n",
    "<img height=\"600px\" width=\"600px\" src=\"https://github.com/OpenMined/rfcs/blob/master/20190821-grid-platform/DHT-grid.png?raw=true\">\n",
    "</p>\n",
    "\n",
    "\n",
    "This network can be seen by a user as a single interface: the Grid Gateway. The Gateway works like a special DNS component but it will route nodes by queries instead of domain names.\n",
    "\n",
    "It is important to emphasize: the Grid Gateway will not be able to perform any computation process on the nodes. It can not concentrate or centralize any data or model. It works as a brigde between a user that is outside of the grid network to get data / models that live inside the network.\n",
    "\n",
    "\n",
    "<p align=\"center\">\n",
    "<img height=\"600px\" width=\"600px\" src=\"https://github.com/OpenMined/rfcs/blob/master/20190821-grid-platform/partially_grid.png?raw=true\">\n",
    "</p>\n",
    "\n",
    "With this fully distributed and descentralized architecure we can provide fault tolerance in a very transparent way.\n",
    "\n",
    "\n",
    "## Using the Grid Network to provide fault tolerance\n",
    "\n",
    "\n",
    "In this notebook we'll use a grid network to host the CNN model trained on Part 3.1. This model is used for classifying an image as melanoma or benign keratosis as an use case."
   ]
  },
  {
   "cell_type": "code",
   "execution_count": null,
   "metadata": {},
   "outputs": [],
   "source": [
    "import torch as th\n",
    "import grid as gr\n",
    "import grid.syft as sy\n",
    "import skin_cancer_model_utils as scmu\n",
    "\n",
    "# Ignore warnings\n",
    "import warnings\n",
    "warnings.filterwarnings('ignore')\n",
    "\n",
    "hook = sy.TorchHook(th)"
   ]
  },
  {
   "cell_type": "markdown",
   "metadata": {},
   "source": [
    "## Connect to the Grid Network\n",
    "\n",
    "We don't need to connect to each worker explictly we just connect to a gateway."
   ]
  },
  {
   "cell_type": "code",
   "execution_count": null,
   "metadata": {},
   "outputs": [],
   "source": [
    "# Checkout the example folders to learn how to setup a GridNetwork on Heroku!\n",
    "gateway = gr.GridNetwork(\"https://opengrid.herokuapp.com/\")"
   ]
  },
  {
   "cell_type": "markdown",
   "metadata": {},
   "source": [
    "## Prepare data and model\n",
    "\n",
    "We prepare the data and the model the same way we do for the grid node."
   ]
  },
  {
   "cell_type": "code",
   "execution_count": null,
   "metadata": {},
   "outputs": [],
   "source": [
    "data, target = scmu.get_data_sample()"
   ]
  },
  {
   "cell_type": "code",
   "execution_count": null,
   "metadata": {},
   "outputs": [],
   "source": [
    "model = scmu.make_model(is_plan=True, model_id=\"skin-cancer-grid-model\")\n",
    "model.load_state_dict(th.load(\"skin-cancer-model\"))"
   ]
  },
  {
   "cell_type": "code",
   "execution_count": null,
   "metadata": {},
   "outputs": [],
   "source": [
    "model.eval()"
   ]
  },
  {
   "cell_type": "code",
   "execution_count": null,
   "metadata": {},
   "outputs": [],
   "source": [
    "model.build(data)"
   ]
  },
  {
   "cell_type": "markdown",
   "metadata": {},
   "source": [
    "### Serve the model \n",
    "\n",
    "The gateway interface is the same of a grid node. The difference is that the gateway does not hold any object (data, model), it asks the node to perform the operations and hold the objects."
   ]
  },
  {
   "cell_type": "code",
   "execution_count": null,
   "metadata": {},
   "outputs": [],
   "source": [
    "gateway.serve_model(model, \"skin-cancer-grid-model\", allow_remote_inference=True, allow_download=False)"
   ]
  },
  {
   "cell_type": "markdown",
   "metadata": {},
   "source": [
    "### Querying a model"
   ]
  },
  {
   "cell_type": "code",
   "execution_count": null,
   "metadata": {},
   "outputs": [],
   "source": [
    "gateway.run_remote_inference(model_id=\"skin-cancer-grid-model\", dataset=data)"
   ]
  },
  {
   "cell_type": "markdown",
   "metadata": {},
   "source": [
    "### Disconnect from the network"
   ]
  },
  {
   "cell_type": "code",
   "execution_count": null,
   "metadata": {},
   "outputs": [],
   "source": [
    "gateway.disconnect_nodes()"
   ]
  }
 ],
 "metadata": {
  "kernelspec": {
   "display_name": "Python 3",
   "language": "python",
   "name": "python3"
  },
  "language_info": {
   "codemirror_mode": {
    "name": "ipython",
    "version": 3
   },
   "file_extension": ".py",
   "mimetype": "text/x-python",
   "name": "python",
   "nbconvert_exporter": "python",
   "pygments_lexer": "ipython3",
   "version": "3.6.7"
  }
 },
 "nbformat": 4,
 "nbformat_minor": 2
}
