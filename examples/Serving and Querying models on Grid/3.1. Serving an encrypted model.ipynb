{
 "cells": [
  {
   "cell_type": "markdown",
   "metadata": {},
   "source": [
    "# 3.1. Serving an encrypted model\n",
    "**protecting privacy and IP simultaneously**\n",
    "\n",
    "\n",
    "### Use case: Skin cancer detection\n",
    "\n",
    "Many people regularly check their skin for changes. Not all moles, patches, and rashes are cancerous. In this tutorial we'll train a model to differenciate between benign keratosis and melanoma (type of skin cancer).\n",
    "\n",
    "Seborrheic keratosis is a noncancerous condition that can look a lot like melanoma. About 83 million Americans have seborrheic keratosis. About 5 percent of all new cancer cases in the United States are melanoma, a potentially deadly form of skin cancer. With prompt treatment, more than 91 percent of melanoma patients will survive 5 years or more after their first diagnosis. (Source: https://www.medicalnewstoday.com/articles/320742.php)\n",
    "\n",
    "\n",
    "## Train a model\n",
    "\n",
    "The first thing we need is a model, we can train a model using **regular pytorch**! If you're familiar with pytorch feel free to skip this part of the tutorial.\n",
    "\n",
    "Most of the code used in this part of the tutorial is actually at `skin_cancer_model_utils.py` have a look at it if you want to know in more details what's going on in each subsection of this notebook.\n",
    "\n",
    "### Dataset\n",
    "\n",
    "We'll use this [kaggle dataset](https://www.kaggle.com/kmader/skin-cancer-mnist-ham10000/). You need to download this dataset before running this example.\n",
    "\n",
    "We use the code available at [this kaggle kernel](https://www.kaggle.com/kmader/dermatology-mnist-loading-and-processing) by Kevin Mader and in [this tutorial](https://towardsdatascience.com/skin-cancer-classification-with-machine-learning-c9d3445b2163) by Nyla Pirani to preprocess the data.\n",
    "\n",
    "In the previous tutorial we served a CNN for classifying images with different 2 types of skin deseases: benign keratosis and melanoma (type of skin cancer). In this tutorial we show how to serve this model on a **encrypted way** on Grid."
   ]
  },
  {
   "cell_type": "markdown",
   "metadata": {},
   "source": [
    "### Dependencies for training the model"
   ]
  },
  {
   "cell_type": "code",
   "execution_count": null,
   "metadata": {},
   "outputs": [],
   "source": [
    "import matplotlib.pyplot as plt\n",
    "import matplotlib.image as mpimg\n",
    "\n",
    "import torch\n",
    "import torchvision.transforms as transforms\n",
    "\n",
    "import skin_cancer_model_utils as scmu\n",
    "\n",
    "# Path where the data is stored. Change this if needed!\n",
    "scmu.DATASET_PATH"
   ]
  },
  {
   "cell_type": "markdown",
   "metadata": {},
   "source": [
    "**Read dataset**"
   ]
  },
  {
   "cell_type": "code",
   "execution_count": null,
   "metadata": {},
   "outputs": [],
   "source": [
    "df = scmu.read_skin_cancer_dataset()\n",
    "df['cell_type'].value_counts()"
   ]
  },
  {
   "cell_type": "markdown",
   "metadata": {},
   "source": [
    "**Visualize dataset**"
   ]
  },
  {
   "cell_type": "code",
   "execution_count": null,
   "metadata": {},
   "outputs": [],
   "source": [
    "# Get samples from each class\n",
    "samples = df.groupby('cell_type').apply(lambda x: x.sample(3))\n",
    "\n",
    "# Plot samples\n",
    "fig = plt.figure(figsize=(12, 8))\n",
    "columns = 3\n",
    "rows = 2\n",
    "for i in range(len(samples)):\n",
    "    image = mpimg.imread(samples[\"path\"].iloc[i])\n",
    "    fig.add_subplot(rows, columns, i + 1)\n",
    "    plt.imshow(image)\n",
    "    title = \"{} ({})\".format(samples[\"cell_type_idx\"].iloc[i], samples[\"cell_type\"].iloc[i])\n",
    "    plt.title(title)\n",
    "plt.show()"
   ]
  },
  {
   "cell_type": "markdown",
   "metadata": {},
   "source": [
    "**Prepare data for training**"
   ]
  },
  {
   "cell_type": "code",
   "execution_count": null,
   "metadata": {},
   "outputs": [],
   "source": [
    "train_df, valid_df, test_df = scmu.split_data(df)"
   ]
  },
  {
   "cell_type": "code",
   "execution_count": null,
   "metadata": {},
   "outputs": [],
   "source": [
    "# Parameters for the dataloader\n",
    "input_size = 32\n",
    "params = {'batch_size': 16,\n",
    "          'shuffle': True,\n",
    "          'num_workers': 6}\n",
    "\n",
    "# Calculate train_mean and train_std\n",
    "training_set = scmu.Dataset(train_df, transform=transforms.Compose([\n",
    "                               transforms.Resize((input_size, input_size)),\n",
    "                               transforms.ToTensor()]))\n",
    "training_generator = torch.utils.data.DataLoader(training_set, **params)\n",
    "train_mean, train_std = scmu.calculate_mean_and_std(training_generator)"
   ]
  },
  {
   "cell_type": "code",
   "execution_count": null,
   "metadata": {},
   "outputs": [],
   "source": [
    "train_mean, train_std"
   ]
  },
  {
   "cell_type": "code",
   "execution_count": null,
   "metadata": {},
   "outputs": [],
   "source": [
    "# Create dataloaders\n",
    "training_set = scmu.Dataset(train_df, transform=scmu.transform(input_size, train_mean, train_std))\n",
    "training_generator = torch.utils.data.DataLoader(training_set, **params)\n",
    "\n",
    "validation_set = scmu.Dataset(valid_df, transform=scmu.transform(input_size, train_mean, train_std))\n",
    "validation_generator = torch.utils.data.DataLoader(validation_set, **params)\n",
    "\n",
    "test_set = scmu.Dataset(test_df, transform=scmu.transform(input_size, train_mean, train_std))\n",
    "test_generator = torch.utils.data.DataLoader(test_set, **params)"
   ]
  },
  {
   "cell_type": "markdown",
   "metadata": {},
   "source": [
    "**Implement model**"
   ]
  },
  {
   "cell_type": "code",
   "execution_count": null,
   "metadata": {},
   "outputs": [],
   "source": [
    "model = scmu.make_model()\n",
    "model.eval()"
   ]
  },
  {
   "cell_type": "markdown",
   "metadata": {},
   "source": [
    "**Train model**"
   ]
  },
  {
   "cell_type": "code",
   "execution_count": null,
   "metadata": {},
   "outputs": [],
   "source": [
    "optimizer = torch.optim.Adam(model.parameters(), lr=1e-6)"
   ]
  },
  {
   "cell_type": "code",
   "execution_count": null,
   "metadata": {},
   "outputs": [],
   "source": [
    "train_metrics, valid_metrics = scmu.train(model, epochs=10, optimizer=optimizer,\n",
    "                                          training_generator=training_generator,\n",
    "                                          validation_generator=validation_generator)"
   ]
  },
  {
   "cell_type": "code",
   "execution_count": null,
   "metadata": {},
   "outputs": [],
   "source": [
    "train_metrics"
   ]
  },
  {
   "cell_type": "code",
   "execution_count": null,
   "metadata": {},
   "outputs": [],
   "source": [
    "(train_errors, train_accs), (valid_errors, valid_accs) = (train_metrics, valid_metrics)"
   ]
  },
  {
   "cell_type": "code",
   "execution_count": null,
   "metadata": {},
   "outputs": [],
   "source": [
    "plt.plot([train_error for train_error in train_errors], label ='Training error')\n",
    "plt.plot([valid_error for valid_error in valid_errors], label ='Validation error')\n",
    "plt.legend()\n",
    "plt.show()\n",
    "plt.plot([train_acc for train_acc in train_accs], label ='Training accuracy')\n",
    "plt.plot([valid_acc for valid_acc in valid_accs], label ='Validation accuracy')\n",
    "plt.legend()\n",
    "plt.show()"
   ]
  },
  {
   "cell_type": "markdown",
   "metadata": {},
   "source": [
    "**Evaluate model**"
   ]
  },
  {
   "cell_type": "code",
   "execution_count": null,
   "metadata": {},
   "outputs": [],
   "source": [
    "scmu.test(model, test_generator)"
   ]
  },
  {
   "cell_type": "code",
   "execution_count": null,
   "metadata": {},
   "outputs": [],
   "source": [
    "torch.save(model.state_dict(), \"skin-cancer-detection-model\")"
   ]
  },
  {
   "cell_type": "markdown",
   "metadata": {},
   "source": [
    "## Serve model"
   ]
  },
  {
   "cell_type": "code",
   "execution_count": null,
   "metadata": {},
   "outputs": [],
   "source": [
    "# Import dependencies\n",
    "import grid as gr\n",
    "from grid import syft as sy\n",
    "import torch as th\n",
    "import skin_cancer_model_utils as scmu\n",
    "\n",
    "# Hook torch\n",
    "hook = sy.TorchHook(th)\n",
    "me = hook.local_worker\n",
    "me.is_client_worker = False\n",
    "    \n",
    "# Connect to nodes\n",
    "grid_server = gr.WebsocketGridClient(hook, \"http://localhost:3001\", id=\"alice\")\n",
    "patient_server = gr.WebsocketGridClient(hook, \"http://localhost:3000\", id=\"bob\")\n",
    "hospital_server = gr.WebsocketGridClient(hook, \"http://localhost:3002\", id=\"james\")\n",
    "crypto_provider = gr.WebsocketGridClient(hook, \"http://localhost:3003\", id=\"dan\")\n",
    "\n",
    "grid_server.connect()\n",
    "patient_server.connect()\n",
    "hospital_server.connect()\n",
    "crypto_provider.connect()\n",
    "\n",
    "# Connect nodes to each other\n",
    "gr.connect_all_nodes([grid_server, patient_server, hospital_server, crypto_provider])"
   ]
  },
  {
   "cell_type": "code",
   "execution_count": null,
   "metadata": {},
   "outputs": [],
   "source": [
    "df = scmu.read_skin_cancer_dataset()\n",
    "train_df, valid_df, test_df = scmu.split_data(df)\n",
    "\n",
    "params = {'batch_size': 1,\n",
    "          'shuffle': True,\n",
    "          'num_workers': 6}\n",
    "\n",
    "# These values are from 3.1.\n",
    "input_size = 32\n",
    "train_mean = train_mean, train_std = (th.tensor([0.6979, 0.5445, 0.5735]), th.tensor([0.0959, 0.1187, 0.1365]))\n",
    "\n",
    "test_set = scmu.Dataset(test_df, transform=scmu.transform(input_size, train_mean, train_std))\n",
    "test_generator = th.utils.data.DataLoader(test_set, **params)\n",
    "\n",
    "data, target = next(iter(test_generator))"
   ]
  },
  {
   "cell_type": "markdown",
   "metadata": {},
   "source": [
    "### Making a model ready to be served and encrypted\n",
    "\n",
    "In order to serve the model it needs to be serializable. A Plan is intended to store a sequence of torch operations, just like a function, but it allows to send this sequence of operations to remote workers and to keep a reference to it. You can learn more about plans in [Syft's tutorials](https://github.com/OpenMined/PySyft/blob/dev/examples/tutorials/Part%2008%20-%20Introduction%20to%20Plans.ipynb).\n"
   ]
  },
  {
   "cell_type": "markdown",
   "metadata": {},
   "source": [
    "### Define Model\n",
    "\n",
    "Let's load the model we just trained."
   ]
  },
  {
   "cell_type": "code",
   "execution_count": null,
   "metadata": {},
   "outputs": [],
   "source": [
    "model = scmu.make_model(is_plan=True)\n",
    "model.load_state_dict(th.load(\"skin-cancer-detection-model\"))"
   ]
  },
  {
   "cell_type": "code",
   "execution_count": null,
   "metadata": {},
   "outputs": [],
   "source": [
    "model.build(data)"
   ]
  },
  {
   "cell_type": "code",
   "execution_count": null,
   "metadata": {},
   "outputs": [],
   "source": [
    "scmu.test(model, test_generator)"
   ]
  },
  {
   "cell_type": "markdown",
   "metadata": {},
   "source": [
    "## Serve model"
   ]
  },
  {
   "cell_type": "code",
   "execution_count": null,
   "metadata": {},
   "outputs": [],
   "source": [
    "model.encrypt(patient_server, hospital_server, crypto_provider=crypto_provider)"
   ]
  },
  {
   "cell_type": "code",
   "execution_count": null,
   "metadata": {},
   "outputs": [],
   "source": [
    "grid_server.serve_encrypted_model(model)"
   ]
  },
  {
   "cell_type": "code",
   "execution_count": null,
   "metadata": {},
   "outputs": [],
   "source": [
    "x_sh = data.encrypt(patient_server, hospital_server, crypto_provider=crypto_provider)"
   ]
  },
  {
   "cell_type": "markdown",
   "metadata": {},
   "source": [
    "### Get a copy of the private model"
   ]
  },
  {
   "cell_type": "code",
   "execution_count": null,
   "metadata": {},
   "outputs": [],
   "source": [
    "# Fetch plan\n",
    "fetched_plan = me.fetch_plan(\"convnet\", alice, copy=True)"
   ]
  },
  {
   "cell_type": "markdown",
   "metadata": {},
   "source": [
    "### Run encrypted inference"
   ]
  },
  {
   "cell_type": "code",
   "execution_count": null,
   "metadata": {
    "scrolled": true
   },
   "outputs": [],
   "source": [
    "%%time\n",
    "print(fetched_plan(x_sh).get().float_prec())"
   ]
  },
  {
   "cell_type": "code",
   "execution_count": null,
   "metadata": {},
   "outputs": [],
   "source": [
    "model = Net()\n",
    "\n",
    "model.build(data)"
   ]
  },
  {
   "cell_type": "code",
   "execution_count": null,
   "metadata": {},
   "outputs": [],
   "source": [
    "# encrypt the model\n",
    "\n",
    "# share -> encrypt\n",
    "model.encrypt(*workers, crypto_provider=crypto_provider)"
   ]
  },
  {
   "cell_type": "code",
   "execution_count": null,
   "metadata": {},
   "outputs": [],
   "source": [
    "bob.serve_model(\"skin-cancer\", model, allow_download=True, allow_remote_inference=False)"
   ]
  },
  {
   "cell_type": "code",
   "execution_count": null,
   "metadata": {},
   "outputs": [],
   "source": [
    "data.encrypt(*workers, crypto_provider=crypto_provider)"
   ]
  },
  {
   "cell_type": "code",
   "execution_count": null,
   "metadata": {},
   "outputs": [],
   "source": [
    "encrypted_model = bob.download_model(\"skin-cancer\")"
   ]
  },
  {
   "cell_type": "markdown",
   "metadata": {},
   "source": [
    "encrypted_model(data).request_decryption().float_prec()"
   ]
  },
  {
   "cell_type": "code",
   "execution_count": null,
   "metadata": {},
   "outputs": [],
   "source": [
    "# TODOS\n",
    "# ====================\n",
    "# Internal changes: Syft interface -> Grid client\n",
    "# fix_prec().share(*workers) == encrypt(*workers)\n",
    "# get.float_prec() == request_decryption()\n",
    "# allow_remote_inference -> allow_remote_inference\n",
    "# allow_download -> allow_download\n",
    "# bob.download -> bob.download_model()\n",
    "\n",
    "\n",
    "# bob (public serving demo) -> app_company\n",
    "# bob (private serving demo) -> ai_inc, cloud_server, ...\n",
    "\n",
    "# encrypted demo:\n",
    "# crypto_provider\n",
    "# grid_server (hosts the model)\n",
    "# patient_server (share holder 1)\n",
    "# hospital_server (share holder 2)\n",
    "\n",
    "model.encrypt(hospital_server, patient_server, crypto_provider=crypto_provider)\n",
    "grid_server.serve_model(\"skin-cancer\", model, allow_download=True, allow_remote_inference=False)"
   ]
  },
  {
   "cell_type": "markdown",
   "metadata": {},
   "source": [
    "# Congratulations!!! - Time to Join the Community!\n",
    "\n",
    "Congratulations on completing this notebook tutorial! If you enjoyed this and would like to join the movement toward privacy preserving, decentralized ownership of AI and the AI supply chain (data), you can do so in the following ways!\n",
    "\n",
    "## Star PySyft on GitHub\n",
    "The easiest way to help our community is just by starring the GitHub repos! This helps raise awareness of the cool tools we're building.\n",
    "\n",
    "[Star PySyft](https://github.com/OpenMined/PySyft)\n",
    "\n",
    "## Join our Slack!\n",
    "The best way to keep up to date on the latest advancements is to join our community! You can do so by filling out the form at http://slack.openmined.org\n",
    "\n",
    "## Join a Code Project!\n",
    "The best way to contribute to our community is to become a code contributor! At any time you can go to PySyft GitHub Issues page and filter for \"Projects\". This will show you all the top level Tickets giving an overview of what projects you can join! If you don't want to join a project, but you would like to do a bit of coding, you can also look for more \"one off\" mini-projects by searching for GitHub issues marked \"good first issue\".\n",
    "\n",
    "[PySyft Projects](https://github.com/OpenMined/PySyft/issues?q=is%3Aopen+is%3Aissue+label%3AProject)\n",
    "[Good First Issue Tickets](https://github.com/OpenMined/PySyft/issues?q=is%3Aopen+is%3Aissue+label%3A%22good+first+issue%22)\n",
    "\n",
    "## Donate\n",
    "\n",
    "If you don't have time to contribute to our codebase, but would still like to lend support, you can also become a Backer on our Open Collective. All donations go toward our web hosting and other community expenses such as hackathons and meetups!\n",
    "\n",
    "[OpenMined's Open Collective Page](https://opencollective.com/openmined)"
   ]
  }
 ],
 "metadata": {
  "kernelspec": {
   "display_name": "Python 3",
   "language": "python",
   "name": "python3"
  },
  "language_info": {
   "codemirror_mode": {
    "name": "ipython",
    "version": 3
   },
   "file_extension": ".py",
   "mimetype": "text/x-python",
   "name": "python",
   "nbconvert_exporter": "python",
   "pygments_lexer": "ipython3",
   "version": "3.6.7"
  }
 },
 "nbformat": 4,
 "nbformat_minor": 2
}
