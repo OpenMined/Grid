{
 "cells": [
  {
   "cell_type": "markdown",
   "metadata": {},
   "source": [
    "# Federated Learning - SMS spam prediction with a GRU model"
   ]
  },
  {
   "cell_type": "markdown",
   "metadata": {},
   "source": [
    "In this notebook, we will train a model using federated approach.\n",
    "\n",
    "**NOTE:** At the time of running this notebook, we were running the grid components in background mode.  \n",
    "\n",
    "**NOTE:**\n",
    "Components:\n",
    " - Grid Gateway(http://localhost:8080)\n",
    " - Grid Node Bob (http://localhost:3000)\n",
    " - Grid Node Anne (http://localhost:3001)\n",
    " \n",
    "To **start the gateway**:\n",
    "* ```cd gateway```\n",
    "* ```python gateway.py --start_local_db --port=8080```\n",
    "\n",
    "To **start one grid node**:\n",
    "\n",
    "* ```cd app/websocket/```\n",
    "\n",
    "* ```python websocket_app.py --start_local_db --id=anne --port=3001 --gateway_url=http://localhost:8080```\n",
    " \n",
    "This notebook was made based on [Federated SMS Spam prediction](https://github.com/OpenMined/PySyft/tree/master/examples/tutorials/advanced/Federated%20SMS%20Spam%20prediction).\n",
    "\n",
    "Authors:\n",
    "* André Macedo Farias: Github: [@andrelmfarias](https://github.com/andrelmfarias) | Twitter: [@andrelmfarias](https://twitter.com/andrelmfarias)\n",
    "* George Muraru: Github [@gmuraru](https://github.com/gmuraru) | Twitter: [@georgemuraru](https://twitter.com/georgemuraru) | Facebook: [@George Cristian Muraru](https://www.facebook.com/georgecmuraru)"
   ]
  },
  {
   "cell_type": "markdown",
   "metadata": {},
   "source": [
    "## Useful imports"
   ]
  },
  {
   "cell_type": "code",
   "execution_count": 408,
   "metadata": {
    "ExecuteTime": {
     "end_time": "2019-06-14T22:55:56.381002Z",
     "start_time": "2019-06-14T22:55:52.562283Z"
    }
   },
   "outputs": [],
   "source": [
    "import numpy as np\n",
    "\n",
    "import syft as sy\n",
    "import grid as gr\n",
    "\n",
    "import torch as th\n",
    "from torch import optim\n",
    "\n",
    "import warnings\n",
    "\n",
    "warnings.filterwarnings(\"ignore\")"
   ]
  },
  {
   "cell_type": "markdown",
   "metadata": {},
   "source": [
    "## Connecting to Grid Network"
   ]
  },
  {
   "cell_type": "code",
   "execution_count": 409,
   "metadata": {},
   "outputs": [
    {
     "name": "stderr",
     "output_type": "stream",
     "text": [
      "WARNING:root:Torch was already hooked... skipping hooking process\n"
     ]
    }
   ],
   "source": [
    "hook = sy.TorchHook(th)\n",
    "\n",
    "my_grid = gr.GridNetwork(\"http://localhost:8080\")"
   ]
  },
  {
   "cell_type": "markdown",
   "metadata": {},
   "source": [
    "## Seach a dataset"
   ]
  },
  {
   "cell_type": "code",
   "execution_count": 410,
   "metadata": {},
   "outputs": [],
   "source": [
    "data = my_grid.search(\"#X\", \"#spam\", \"#dataset\")\n",
    "target = my_grid.search(\"#Y\", \"#spam\", \"#dataset\")"
   ]
  },
  {
   "cell_type": "code",
   "execution_count": 411,
   "metadata": {},
   "outputs": [
    {
     "data": {
      "text/plain": [
       "[[(Wrapper)>[PointerTensor | me:53716591731 -> bob:81837175413]],\n",
       " [(Wrapper)>[PointerTensor | me:70032216725 -> anne:44834606227]]]"
      ]
     },
     "execution_count": 411,
     "metadata": {},
     "output_type": "execute_result"
    }
   ],
   "source": [
    "data"
   ]
  },
  {
   "cell_type": "code",
   "execution_count": 412,
   "metadata": {
    "scrolled": true
   },
   "outputs": [
    {
     "data": {
      "text/plain": [
       "[[(Wrapper)>[PointerTensor | me:70943240410 -> bob:41763767662]],\n",
       " [(Wrapper)>[PointerTensor | me:20617297975 -> anne:46155488760]]]"
      ]
     },
     "execution_count": 412,
     "metadata": {},
     "output_type": "execute_result"
    }
   ],
   "source": [
    "target"
   ]
  },
  {
   "cell_type": "markdown",
   "metadata": {},
   "source": [
    "## Load the model"
   ]
  },
  {
   "cell_type": "code",
   "execution_count": 413,
   "metadata": {
    "ExecuteTime": {
     "end_time": "2019-06-03T19:33:42.613017Z",
     "start_time": "2019-06-03T19:33:42.598004Z"
    }
   },
   "outputs": [],
   "source": [
    "from handcrafted_GRU import GRU"
   ]
  },
  {
   "cell_type": "markdown",
   "metadata": {},
   "source": [
    "### Parameters"
   ]
  },
  {
   "cell_type": "code",
   "execution_count": 414,
   "metadata": {},
   "outputs": [],
   "source": [
    "VOCAB_SIZE = 0\n",
    "for data_comp in data:\n",
    "    VOCAB_SIZE = max(VOCAB_SIZE, int(data_comp[0].max().get()))\n",
    "    \n",
    "VOCAB_SIZE += 1\n",
    "HIDDEN_DIM = 10\n",
    "EMBEDDING_DIM = 50\n",
    "BATCH_SIZE = 128\n",
    "CLIP = 5 # gradient clipping - to avoid gradient explosion (frequent in RNNs)\n",
    "DROPOUT = 0.2\n",
    "EPOCHS = 15\n",
    "LR = 0.1"
   ]
  },
  {
   "cell_type": "code",
   "execution_count": 415,
   "metadata": {
    "ExecuteTime": {
     "end_time": "2019-06-03T19:33:42.638046Z",
     "start_time": "2019-06-03T19:33:42.617601Z"
    }
   },
   "outputs": [],
   "source": [
    "# Initiating the model\n",
    "model = GRU(vocab_size=VOCAB_SIZE, hidden_dim=HIDDEN_DIM, embedding_dim=EMBEDDING_DIM, dropout=DROPOUT)\n",
    "\n",
    "# And the optimizer\n",
    "optimizer = optim.SGD(model.parameters(), lr=LR)\n",
    "\n",
    "# And the loss\n",
    "criterion = nn.BCELoss()"
   ]
  },
  {
   "cell_type": "markdown",
   "metadata": {},
   "source": [
    "## Perform train"
   ]
  },
  {
   "cell_type": "code",
   "execution_count": 416,
   "metadata": {
    "ExecuteTime": {
     "end_time": "2019-06-03T20:00:23.084933Z",
     "start_time": "2019-06-03T20:00:23.078688Z"
    }
   },
   "outputs": [
    {
     "name": "stdout",
     "output_type": "stream",
     "text": [
      "Train Epoch: 0 [0/5572 (0%)]\tLoss: 14.413047\n",
      "Train Epoch: 0 [2786/5572 (50%)]\tLoss: 10.590258\n",
      "Train Epoch: 1 [0/5572 (0%)]\tLoss: 9.518043\n",
      "Train Epoch: 1 [2786/5572 (50%)]\tLoss: 9.040479\n",
      "Train Epoch: 2 [0/5572 (0%)]\tLoss: 8.841945\n",
      "Train Epoch: 2 [2786/5572 (50%)]\tLoss: 8.660154\n",
      "Train Epoch: 3 [0/5572 (0%)]\tLoss: 8.662314\n",
      "Train Epoch: 3 [2786/5572 (50%)]\tLoss: 8.526029\n",
      "Train Epoch: 4 [0/5572 (0%)]\tLoss: 8.523282\n",
      "Train Epoch: 4 [2786/5572 (50%)]\tLoss: 8.358135\n",
      "Train Epoch: 5 [0/5572 (0%)]\tLoss: 8.402678\n",
      "Train Epoch: 5 [2786/5572 (50%)]\tLoss: 8.199387\n",
      "Train Epoch: 6 [0/5572 (0%)]\tLoss: 8.255481\n",
      "Train Epoch: 6 [2786/5572 (50%)]\tLoss: 8.066721\n",
      "Train Epoch: 7 [0/5572 (0%)]\tLoss: 8.121440\n",
      "Train Epoch: 7 [2786/5572 (50%)]\tLoss: 7.857515\n",
      "Train Epoch: 8 [0/5572 (0%)]\tLoss: 7.965773\n",
      "Train Epoch: 8 [2786/5572 (50%)]\tLoss: 7.629926\n",
      "Train Epoch: 9 [0/5572 (0%)]\tLoss: 7.752881\n",
      "Train Epoch: 9 [2786/5572 (50%)]\tLoss: 7.477828\n",
      "Train Epoch: 10 [0/5572 (0%)]\tLoss: 7.517532\n",
      "Train Epoch: 10 [2786/5572 (50%)]\tLoss: 7.405692\n",
      "Train Epoch: 11 [0/5572 (0%)]\tLoss: 7.388840\n",
      "Train Epoch: 11 [2786/5572 (50%)]\tLoss: 7.096998\n",
      "Train Epoch: 12 [0/5572 (0%)]\tLoss: 7.160784\n",
      "Train Epoch: 12 [2786/5572 (50%)]\tLoss: 6.764374\n",
      "Train Epoch: 13 [0/5572 (0%)]\tLoss: 6.968186\n",
      "Train Epoch: 13 [2786/5572 (50%)]\tLoss: 6.587626\n",
      "Train Epoch: 14 [0/5572 (0%)]\tLoss: 6.689532\n",
      "Train Epoch: 14 [2786/5572 (50%)]\tLoss: 6.453083\n"
     ]
    }
   ],
   "source": [
    "import math # Needed for separating into batches\n",
    "\n",
    "def train(epoch):\n",
    "    dataset_size = sum([len(data[i][0]) for i in range(len(data))])\n",
    "    model.train()\n",
    "    \n",
    "    for i in range(len(data)):\n",
    "        loss_cum = 0\n",
    "        nr_batches = math.ceil(len(data[i][0]) / BATCH_SIZE)\n",
    "        for batch_idx in range(nr_batches):\n",
    "            # Extract the batch for training and target\n",
    "            data_batch = data[i][0][BATCH_SIZE * batch_idx : BATCH_SIZE * (batch_idx + 1), :]\n",
    "            target_batch = target[i][0][BATCH_SIZE * batch_idx : BATCH_SIZE * (batch_idx + 1)]\n",
    "            \n",
    "            # Send the model to the worker\n",
    "            worker = data_batch.location\n",
    "            model.send(worker)\n",
    "            h = th.Tensor(np.zeros((data_batch.shape[0], HIDDEN_DIM))).send(worker)\n",
    "            \n",
    "            optimizer.zero_grad()\n",
    "            pred, _ = model(data_batch, h)\n",
    "            loss = criterion(pred.squeeze(), target_batch.float())\n",
    "            loss.backward()\n",
    "            optimizer.step()\n",
    "            model.get()\n",
    "            \n",
    "            # Cumulate the loss\n",
    "            loss_cum += loss.get().item()\n",
    "        \n",
    "        print('Train Epoch: {} [{}/{} ({:.0f}%)]\\tLoss: {:.6f}'.format(\n",
    "                epoch, i * data[i][0].shape[0], dataset_size,\n",
    "                       100. *  (i * data[i][0].shape[0]) / dataset_size, loss_cum))\n",
    "\n",
    "for epoch in range(EPOCHS):\n",
    "    train(epoch)"
   ]
  }
 ],
 "metadata": {
  "hide_input": false,
  "kernelspec": {
   "display_name": "Python 3",
   "language": "python",
   "name": "python3"
  },
  "toc": {
   "base_numbering": 1,
   "nav_menu": {},
   "number_sections": true,
   "sideBar": true,
   "skip_h1_title": true,
   "title_cell": "Table of Contents",
   "title_sidebar": "Contents",
   "toc_cell": false,
   "toc_position": {},
   "toc_section_display": true,
   "toc_window_display": false
  },
  "varInspector": {
   "cols": {
    "lenName": 16,
    "lenType": 16,
    "lenVar": 40
   },
   "kernels_config": {
    "python": {
     "delete_cmd_postfix": "",
     "delete_cmd_prefix": "del ",
     "library": "var_list.py",
     "varRefreshCmd": "print(var_dic_list())"
    },
    "r": {
     "delete_cmd_postfix": ") ",
     "delete_cmd_prefix": "rm(",
     "library": "var_list.r",
     "varRefreshCmd": "cat(var_dic_list()) "
    }
   },
   "types_to_exclude": [
    "module",
    "function",
    "builtin_function_or_method",
    "instance",
    "_Feature"
   ],
   "window_display": false
  }
 },
 "nbformat": 4,
 "nbformat_minor": 2
}
