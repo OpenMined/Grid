{
 "cells": [
  {
   "cell_type": "markdown",
   "metadata": {},
   "source": [
    "# Part 1: Launch an OpenGrid Node On Heroku\n",
    "\n",
    "OpenGrid (or just \"Grid\" for short) is the platform library supporting the deployment of libraries for privacy-preserving artificial intelligence. In this tutorial, you'll learn how to deploy a grid node onto heroku and then interact with it using PySyft.\n",
    "\n",
    "_WARNING: Grid nodes publish datasets online and are for EXPERIMENTAL use only. Deploy nodes at your own risk. Do not use OpenGrid with any data/models you wish to keep private._\n",
    "\n",
    "### Step 1: Setup an account on Heroku.\n",
    "\n",
    "Go to http://heroku.com and setup a username and password.\n",
    "\n",
    "### Step 2: Verify your Heroku Account\n",
    "\n",
    "So while this tutorial will exclusively use FREE nodes, Heroku still requires you to enter in a credit card in order to spin up Redis databases (which we'll need to do). You can do that at https://heroku.com/verify\n",
    "\n",
    "### Step 3: Install Dependencies\n",
    "\n",
    "You'll need to have the following dependencies installed:\n",
    "\n",
    "- Heroku Toolbelt: https://toolbelt.heroku.com/\n",
    "- Pip: https://www.makeuseof.com/tag/install-pip-for-python/\n",
    "- Git: https://gist.github.com/derhuerst/1b15ff4652a867391f03\n",
    "- PySyft: https://github.com/OpenMined/PySyft\n",
    "- Grid: https://github.com/OpenMined/Grid\n",
    "\n",
    "### Step 4: Login to Heroku\n",
    "\n",
    "Run \"heroku login\" from the command line and follow the instructions.\n",
    "\n",
    "### Step 5: Import Torch, PySyft, and Grid\n",
    "\n",
    "Now we can import the dependencies we need."
   ]
  },
  {
   "cell_type": "code",
   "execution_count": 1,
   "metadata": {},
   "outputs": [],
   "source": [
    "import torch as th\n",
    "import syft as sy\n",
    "import grid as gr\n",
    "hook = sy.TorchHook(th)"
   ]
  },
  {
   "cell_type": "markdown",
   "metadata": {},
   "source": [
    "### Step 6: Launch and Connect to a Worker\n",
    "\n",
    "First: change \"my_grid_node\" below to be a unique node name of your choosing.\n",
    "\n",
    "Then you can run the code below - this will run various scripts to launch a node on heroku and then connect to it. If the script errors, just follow the instructions to correct the error and re-run it."
   ]
  },
  {
   "cell_type": "code",
   "execution_count": 8,
   "metadata": {},
   "outputs": [
    {
     "name": "stdout",
     "output_type": "stream",
     "text": [
      "Step 0: Checking Dependencies\n",
      "\tChecking for git dependency...DONE!\n",
      "\tChecking for heroku dependency...DONE!\n",
      "\tChecking for pip dependency...DONE!\n",
      "\tChecking to see if heroku is logged in...DONE!\n",
      "\n",
      "Step 1: Making sure app name 'opengrid10' is available\n",
      "\t['https://opengrid10.herokuapp.com/ | https://git.heroku.com/opengrid10.git\\n']\n",
      "\n",
      "Step 2: Making Sure Redis Database Can Be Spun Up on Heroku (this can take a couple seconds)...\n",
      "\t['Created rediscloud-concave-78521 as REDISCLOUD_URL\\n', 'Use heroku addons:docs rediscloud to view documentation\\n']\n",
      "\n",
      "Step 3: Cleaning up heroku/redis checks...\n",
      "\n",
      "Step 4: cleaning up git...\n",
      "\t\n",
      "Step 5: cloning heroku app code from Github...\n",
      "\t\n",
      "Step 6: copying app code from cloned repo...\n",
      "\t\n",
      "Step 7: removing the rest of the cloned code...\n",
      "\t\n",
      "Step 8: Initializing new github (for Heroku)...\n",
      "\tInitialized empty Git repository in /Users/atrask/Laboratory/openmined/Grid/examples/tmp/.git/\n",
      "\t\n",
      "Step 9: Adding files to heroku github...\n",
      "\t\n",
      "Step 10: Committing files to heroku github...\n",
      "\t[master (root-commit) dfb5856] init\n",
      "\t 4 files changed, 307 insertions(+)\n",
      "\t create mode 100644 LICENSE\n",
      "\t create mode 100644 Procfile\n",
      "\t create mode 100644 app.py\n",
      "\t create mode 100644 requirements.txt\n",
      "\t\n",
      "\n",
      "Step 4: cleaning up git...\n",
      "\t\n",
      "Step 5: cloning heroku app code from Github...\n",
      "\t\n",
      "Step 6: copying app code from cloned repo...\n",
      "\t\n",
      "Step 7: removing the rest of the cloned code...\n",
      "\t\n",
      "Step 8: Initializing new github (for Heroku)...\n",
      "\tInitialized empty Git repository in /Users/atrask/Laboratory/openmined/Grid/examples/tmp/.git/\n",
      "\t\n",
      "Step 9: Adding files to heroku github...\n",
      "\t\n",
      "Step 10: Committing files to heroku github...\n",
      "\t[master (root-commit) 75efb85] init\n",
      "\t 4 files changed, 307 insertions(+)\n",
      "\t create mode 100644 LICENSE\n",
      "\t create mode 100644 Procfile\n",
      "\t create mode 100644 app.py\n",
      "\t create mode 100644 requirements.txt\n",
      "\t\n",
      "\n",
      "Step 11: Pushing code to Heroku (this can take take a few seconds)......\n",
      "\thttps://opengrid10.herokuapp.com/ | https://git.heroku.com/opengrid10.git\n",
      "\t\n",
      "Step 12: Creating Redis database... (this can take a few seconds)...\n",
      "\tCreated rediscloud-horizontal-56318 as REDISCLOUD_URL\n",
      "\tUse heroku addons:docs rediscloud to view documentation\n",
      "\t\n",
      "Step 13: Pushing code to Heroku (this can take take a few minutes - if you're running this in a Jupyter Notebook you can watch progress in the notebook server terminal)......\n",
      "\t\n",
      "Step 14: Cleaning up!...\n",
      "\t\n",
      "SUCCESS: You can now connect to your app at https://opengrid10.herokuapp.com\n"
     ]
    }
   ],
   "source": [
    "worker = gr.GridClient(addr=gr.launch_on_heroku(\"opengrid10\", verbose=True, check_deps=True))"
   ]
  },
  {
   "cell_type": "markdown",
   "metadata": {},
   "source": [
    "### Step 7: Use PySyft Like Normal\n",
    "\n",
    "Now you can simply use the worker you created like you would any other normal PySyft worker. For more on how PySyft works, please see the PySyft tutorials: https://github.com/OpenMined/PySyft/tree/dev/examples/tutorials"
   ]
  },
  {
   "cell_type": "code",
   "execution_count": 9,
   "metadata": {},
   "outputs": [
    {
     "data": {
      "text/plain": [
       "(Wrapper)>[PointerTensor | me:3388209991 -> grid:13061000593]"
      ]
     },
     "execution_count": 9,
     "metadata": {},
     "output_type": "execute_result"
    }
   ],
   "source": [
    "x = th.tensor([1,2,3,4]).send(worker)\n",
    "x"
   ]
  },
  {
   "cell_type": "code",
   "execution_count": 10,
   "metadata": {},
   "outputs": [
    {
     "data": {
      "text/plain": [
       "(Wrapper)>[PointerTensor | me:13171966383 -> grid:32013113192]"
      ]
     },
     "execution_count": 10,
     "metadata": {},
     "output_type": "execute_result"
    }
   ],
   "source": [
    "y = x + x\n",
    "y"
   ]
  },
  {
   "cell_type": "code",
   "execution_count": 11,
   "metadata": {},
   "outputs": [
    {
     "data": {
      "text/plain": [
       "tensor([2, 4, 6, 8])"
      ]
     },
     "execution_count": 11,
     "metadata": {},
     "output_type": "execute_result"
    }
   ],
   "source": [
    "y.get()"
   ]
  },
  {
   "cell_type": "markdown",
   "metadata": {},
   "source": [
    "### Step 8: Reconnecting to Same Node\n",
    "\n",
    "If you run the same connect command that you did before, it will just connect to the existing node instead of launching it."
   ]
  },
  {
   "cell_type": "code",
   "execution_count": 12,
   "metadata": {},
   "outputs": [
    {
     "name": "stdout",
     "output_type": "stream",
     "text": [
      "Step 0: Checking Dependencies\n",
      "\tChecking for git dependency...DONE!\n",
      "\tChecking for heroku dependency...DONE!\n",
      "\tChecking for pip dependency...DONE!\n",
      "\tChecking to see if heroku is logged in...DONE!\n",
      "\n",
      "Step 1: Making sure app name 'opengrid10' is available\n",
      "APP EXISTS: You can already connect to your app at https://opengrid10.herokuapp.com\n"
     ]
    }
   ],
   "source": [
    "worker = gr.GridClient(addr=gr.launch_on_heroku(\"opengrid10\", verbose=True, check_deps=True))"
   ]
  },
  {
   "cell_type": "code",
   "execution_count": 13,
   "metadata": {},
   "outputs": [
    {
     "data": {
      "text/plain": [
       "(Wrapper)>[PointerTensor | me:2857247511 -> grid:9220488954]"
      ]
     },
     "execution_count": 13,
     "metadata": {},
     "output_type": "execute_result"
    }
   ],
   "source": [
    "x = th.tensor([1,2,3,4]).send(worker)\n",
    "x"
   ]
  },
  {
   "cell_type": "markdown",
   "metadata": {},
   "source": [
    "#### Useful Tip\n",
    "\n",
    "You can set check_deps=False and it'll run a little faster"
   ]
  },
  {
   "cell_type": "code",
   "execution_count": 14,
   "metadata": {},
   "outputs": [
    {
     "name": "stdout",
     "output_type": "stream",
     "text": [
      "\n",
      "Step 1: Making sure app name 'opengrid10' is available\n",
      "APP EXISTS: You can already connect to your app at https://opengrid10.herokuapp.com\n"
     ]
    }
   ],
   "source": [
    "worker = gr.GridClient(addr=gr.launch_on_heroku(\"opengrid10\", verbose=True, check_deps=False))"
   ]
  },
  {
   "cell_type": "markdown",
   "metadata": {},
   "source": [
    "#### Useful Tip\n",
    "\n",
    "Or you can just enter the address yourself"
   ]
  },
  {
   "cell_type": "code",
   "execution_count": 15,
   "metadata": {},
   "outputs": [
    {
     "data": {
      "text/plain": [
       "(Wrapper)>[PointerTensor | me:3276665070 -> grid:8439296320]"
      ]
     },
     "execution_count": 15,
     "metadata": {},
     "output_type": "execute_result"
    }
   ],
   "source": [
    "worker = gr.GridClient(addr=\"https://opengrid10.herokuapp.com\")\n",
    "\n",
    "x = th.tensor([1,2,3,4]).send(worker)\n",
    "x"
   ]
  },
  {
   "cell_type": "markdown",
   "metadata": {},
   "source": [
    "### Step 9: Destroying a Node\n",
    "\n",
    "Destroying the heroku node, deleting all objects (all tensors) is as simple as calling .destroy()."
   ]
  },
  {
   "cell_type": "code",
   "execution_count": 21,
   "metadata": {},
   "outputs": [
    {
     "name": "stdout",
     "output_type": "stream",
     "text": [
      "Destroyed node:opengrid10\n"
     ]
    }
   ],
   "source": [
    "worker.destroy()"
   ]
  },
  {
   "cell_type": "code",
   "execution_count": null,
   "metadata": {},
   "outputs": [],
   "source": []
  }
 ],
 "metadata": {
  "kernelspec": {
   "display_name": "Python 3",
   "language": "python",
   "name": "python3"
  },
  "language_info": {
   "codemirror_mode": {
    "name": "ipython",
    "version": 3
   },
   "file_extension": ".py",
   "mimetype": "text/x-python",
   "name": "python",
   "nbconvert_exporter": "python",
   "pygments_lexer": "ipython3",
   "version": "3.7.1"
  }
 },
 "nbformat": 4,
 "nbformat_minor": 2
}
