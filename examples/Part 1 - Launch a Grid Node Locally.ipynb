{
 "cells": [
  {
   "cell_type": "markdown",
   "metadata": {},
   "source": [
    "# Part 1: Launch a Grid Node Locally\n",
    "\n",
    "In this tutorial, you'll learn how to deploy a grid node into a local machine and then interact with it using PySyft.\n",
    "\n",
    "_WARNING: Grid nodes publish datasets online and are for EXPERIMENTAL use only. Deploy nodes at your own risk. Do not use OpenGrid with any data/models you wish to keep private._\n",
    "\n",
    "\n",
    "In order to run an node locally all you need to do is run an application and then start communicating with it through a Grid Worker. In this tutorial we'll use the websocket app available [here](https://github.com/OpenMined/Grid/tree/dev/app/websocket).\n",
    "\n",
    "\n",
    "### Step 1: Download the repository\n",
    "\n",
    "```bash\n",
    "git clone https://github.com/OpenMined/Grid/\n",
    "```\n",
    "\n",
    "\n",
    "### Step 2: Download dependencies\n",
    "\n",
    "You'll need to have the app dependencies installed. We recommend setting up an independent [conda environment](https://docs.conda.io/projects/conda/en/latest/user-guide/concepts/environments.html) to avoid problems with library versions.\n",
    "\n",
    "You can install the dependencies by running:\n",
    "\n",
    "```bash\n",
    "cd Grid/apps/websocket/\n",
    "pip install -r requirements.txt\n",
    "```\n",
    "\n",
    "### Step 3: Start App\n",
    "\n",
    "Then to start the app just run the `start_websocket` script.\n",
    "\n",
    "```bash\n",
    "python websocket_app.py --start_local_db --id=<worker_id> --port=<port number>\n",
    "```\n",
    "\n",
    "This will start the app with id equals to <worker_id> on address: http://0.0.0.0/<port_number>. The `--start_local_db` automatically starts a local database so you don't have to configure one yourself.\n",
    "\n",
    "To check what other arguments you can use when running this app, run:\n",
    "\n",
    "```bash\n",
    "python websocket_app.py --help\n",
    "```\n",
    "\n",
    "Let's start a worker with id equals to `bob` on port `3000`\n",
    "\n",
    "```bash\n",
    "python websocket_app.py --start_local_db --id=bob --port=3000\n",
    "```\n",
    "\n",
    "Great, so if your app started successfully the script should still be running.\n",
    "\n",
    "### Step 4: Creating a Grid Worker and start communication\n",
    "\n",
    "Let's instantiate a WebsocketGridWorker to talk to this app."
   ]
  },
  {
   "cell_type": "code",
   "execution_count": 1,
   "metadata": {},
   "outputs": [],
   "source": [
    "# General dependencies\n",
    "import torch as th\n",
    "import syft as sy\n",
    "import grid as gr\n",
    "\n",
    "hook = sy.TorchHook(th)"
   ]
  },
  {
   "cell_type": "code",
   "execution_count": 10,
   "metadata": {},
   "outputs": [
    {
     "name": "stdout",
     "output_type": "stream",
     "text": [
      "WARNING: Grid nodes publish datasets online and are for EXPERIMENTAL use only.Deploy nodes at your own risk. Do not use OpenGrid with any data/models you wish to keep private.\n",
      "\n"
     ]
    }
   ],
   "source": [
    "# WARNING: We should use the same id and port as the one used to start the app!!!\n",
    "worker = gr.WebsocketGridClient(hook, id=\"bob\", addr=\"http://localhost:3000\")\n",
    "\n",
    "# If you don't connect to the worker you can't send messages to it\n",
    "worker.connect()"
   ]
  },
  {
   "cell_type": "markdown",
   "metadata": {},
   "source": [
    "### Step 5: Use PySyft Like Normal\n",
    "\n",
    "Now you can simply use the worker you created like you would any other normal PySyft worker. For more on how PySyft works, please see the PySyft tutorials: https://github.com/OpenMined/PySyft/tree/dev/examples/tutorials"
   ]
  },
  {
   "cell_type": "code",
   "execution_count": 11,
   "metadata": {},
   "outputs": [
    {
     "data": {
      "text/plain": [
       "(Wrapper)>[PointerTensor | me:61673881356 -> bob:93565240922]"
      ]
     },
     "execution_count": 11,
     "metadata": {},
     "output_type": "execute_result"
    },
    {
     "name": "stderr",
     "output_type": "stream",
     "text": [
      "WARNING:engineio.client:WebSocket connection was closed, aborting\n"
     ]
    }
   ],
   "source": [
    "x = th.tensor([1,2,3,4]).send(worker)\n",
    "x"
   ]
  },
  {
   "cell_type": "code",
   "execution_count": 4,
   "metadata": {},
   "outputs": [
    {
     "data": {
      "text/plain": [
       "(Wrapper)>[PointerTensor | me:85022344229 -> bob:31458276515]"
      ]
     },
     "execution_count": 4,
     "metadata": {},
     "output_type": "execute_result"
    }
   ],
   "source": [
    "y = x + x\n",
    "y"
   ]
  },
  {
   "cell_type": "code",
   "execution_count": 5,
   "metadata": {},
   "outputs": [
    {
     "data": {
      "text/plain": [
       "tensor([2, 4, 6, 8])"
      ]
     },
     "execution_count": 5,
     "metadata": {},
     "output_type": "execute_result"
    }
   ],
   "source": [
    "y.get()"
   ]
  }
 ],
 "metadata": {
  "kernelspec": {
   "display_name": "Python 3",
   "language": "python",
   "name": "python3"
  },
  "language_info": {
   "codemirror_mode": {
    "name": "ipython",
    "version": 3
   },
   "file_extension": ".py",
   "mimetype": "text/x-python",
   "name": "python",
   "nbconvert_exporter": "python",
   "pygments_lexer": "ipython3",
   "version": "3.6.7"
  }
 },
 "nbformat": 4,
 "nbformat_minor": 2
}
