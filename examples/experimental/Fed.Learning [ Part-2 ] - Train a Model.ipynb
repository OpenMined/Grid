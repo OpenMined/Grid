{
 "cells": [
  {
   "cell_type": "markdown",
   "metadata": {},
   "source": [
    "<h1>Perform Federated Learning at Grid Platform </h1>\n",
    "In this notebook, we will train a model using federated approach.\n",
    "\n",
    "**NOTE:** At the time of running this notebook, we were running the grid components in background mode.  \n",
    "\n",
    "**NOTE:**\n",
    "Components:\n",
    " - Grid Gateway(http://localhost:8080)\n",
    " - Grid Node Bob (http://localhost:3000)\n",
    " - Grid Node Alice (http://localhost:3001)\n",
    " - Grid Node Bill (http://localhost:3002)\n",
    "\n",
    "This notebook was made based on <a href=\"https://github.com/OpenMined/PySyft/blob/dev/examples/tutorials/Part%2010%20-%20Federated%20Learning%20with%20Secure%20Aggregation.ipynb\">Part 10: Federated Learning with Encrypted Gradient Aggregation</a> tutorial"
   ]
  },
  {
   "cell_type": "markdown",
   "metadata": {},
   "source": [
    "<h2>Import dependencies</h2>"
   ]
  },
  {
   "cell_type": "code",
   "execution_count": 1,
   "metadata": {},
   "outputs": [
    {
     "name": "stderr",
     "output_type": "stream",
     "text": [
      "/home/ionesio/workspace/dev/vev/lib/python3.7/site-packages/tensorflow-1.14.0-py3.7-linux-x86_64.egg/tensorflow/python/framework/dtypes.py:516: FutureWarning: Passing (type, 1) or '1type' as a synonym of type is deprecated; in a future version of numpy, it will be understood as (type, (1,)) / '(1,)type'.\n",
      "  _np_qint8 = np.dtype([(\"qint8\", np.int8, 1)])\n",
      "/home/ionesio/workspace/dev/vev/lib/python3.7/site-packages/tensorflow-1.14.0-py3.7-linux-x86_64.egg/tensorflow/python/framework/dtypes.py:517: FutureWarning: Passing (type, 1) or '1type' as a synonym of type is deprecated; in a future version of numpy, it will be understood as (type, (1,)) / '(1,)type'.\n",
      "  _np_quint8 = np.dtype([(\"quint8\", np.uint8, 1)])\n",
      "/home/ionesio/workspace/dev/vev/lib/python3.7/site-packages/tensorflow-1.14.0-py3.7-linux-x86_64.egg/tensorflow/python/framework/dtypes.py:518: FutureWarning: Passing (type, 1) or '1type' as a synonym of type is deprecated; in a future version of numpy, it will be understood as (type, (1,)) / '(1,)type'.\n",
      "  _np_qint16 = np.dtype([(\"qint16\", np.int16, 1)])\n",
      "/home/ionesio/workspace/dev/vev/lib/python3.7/site-packages/tensorflow-1.14.0-py3.7-linux-x86_64.egg/tensorflow/python/framework/dtypes.py:519: FutureWarning: Passing (type, 1) or '1type' as a synonym of type is deprecated; in a future version of numpy, it will be understood as (type, (1,)) / '(1,)type'.\n",
      "  _np_quint16 = np.dtype([(\"quint16\", np.uint16, 1)])\n",
      "/home/ionesio/workspace/dev/vev/lib/python3.7/site-packages/tensorflow-1.14.0-py3.7-linux-x86_64.egg/tensorflow/python/framework/dtypes.py:520: FutureWarning: Passing (type, 1) or '1type' as a synonym of type is deprecated; in a future version of numpy, it will be understood as (type, (1,)) / '(1,)type'.\n",
      "  _np_qint32 = np.dtype([(\"qint32\", np.int32, 1)])\n",
      "/home/ionesio/workspace/dev/vev/lib/python3.7/site-packages/tensorflow-1.14.0-py3.7-linux-x86_64.egg/tensorflow/python/framework/dtypes.py:525: FutureWarning: Passing (type, 1) or '1type' as a synonym of type is deprecated; in a future version of numpy, it will be understood as (type, (1,)) / '(1,)type'.\n",
      "  np_resource = np.dtype([(\"resource\", np.ubyte, 1)])\n",
      "/home/ionesio/workspace/dev/vev/lib/python3.7/site-packages/tensorboard-1.14.0-py3.7.egg/tensorboard/compat/tensorflow_stub/dtypes.py:541: FutureWarning: Passing (type, 1) or '1type' as a synonym of type is deprecated; in a future version of numpy, it will be understood as (type, (1,)) / '(1,)type'.\n",
      "  _np_qint8 = np.dtype([(\"qint8\", np.int8, 1)])\n",
      "/home/ionesio/workspace/dev/vev/lib/python3.7/site-packages/tensorboard-1.14.0-py3.7.egg/tensorboard/compat/tensorflow_stub/dtypes.py:542: FutureWarning: Passing (type, 1) or '1type' as a synonym of type is deprecated; in a future version of numpy, it will be understood as (type, (1,)) / '(1,)type'.\n",
      "  _np_quint8 = np.dtype([(\"quint8\", np.uint8, 1)])\n",
      "/home/ionesio/workspace/dev/vev/lib/python3.7/site-packages/tensorboard-1.14.0-py3.7.egg/tensorboard/compat/tensorflow_stub/dtypes.py:543: FutureWarning: Passing (type, 1) or '1type' as a synonym of type is deprecated; in a future version of numpy, it will be understood as (type, (1,)) / '(1,)type'.\n",
      "  _np_qint16 = np.dtype([(\"qint16\", np.int16, 1)])\n",
      "/home/ionesio/workspace/dev/vev/lib/python3.7/site-packages/tensorboard-1.14.0-py3.7.egg/tensorboard/compat/tensorflow_stub/dtypes.py:544: FutureWarning: Passing (type, 1) or '1type' as a synonym of type is deprecated; in a future version of numpy, it will be understood as (type, (1,)) / '(1,)type'.\n",
      "  _np_quint16 = np.dtype([(\"quint16\", np.uint16, 1)])\n",
      "/home/ionesio/workspace/dev/vev/lib/python3.7/site-packages/tensorboard-1.14.0-py3.7.egg/tensorboard/compat/tensorflow_stub/dtypes.py:545: FutureWarning: Passing (type, 1) or '1type' as a synonym of type is deprecated; in a future version of numpy, it will be understood as (type, (1,)) / '(1,)type'.\n",
      "  _np_qint32 = np.dtype([(\"qint32\", np.int32, 1)])\n",
      "/home/ionesio/workspace/dev/vev/lib/python3.7/site-packages/tensorboard-1.14.0-py3.7.egg/tensorboard/compat/tensorflow_stub/dtypes.py:550: FutureWarning: Passing (type, 1) or '1type' as a synonym of type is deprecated; in a future version of numpy, it will be understood as (type, (1,)) / '(1,)type'.\n",
      "  np_resource = np.dtype([(\"resource\", np.ubyte, 1)])\n",
      "Falling back to insecure randomness since the required custom op could not be found for the installed version of TensorFlow. Fix this by compiling custom ops. Missing file was '/home/ionesio/workspace/dev/vev/lib/python3.7/site-packages/tf_encrypted-0.5.9-py3.7-linux-x86_64.egg/tf_encrypted/operations/secure_random/secure_random_module_tf_1.14.0.so', error was \"/home/ionesio/workspace/dev/vev/lib/python3.7/site-packages/tf_encrypted-0.5.9-py3.7-linux-x86_64.egg/tf_encrypted/operations/secure_random/secure_random_module_tf_1.14.0.so: undefined symbol: _ZN10tensorflow12OpDefBuilder4AttrESs\".\n"
     ]
    },
    {
     "name": "stdout",
     "output_type": "stream",
     "text": [
      "WARNING:tensorflow:From /home/ionesio/workspace/dev/vev/lib/python3.7/site-packages/tf_encrypted-0.5.9-py3.7-linux-x86_64.egg/tf_encrypted/session.py:24: The name tf.Session is deprecated. Please use tf.compat.v1.Session instead.\n",
      "\n"
     ]
    }
   ],
   "source": [
    "import grid as gr\n",
    "import syft as sy\n",
    "import torch as th\n",
    "import torch.nn as nn\n",
    "import torch.optim as optim\n",
    "import torch.nn.functional as F"
   ]
  },
  {
   "cell_type": "markdown",
   "metadata": {},
   "source": [
    "<h2>Define Model</h2>"
   ]
  },
  {
   "cell_type": "code",
   "execution_count": 2,
   "metadata": {},
   "outputs": [],
   "source": [
    "hook = sy.TorchHook(th)\n",
    "class Net(nn.Module):\n",
    "    def __init__(self):\n",
    "        super(Net, self).__init__()\n",
    "        self.fc1 = nn.Linear(13, 32)\n",
    "        self.fc2 = nn.Linear(32, 24)\n",
    "        self.fc3 = nn.Linear(24, 1)\n",
    "\n",
    "    def forward(self, x):\n",
    "        x = x.view(-1, 13)\n",
    "        x = F.relu(self.fc1(x))\n",
    "        x = F.relu(self.fc2(x))\n",
    "        x = self.fc3(x)\n",
    "        return x\n",
    "\n",
    "model = Net()\n",
    "optimizer = optim.SGD(model.parameters(), lr=0.01)"
   ]
  },
  {
   "cell_type": "markdown",
   "metadata": {},
   "source": [
    "<h2> Connect to Grid Network</h2>"
   ]
  },
  {
   "cell_type": "code",
   "execution_count": 3,
   "metadata": {},
   "outputs": [],
   "source": [
    "my_grid = gr.GridNetwork(\"http://localhost:5000\")"
   ]
  },
  {
   "cell_type": "markdown",
   "metadata": {},
   "source": [
    "<h2>Search a dataset</h2>"
   ]
  },
  {
   "cell_type": "code",
   "execution_count": 4,
   "metadata": {},
   "outputs": [],
   "source": [
    "data = my_grid.search(\"#X\", \"#boston\", \"#housing\")\n",
    "target = my_grid.search(\"#Y\", \"#boston\", \"#housing\")"
   ]
  },
  {
   "cell_type": "code",
   "execution_count": 5,
   "metadata": {},
   "outputs": [
    {
     "data": {
      "text/plain": [
       "[[(Wrapper)>[PointerTensor | me:37249732726 -> Bob:80786423983]],\n",
       " [(Wrapper)>[PointerTensor | me:9713249537 -> Alice:18146958968]],\n",
       " [(Wrapper)>[PointerTensor | me:75334145593 -> Bill:9562088539]]]"
      ]
     },
     "execution_count": 5,
     "metadata": {},
     "output_type": "execute_result"
    }
   ],
   "source": [
    "data"
   ]
  },
  {
   "cell_type": "code",
   "execution_count": 6,
   "metadata": {},
   "outputs": [
    {
     "data": {
      "text/plain": [
       "[[(Wrapper)>[PointerTensor | me:75640411060 -> Bob:81448698219]],\n",
       " [(Wrapper)>[PointerTensor | me:34800237337 -> Alice:25553850079]],\n",
       " [(Wrapper)>[PointerTensor | me:4445981120 -> Bill:65382525089]]]"
      ]
     },
     "execution_count": 6,
     "metadata": {},
     "output_type": "execute_result"
    }
   ],
   "source": [
    "target"
   ]
  },
  {
   "cell_type": "markdown",
   "metadata": {},
   "source": [
    "<h2>Perform Train</h2>"
   ]
  },
  {
   "cell_type": "code",
   "execution_count": 7,
   "metadata": {},
   "outputs": [
    {
     "name": "stdout",
     "output_type": "stream",
     "text": [
      "Train Epoch: 0 [0/402 (0%)]\tLoss: 600.671143\n",
      "Train Epoch: 0 [134/402 (33%)]\tLoss: 503.293976\n",
      "Train Epoch: 0 [268/402 (67%)]\tLoss: 593.302368\n",
      "Train Epoch: 1 [0/402 (0%)]\tLoss: 491.998962\n",
      "Train Epoch: 1 [134/402 (33%)]\tLoss: 335.492950\n",
      "Train Epoch: 1 [268/402 (67%)]\tLoss: 224.230820\n",
      "Train Epoch: 2 [0/402 (0%)]\tLoss: 228.273834\n",
      "Train Epoch: 2 [134/402 (33%)]\tLoss: 424.945129\n",
      "Train Epoch: 2 [268/402 (67%)]\tLoss: 468.684082\n",
      "Train Epoch: 3 [0/402 (0%)]\tLoss: 310.441101\n",
      "Train Epoch: 3 [134/402 (33%)]\tLoss: 166.916702\n",
      "Train Epoch: 3 [268/402 (67%)]\tLoss: 114.200340\n",
      "Train Epoch: 4 [0/402 (0%)]\tLoss: 147.395859\n",
      "Train Epoch: 4 [134/402 (33%)]\tLoss: 320.018402\n",
      "Train Epoch: 4 [268/402 (67%)]\tLoss: 288.444458\n",
      "Train Epoch: 5 [0/402 (0%)]\tLoss: 132.126160\n",
      "Train Epoch: 5 [134/402 (33%)]\tLoss: 35.871387\n",
      "Train Epoch: 5 [268/402 (67%)]\tLoss: 30.129076\n",
      "Train Epoch: 6 [0/402 (0%)]\tLoss: 21.753355\n",
      "Train Epoch: 6 [134/402 (33%)]\tLoss: 20.651144\n",
      "Train Epoch: 6 [268/402 (67%)]\tLoss: 27.102346\n",
      "Train Epoch: 7 [0/402 (0%)]\tLoss: 47.607990\n",
      "Train Epoch: 7 [134/402 (33%)]\tLoss: 60.284790\n",
      "Train Epoch: 7 [268/402 (67%)]\tLoss: 167.354965\n",
      "Train Epoch: 8 [0/402 (0%)]\tLoss: 47.352947\n",
      "Train Epoch: 8 [134/402 (33%)]\tLoss: 22.201246\n",
      "Train Epoch: 8 [268/402 (67%)]\tLoss: 46.584240\n",
      "Train Epoch: 9 [0/402 (0%)]\tLoss: 38.757362\n",
      "Train Epoch: 9 [134/402 (33%)]\tLoss: 62.910469\n",
      "Train Epoch: 9 [268/402 (67%)]\tLoss: 25.898268\n",
      "Train Epoch: 10 [0/402 (0%)]\tLoss: 12.773787\n",
      "Train Epoch: 10 [134/402 (33%)]\tLoss: 10.727639\n",
      "Train Epoch: 10 [268/402 (67%)]\tLoss: 17.612232\n",
      "Train Epoch: 11 [0/402 (0%)]\tLoss: 10.527602\n",
      "Train Epoch: 11 [134/402 (33%)]\tLoss: 10.243439\n",
      "Train Epoch: 11 [268/402 (67%)]\tLoss: 18.763672\n",
      "Train Epoch: 12 [0/402 (0%)]\tLoss: 12.978152\n",
      "Train Epoch: 12 [134/402 (33%)]\tLoss: 13.406409\n",
      "Train Epoch: 12 [268/402 (67%)]\tLoss: 16.739573\n",
      "Train Epoch: 13 [0/402 (0%)]\tLoss: 16.439005\n",
      "Train Epoch: 13 [134/402 (33%)]\tLoss: 28.138084\n",
      "Train Epoch: 13 [268/402 (67%)]\tLoss: 65.809654\n",
      "Train Epoch: 14 [0/402 (0%)]\tLoss: 25.663120\n",
      "Train Epoch: 14 [134/402 (33%)]\tLoss: 32.013588\n",
      "Train Epoch: 14 [268/402 (67%)]\tLoss: 16.384932\n"
     ]
    }
   ],
   "source": [
    "def train(epoch):\n",
    "    dataset_size = sum([ len(data[i][0]) for i in range(len(data))])\n",
    "    model.train()\n",
    "    for i in range(len(data)):\n",
    "        worker = data[i][0].location\n",
    "        model.send(worker)\n",
    "        optimizer.zero_grad()\n",
    "        pred = model(data[i][0])\n",
    "        loss = F.mse_loss(pred.view(-1), target[i][0])\n",
    "        loss.backward()\n",
    "        optimizer.step()\n",
    "        model.get()\n",
    "        loss = loss.get()\n",
    "        print('Train Epoch: {} [{}/{} ({:.0f}%)]\\tLoss: {:.6f}'.format(\n",
    "                epoch, i * data[i][0].shape[0], dataset_size,\n",
    "                       100. *  (i * data[i][0].shape[0]) / dataset_size, loss.item()))\n",
    "\n",
    "for epoch in range(15):\n",
    "    train(epoch)"
   ]
  },
  {
   "cell_type": "markdown",
   "metadata": {},
   "source": [
    "<h2>Disconnect Grid Nodes</h2>"
   ]
  },
  {
   "cell_type": "code",
   "execution_count": 8,
   "metadata": {},
   "outputs": [],
   "source": [
    "my_grid.disconnect_nodes()"
   ]
  }
 ],
 "metadata": {
  "kernelspec": {
   "display_name": "Python 3",
   "language": "python",
   "name": "python3"
  },
  "language_info": {
   "codemirror_mode": {
    "name": "ipython",
    "version": 3
   },
   "file_extension": ".py",
   "mimetype": "text/x-python",
   "name": "python",
   "nbconvert_exporter": "python",
   "pygments_lexer": "ipython3",
   "version": "3.7.3"
  }
 },
 "nbformat": 4,
 "nbformat_minor": 2
}
