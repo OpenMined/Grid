{
 "cells": [
  {
   "cell_type": "markdown",
   "metadata": {},
   "source": [
    "<h1>Perform Federated Learning at Grid Platform </h1>\n",
    "In this notebook, we will train a model using federated approach.\n",
    "\n",
    "**NOTE:** At the time of running this notebook, we were running the grid components in background mode.  \n",
    "\n",
    "**NOTE:**\n",
    "Components:\n",
    " - Grid Gateway(http://localhost:8080)\n",
    " - Grid Node Bob (http://localhost:3000)\n",
    " - Grid Node Alice (http://localhost:3001)\n",
    " - Grid Node Bill (http://localhost:3002)\n",
    "\n",
    "This notebook was made based on <a href=\"https://github.com/OpenMined/PySyft/blob/dev/examples/tutorials/Part%2010%20-%20Federated%20Learning%20with%20Secure%20Aggregation.ipynb\">Part 10: Federated Learning with Encrypted Gradient Aggregation</a> tutorial"
   ]
  },
  {
   "cell_type": "markdown",
   "metadata": {},
   "source": [
    "<h2>Import dependencies</h2>"
   ]
  },
  {
   "cell_type": "code",
   "execution_count": 4,
   "metadata": {},
   "outputs": [],
   "source": [
    "import grid as gr\n",
    "import syft as sy\n",
    "import torch as th\n",
    "import torch.nn as nn\n",
    "import torch.optim as optim\n",
    "import torch.nn.functional as F"
   ]
  },
  {
   "cell_type": "markdown",
   "metadata": {},
   "source": [
    "<h2>Define Model</h2>"
   ]
  },
  {
   "cell_type": "code",
   "execution_count": 8,
   "metadata": {},
   "outputs": [],
   "source": [
    "hook = sy.TorchHook(th)\n",
    "class Net(nn.Module):\n",
    "    def __init__(self):\n",
    "        super(Net, self).__init__()\n",
    "        self.fc1 = nn.Linear(13, 32)\n",
    "        self.fc2 = nn.Linear(32, 24)\n",
    "        self.fc3 = nn.Linear(24, 1)\n",
    "\n",
    "    def forward(self, x):\n",
    "        x = x.view(-1, 13)\n",
    "        x = F.relu(self.fc1(x))\n",
    "        x = F.relu(self.fc2(x))\n",
    "        x = self.fc3(x)\n",
    "        return x\n",
    "\n",
    "model = Net()\n",
    "optimizer = optim.SGD(model.parameters(), lr=0.01)"
   ]
  },
  {
   "cell_type": "markdown",
   "metadata": {},
   "source": [
    "<h2> Connect to Grid Network</h2>"
   ]
  },
  {
   "cell_type": "code",
   "execution_count": 11,
   "metadata": {},
   "outputs": [],
   "source": [
    "my_grid = gr.GridNetwork(\"http://localhost:8080\")"
   ]
  },
  {
   "cell_type": "markdown",
   "metadata": {},
   "source": [
    "<h2>Search a dataset</h2>"
   ]
  },
  {
   "cell_type": "code",
   "execution_count": 13,
   "metadata": {},
   "outputs": [
    {
     "name": "stdout",
     "output_type": "stream",
     "text": [
      "Match Nodes:  [['Bob', 'http://localhost:3000/'], ['Alice', 'http://localhost:3001/'], ['Bill', 'http://localhost:3002/']]\n",
      "Match Nodes:  [['Bob', 'http://localhost:3000/'], ['Alice', 'http://localhost:3001/'], ['Bill', 'http://localhost:3002/']]\n"
     ]
    }
   ],
   "source": [
    "data = my_grid.search(\"#X\", \"#boston\", \"#housing\")\n",
    "target = my_grid.search(\"#Y\", \"#boston\", \"#housing\")"
   ]
  },
  {
   "cell_type": "code",
   "execution_count": 14,
   "metadata": {},
   "outputs": [
    {
     "data": {
      "text/plain": [
       "[[(Wrapper)>[PointerTensor | me:98563153569 -> Bob:9775387043]],\n",
       " [(Wrapper)>[PointerTensor | me:4729826195 -> Alice:52110458330]],\n",
       " [(Wrapper)>[PointerTensor | me:32778334851 -> Bill:92837193854]]]"
      ]
     },
     "execution_count": 14,
     "metadata": {},
     "output_type": "execute_result"
    }
   ],
   "source": [
    "data"
   ]
  },
  {
   "cell_type": "code",
   "execution_count": 15,
   "metadata": {},
   "outputs": [
    {
     "data": {
      "text/plain": [
       "[[(Wrapper)>[PointerTensor | me:2199272751 -> Bob:84773015288]],\n",
       " [(Wrapper)>[PointerTensor | me:7833009196 -> Alice:92386388957]],\n",
       " [(Wrapper)>[PointerTensor | me:44367517796 -> Bill:75786442740]]]"
      ]
     },
     "execution_count": 15,
     "metadata": {},
     "output_type": "execute_result"
    }
   ],
   "source": [
    "target"
   ]
  },
  {
   "cell_type": "markdown",
   "metadata": {},
   "source": [
    "<h2>Perform Train</h2>"
   ]
  },
  {
   "cell_type": "code",
   "execution_count": 17,
   "metadata": {},
   "outputs": [
    {
     "name": "stdout",
     "output_type": "stream",
     "text": [
      "Train Epoch: 0 [0/402 (0%)]\tLoss: 598.684692\n",
      "Train Epoch: 0 [134/402 (33%)]\tLoss: 497.710236\n",
      "Train Epoch: 0 [268/402 (67%)]\tLoss: 574.146790\n",
      "Train Epoch: 1 [0/402 (0%)]\tLoss: 414.934845\n",
      "Train Epoch: 1 [134/402 (33%)]\tLoss: 117.339111\n",
      "Train Epoch: 1 [268/402 (67%)]\tLoss: 228.963226\n",
      "Train Epoch: 2 [0/402 (0%)]\tLoss: 491.657837\n",
      "Train Epoch: 2 [134/402 (33%)]\tLoss: 345.333344\n",
      "Train Epoch: 2 [268/402 (67%)]\tLoss: 328.528992\n",
      "Train Epoch: 3 [0/402 (0%)]\tLoss: 207.352295\n",
      "Train Epoch: 3 [134/402 (33%)]\tLoss: 26.893274\n",
      "Train Epoch: 3 [268/402 (67%)]\tLoss: 37.589333\n",
      "Train Epoch: 4 [0/402 (0%)]\tLoss: 50.076763\n",
      "Train Epoch: 4 [134/402 (33%)]\tLoss: 177.830841\n",
      "Train Epoch: 4 [268/402 (67%)]\tLoss: 494.693909\n",
      "Train Epoch: 5 [0/402 (0%)]\tLoss: 370.097961\n",
      "Train Epoch: 5 [134/402 (33%)]\tLoss: 199.604370\n",
      "Train Epoch: 5 [268/402 (67%)]\tLoss: 181.044205\n",
      "Train Epoch: 6 [0/402 (0%)]\tLoss: 100.149536\n",
      "Train Epoch: 6 [134/402 (33%)]\tLoss: 25.290924\n",
      "Train Epoch: 6 [268/402 (67%)]\tLoss: 41.039879\n",
      "Train Epoch: 7 [0/402 (0%)]\tLoss: 42.625858\n",
      "Train Epoch: 7 [134/402 (33%)]\tLoss: 75.576851\n",
      "Train Epoch: 7 [268/402 (67%)]\tLoss: 26.255423\n",
      "Train Epoch: 8 [0/402 (0%)]\tLoss: 15.723118\n",
      "Train Epoch: 8 [134/402 (33%)]\tLoss: 23.486433\n",
      "Train Epoch: 8 [268/402 (67%)]\tLoss: 71.430191\n",
      "Train Epoch: 9 [0/402 (0%)]\tLoss: 60.054913\n",
      "Train Epoch: 9 [134/402 (33%)]\tLoss: 108.422234\n",
      "Train Epoch: 9 [268/402 (67%)]\tLoss: 47.884533\n",
      "Train Epoch: 10 [0/402 (0%)]\tLoss: 20.906647\n",
      "Train Epoch: 10 [134/402 (33%)]\tLoss: 12.030875\n",
      "Train Epoch: 10 [268/402 (67%)]\tLoss: 22.983208\n",
      "Train Epoch: 11 [0/402 (0%)]\tLoss: 13.600938\n",
      "Train Epoch: 11 [134/402 (33%)]\tLoss: 11.786090\n",
      "Train Epoch: 11 [268/402 (67%)]\tLoss: 20.324875\n",
      "Train Epoch: 12 [0/402 (0%)]\tLoss: 14.465964\n",
      "Train Epoch: 12 [134/402 (33%)]\tLoss: 24.106451\n",
      "Train Epoch: 12 [268/402 (67%)]\tLoss: 61.898827\n",
      "Train Epoch: 13 [0/402 (0%)]\tLoss: 34.088943\n",
      "Train Epoch: 13 [134/402 (33%)]\tLoss: 48.510120\n",
      "Train Epoch: 13 [268/402 (67%)]\tLoss: 19.480650\n",
      "Train Epoch: 14 [0/402 (0%)]\tLoss: 11.400704\n",
      "Train Epoch: 14 [134/402 (33%)]\tLoss: 17.373957\n",
      "Train Epoch: 14 [268/402 (67%)]\tLoss: 38.791573\n"
     ]
    }
   ],
   "source": [
    "def train(epoch):\n",
    "    dataset_size = sum([ len(data[i][0]) for i in range(len(data))])\n",
    "    model.train()\n",
    "    for i in range(len(data)):\n",
    "        worker = data[i][0].location\n",
    "        model.send(worker)\n",
    "        optimizer.zero_grad()\n",
    "        pred = model(data[i][0])\n",
    "        loss = F.mse_loss(pred.view(-1), target[i][0])\n",
    "        loss.backward()\n",
    "        optimizer.step()\n",
    "        model.get()\n",
    "        loss = loss.get()\n",
    "        print('Train Epoch: {} [{}/{} ({:.0f}%)]\\tLoss: {:.6f}'.format(\n",
    "                epoch, i * data[i][0].shape[0], dataset_size,\n",
    "                       100. *  (i * data[i][0].shape[0]) / dataset_size, loss.item()))\n",
    "\n",
    "for epoch in range(15):\n",
    "    train(epoch)"
   ]
  },
  {
   "cell_type": "markdown",
   "metadata": {},
   "source": [
    "<h2>Disconnect Grid Nodes</h2>"
   ]
  },
  {
   "cell_type": "code",
   "execution_count": 19,
   "metadata": {},
   "outputs": [],
   "source": [
    "my_grid.disconnect_nodes()"
   ]
  }
 ],
 "metadata": {
  "kernelspec": {
   "display_name": "Python 3",
   "language": "python",
   "name": "python3"
  },
  "language_info": {
   "codemirror_mode": {
    "name": "ipython",
    "version": 3
   },
   "file_extension": ".py",
   "mimetype": "text/x-python",
   "name": "python",
   "nbconvert_exporter": "python",
   "pygments_lexer": "ipython3",
   "version": "3.7.1"
  }
 },
 "nbformat": 4,
 "nbformat_minor": 2
}
