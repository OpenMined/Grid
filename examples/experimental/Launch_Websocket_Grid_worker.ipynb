{
 "cells": [
  {
   "cell_type": "markdown",
   "metadata": {},
   "source": [
    "<h1>Launch Websocket OpenGrid Node on Heroku</h1>"
   ]
  },
  {
   "cell_type": "markdown",
   "metadata": {},
   "source": [
    "<h2>Step 1: Import required dependencies</h2>"
   ]
  },
  {
   "cell_type": "code",
   "execution_count": 2,
   "metadata": {},
   "outputs": [],
   "source": [
    "import syft as sy\n",
    "import torch as th\n",
    "import grid as gr\n",
    "hook = sy.TorchHook(th)"
   ]
  },
  {
   "cell_type": "markdown",
   "metadata": {},
   "source": [
    "<h2>Step 2: Deploy websocket application </h2>"
   ]
  },
  {
   "cell_type": "code",
   "execution_count": 4,
   "metadata": {},
   "outputs": [
    {
     "name": "stdout",
     "output_type": "stream",
     "text": [
      "Step 0: Checking Dependencies\n",
      "\tChecking for git dependency...DONE!\n",
      "\tChecking for heroku --version dependency...DONE!\n",
      "\tChecking for pip dependency...DONE!\n",
      "\tChecking to see if heroku is logged in...DONE!\n",
      "\n",
      "Step 1: Making sure app name 'websocketgridtest' is available\n",
      "\t['https://websocketgridtest.herokuapp.com/ | https://git.heroku.com/websocketgridtest.git\\n']\n",
      "\n",
      "Step 2: Making Sure Redis Database Can Be Spun Up on Heroku (this can take a couple seconds)...\n",
      "\t['Created rediscloud-regular-39561 as REDISCLOUD_URL\\n', 'Use heroku addons:docs rediscloud to view documentation\\n']\n",
      "\n",
      "Step 3: Cleaning up heroku/redis checks...\n",
      "\n",
      "Step 4: cleaning up git...\n",
      "\t\n",
      "Step 5: cloning heroku app code from Github...\n",
      "\t\n",
      "Step 6: copying app code from cloned repo...\n",
      "\t\n",
      "Step 7: removing the rest of the cloned code...\n",
      "\t\n",
      "Step 8: Initializing new github (for Heroku)...\n",
      "\tInitialized empty Git repository in /home/ionesio/workspace/Grid/examples/experimental/tmp/.git/\n",
      "\t\n",
      "Step 9: Adding files to heroku github...\n",
      "\t\n",
      "Step 10: Committing files to heroku github...\n",
      "\t[master (root-commit) eab53b0] init\n",
      "\t 4 files changed, 298 insertions(+)\n",
      "\t create mode 100644 LICENSE\n",
      "\t create mode 100644 Procfile\n",
      "\t create mode 100644 requirements.txt\n",
      "\t create mode 100644 websocket_app.py\n",
      "\t\n",
      "\n",
      "Step 11: Pushing code to Heroku (this can take take a few seconds)......\n",
      "\thttps://websocketgridtest.herokuapp.com/ | https://git.heroku.com/websocketgridtest.git\n",
      "\t\n",
      "Step 12: Creating Redis database... (this can take a few seconds)...\n",
      "\tCreated rediscloud-corrugated-96923 as REDISCLOUD_URL\n",
      "\tUse heroku addons:docs rediscloud to view documentation\n",
      "\t\n",
      "Step 13: Pushing code to Heroku (this can take take a few minutes - if you're running this in a Jupyter Notebook you can watch progress in the notebook server terminal)......\n",
      "\t\n",
      "Step 14: Cleaning up!...\n",
      "\t\n",
      "SUCCESS: You can now connect to your app at https://websocketgridtest.herokuapp.com\n"
     ]
    }
   ],
   "source": [
    "address = gr.launch_on_heroku(\"websocketgridtest\",\n",
    "                              dev_user=\"IonesioJunior\",\n",
    "                              app_type=\"websocket\",\n",
    "                              branch=\"add_websocket_approach\",\n",
    "                              verbose=True,\n",
    "                              check_deps=True)\n"
   ]
  },
  {
   "cell_type": "markdown",
   "metadata": {},
   "source": [
    "<h2>Step 3 : Create / connect client to grid application</h2>"
   ]
  },
  {
   "cell_type": "code",
   "execution_count": 13,
   "metadata": {},
   "outputs": [],
   "source": [
    "worker = gr.WebsocketGridClient(hook, \"https://websocketgridtest.herokuapp.com/\",id=\"grid\")\n",
    "worker.connect()"
   ]
  },
  {
   "cell_type": "markdown",
   "metadata": {},
   "source": [
    "<h2>Step 4: Use PySyft Like Normal</h2>"
   ]
  },
  {
   "cell_type": "code",
   "execution_count": 19,
   "metadata": {},
   "outputs": [
    {
     "data": {
      "text/plain": [
       "(Wrapper)>[PointerTensor | me:3055596120 -> grid:13880972604]"
      ]
     },
     "execution_count": 19,
     "metadata": {},
     "output_type": "execute_result"
    }
   ],
   "source": [
    "x = th.tensor([1,2,3,4,5]).send(worker)\n",
    "x"
   ]
  },
  {
   "cell_type": "code",
   "execution_count": 20,
   "metadata": {},
   "outputs": [
    {
     "data": {
      "text/plain": [
       "tensor([1, 2, 3, 4, 5])"
      ]
     },
     "execution_count": 20,
     "metadata": {},
     "output_type": "execute_result"
    }
   ],
   "source": [
    "x.get()"
   ]
  },
  {
   "cell_type": "code",
   "execution_count": 23,
   "metadata": {},
   "outputs": [
    {
     "data": {
      "text/plain": [
       "(Wrapper)>[PointerTensor | me:19008164893 -> grid:29075651213]"
      ]
     },
     "execution_count": 23,
     "metadata": {},
     "output_type": "execute_result"
    }
   ],
   "source": [
    "y = th.tensor([1,2,3,4,5,6]).send(worker)\n",
    "z = y + y\n",
    "z"
   ]
  },
  {
   "cell_type": "code",
   "execution_count": 24,
   "metadata": {},
   "outputs": [
    {
     "data": {
      "text/plain": [
       "tensor([ 2,  4,  6,  8, 10, 12])"
      ]
     },
     "execution_count": 24,
     "metadata": {},
     "output_type": "execute_result"
    }
   ],
   "source": [
    "z.get()"
   ]
  }
 ],
 "metadata": {
  "kernelspec": {
   "display_name": "Python 3",
   "language": "python",
   "name": "python3"
  },
  "language_info": {
   "codemirror_mode": {
    "name": "ipython",
    "version": 3
   },
   "file_extension": ".py",
   "mimetype": "text/x-python",
   "name": "python",
   "nbconvert_exporter": "python",
   "pygments_lexer": "ipython3",
   "version": "3.6.7"
  }
 },
 "nbformat": 4,
 "nbformat_minor": 2
}
