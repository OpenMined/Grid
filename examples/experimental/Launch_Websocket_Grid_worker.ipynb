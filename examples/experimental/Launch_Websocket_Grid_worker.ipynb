{
 "cells": [
  {
   "cell_type": "markdown",
   "metadata": {},
   "source": [
    "<h1>Launch Websocket OpenGrid Node on Heroku</h1>"
   ]
  },
  {
   "cell_type": "markdown",
   "metadata": {},
   "source": [
    "<h2>Step 1: Import required dependencies</h2>"
   ]
  },
  {
   "cell_type": "code",
   "execution_count": 2,
   "metadata": {},
   "outputs": [],
   "source": [
    "import syft as sy\n",
    "import torch as th\n",
    "import grid as gr\n",
    "from grid.deploy import NodeDeployment\n",
    "hook = sy.TorchHook(th)"
   ]
  },
  {
   "cell_type": "markdown",
   "metadata": {},
   "source": [
    "<h2>Step 2: Instantiate websocket deployment object </h2>"
   ]
  },
  {
   "cell_type": "code",
   "execution_count": 5,
   "metadata": {},
   "outputs": [],
   "source": [
    "environment = {\"GRID_NETWORK_URL\": \"https://opengridnetwork.herokuapp.com\",\n",
    "               \"ID\": \"Alice\",\n",
    "               \"PORT\": \"5000\",\n",
    "               \"ADDRESS\": \"http://alicewsgridnode.herokuapp.com/\"}\n",
    "# Warning: Probably when you will run this code, this app name(alicewsgridnode) has been already used.\n",
    "node_component = NodeDeployment(\"alicewsgridnode\", env_vars=environment)"
   ]
  },
  {
   "cell_type": "markdown",
   "metadata": {},
   "source": [
    "<h2>Step 2: Perform deployment </h2>"
   ]
  },
  {
   "cell_type": "code",
   "execution_count": 6,
   "metadata": {},
   "outputs": [
    {
     "name": "stdout",
     "output_type": "stream",
     "text": [
      "Step 0: Checking Dependencies\n",
      "\tChecking for git dependency...DONE!\n",
      "\tChecking for heroku --version dependency...DONE!\n",
      "\tChecking for pip dependency...DONE!\n",
      "\tChecking to see if heroku is logged in...DONE!\n",
      "\n",
      "Step 1: Making sure app name 'alicewsgridnode' is available\n",
      "\t['https://alicewsgridnode.herokuapp.com/ | https://git.heroku.com/alicewsgridnode.git\\n']\n",
      "\n",
      "Step 3: Cleaning up heroku/postgres checks...\n",
      "\n",
      "Step 4: cleaning up git...\n",
      "\t\n",
      "Step 5: cloning heroku app code from Github...\n",
      "\t\n",
      "Step 6: copying app code from cloned repo...\n",
      "\t\n",
      "Step 7: removing the rest of the cloned code...\n",
      "\t\n",
      "Step 8: Initializing new github (for Heroku)...\n",
      "\tInitialized empty Git repository in /home/junior/OpenMined/dev/Grid/examples/experimental/tmp/.git/\n",
      "\t\n",
      "Step 9: Adding files to heroku github...\n",
      "\t\n",
      "Step 10: Committing files to heroku github...\n",
      "\t[master (root-commit) cd71939] init\n",
      "\t 9 files changed, 326 insertions(+)\n",
      "\t create mode 100644 LICENSE\n",
      "\t create mode 100644 Procfile\n",
      "\t create mode 100644 app/__init__.py\n",
      "\t create mode 100644 app/main/__init__.py\n",
      "\t create mode 100644 app/main/events.py\n",
      "\t create mode 100644 app/main/routes.py\n",
      "\t create mode 100644 app/templates/index.html\n",
      "\t create mode 100644 requirements.txt\n",
      "\t create mode 100644 websocket_app.py\n",
      "\t\n",
      "\n",
      "Step 11: Pushing code to Heroku (this can take take a few seconds)......\n",
      "\thttps://alicewsgridnode.herokuapp.com/ | https://git.heroku.com/alicewsgridnode.git\n",
      "\t\n",
      "Step 12: Creating Postgres database... (this can take a few seconds)...\n",
      "\tDatabase has been created and is available\n",
      "\t ! This database is empty. If upgrading, you can transfer\n",
      "\t ! data from another database with pg:copy\n",
      "\tCreated postgresql-shaped-40684 as DATABASE_URL\n",
      "\tUse heroku addons:docs heroku-postgresql to view documentation\n",
      "\t\n",
      "Setting environment variable: ...\n",
      "\tGRID_NETWORK_URL: https://opengridnetwork.herokuapp.com\n",
      "\t\n",
      "Setting environment variable: ...\n",
      "\tID: Alice\n",
      "\t\n",
      "Setting environment variable: ...\n",
      "\tPORT: 5000\n",
      "\t\n",
      "Setting environment variable: ...\n",
      "\tADDRESS: http://alicewsgridnode.herokuapp.com/\n",
      "\t\n",
      "Step 13: Pushing code to Heroku (this can take take a few minutes - if you're running this in a Jupyter Notebook you can watch progress in the notebook server terminal)......\n",
      "\t\n",
      "Step 14: Cleaning up!...\n",
      "\t\n",
      "SUCCESS: You can now connect to your app at https://alicewsgridnode.herokuapp.com\n"
     ]
    },
    {
     "data": {
      "text/plain": [
       "'https://alicewsgridnode.herokuapp.com'"
      ]
     },
     "execution_count": 6,
     "metadata": {},
     "output_type": "execute_result"
    }
   ],
   "source": [
    "node_component.deploy_on_heroku() # Next steps: Add other types of deployments (local, ANSIBLE, etc)"
   ]
  },
  {
   "cell_type": "markdown",
   "metadata": {},
   "source": [
    "<h2>Step 3 : Create / connect client to grid application</h2>"
   ]
  },
  {
   "cell_type": "code",
   "execution_count": 3,
   "metadata": {},
   "outputs": [],
   "source": [
    "worker = gr.WebsocketGridClient(hook, \"http://alicewsgridnode.herokuapp.com/\",id=\"grid\")\n",
    "worker.connect()"
   ]
  },
  {
   "cell_type": "markdown",
   "metadata": {},
   "source": [
    "<h2>Step 4: Use PySyft Like Normal</h2>"
   ]
  },
  {
   "cell_type": "code",
   "execution_count": 4,
   "metadata": {},
   "outputs": [
    {
     "data": {
      "text/plain": [
       "(Wrapper)>[PointerTensor | me:38870189938 -> grid:59009130261]"
      ]
     },
     "execution_count": 4,
     "metadata": {},
     "output_type": "execute_result"
    }
   ],
   "source": [
    "x = th.tensor([1,2,3,4,5]).send(worker)\n",
    "x"
   ]
  },
  {
   "cell_type": "code",
   "execution_count": 5,
   "metadata": {},
   "outputs": [
    {
     "data": {
      "text/plain": [
       "tensor([1, 2, 3, 4, 5])"
      ]
     },
     "execution_count": 5,
     "metadata": {},
     "output_type": "execute_result"
    }
   ],
   "source": [
    "x.get()"
   ]
  },
  {
   "cell_type": "code",
   "execution_count": 6,
   "metadata": {},
   "outputs": [
    {
     "data": {
      "text/plain": [
       "(Wrapper)>[PointerTensor | me:88055489540 -> grid:1799574574]"
      ]
     },
     "execution_count": 6,
     "metadata": {},
     "output_type": "execute_result"
    }
   ],
   "source": [
    "y = th.tensor([1,2,3,4,5,6]).send(worker)\n",
    "z = y + y\n",
    "z"
   ]
  },
  {
   "cell_type": "code",
   "execution_count": 7,
   "metadata": {},
   "outputs": [
    {
     "data": {
      "text/plain": [
       "tensor([ 2,  4,  6,  8, 10, 12])"
      ]
     },
     "execution_count": 7,
     "metadata": {},
     "output_type": "execute_result"
    }
   ],
   "source": [
    "z.get()"
   ]
  }
 ],
 "metadata": {
  "kernelspec": {
   "display_name": "Python 3",
   "language": "python",
   "name": "python3"
  },
  "language_info": {
   "codemirror_mode": {
    "name": "ipython",
    "version": 3
   },
   "file_extension": ".py",
   "mimetype": "text/x-python",
   "name": "python",
   "nbconvert_exporter": "python",
   "pygments_lexer": "ipython3",
   "version": "3.7.1"
  }
 },
 "nbformat": 4,
 "nbformat_minor": 2
}
