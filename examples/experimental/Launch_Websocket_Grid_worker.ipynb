{
 "cells": [
  {
   "cell_type": "markdown",
   "metadata": {},
   "source": [
    "<h1>Launch Websocket OpenGrid Node on Heroku</h1>"
   ]
  },
  {
   "cell_type": "markdown",
   "metadata": {},
   "source": [
    "<h2>Step 1: Import required dependencies</h2>"
   ]
  },
  {
   "cell_type": "code",
   "execution_count": 2,
   "metadata": {},
   "outputs": [],
   "source": [
    "import syft as sy\n",
    "import torch as th\n",
    "import grid as gr\n",
    "from grid.deploy import HerokuNodeDeployment\n",
    "hook = sy.TorchHook(th)"
   ]
  },
  {
   "cell_type": "markdown",
   "metadata": {},
   "source": [
    "<h2>Step 2: Instantiate websocket deployment object </h2>"
   ]
  },
  {
   "cell_type": "code",
   "execution_count": 5,
   "metadata": {},
   "outputs": [],
   "source": [
    "worker_id = \"gridherokunode\"\n",
    "\n",
    "environment = {\n",
    "    \"ID\": worker_id,\n",
    "    \"GRID_NETWORK_URL\": \"http://opengridnetwork.herokuapp.com\",\n",
    "    \"ADDRESS\": \"http://{}.herokuapp.com/\".format(worker_id)\n",
    "}\n",
    "\n",
    "node_component = HerokuNodeDeployment(worker_id, env_vars=environment, branch=\"fix-heroku-ws-app\")"
   ]
  },
  {
   "cell_type": "markdown",
   "metadata": {},
   "source": [
    "<h2>Step 2: Perform deployment </h2>"
   ]
  },
  {
   "cell_type": "code",
   "execution_count": 6,
   "metadata": {},
   "outputs": [
    {
     "name": "stdout",
     "output_type": "stream",
     "text": [
      "Step 0: Checking Dependencies\n",
      "\tChecking for git dependency...DONE!\n",
      "\tChecking for heroku --version dependency...DONE!\n",
      "\tChecking for pip dependency...DONE!\n",
      "\tChecking to see if heroku is logged in...DONE!\n",
      "\n",
      "Step 1: Making sure app name 'gridherokunode' is available\n",
      "\t['https://gridherokunode.herokuapp.com/ | https://git.heroku.com/gridherokunode.git\\n']\n",
      "\n",
      "Step 3: Cleaning up heroku/postgres checks...\n",
      "\n",
      "Step 4: cleaning up git...\n",
      "\t\n",
      "Step 5: cloning heroku app code from Github...\n",
      "\t\n",
      "Step 6: copying app code from cloned repo...\n",
      "\t\n",
      "Step 7: removing the rest of the cloned code...\n",
      "\t\n",
      "Step 8: Initializing new github (for Heroku)...\n",
      "\tInitialized empty Git repository in /home/ionesio/workspace/other/Grid/examples/experimental/tmp/.git/\n",
      "\t\n",
      "Step 9: Adding files to heroku github...\n",
      "\t\n",
      "Step 10: Committing files to heroku github...\n",
      "\t[master (root-commit) 74faaa4] init\n",
      "\t 15 files changed, 1361 insertions(+)\n",
      "\t create mode 100644 Dockerfile\n",
      "\t create mode 100644 LICENSE\n",
      "\t create mode 100644 Procfile\n",
      "\t create mode 100644 app/__init__.py\n",
      "\t create mode 100644 app/main/__init__.py\n",
      "\t create mode 100644 app/main/events.py\n",
      "\t create mode 100644 app/main/local_worker_utils.py\n",
      "\t create mode 100644 app/main/model_manager.py\n",
      "\t create mode 100644 app/main/persistence/__init__.py\n",
      "\t create mode 100644 app/main/persistence/models.py\n",
      "\t create mode 100644 app/main/persistence/utils.py\n",
      "\t create mode 100644 app/main/routes.py\n",
      "\t create mode 100644 app/templates/index.html\n",
      "\t create mode 100644 requirements.txt\n",
      "\t create mode 100644 websocket_app.py\n",
      "\t\n",
      "\n",
      "Step 11: Pushing code to Heroku (this can take take a few seconds)......\n",
      "\thttps://gridherokunode.herokuapp.com/ | https://git.heroku.com/gridherokunode.git\n",
      "\t\n",
      "Step 12: Creating Postgres database... (this can take a few seconds)...\n",
      "\tDatabase has been created and is available\n",
      "\t ! This database is empty. If upgrading, you can transfer\n",
      "\t ! data from another database with pg:copy\n",
      "\tCreated postgresql-rectangular-67012 as DATABASE_URL\n",
      "\tUse heroku addons:docs heroku-postgresql to view documentation\n",
      "\t\n",
      "Setting environment variable: ...\n",
      "\tID: gridherokunode\n",
      "\t\n",
      "Setting environment variable: ...\n",
      "\tGRID_NETWORK_URL: http://opengridnetwork.herokuapp.com\n",
      "\t\n",
      "Setting environment variable: ...\n",
      "\tADDRESS: http://gridherokunode.herokuapp.com/\n",
      "\t\n",
      "Step 13: Pushing code to Heroku (this can take take a few minutes - if you're running this in a Jupyter Notebook you can watch progress in the notebook server terminal)......\n",
      "\t\n",
      "Step 14: Cleaning up!...\n",
      "\t\n",
      "SUCCESS: You can now connect to your app at https://gridherokunode.herokuapp.com\n"
     ]
    },
    {
     "data": {
      "text/plain": [
       "'https://gridherokunode.herokuapp.com'"
      ]
     },
     "execution_count": 6,
     "metadata": {},
     "output_type": "execute_result"
    }
   ],
   "source": [
    "node_component.deploy() # Next steps: Add other types of deployments (local, ANSIBLE, etc)"
   ]
  },
  {
   "cell_type": "markdown",
   "metadata": {},
   "source": [
    "<h2>Step 3 : Create / connect client to grid application</h2>"
   ]
  },
  {
   "cell_type": "code",
   "execution_count": 7,
   "metadata": {},
   "outputs": [
    {
     "name": "stdout",
     "output_type": "stream",
     "text": [
      "WARNING: Grid nodes publish datasets online and are for EXPERIMENTAL use only.Deploy nodes at your own risk. Do not use OpenGrid with any data/models you wish to keep private.\n",
      "\n"
     ]
    }
   ],
   "source": [
    "worker = gr.WebsocketGridClient(hook, \"http://gridherokunode.herokuapp.com/\",id=\"gridherokunode\")\n",
    "worker.connect()"
   ]
  },
  {
   "cell_type": "markdown",
   "metadata": {},
   "source": [
    "<h2>Step 4: Use PySyft Like Normal</h2>"
   ]
  },
  {
   "cell_type": "code",
   "execution_count": 8,
   "metadata": {},
   "outputs": [
    {
     "data": {
      "text/plain": [
       "(Wrapper)>[PointerTensor | me:8017009477 -> gridherokunode:39694194772]"
      ]
     },
     "execution_count": 8,
     "metadata": {},
     "output_type": "execute_result"
    }
   ],
   "source": [
    "x = th.tensor([1,2,3,4,5]).send(worker)\n",
    "x"
   ]
  },
  {
   "cell_type": "code",
   "execution_count": 9,
   "metadata": {},
   "outputs": [
    {
     "data": {
      "text/plain": [
       "tensor([1, 2, 3, 4, 5])"
      ]
     },
     "execution_count": 9,
     "metadata": {},
     "output_type": "execute_result"
    }
   ],
   "source": [
    "x.get()"
   ]
  },
  {
   "cell_type": "code",
   "execution_count": 10,
   "metadata": {},
   "outputs": [
    {
     "data": {
      "text/plain": [
       "(Wrapper)>[PointerTensor | me:63702389115 -> gridherokunode:61845163743]"
      ]
     },
     "execution_count": 10,
     "metadata": {},
     "output_type": "execute_result"
    }
   ],
   "source": [
    "y = th.tensor([1,2,3,4,5,6]).send(worker)\n",
    "z = y + y\n",
    "z"
   ]
  },
  {
   "cell_type": "code",
   "execution_count": 11,
   "metadata": {},
   "outputs": [
    {
     "data": {
      "text/plain": [
       "tensor([ 2,  4,  6,  8, 10, 12])"
      ]
     },
     "execution_count": 11,
     "metadata": {},
     "output_type": "execute_result"
    }
   ],
   "source": [
    "z.get()"
   ]
  }
 ],
 "metadata": {
  "kernelspec": {
   "display_name": "Python 3",
   "language": "python",
   "name": "python3"
  },
  "language_info": {
   "codemirror_mode": {
    "name": "ipython",
    "version": 3
   },
   "file_extension": ".py",
   "mimetype": "text/x-python",
   "name": "python",
   "nbconvert_exporter": "python",
   "pygments_lexer": "ipython3",
   "version": "3.7.3"
  }
 },
 "nbformat": 4,
 "nbformat_minor": 2
}
