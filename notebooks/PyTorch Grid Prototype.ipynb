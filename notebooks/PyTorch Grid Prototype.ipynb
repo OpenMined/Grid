{
 "cells": [
  {
   "cell_type": "code",
   "execution_count": 1,
   "metadata": {},
   "outputs": [
    {
     "name": "stderr",
     "output_type": "stream",
     "text": [
      "/Users/atrask/anaconda/lib/python3.6/site-packages/h5py/__init__.py:36: FutureWarning: Conversion of the second argument of issubdtype from `float` to `np.floating` is deprecated. In future, it will be treated as `np.float64 == np.dtype(float).type`.\n",
      "  from ._conv import register_converters as _register_converters\n",
      "Using TensorFlow backend.\n"
     ]
    }
   ],
   "source": [
    "import numpy as np\n",
    "import keras, grid\n",
    "from keras.models import Sequential\n",
    "from keras.layers.core import Dense, Dropout, Activation\n",
    "from keras.optimizers import SGD\n",
    "from grid.clients.keras import KerasClient"
   ]
  },
  {
   "cell_type": "code",
   "execution_count": 2,
   "metadata": {},
   "outputs": [
    {
     "name": "stdout",
     "output_type": "stream",
     "text": [
      "\n",
      "\u001b[34mUPDATE: \u001b[0mConnecting to IPFS... this can take a few seconds...\n",
      "\n",
      "\u001b[32mSUCCESS: \u001b[0mConnected!!!\n",
      "SUBSCRIBING TO openmined:list_workers\n",
      "\n",
      "\u001b[34mUPDATE: \u001b[0mQuerying known workers...\n",
      "\tWORKER: /p2p-circuit/ipfs/Qmaosc64H6Y29VFCFYJzJXCX9AuRp7RCsekLmajHNVEARD...\u001b[32mSUCCESS!!!\u001b[0m\n",
      "\tWORKER: /p2p-circuit/ipfs/QmQabt3SWuDvjse9z7GAcH2BGQv4wH8bumkd4x5oXN2obX...\u001b[32mSUCCESS!!!\u001b[0m\n",
      "SUBSCRIBING TO openmined:list_workers:Qma5efEQtBUxDonmSDajv9dZ52axH9MNULKTgVpXWK8Ak2\n",
      "\n",
      "Failed to reconnect in the opposite direciton to:/p2p-circuit/ipfs/Qma5efEQtBUxDonmSDajv9dZ52axH9MNULKTgVpXWK8Ak2\n",
      "\u001b[34mUPDATE: \u001b[0mSearching for IPFS nodes - 38 found overall - 3 are OpenMined workers          \n",
      "\n",
      "\u001b[32mSUCCESS: \u001b[0mFound 3 OpenMined nodes!!!\n",
      "\n"
     ]
    }
   ],
   "source": [
    "g = KerasClient(min_om_nodes=2)"
   ]
  },
  {
   "cell_type": "code",
   "execution_count": 3,
   "metadata": {},
   "outputs": [
    {
     "name": "stdout",
     "output_type": "stream",
     "text": [
      "PREFERRED NODE:QmNxbPtZu1GkXcLE5hzvYkRrcf1kRvxX8cTEPErqAkBwbx\n",
      "SUBSCRIBING TO openmined_train_QmbKQhdU3YFkRxuuLNtc31D7XDxPes9xKwucYRGzbAgCLe\n",
      "Worker:kBwbx - Epoch 0 of 20 - Valid Loss: 0.823183\n",
      "Worker:kBwbx - Epoch 1 of 20 - Valid Loss: 0.810038\n",
      "Worker:kBwbx - Epoch 2 of 20 - Valid Loss: 0.798037\n",
      "Worker:kBwbx - Epoch 3 of 20 - Valid Loss: 0.791408\n",
      "Worker:kBwbx - Epoch 4 of 20 - Valid Loss: 0.783545\n",
      "Worker:kBwbx - Epoch 5 of 20 - Valid Loss: 0.775889\n",
      "Worker:kBwbx - Epoch 6 of 20 - Valid Loss: 0.771526\n",
      "Worker:kBwbx - Epoch 7 of 20 - Valid Loss: 0.766876\n",
      "Worker:kBwbx - Epoch 8 of 20 - Valid Loss: 0.761480\n",
      "Worker:kBwbx - Epoch 9 of 20 - Valid Loss: 0.757498\n",
      "Worker:kBwbx - Epoch 10 of 20 - Valid Loss: 0.750783\n",
      "Worker:kBwbx - Epoch 11 of 20 - Valid Loss: 0.749441\n",
      "Worker:kBwbx - Epoch 12 of 20 - Valid Loss: 0.745809\n",
      "Worker:kBwbx - Epoch 13 of 20 - Valid Loss: 0.744028\n",
      "Worker:kBwbx - Epoch 14 of 20 - Valid Loss: 0.741146\n",
      "Worker:kBwbx - Epoch 15 of 20 - Valid Loss: 0.736151\n",
      "Worker:kBwbx - Epoch 16 of 20 - Valid Loss: 0.733548\n",
      "Worker:kBwbx - Epoch 17 of 20 - Valid Loss: 0.733388\n",
      "Worker:kBwbx - Epoch 18 of 20 - Valid Loss: 0.730478\n",
      "Worker:kBwbx - Epoch 19 of 20 - Valid Loss: 0.726601\n",
      "\n",
      "\u001b[34mUPDATE: \u001b[0mConnecting to IPFS... this can take a few seconds...\n",
      "\n",
      "\u001b[32mSUCCESS: \u001b[0mConnected!!!\n",
      "\n",
      "\u001b[34mUPDATE: \u001b[0mConnecting to IPFS... this can take a few seconds...\n",
      "\n",
      "\u001b[32mSUCCESS: \u001b[0mConnected!!!\n"
     ]
    }
   ],
   "source": [
    "input = np.array([[0,0],[0,1],[1,0],[1,1]])\n",
    "target = np.array([[0],[1],[1],[0]])\n",
    "\n",
    "model = Sequential()\n",
    "model.add(Dense(8, input_dim=2))\n",
    "model.add(Activation('tanh'))\n",
    "model.add(Dense(1))\n",
    "model.add(Activation('sigmoid'))\n",
    "\n",
    "sgd = SGD(lr=0.1)\n",
    "model.compile(loss='binary_crossentropy', optimizer=sgd)\n",
    "\n",
    "model, train_spec = g.fit(model,input,target,epochs=20,log_interval=100,preferred_node='QmNxbPtZu1GkXcLE5hzvYkRrcf1kRvxX8cTEPErqAkBwbx')"
   ]
  },
  {
   "cell_type": "code",
   "execution_count": null,
   "metadata": {},
   "outputs": [
    {
     "name": "stdout",
     "output_type": "stream",
     "text": [
      "Failed to reconnect in the opposite direciton to:/p2p-circuit/ipfs/Qma5efEQtBUxDonmSDajv9dZ52axH9MNULKTgVpXWK8Ak2\n"
     ]
    }
   ],
   "source": []
  },
  {
   "cell_type": "code",
   "execution_count": null,
   "metadata": {},
   "outputs": [],
   "source": []
  }
 ],
 "metadata": {
  "kernelspec": {
   "display_name": "Python 3",
   "language": "python",
   "name": "python3"
  },
  "language_info": {
   "codemirror_mode": {
    "name": "ipython",
    "version": 3
   },
   "file_extension": ".py",
   "mimetype": "text/x-python",
   "name": "python",
   "nbconvert_exporter": "python",
   "pygments_lexer": "ipython3",
   "version": "3.6.1"
  }
 },
 "nbformat": 4,
 "nbformat_minor": 2
}
