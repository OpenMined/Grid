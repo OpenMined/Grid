{
 "cells": [
  {
   "cell_type": "code",
   "execution_count": 1,
   "metadata": {},
   "outputs": [
    {
     "name": "stderr",
     "output_type": "stream",
     "text": [
      "/Users/atrask/anaconda/lib/python3.6/site-packages/h5py/__init__.py:36: FutureWarning: Conversion of the second argument of issubdtype from `float` to `np.floating` is deprecated. In future, it will be treated as `np.float64 == np.dtype(float).type`.\n",
      "  from ._conv import register_converters as _register_converters\n",
      "Using TensorFlow backend.\n"
     ]
    }
   ],
   "source": [
    "import numpy as np\n",
    "from grid.clients.torch import TorchClient\n",
    "import torch"
   ]
  },
  {
   "cell_type": "code",
   "execution_count": 3,
   "metadata": {},
   "outputs": [
    {
     "name": "stdout",
     "output_type": "stream",
     "text": [
      "\n",
      "\u001b[34mUPDATE: \u001b[0mConnecting to IPFS... this can take a few seconds...\n",
      "\n",
      "\u001b[32mSUCCESS: \u001b[0mConnected!!! - My ID:Qma5efEQtBUxDonmSDajv9dZ52axH9MNULKTgVpXWK8Ak2\n",
      "\n",
      "\u001b[34mUPDATE: \u001b[0mQuerying known workers...\n",
      "\tWORKER: /p2p-circuit/ipfs/Qmaosc64H6Y29VFCFYJzJXCX9AuRp7RCsekLmajHNVEARD...\u001b[32mSUCCESS!!!\u001b[0m\n",
      "\tWORKER: /p2p-circuit/ipfs/QmQabt3SWuDvjse9z7GAcH2BGQv4wH8bumkd4x5oXN2obX...\u001b[32mSUCCESS!!!\u001b[0m\n",
      "\n",
      "\u001b[34mUPDATE: \u001b[0mSearching for IPFS nodes - 4 found overall - 2 are OpenMined workers          \n",
      "\n",
      "\u001b[32mSUCCESS: \u001b[0mFound 2 OpenMined nodes!!!\n",
      "\n"
     ]
    }
   ],
   "source": [
    "g = TorchClient(min_om_nodes=2)"
   ]
  },
  {
   "cell_type": "code",
   "execution_count": 11,
   "metadata": {},
   "outputs": [
    {
     "name": "stdout",
     "output_type": "stream",
     "text": [
      "\n",
      "\u001b[34mUPDATE: \u001b[0mQuerying known workers...\n",
      "\tWORKER: /p2p-circuit/ipfs/Qmaosc64H6Y29VFCFYJzJXCX9AuRp7RCsekLmajHNVEARD...\u001b[32mSUCCESS!!!\u001b[0m\n",
      "\tWORKER: /p2p-circuit/ipfs/QmQabt3SWuDvjse9z7GAcH2BGQv4wH8bumkd4x5oXN2obX...\u001b[32mSUCCESS!!!\u001b[0m\n",
      "ALREADY SUBSCRIBED TO openmined:list_workers:Qma5efEQtBUxDonmSDajv9dZ52axH9MNULKTgVpXWK8Ak2\n",
      "\n",
      "\u001b[34mUPDATE: \u001b[0mSearching for IPFS nodes - 4 found overall - 2 are OpenMined workers          \n",
      "\n",
      "\u001b[32mSUCCESS: \u001b[0mFound 2 OpenMined nodes!!!\n",
      "\n"
     ]
    }
   ],
   "source": [
    "g.listen() # run this if you can't see a node you are expecting to see"
   ]
  },
  {
   "cell_type": "code",
   "execution_count": 20,
   "metadata": {},
   "outputs": [
    {
     "data": {
      "text/plain": [
       "['QmQabt3SWuDvjse9z7GAcH2BGQv4wH8bumkd4x5oXN2obX',\n",
       " 'Qmaosc64H6Y29VFCFYJzJXCX9AuRp7RCsekLmajHNVEARD']"
      ]
     },
     "execution_count": 20,
     "metadata": {},
     "output_type": "execute_result"
    }
   ],
   "source": [
    "workers = g.get_openmined_nodes()\n",
    "workers"
   ]
  },
  {
   "cell_type": "code",
   "execution_count": 5,
   "metadata": {},
   "outputs": [],
   "source": []
  },
  {
   "cell_type": "code",
   "execution_count": 6,
   "metadata": {},
   "outputs": [
    {
     "data": {
      "text/plain": [
       "{'data': '{\"worker_type\": \"COMPUTE\", \"services_running\": [\"broadcast_known_workers\", \"whoami_service\", \"listen_for_openmined_nodes\", \"fit_worker_service\", \"torch_service\"], \"id\": \"QmcrdL1WhSS7Zvm1BDN4wtSxRJPnnWx2qxQgx3kEVRTho1\", \"torch\": {\"objects\": []}, \"cpu_processor_percent_utilization\": 1.9, \"cpu_num_cores\": 1, \"cpu_num_logical_cores\": 2, \"cpu_ram_total\": 13662167040, \"cpu_ram_available\": 11675521024, \"cpu_ram_percent_available\": 14.5, \"cpu_ram_used\": 11025829888, \"cpu_ram_free\": 2636337152, \"cpu_ram_active\": 5359792128, \"cpu_ram_inactive\": 4496547840, \"disk_total\": 391920791552, \"disk_used\": 8426516480, \"disk_free\": 383477497856, \"disk_percent\": 2.2, \"gpus\": [{\"index\": 0, \"uuid\": \"GPU-8963a985-247f-b595-067e-c0706415d05c\", \"name\": \"Tesla K80\", \"temperature.gpu\": 36, \"utilization.gpu\": 0, \"power.draw\": 28, \"enforced.power.limit\": 149, \"memory.used\": 2, \"memory.total\": 11439, \"processes\": []}], \"gpus_pytorch\": [{\"name\": \"Tesla K80\", \"cuda_major_verison\": 3, \"cuda_minor_verison\": 7}]}',\n",
       " 'encoded': {'data': 'eyJ3b3JrZXJfdHlwZSI6ICJDT01QVVRFIiwgInNlcnZpY2VzX3J1bm5pbmciOiBbImJyb2FkY2FzdF9rbm93bl93b3JrZXJzIiwgIndob2FtaV9zZXJ2aWNlIiwgImxpc3Rlbl9mb3Jfb3Blbm1pbmVkX25vZGVzIiwgImZpdF93b3JrZXJfc2VydmljZSIsICJ0b3JjaF9zZXJ2aWNlIl0sICJpZCI6ICJRbWNyZEwxV2hTUzdadm0xQkRONHd0U3hSSlBubld4MnF4UWd4M2tFVlJUaG8xIiwgInRvcmNoIjogeyJvYmplY3RzIjogW119LCAiY3B1X3Byb2Nlc3Nvcl9wZXJjZW50X3V0aWxpemF0aW9uIjogMS45LCAiY3B1X251bV9jb3JlcyI6IDEsICJjcHVfbnVtX2xvZ2ljYWxfY29yZXMiOiAyLCAiY3B1X3JhbV90b3RhbCI6IDEzNjYyMTY3MDQwLCAiY3B1X3JhbV9hdmFpbGFibGUiOiAxMTY3NTUyMTAyNCwgImNwdV9yYW1fcGVyY2VudF9hdmFpbGFibGUiOiAxNC41LCAiY3B1X3JhbV91c2VkIjogMTEwMjU4Mjk4ODgsICJjcHVfcmFtX2ZyZWUiOiAyNjM2MzM3MTUyLCAiY3B1X3JhbV9hY3RpdmUiOiA1MzU5NzkyMTI4LCAiY3B1X3JhbV9pbmFjdGl2ZSI6IDQ0OTY1NDc4NDAsICJkaXNrX3RvdGFsIjogMzkxOTIwNzkxNTUyLCAiZGlza191c2VkIjogODQyNjUxNjQ4MCwgImRpc2tfZnJlZSI6IDM4MzQ3NzQ5Nzg1NiwgImRpc2tfcGVyY2VudCI6IDIuMiwgImdwdXMiOiBbeyJpbmRleCI6IDAsICJ1dWlkIjogIkdQVS04OTYzYTk4NS0yNDdmLWI1OTUtMDY3ZS1jMDcwNjQxNWQwNWMiLCAibmFtZSI6ICJUZXNsYSBLODAiLCAidGVtcGVyYXR1cmUuZ3B1IjogMzYsICJ1dGlsaXphdGlvbi5ncHUiOiAwLCAicG93ZXIuZHJhdyI6IDI4LCAiZW5mb3JjZWQucG93ZXIubGltaXQiOiAxNDksICJtZW1vcnkudXNlZCI6IDIsICJtZW1vcnkudG90YWwiOiAxMTQzOSwgInByb2Nlc3NlcyI6IFtdfV0sICJncHVzX3B5dG9yY2giOiBbeyJuYW1lIjogIlRlc2xhIEs4MCIsICJjdWRhX21ham9yX3Zlcmlzb24iOiAzLCAiY3VkYV9taW5vcl92ZXJpc29uIjogN31dfQ==',\n",
       "  'from': 'EiDXsXrRfbbmk02/3R/RyeoWO/UTPLObvNjy+VSkb5Fn3A==',\n",
       "  'seqno': 'FRgzHVUESew=',\n",
       "  'topicIDs': ['Qma5efEQtBUxDonmSDajv9dZ52axH9MNULKTgVpXWK8Ak2_2571017607']},\n",
       " 'from': b'\\x12 \\xd7\\xb1z\\xd1}\\xb6\\xe6\\x93M\\xbf\\xdd\\x1f\\xd1\\xc9\\xea\\x16;\\xf5\\x13<\\xb3\\x9b\\xbc\\xd8\\xf2\\xf9T\\xa4o\\x91g\\xdc',\n",
       " 'seqno': b'\\x15\\x183\\x1dU\\x04I\\xec',\n",
       " 'topicIDs': ['Qma5efEQtBUxDonmSDajv9dZ52axH9MNULKTgVpXWK8Ak2_2571017607']}"
      ]
     },
     "execution_count": 6,
     "metadata": {},
     "output_type": "execute_result"
    }
   ],
   "source": []
  },
  {
   "cell_type": "code",
   "execution_count": null,
   "metadata": {},
   "outputs": [],
   "source": []
  },
  {
   "cell_type": "code",
   "execution_count": null,
   "metadata": {},
   "outputs": [],
   "source": []
  },
  {
   "cell_type": "code",
   "execution_count": 40,
   "metadata": {},
   "outputs": [],
   "source": [
    "a = torch.FloatTensor([1,2,3,4]).send('QmcrdL1WhSS7Zvm1BDN4wtSxRJPnnWx2qxQgx3kEVRTho1')"
   ]
  },
  {
   "cell_type": "code",
   "execution_count": null,
   "metadata": {},
   "outputs": [],
   "source": [
    "a.owner"
   ]
  },
  {
   "cell_type": "code",
   "execution_count": 42,
   "metadata": {},
   "outputs": [
    {
     "data": {
      "text/plain": [
       "[ torch.FloatTensor - Location:QmcrdL1WhSS7Zvm1BDN4wtSxRJPnnWx2qxQgx3kEVRTho1 ]"
      ]
     },
     "execution_count": 42,
     "metadata": {},
     "output_type": "execute_result"
    }
   ],
   "source": [
    "a"
   ]
  },
  {
   "cell_type": "code",
   "execution_count": null,
   "metadata": {},
   "outputs": [],
   "source": [
    "a.get()"
   ]
  },
  {
   "cell_type": "code",
   "execution_count": 12,
   "metadata": {},
   "outputs": [
    {
     "data": {
      "text/plain": [
       "'Qma5efEQtBUxDonmSDajv9dZ52axH9MNULKTgVpXWK8Ak2'"
      ]
     },
     "execution_count": 12,
     "metadata": {},
     "output_type": "execute_result"
    }
   ],
   "source": [
    "a.owner"
   ]
  },
  {
   "cell_type": "code",
   "execution_count": 13,
   "metadata": {},
   "outputs": [
    {
     "data": {
      "text/plain": [
       "\n",
       " 1\n",
       " 2\n",
       " 3\n",
       " 4\n",
       "[torch.FloatTensor of size 4]"
      ]
     },
     "execution_count": 13,
     "metadata": {},
     "output_type": "execute_result"
    }
   ],
   "source": [
    "a"
   ]
  },
  {
   "cell_type": "code",
   "execution_count": 6,
   "metadata": {},
   "outputs": [],
   "source": []
  },
  {
   "cell_type": "code",
   "execution_count": 17,
   "metadata": {},
   "outputs": [
    {
     "data": {
      "text/plain": [
       "{'cpu_num_cores': 4,\n",
       " 'cpu_num_logical_cores': 8,\n",
       " 'cpu_processor_percent_utilization': 11.5,\n",
       " 'cpu_ram_active': 7275053056,\n",
       " 'cpu_ram_available': 6100221952,\n",
       " 'cpu_ram_free': 583839744,\n",
       " 'cpu_ram_inactive': 5516382208,\n",
       " 'cpu_ram_percent_available': 64.5,\n",
       " 'cpu_ram_total': 17179869184,\n",
       " 'cpu_ram_used': 15909728256,\n",
       " 'disk_free': 144598253568,\n",
       " 'disk_percent': 40.9,\n",
       " 'disk_total': 250685575168,\n",
       " 'disk_used': 100049543168,\n",
       " 'gpus': [],\n",
       " 'gpus_pytorch': [],\n",
       " 'gpus_tf': []}"
      ]
     },
     "execution_count": 17,
     "metadata": {},
     "output_type": "execute_result"
    }
   ],
   "source": [
    "get_stats()"
   ]
  },
  {
   "cell_type": "code",
   "execution_count": 64,
   "metadata": {},
   "outputs": [
    {
     "data": {
      "text/plain": [
       "sdiskusage(total=250685575168, used=100013637632, free=145707900928, percent=40.7)"
      ]
     },
     "execution_count": 64,
     "metadata": {},
     "output_type": "execute_result"
    }
   ],
   "source": []
  },
  {
   "cell_type": "code",
   "execution_count": 31,
   "metadata": {},
   "outputs": [
    {
     "data": {
      "text/plain": [
       "8"
      ]
     },
     "execution_count": 31,
     "metadata": {},
     "output_type": "execute_result"
    }
   ],
   "source": [
    "cpu_cnt_logicalc"
   ]
  },
  {
   "cell_type": "code",
   "execution_count": 20,
   "metadata": {},
   "outputs": [
    {
     "data": {
      "text/plain": [
       "64.3"
      ]
     },
     "execution_count": 20,
     "metadata": {},
     "output_type": "execute_result"
    }
   ],
   "source": [
    "ram.percent"
   ]
  },
  {
   "cell_type": "code",
   "execution_count": 21,
   "metadata": {},
   "outputs": [
    {
     "data": {
      "text/plain": [
       "497209344"
      ]
     },
     "execution_count": 21,
     "metadata": {},
     "output_type": "execute_result"
    }
   ],
   "source": [
    "ram.free"
   ]
  },
  {
   "cell_type": "code",
   "execution_count": 12,
   "metadata": {},
   "outputs": [
    {
     "data": {
      "text/plain": [
       "15925497856"
      ]
     },
     "execution_count": 12,
     "metadata": {},
     "output_type": "execute_result"
    }
   ],
   "source": [
    "ram.used"
   ]
  },
  {
   "cell_type": "code",
   "execution_count": 11,
   "metadata": {},
   "outputs": [
    {
     "data": {
      "text/plain": [
       "17179869184"
      ]
     },
     "execution_count": 11,
     "metadata": {},
     "output_type": "execute_result"
    }
   ],
   "source": [
    "ram.total"
   ]
  },
  {
   "cell_type": "code",
   "execution_count": 14,
   "metadata": {},
   "outputs": [
    {
     "data": {
      "text/plain": [
       "0.9269859790802002"
      ]
     },
     "execution_count": 14,
     "metadata": {},
     "output_type": "execute_result"
    }
   ],
   "source": [
    "ram.used / ram.total"
   ]
  },
  {
   "cell_type": "code",
   "execution_count": null,
   "metadata": {},
   "outputs": [],
   "source": []
  },
  {
   "cell_type": "code",
   "execution_count": null,
   "metadata": {},
   "outputs": [],
   "source": []
  },
  {
   "cell_type": "code",
   "execution_count": null,
   "metadata": {},
   "outputs": [],
   "source": []
  },
  {
   "cell_type": "code",
   "execution_count": null,
   "metadata": {},
   "outputs": [],
   "source": []
  },
  {
   "cell_type": "code",
   "execution_count": null,
   "metadata": {},
   "outputs": [],
   "source": []
  },
  {
   "cell_type": "code",
   "execution_count": null,
   "metadata": {},
   "outputs": [],
   "source": []
  },
  {
   "cell_type": "code",
   "execution_count": null,
   "metadata": {},
   "outputs": [],
   "source": []
  },
  {
   "cell_type": "code",
   "execution_count": null,
   "metadata": {},
   "outputs": [],
   "source": []
  }
 ],
 "metadata": {
  "kernelspec": {
   "display_name": "Python 3",
   "language": "python",
   "name": "python3"
  },
  "language_info": {
   "codemirror_mode": {
    "name": "ipython",
    "version": 3
   },
   "file_extension": ".py",
   "mimetype": "text/x-python",
   "name": "python",
   "nbconvert_exporter": "python",
   "pygments_lexer": "ipython3",
   "version": "3.6.1"
  }
 },
 "nbformat": 4,
 "nbformat_minor": 2
}
