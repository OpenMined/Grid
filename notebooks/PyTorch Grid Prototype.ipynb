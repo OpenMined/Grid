{
 "cells": [
  {
   "cell_type": "code",
   "execution_count": 1,
   "metadata": {},
   "outputs": [
    {
     "name": "stderr",
     "output_type": "stream",
     "text": [
      "/Users/atrask/anaconda/lib/python3.6/site-packages/h5py/__init__.py:36: FutureWarning: Conversion of the second argument of issubdtype from `float` to `np.floating` is deprecated. In future, it will be treated as `np.float64 == np.dtype(float).type`.\n",
      "  from ._conv import register_converters as _register_converters\n",
      "Using TensorFlow backend.\n"
     ]
    }
   ],
   "source": [
    "import torch\n",
    "import numpy as np\n",
    "from grid.clients.torch import TorchClient"
   ]
  },
  {
   "cell_type": "code",
   "execution_count": 2,
   "metadata": {},
   "outputs": [
    {
     "name": "stdout",
     "output_type": "stream",
     "text": [
      "\n",
      "\u001b[34mUPDATE: \u001b[0mConnecting to IPFS... this can take a few seconds...\n",
      "\n",
      "\u001b[32mSUCCESS: \u001b[0mConnected!!! - My ID: Qma5efEQtBUxDonmSDajv9dZ52axH9MNULKTgVpXWK8Ak2\n",
      "\n",
      "\u001b[34mUPDATE: \u001b[0mQuerying known workers...\n",
      "\tWORKER: /p2p-circuit/ipfs/QmQabt3SWuDvjse9z7GAcH2BGQv4wH8bumkd4x5oXN2obX...\u001b[31mFAIL!!!\u001b[0m\n",
      "\tWORKER: /p2p-circuit/ipfs/Qmaosc64H6Y29VFCFYJzJXCX9AuRp7RCsekLmajHNVEARD...\u001b[32mSUCCESS!!!\u001b[0m\n",
      "\n",
      "\u001b[34mUPDATE: \u001b[0mSearching for IPFS nodes - 38 found overall - 7 are OpenMined workers          \n",
      "\n",
      "\u001b[32mSUCCESS: \u001b[0mFound 7 OpenMined nodes!!!\n",
      "\n",
      "\u001b[90m ANCHOR - 0 - ID:VEARD  Ping:0.45sec  CPUs:1  CPU Load:0.0  Disk-util:97.7%  RAM-util:4.09%  GPUs:[]\u001b[0m\n",
      "COMPUTE - 1 - ID:i2Yjw  Ping:0.25sec  CPUs:16  CPU Load:0.9  Disk-util:68.0%  RAM-util:78.0%  GPUs:[0 : GeForce GTX 1080 Ti : 799/11171]\n",
      "COMPUTE - 2 - ID:iPADh  Ping:0.45sec  CPUs:2  CPU Load:2.0  Disk-util:2.2%  RAM-util:80.6%  GPUs:[0 : Tesla K80 : 10891/11439]\n",
      "COMPUTE - 3 - ID:K4Gbz  Ping:0.68sec  CPUs:2  CPU Load:2.1  Disk-util:2.1%  RAM-util:81.1%  GPUs:[0 : Tesla K80 : 10891/11439]\n",
      "\u001b[90mNODE    - 4 - - timeout - - QmNxbPtZu1GkXcLE5hzvYkRrcf1kRvxX8cTEPErqAkBwbx\u001b[0m\n",
      "COMPUTE - 4 - ID:GuTrf  Ping:1.09sec  CPUs:2  CPU Load:1.6  Disk-util:2.1%  RAM-util:86.8%  GPUs:[0 : Tesla K80 : 2/11439]\n",
      "COMPUTE - 5 - ID:JGr7h  Ping:0.83sec  CPUs:2  CPU Load:1.7  Disk-util:2.1%  RAM-util:86.6%  GPUs:[0 : Tesla K80 : 2/11439]\n"
     ]
    }
   ],
   "source": [
    "g = TorchClient(min_om_nodes=2)"
   ]
  },
  {
   "cell_type": "code",
   "execution_count": 3,
   "metadata": {},
   "outputs": [],
   "source": [
    "# g.refresh(False,True) # run this if you can't see a node you are expecting to see"
   ]
  },
  {
   "cell_type": "code",
   "execution_count": 5,
   "metadata": {},
   "outputs": [],
   "source": [
    "stats = g.get_stats(workers[0])"
   ]
  },
  {
   "cell_type": "code",
   "execution_count": null,
   "metadata": {},
   "outputs": [],
   "source": []
  },
  {
   "cell_type": "code",
   "execution_count": null,
   "metadata": {},
   "outputs": [],
   "source": []
  },
  {
   "cell_type": "code",
   "execution_count": 7,
   "metadata": {},
   "outputs": [],
   "source": [
    "a = torch.FloatTensor([1,2,3,4]).send('QmcrdL1WhSS7Zvm1BDN4wtSxRJPnnWx2qxQgx3kEVRTho1')"
   ]
  },
  {
   "cell_type": "code",
   "execution_count": 8,
   "metadata": {},
   "outputs": [
    {
     "data": {
      "text/plain": [
       "'QmcrdL1WhSS7Zvm1BDN4wtSxRJPnnWx2qxQgx3kEVRTho1'"
      ]
     },
     "execution_count": 8,
     "metadata": {},
     "output_type": "execute_result"
    }
   ],
   "source": [
    "a.owner"
   ]
  },
  {
   "cell_type": "code",
   "execution_count": 9,
   "metadata": {},
   "outputs": [
    {
     "data": {
      "text/plain": [
       "[ torch.FloatTensor - Location:QmcrdL1WhSS7Zvm1BDN4wtSxRJPnnWx2qxQgx3kEVRTho1 ]"
      ]
     },
     "execution_count": 9,
     "metadata": {},
     "output_type": "execute_result"
    }
   ],
   "source": [
    "a"
   ]
  },
  {
   "cell_type": "code",
   "execution_count": 10,
   "metadata": {},
   "outputs": [
    {
     "data": {
      "text/plain": [
       "\n",
       " 1\n",
       " 2\n",
       " 3\n",
       " 4\n",
       "[torch.FloatTensor of size 4]"
      ]
     },
     "execution_count": 10,
     "metadata": {},
     "output_type": "execute_result"
    }
   ],
   "source": [
    "a.get()"
   ]
  },
  {
   "cell_type": "code",
   "execution_count": 11,
   "metadata": {},
   "outputs": [
    {
     "data": {
      "text/plain": [
       "'Qma5efEQtBUxDonmSDajv9dZ52axH9MNULKTgVpXWK8Ak2'"
      ]
     },
     "execution_count": 11,
     "metadata": {},
     "output_type": "execute_result"
    }
   ],
   "source": [
    "a.owner"
   ]
  },
  {
   "cell_type": "code",
   "execution_count": 12,
   "metadata": {},
   "outputs": [
    {
     "data": {
      "text/plain": [
       "\n",
       " 1\n",
       " 2\n",
       " 3\n",
       " 4\n",
       "[torch.FloatTensor of size 4]"
      ]
     },
     "execution_count": 12,
     "metadata": {},
     "output_type": "execute_result"
    }
   ],
   "source": [
    "a"
   ]
  },
  {
   "cell_type": "code",
   "execution_count": null,
   "metadata": {},
   "outputs": [],
   "source": []
  },
  {
   "cell_type": "code",
   "execution_count": null,
   "metadata": {},
   "outputs": [],
   "source": []
  },
  {
   "cell_type": "code",
   "execution_count": null,
   "metadata": {},
   "outputs": [],
   "source": []
  },
  {
   "cell_type": "code",
   "execution_count": null,
   "metadata": {},
   "outputs": [],
   "source": []
  },
  {
   "cell_type": "code",
   "execution_count": null,
   "metadata": {},
   "outputs": [],
   "source": []
  },
  {
   "cell_type": "code",
   "execution_count": null,
   "metadata": {},
   "outputs": [],
   "source": []
  },
  {
   "cell_type": "code",
   "execution_count": null,
   "metadata": {},
   "outputs": [],
   "source": []
  }
 ],
 "metadata": {
  "kernelspec": {
   "display_name": "Python 3",
   "language": "python",
   "name": "python3"
  },
  "language_info": {
   "codemirror_mode": {
    "name": "ipython",
    "version": 3
   },
   "file_extension": ".py",
   "mimetype": "text/x-python",
   "name": "python",
   "nbconvert_exporter": "python",
   "pygments_lexer": "ipython3",
   "version": "3.6.1"
  }
 },
 "nbformat": 4,
 "nbformat_minor": 2
}
