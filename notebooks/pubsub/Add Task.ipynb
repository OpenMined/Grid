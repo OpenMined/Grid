{
 "cells": [
  {
   "cell_type": "code",
   "execution_count": 1,
   "metadata": {},
   "outputs": [
    {
     "name": "stderr",
     "output_type": "stream",
     "text": [
      "Using TensorFlow backend.\n"
     ]
    },
    {
     "name": "stdout",
     "output_type": "stream",
     "text": [
      "\u001b[37m\u001b[40m TASKS \u001b[0m\n",
      "From\t\t\t\tName\t\t\t\tAddress\n",
      "==================================================================\n",
      "QmQf3mhWWHgCv26gkPPjhT4BjipgNZARSFWtpC5GoZ25kc\tother task 2\tQmRBfJ6ARLSG3Xs3G5fooBoNRpBYvj58jZ5V5ShLfYQ1qA\n"
     ]
    }
   ],
   "source": [
    "from grid.pubsub.client import Client\n",
    "\n",
    "client = Client()\n",
    "client.find_tasks()"
   ]
  },
  {
   "cell_type": "code",
   "execution_count": 2,
   "metadata": {},
   "outputs": [],
   "source": [
    "from keras import Sequential\n",
    "from keras.layers import Dense\n",
    "from keras.optimizers import SGD\n",
    "\n",
    "model = Sequential()\n",
    "\n",
    "model.add(Dense(16, activation='relu', input_shape=(784,)))\n",
    "model.add(Dense(10, activation='softmax'))\n",
    "\n",
    "model.compile(loss='categorical_crossentropy',\n",
    "              optimizer=SGD(),\n",
    "              metrics=['accuracy'])"
   ]
  },
  {
   "cell_type": "code",
   "execution_count": 4,
   "metadata": {},
   "outputs": [
    {
     "name": "stdout",
     "output_type": "stream",
     "text": [
      "model_addr .... QmQQcpVsw3HhYs3gWD6otTND12oehyVpC4pYDTfSf4Q2Cx\n",
      "UPDATE! {'model': 'QmQQcpVsw3HhYs3gWD6otTND12oehyVpC4pYDTfSf4Q2Cx', 'parent': 'QmRBfJ6ARLSG3Xs3G5fooBoNRpBYvj58jZ5V5ShLfYQ1qA'}\n"
     ]
    }
   ],
   "source": [
    "client.add_model('other task 2', 'QmRBfJ6ARLSG3Xs3G5fooBoNRpBYvj58jZ5V5ShLfYQ1qA', model)"
   ]
  },
  {
   "cell_type": "code",
   "execution_count": null,
   "metadata": {
    "collapsed": true
   },
   "outputs": [],
   "source": []
  }
 ],
 "metadata": {
  "kernelspec": {
   "display_name": "Python 3",
   "language": "python",
   "name": "python3"
  },
  "language_info": {
   "codemirror_mode": {
    "name": "ipython",
    "version": 3
   },
   "file_extension": ".py",
   "mimetype": "text/x-python",
   "name": "python",
   "nbconvert_exporter": "python",
   "pygments_lexer": "ipython3",
   "version": "3.6.3"
  }
 },
 "nbformat": 4,
 "nbformat_minor": 2
}
