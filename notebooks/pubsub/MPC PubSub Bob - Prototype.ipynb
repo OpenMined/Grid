{
 "cells": [
  {
   "cell_type": "markdown",
   "metadata": {},
   "source": [
    "# Instructions\n",
    "\n",
    "This notebook is a prototype initial implementation of an MPC Tensor over IPFS's pubsub sockets. Run the Alice notebook first to start a server (which should be in the same folder as this one).\n",
    "\n",
    "- installed IPFS (https://ipfs.io/docs/install/)\n",
    "- run the command `ipfs daemon --enable-pubsub-experiment`\n",
    "- run `python3 setup.py install` from the root directory of the OpenMined/Grid project (this project)\n",
    "\n",
    "Then you're ready to run this notebook!"
   ]
  },
  {
   "cell_type": "code",
   "execution_count": 227,
   "metadata": {},
   "outputs": [],
   "source": [
    "from grid import ipfsapi\n",
    "import base64\n",
    "import random\n",
    "import torch\n",
    "import keras\n",
    "import json\n",
    "from keras.models import Sequential\n",
    "from keras.layers.core import Dense, Dropout, Activation\n",
    "from keras.optimizers import SGD\n",
    "import numpy as np \n",
    "from grid.grid import Grid"
   ]
  },
  {
   "cell_type": "code",
   "execution_count": 441,
   "metadata": {},
   "outputs": [],
   "source": [
    "BASE = 10\n",
    "KAPPA = 9 # ~29 bits\n",
    "\n",
    "PRECISION_INTEGRAL = 2\n",
    "PRECISION_FRACTIONAL = 7\n",
    "PRECISION = PRECISION_INTEGRAL + PRECISION_FRACTIONAL\n",
    "BOUND = BASE**PRECISION\n",
    "\n",
    "# Q field\n",
    "Q = 6497992661811505123# < 64 bits\n",
    "Q_MAXDEGREE = 2\n",
    "assert Q > BASE**(PRECISION * Q_MAXDEGREE) # supported multiplication degree (without truncation)\n",
    "assert Q > 2*BOUND * BASE**KAPPA # supported kappa when in positive range \n",
    "\n",
    "# P field\n",
    "P = 1802216888453791673313287943102424579859887305661122324585863735744776691801009887 # < 270 bits\n",
    "P_MAXDEGREE = 9\n",
    "assert P > Q\n",
    "assert P > BASE**(PRECISION * P_MAXDEGREE)\n",
    "\n",
    "class MPCTensor(object):\n",
    "    \n",
    "    def __init__(self,grid,json_str=None,value=None,public=None,private=None,share=None,field=Q,id=None,channel=None):\n",
    "        \n",
    "        if(json_str is None):\n",
    "            if(value is not None or private is not None):\n",
    "                self.is_owner = True\n",
    "            else:\n",
    "                self.is_owner = False\n",
    "\n",
    "            self._share = share\n",
    "            self.field = field\n",
    "            self.value = value\n",
    "            self.grid = grid\n",
    "            self.precision_fractional=PRECISION_FRACTIONAL\n",
    "\n",
    "            if(id is None):\n",
    "                id = str(random.randint(0,1000000))\n",
    "                \n",
    "            self.channel = channel\n",
    "\n",
    "            self.id = str(id)\n",
    "        else:\n",
    "            self.deserialize(json_str)\n",
    "            self.channel = channel\n",
    "    \n",
    "    def serialize(self):\n",
    "        \n",
    "        d = {}\n",
    "        if(self.value is not None):\n",
    "            d['v'] = self.value.tolist()\n",
    "        if(self._share is not None):\n",
    "            d['_share'] = self._share.tolist()\n",
    "        \n",
    "        d['id'] = self.id\n",
    "        d['f'] = self.field\n",
    "        d['p'] = self.precision_fractional\n",
    "        d['o'] = self.is_owner\n",
    "        \n",
    "        return json.dumps(d)\n",
    "    \n",
    "    def __str__(self):\n",
    "        return self.serialize()\n",
    "    \n",
    "    def deserialize(self,json_encoding):\n",
    "        \n",
    "        d = json.loads(json_encoding)\n",
    "        keys = d.keys()\n",
    "        \n",
    "        if('v' in keys):\n",
    "            self.value = np.array(d['v'],dtype='object')\n",
    "        else:\n",
    "            self.value = None\n",
    "            \n",
    "        if('_share' in keys):\n",
    "            self._share = np.array(d['_share'],dtype='object')\n",
    "        else:\n",
    "            self._share = None\n",
    "        \n",
    "        self.id = d['id']\n",
    "        self.field = d['f']\n",
    "        self.precision_fractional = d['p']\n",
    "        self.is_owner = d['o']\n",
    "        \n",
    "    def value2encoded_(self):\n",
    "        upscaled = (self.value * BASE**self.precision_fractional).astype('object')\n",
    "        field_elements = upscaled % self.field\n",
    "        self.encoded_value = field_elements\n",
    "        return self.encoded_value\n",
    "    \n",
    "    def encoded2value_(self):\n",
    "        mask = (self.encoded_value <= self.field/2).astype('object')\n",
    "        \n",
    "        true_value = self.encoded_value\n",
    "        false_value = self.encoded_value - self.field\n",
    "        \n",
    "        upscaled = (mask * true_value) + ((1 - mask) * false_value)\n",
    "        rational = upscaled / BASE**self.precision_fractional\n",
    "        return rational\n",
    "    \n",
    "    def encoded2shares_(self):\n",
    "        \n",
    "        public = (np.random.rand(*self.value.shape) * self.field).astype('object')\n",
    "        private = ((self.encoded_value - public) % self.field).astype('object')\n",
    "        \n",
    "        self._share = private\n",
    "        self.share_is_private = True\n",
    "        \n",
    "        return (public,private)\n",
    "    \n",
    "    def shares2encoded_(self,shares):\n",
    "        self.encoded_value = (shares[0] + shares[1]) % Q\n",
    "        return self.encoded_value\n",
    "    \n",
    "    def value2shares(self):\n",
    "        self.value2encoded_()\n",
    "        return self.encoded2shares_()\n",
    "    \n",
    "    def shares2value(self,shares):\n",
    "        self.shares2encoded_(shares)\n",
    "        self.value = self.encoded2value_()\n",
    "        return self.value\n",
    "    \n",
    "    def __add__(self,y,publish=True,z_id=None):\n",
    "        \n",
    "        if(z_id is None):\n",
    "            z_id = np.random.randint(0,10000000)\n",
    "        \n",
    "        if(publish):\n",
    "            command = {}\n",
    "            command['cmd'] = 'add_elem'\n",
    "            command['x'] = self.id\n",
    "            command['y'] = y.id\n",
    "            command['z'] = z_id\n",
    "            grid.api.pubsub_pub(topic=self.channel,payload=json.dumps(command))\n",
    "\n",
    "        \n",
    "        new_share = (self._share + y._share) % (self.field * DIV_DEPTH)\n",
    "            \n",
    "        return MPCTensor(grid,share=new_share,id=z_id,channel=self.channel)\n",
    "    \n",
    "    def __mul__(self,y,publish=True,z_id=None):\n",
    "        \n",
    "        y = int(y)\n",
    "        \n",
    "        if(y >= 1):\n",
    "\n",
    "            if(z_id is None):\n",
    "                z_id = np.random.randint(0,10000000)\n",
    "\n",
    "            if(publish):\n",
    "                command = {}\n",
    "                command['cmd'] = 'mult_scalar'\n",
    "                command['x'] = self.id\n",
    "                command['y'] = y\n",
    "                command['z'] = z_id\n",
    "                grid.api.pubsub_pub(topic=self.channel,payload=json.dumps(command))\n",
    "\n",
    "            new_share = ((self._share * y).astype('object') % self.field).astype('object')\n",
    "\n",
    "            return MPCTensor(grid,share=new_share,id=z_id,channel=self.channel,field=self.field)\n",
    "        else:\n",
    "            print(\"Cannot divide yet\")\n",
    "    \n",
    "    def __sub__(self,y):\n",
    "        if(self.is_owner and not y.is_owner):\n",
    "            new_share = (self.private - y.public) % self.field\n",
    "        elif(y.is_owner and not self.is_owner):\n",
    "            new_share = (self.public - y.private) % self.field\n",
    "        elif(not self.is_owner and not y.is_owner):\n",
    "            new_share = (self.public - y.public) % self.field\n",
    "        else:\n",
    "            new_share = (self.private - y.private) % self.field\n",
    "            \n",
    "        return MPCTensor(grid,private=new_share)\n",
    "        \n",
    "    def reconstruct(self):\n",
    "\n",
    "        def send_request():\n",
    "            command = {}\n",
    "            command['cmd'] = \"send_tensor\"\n",
    "            command['id'] = str(self.id)\n",
    "\n",
    "            grid.api.pubsub_pub(topic=self.channel,payload=json.dumps(command))\n",
    "\n",
    "        def receive_tensor(message):\n",
    "            command = json.loads(message['data'])\n",
    "            if(command['cmd'] == 'receive_tensor'):\n",
    "                tensor = MPCTensor(grid,json_str=command['data'],channel=self.channel)\n",
    "                if(int(tensor.id) == int(self.id)):\n",
    "                    return tensor\n",
    "\n",
    "        y = grid.listen_to_channel(channel=self.channel,handle_message=receive_tensor,init_function=send_request,ignore_from_self=False)\n",
    "        \n",
    "        \n",
    "        self.shares2value([y._share,self._share])\n",
    "        return self\n",
    "  \n",
    "    def share(self,alice):\n",
    "        \n",
    "        self.channel = alice.channel\n",
    "        \n",
    "        public,private = self.value2shares()\n",
    "        public_tensor = MPCTensor(self.grid,share=public,id=self.id)\n",
    "        self._share = private\n",
    "        \n",
    "        command = {}\n",
    "        command['cmd'] = 'receive_tensor_share'\n",
    "        command['data'] = str(public_tensor)\n",
    "\n",
    "        grid.api.pubsub_pub(topic=alice.channel,payload=json.dumps(command))\n",
    "        \n",
    "        return self\n",
    "        \n",
    "        \n",
    "class MPCGrid(object):\n",
    "    \n",
    "    def __init__(self,grid,channel):\n",
    "        \n",
    "        self._tensors = {}\n",
    "        self.grid = grid\n",
    "        self.channel = channel\n",
    "        \n",
    "    def process_message(self,msg):\n",
    "\n",
    "        command = json.loads(msg['data'])\n",
    "\n",
    "        if('cmd' in command.keys()):\n",
    "\n",
    "            if(command['cmd'] == \"receive_tensor_share\"):\n",
    "                tensor = MPCTensor(self.grid,json_str=command[\"data\"],channel=self.channel)\n",
    "                if(tensor.id not in self._tensors.keys()):\n",
    "                    self._tensors[tensor.id] = tensor\n",
    "                    print(\"Received Tensor:\" + str(tensor.id))\n",
    "                else:\n",
    "                    print(\"Ignoring Tensor: \" + str(tensor.id) + \" because I seem to already have a tensor with the same name.\" )\n",
    "                \n",
    "            if(command['cmd'] == \"send_tensor_share\"):\n",
    "                \n",
    "                tensor_to_share = self._tensors[command['id']]\n",
    "                tensor_to_share.share(self)\n",
    "\n",
    "            elif(command['cmd'] == 'add_elem'):\n",
    "                print(\"Adding \" + str(command['x']) + \" + \" + str(command['y']) + \"-> \" + str(command['z']))\n",
    "\n",
    "                z = self._tensors[command['x']].__add__(self._tensors[command['y']],False,z_id=command['z'])\n",
    "\n",
    "                self._tensors[z.id] = z\n",
    "                \n",
    "            elif(command['cmd'] == 'mult_scalar'):\n",
    "                print(\"Multiplying \" + str(command['x']) + \" * \" + str(command['y']) + \"-> \" + str(command['z']))\n",
    "\n",
    "                z = self._tensors[command['x']].__mul__(float(command['y']),False,z_id=command['z'])\n",
    "\n",
    "                self._tensors[z.id] = z\n",
    "\n",
    "            elif(command['cmd'] == \"send_tensor\"):\n",
    "\n",
    "                tensor_to_send = str(self._tensors[command['id']])\n",
    "\n",
    "                command = {}\n",
    "                command['cmd'] = 'receive_tensor'\n",
    "                command['data'] = tensor_to_send\n",
    "\n",
    "                grid.api.pubsub_pub(topic=self.channel,payload=json.dumps(command))\n",
    "\n",
    "                \n",
    "            elif(command['cmd'] == \"what_tensors_are_available\"):\n",
    "                \n",
    "                command = {}\n",
    "                command['cmd'] = \"available_tensors\"\n",
    "                \n",
    "                available_tensors = list()\n",
    "                for k,v in self._tensors.items():\n",
    "                    if(v.value is not None):\n",
    "                        available_tensors.append([k,v.value.shape])\n",
    "                    elif(v._share is not None):\n",
    "                        available_tensors.append([k,v._share.shape])\n",
    "                \n",
    "                command['available_tensors'] = available_tensors\n",
    "                \n",
    "                grid.api.pubsub_pub(topic=self.channel,payload=json.dumps(command))\n",
    "                \n",
    "    def work(self):\n",
    "        self.grid.listen_to_channel(channel=self.channel,handle_message=self.process_message,ignore_from_self=False)\n",
    "        \n",
    "    def available_tensors(self):\n",
    "        \n",
    "        def send_request():\n",
    "            command = {}\n",
    "            command['cmd'] = \"what_tensors_are_available\"\n",
    "\n",
    "            grid.api.pubsub_pub(topic=self.channel,payload=json.dumps(command))\n",
    "\n",
    "        def receive_tensor(message):\n",
    "            command = json.loads(message['data'])\n",
    "            if(command['cmd'] == 'available_tensors'):\n",
    "                return command['available_tensors']\n",
    "        available_tensors = grid.listen_to_channel(channel=self.channel,handle_message=receive_tensor,init_function=send_request,ignore_from_self=False)\n",
    "        return available_tensors\n",
    "    \n",
    "    def get_tensor_share(self,id):\n",
    "        \n",
    "        def send_request():\n",
    "            command = {}\n",
    "            command['cmd'] = \"send_tensor_share\"\n",
    "            command['id'] = str(id)\n",
    "\n",
    "            grid.api.pubsub_pub(topic=self.channel,payload=json.dumps(command))\n",
    "\n",
    "        def receive_tensor(message):\n",
    "            command = json.loads(message['data'])\n",
    "            if(command['cmd'] == 'receive_tensor_share'):\n",
    "                tensor = MPCTensor(grid,json_str=command['data'],channel=self.channel)\n",
    "                if(str(tensor.id) == str(id)):\n",
    "                    return tensor\n",
    "\n",
    "        return grid.listen_to_channel(channel=self.channel,handle_message=receive_tensor,init_function=send_request,ignore_from_self=False)\n",
    "\n",
    "    \n",
    "    def get_tensor(self,id):\n",
    "        \n",
    "        def send_request():\n",
    "            command = {}\n",
    "            command['cmd'] = \"send_tensor\"\n",
    "            command['id'] = str(id)\n",
    "\n",
    "            grid.api.pubsub_pub(topic=self.channel,payload=json.dumps(command))\n",
    "\n",
    "        def receive_tensor(message):\n",
    "            command = json.loads(message['data'])\n",
    "            if(command['cmd'] == 'receive_tensor'):\n",
    "                tensor = MPCTensor(grid,json_str=command['data'],channel=self.channel)\n",
    "                if(str(tensor.id) == str(id)):\n",
    "                    return tensor\n",
    "\n",
    "        return grid.listen_to_channel(channel=self.channel,handle_message=receive_tensor,init_function=send_request,ignore_from_self=False)\n",
    "\n",
    "    def tensors(self):\n",
    "        return self.available_tensors()\n",
    "    \n",
    "    def __repr__(self):\n",
    "        tens = self.tensors()\n",
    "        if(len(tens) < 10):\n",
    "            s = \"MPC Grid with Tensors:\\n\"\n",
    "            for t in tens:\n",
    "                s += \"\\t\" + str(t) +\"\\n\"\n",
    "            return s\n",
    "        return \"< MPCGrid tensors:\" + str(len(tens)) + \" >\"\n",
    "    \n",
    "    def __getitem__(self,id):\n",
    "        return self.get_tensor_share(id)"
   ]
  },
  {
   "cell_type": "code",
   "execution_count": 442,
   "metadata": {},
   "outputs": [
    {
     "data": {
      "text/plain": [
       "'Qma5efEQtBUxDonmSDajv9dZ52axH9MNULKTgVpXWK8Ak2'"
      ]
     },
     "execution_count": 442,
     "metadata": {},
     "output_type": "execute_result"
    }
   ],
   "source": [
    "grid = Grid()\n",
    "grid.id"
   ]
  },
  {
   "cell_type": "code",
   "execution_count": 443,
   "metadata": {
    "collapsed": true
   },
   "outputs": [],
   "source": [
    "alice = MPCGrid(grid,channel='bob <-> alice')"
   ]
  },
  {
   "cell_type": "code",
   "execution_count": 444,
   "metadata": {},
   "outputs": [
    {
     "data": {
      "text/plain": [
       "array([[ 0.71562871,  0.38243788,  0.61364252],\n",
       "       [ 0.71547048,  0.77317717,  0.39275482],\n",
       "       [ 0.22156455,  0.15446863,  0.12883901]])"
      ]
     },
     "execution_count": 444,
     "metadata": {},
     "output_type": "execute_result"
    }
   ],
   "source": [
    "x = MPCTensor(grid,value=np.random.rand(3,3)).share(alice)\n",
    "x.value"
   ]
  },
  {
   "cell_type": "code",
   "execution_count": 445,
   "metadata": {},
   "outputs": [],
   "source": [
    "y = x * 3"
   ]
  },
  {
   "cell_type": "code",
   "execution_count": 446,
   "metadata": {},
   "outputs": [],
   "source": [
    "z = y * 2"
   ]
  },
  {
   "cell_type": "code",
   "execution_count": 447,
   "metadata": {},
   "outputs": [
    {
     "data": {
      "text/plain": [
       "array([[2.1471232, 1.1472896, 1.8408448],\n",
       "       [2.146304, 2.3192576, 1.1783168],\n",
       "       [0.6647808, 0.4634624, 0.3863552]], dtype=object)"
      ]
     },
     "execution_count": 447,
     "metadata": {},
     "output_type": "execute_result"
    }
   ],
   "source": [
    "y.reconstruct()\n",
    "y.value"
   ]
  },
  {
   "cell_type": "code",
   "execution_count": 448,
   "metadata": {},
   "outputs": [
    {
     "data": {
      "text/plain": [
       "<__main__.MPCTensor at 0x1a1bdc64a8>"
      ]
     },
     "execution_count": 448,
     "metadata": {},
     "output_type": "execute_result"
    }
   ],
   "source": [
    "z.reconstruct()"
   ]
  },
  {
   "cell_type": "code",
   "execution_count": 449,
   "metadata": {},
   "outputs": [
    {
     "data": {
      "text/plain": [
       "array([[4.2942464, 2.2946816, 3.6816896],\n",
       "       [4.292608, 4.6385152, 2.3566336],\n",
       "       [1.3295616, 0.9269248, 0.7727104]], dtype=object)"
      ]
     },
     "execution_count": 449,
     "metadata": {},
     "output_type": "execute_result"
    }
   ],
   "source": [
    "z.value"
   ]
  },
  {
   "cell_type": "code",
   "execution_count": 450,
   "metadata": {},
   "outputs": [
    {
     "data": {
      "text/plain": [
       "MPC Grid with Tensors:\n",
       "\t['xor_input', [4, 2]]\n",
       "\t['xor_output', [4]]\n",
       "\t['235769', [3, 3]]\n",
       "\t['1194836', [3, 3]]\n",
       "\t['1732279', [3, 3]]"
      ]
     },
     "execution_count": 450,
     "metadata": {},
     "output_type": "execute_result"
    }
   ],
   "source": [
    "alice"
   ]
  },
  {
   "cell_type": "code",
   "execution_count": 451,
   "metadata": {},
   "outputs": [],
   "source": [
    "a = MPCTensor(grid,value=np.random.rand(4,2)).share(alice)"
   ]
  },
  {
   "cell_type": "code",
   "execution_count": 452,
   "metadata": {},
   "outputs": [],
   "source": [
    "b = alice['xor_input'] + a"
   ]
  },
  {
   "cell_type": "code",
   "execution_count": 453,
   "metadata": {},
   "outputs": [
    {
     "data": {
      "text/plain": [
       "<__main__.MPCTensor at 0x1a1bd6ab38>"
      ]
     },
     "execution_count": 453,
     "metadata": {},
     "output_type": "execute_result"
    }
   ],
   "source": [
    "b.reconstruct()"
   ]
  },
  {
   "cell_type": "code",
   "execution_count": 454,
   "metadata": {
    "scrolled": true
   },
   "outputs": [
    {
     "data": {
      "text/plain": [
       "array([[0.804864, 0.6019072],\n",
       "       [0.4882432, 1.3928448],\n",
       "       [1.9214336, 0.8503296],\n",
       "       [1.8274304, 1.9902464]], dtype=object)"
      ]
     },
     "execution_count": 454,
     "metadata": {},
     "output_type": "execute_result"
    }
   ],
   "source": [
    "b.value"
   ]
  },
  {
   "cell_type": "code",
   "execution_count": 455,
   "metadata": {
    "scrolled": true
   },
   "outputs": [
    {
     "data": {
      "text/plain": [
       "array([[ 0.80484031,  0.60175367],\n",
       "       [ 0.48812311,  0.39291783],\n",
       "       [ 0.92140337,  0.85031995],\n",
       "       [ 0.82741562,  0.99007357]])"
      ]
     },
     "execution_count": 455,
     "metadata": {},
     "output_type": "execute_result"
    }
   ],
   "source": [
    "a.value"
   ]
  },
  {
   "cell_type": "code",
   "execution_count": null,
   "metadata": {
    "collapsed": true
   },
   "outputs": [],
   "source": []
  },
  {
   "cell_type": "code",
   "execution_count": 456,
   "metadata": {
    "collapsed": true
   },
   "outputs": [],
   "source": [
    "x = MPCTensor(grid,value=np.random.rand(3,3))\n",
    "y = MPCTensor(grid,value=np.random.rand(3,3))"
   ]
  },
  {
   "cell_type": "code",
   "execution_count": 457,
   "metadata": {},
   "outputs": [
    {
     "data": {
      "text/plain": [
       "<__main__.MPCTensor at 0x1a1bdf7080>"
      ]
     },
     "execution_count": 457,
     "metadata": {},
     "output_type": "execute_result"
    }
   ],
   "source": [
    "x.share(alice)\n",
    "y.share(alice)"
   ]
  },
  {
   "cell_type": "code",
   "execution_count": 458,
   "metadata": {},
   "outputs": [],
   "source": [
    "z = x + y"
   ]
  },
  {
   "cell_type": "code",
   "execution_count": 459,
   "metadata": {
    "scrolled": true
   },
   "outputs": [
    {
     "data": {
      "text/plain": [
       "array([[1.2230656, 1.1794432, 1.148928],\n",
       "       [0.7968768, 0.9162752, 0.7938048],\n",
       "       [0.6592512, 1.50016, 0.6889472]], dtype=object)"
      ]
     },
     "execution_count": 459,
     "metadata": {},
     "output_type": "execute_result"
    }
   ],
   "source": [
    "z.reconstruct().value"
   ]
  },
  {
   "cell_type": "code",
   "execution_count": 460,
   "metadata": {},
   "outputs": [
    {
     "data": {
      "text/plain": [
       "array([[ 1.22309238,  1.17944214,  1.1489424 ],\n",
       "       [ 0.79693497,  0.91642486,  0.79380012],\n",
       "       [ 0.65930805,  1.50011615,  0.68887243]])"
      ]
     },
     "execution_count": 460,
     "metadata": {},
     "output_type": "execute_result"
    }
   ],
   "source": [
    "x.value + y.value"
   ]
  },
  {
   "cell_type": "code",
   "execution_count": null,
   "metadata": {
    "collapsed": true
   },
   "outputs": [],
   "source": []
  },
  {
   "cell_type": "code",
   "execution_count": null,
   "metadata": {
    "collapsed": true
   },
   "outputs": [],
   "source": []
  },
  {
   "cell_type": "code",
   "execution_count": null,
   "metadata": {
    "collapsed": true
   },
   "outputs": [],
   "source": []
  }
 ],
 "metadata": {
  "kernelspec": {
   "display_name": "Python 3",
   "language": "python",
   "name": "python3"
  },
  "language_info": {
   "codemirror_mode": {
    "name": "ipython",
    "version": 3
   },
   "file_extension": ".py",
   "mimetype": "text/x-python",
   "name": "python",
   "nbconvert_exporter": "python",
   "pygments_lexer": "ipython3",
   "version": "3.6.1"
  }
 },
 "nbformat": 4,
 "nbformat_minor": 2
}
