{
 "cells": [
  {
   "cell_type": "code",
   "execution_count": 1,
   "metadata": {},
   "outputs": [
    {
     "name": "stderr",
     "output_type": "stream",
     "text": [
      "/anaconda3/lib/python3.6/site-packages/h5py/__init__.py:36: FutureWarning: Conversion of the second argument of issubdtype from `float` to `np.floating` is deprecated. In future, it will be treated as `np.float64 == np.dtype(float).type`.\n",
      "  from ._conv import register_converters as _register_converters\n",
      "Using TensorFlow backend.\n"
     ]
    },
    {
     "name": "stdout",
     "output_type": "stream",
     "text": [
      "\n",
      "\u001b[34mUPDATE: \u001b[0mConnecting to IPFS... this can take a few seconds...\n",
      "\n",
      "\u001b[32mSUCCESS: \u001b[0mConnected!!!\n",
      "SUBSCRIBING TO openmined:list_workers\n",
      "\n",
      "\u001b[34mUPDATE: \u001b[0mQuerying known workers...\n",
      "\tWORKER: /p2p-circuit/ipfs/Qmaosc64H6Y29VFCFYJzJXCX9AuRp7RCsekLmajHNVEARD...\u001b[32mSUCCESS!!!\u001b[0m\n",
      "\tWORKER: /p2p-circuit/ipfs/QmQabt3SWuDvjse9z7GAcH2BGQv4wH8bumkd4x5oXN2obX...\u001b[32mSUCCESS!!!\u001b[0m\n",
      "SUBSCRIBING TO openmined:list_workers:QmQf3mhWWHgCv26gkPPjhT4BjipgNZARSFWtpC5GoZ25kc\n",
      "\n",
      "Failed to reconnect in the opposite direciton to:/p2p-circuit/ipfs/QmQf3mhWWHgCv26gkPPjhT4BjipgNZARSFWtpC5GoZ25kc\n",
      "\r",
      "\u001b[34mUPDATE: \u001b[0mSearching for IPFS nodes - 95 found overall - 7 are OpenMined workers          \n",
      "\n",
      "\u001b[32mSUCCESS: \u001b[0mFound 7 OpenMined nodes!!!\n",
      "\n"
     ]
    }
   ],
   "source": [
    "import numpy as np\n",
    "import keras, grid\n",
    "from keras.models import Sequential\n",
    "from keras.layers.core import Dense, Dropout, Activation\n",
    "from keras.optimizers import SGD\n",
    "from grid.clients.keras import KerasClient\n",
    "import grid.lib.coinbase_helper as helper\n",
    "\n",
    "g = KerasClient()"
   ]
  },
  {
   "cell_type": "code",
   "execution_count": 2,
   "metadata": {},
   "outputs": [],
   "source": [
    "g.set_coinbase_api(\"wVlocOgNsl0PzKXX\", \"ejiJ1nFRIyR9zKOtTmbJ0o1KxbGdkawR\")"
   ]
  },
  {
   "cell_type": "code",
   "execution_count": 3,
   "metadata": {},
   "outputs": [
    {
     "name": "stdout",
     "output_type": "stream",
     "text": [
      "PREFERRED NODE:QmSCXtNJGfQD6dkYWinDu6jjAcetqg8Je4uAbtShPHfPQS\n",
      "SUBSCRIBING TO openmined_train_QmcAbS198fZovMnYtkYACmade8YRML1SbSczYmyMUcafDM\n",
      "Worker:HfPQS - Epoch 0 of 20 - Valid Loss: 0.800960\n",
      "Worker:HfPQS - Epoch 1 of 20 - Valid Loss: 0.772829\n",
      "Worker:HfPQS - Epoch 2 of 20 - Valid Loss: 0.760322\n",
      "Worker:HfPQS - Epoch 3 of 20 - Valid Loss: 0.751522\n",
      "Worker:HfPQS - Epoch 4 of 20 - Valid Loss: 0.745001\n",
      "Worker:HfPQS - Epoch 5 of 20 - Valid Loss: 0.740844\n",
      "Worker:HfPQS - Epoch 6 of 20 - Valid Loss: 0.733325\n",
      "Worker:HfPQS - Epoch 7 of 20 - Valid Loss: 0.732130\n",
      "Worker:HfPQS - Epoch 8 of 20 - Valid Loss: 0.725613\n",
      "Worker:HfPQS - Epoch 9 of 20 - Valid Loss: 0.722406\n",
      "Worker:HfPQS - Epoch 10 of 20 - Valid Loss: 0.721303\n",
      "Worker:HfPQS - Epoch 11 of 20 - Valid Loss: 0.720469\n",
      "Worker:HfPQS - Epoch 12 of 20 - Valid Loss: 0.714781\n",
      "Worker:HfPQS - Epoch 13 of 20 - Valid Loss: 0.712709\n",
      "Worker:HfPQS - Epoch 14 of 20 - Valid Loss: 0.706776\n",
      "Worker:HfPQS - Epoch 15 of 20 - Valid Loss: 0.706587\n",
      "Worker:HfPQS - Epoch 16 of 20 - Valid Loss: 0.701078\n",
      "Worker:HfPQS - Epoch 17 of 20 - Valid Loss: 0.700395\n",
      "Worker:HfPQS - Epoch 18 of 20 - Valid Loss: 0.693480\n",
      "Worker:HfPQS - Epoch 19 of 20 - Valid Loss: 0.691071\n",
      "\n",
      "\u001b[34mUPDATE: \u001b[0mConnecting to IPFS... this can take a few seconds...\n",
      "\n",
      "\u001b[32mSUCCESS: \u001b[0mConnected!!!\n",
      "1.4558366084898078e-07\n",
      "1.4558366084898078e-07\n",
      "{\n",
      "  \"amount\": {\n",
      "    \"amount\": \"-0.00000100\",\n",
      "    \"currency\": \"ETH\"\n",
      "  },\n",
      "  \"created_at\": \"2018-03-01T15:55:33Z\",\n",
      "  \"description\": null,\n",
      "  \"details\": {\n",
      "    \"subtitle\": \"To Ben DeCoste\",\n",
      "    \"title\": \"Sent Ethereum\"\n",
      "  },\n",
      "  \"id\": \"5c64fee5-adc3-533f-95c8-377a56716dcc\",\n",
      "  \"instant_exchange\": false,\n",
      "  \"native_amount\": {\n",
      "    \"amount\": \"0.00\",\n",
      "    \"currency\": \"CAD\"\n",
      "  },\n",
      "  \"network\": {\n",
      "    \"status\": \"off_blockchain\"\n",
      "  },\n",
      "  \"resource\": \"transaction\",\n",
      "  \"resource_path\": \"/v2/accounts/90f6b38c-fce3-5c45-9716-336964ca53fd/transactions/5c64fee5-adc3-533f-95c8-377a56716dcc\",\n",
      "  \"status\": \"completed\",\n",
      "  \"to\": {\n",
      "    \"currency\": \"ETH\",\n",
      "    \"id\": \"7a9a6d7c-562b-5346-9c8c-3fc2884e5791\",\n",
      "    \"resource\": \"user\",\n",
      "    \"resource_path\": \"/v2/users/7a9a6d7c-562b-5346-9c8c-3fc2884e5791\"\n",
      "  },\n",
      "  \"type\": \"send\",\n",
      "  \"updated_at\": \"2018-03-01T15:55:33Z\"\n",
      "}\n",
      "\n",
      "\u001b[34mUPDATE: \u001b[0mConnecting to IPFS... this can take a few seconds...\n",
      "\n",
      "\u001b[32mSUCCESS: \u001b[0mConnected!!!\n"
     ]
    }
   ],
   "source": [
    "input = np.array([[0,0],[0,1],[1,0],[1,1]])\n",
    "target = np.array([[0],[1],[1],[0]])\n",
    "\n",
    "model = Sequential()\n",
    "model.add(Dense(8, input_dim=2))\n",
    "model.add(Activation('tanh'))\n",
    "model.add(Dense(1))\n",
    "model.add(Activation('sigmoid'))\n",
    "\n",
    "sgd = SGD(lr=0.1)\n",
    "model.compile(loss='binary_crossentropy', optimizer=sgd)\n",
    "\n",
    "model, train_spec = g.fit(model,input,target,epochs=20,log_interval=100,preferred_node='QmSCXtNJGfQD6dkYWinDu6jjAcetqg8Je4uAbtShPHfPQS')"
   ]
  },
  {
   "cell_type": "code",
   "execution_count": null,
   "metadata": {},
   "outputs": [],
   "source": []
  }
 ],
 "metadata": {
  "kernelspec": {
   "display_name": "Python 3",
   "language": "python",
   "name": "python3"
  },
  "language_info": {
   "codemirror_mode": {
    "name": "ipython",
    "version": 3
   },
   "file_extension": ".py",
   "mimetype": "text/x-python",
   "name": "python",
   "nbconvert_exporter": "python",
   "pygments_lexer": "ipython3",
   "version": "3.6.3"
  }
 },
 "nbformat": 4,
 "nbformat_minor": 2
}
