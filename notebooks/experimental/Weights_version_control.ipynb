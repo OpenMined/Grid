{
 "cells": [
  {
   "cell_type": "markdown",
   "metadata": {},
   "source": [
    "# Weights Version Control"
   ]
  },
  {
   "cell_type": "code",
   "execution_count": 1,
   "metadata": {
    "collapsed": false
   },
   "outputs": [
    {
     "name": "stderr",
     "output_type": "stream",
     "text": [
      "/Users/yanndupis/anaconda2/envs/openmined2/lib/python3.6/site-packages/h5py/__init__.py:36: FutureWarning: Conversion of the second argument of issubdtype from `float` to `np.floating` is deprecated. In future, it will be treated as `np.float64 == np.dtype(float).type`.\n",
      "  from ._conv import register_converters as _register_converters\n",
      "Using TensorFlow backend.\n"
     ]
    }
   ],
   "source": [
    "from grid.ipfsapi.client import Client\n",
    "import numpy as np\n",
    "import pickle\n",
    "client = Client()"
   ]
  },
  {
   "cell_type": "markdown",
   "metadata": {},
   "source": [
    "This notebook illustrate version control of the weights with VersionTreeNode api.\n",
    "- First we split the MNIST data in three parts.\n",
    "- We train the model on each part. Every time we train the model on a subset of the original dataset, we commit the weights.\n",
    "- VersionTreeNode gives us the abilty to get access to the historical version of the weights by listing ancestors."
   ]
  },
  {
   "cell_type": "code",
   "execution_count": 2,
   "metadata": {
    "collapsed": true
   },
   "outputs": [],
   "source": [
    "# TO DELETE once it's merged to grid master bran\n",
    "\"\"\" This module contains an implementation of an IPFS\n",
    "version-control system, which is structured as a directed in-tree with nodes\n",
    "represented by the bytes representation of the VersionTreeNode class. \"\"\"\n",
    "from typing import Optional, Iterator\n",
    "\n",
    "from grid import ipfsapi\n",
    "\n",
    "# TODO: Unit tests.\n",
    "# TODO: Do we want to store the hash on the node after it's been committed?\n",
    "class VersionTreeNode:\n",
    "    \"\"\" Thin wrapper around a piece of IPFS-versioned data and the\n",
    "    IPFS multihash of its parent. \"\"\"\n",
    "    # Delimiter for serializing packed object. Should not be alphanumeric.\n",
    "    DELIMITER = b\"|\"\n",
    "\n",
    "    def __init__(self,\n",
    "                 contents: bytes,\n",
    "                 parent_hash: Optional[str] = None,\n",
    "                 ipfs_client: ipfsapi.Client = None):\n",
    "        \"\"\" parent_hash is a UTF-8 IPFS multihash identifying\n",
    "        this node's parent in the version tree. If parent_hash is None,\n",
    "        this node is the root of a version tree. \"\"\"\n",
    "        self.contents = contents\n",
    "        # Convert empty string to None to minimize typing bugs.\n",
    "        self.parent_hash = parent_hash or None\n",
    "        self.ipfs_client = ipfs_client\n",
    "\n",
    "    def commit(self, ipfs_client: ipfsapi.Client = None) -> str:\n",
    "        \"\"\" Commits the node to the version tree, and returns the\n",
    "        UTF-8 multihash representing its IPFS ID\"\"\"\n",
    "        return (ipfs_client or self.ipfs_client).add_bytes(self.to_bytes())\n",
    "\n",
    "    @classmethod\n",
    "    def get_node_by_hash(cls,\n",
    "                         multihash: str,\n",
    "                         ipfs_client: ipfsapi.Client) -> \"VersionTreeNode\":\n",
    "        \"\"\" Retrieve and deserialize a VersionTreeNode addressed\n",
    "        by it's UTF-8 multihash IPFS ID. \"\"\"\n",
    "        return cls.from_bytes(ipfs_client.cat(multihash))\n",
    "\n",
    "    def get_with_ancestors(\n",
    "            self,\n",
    "            ipfs_client: ipfsapi.Client = None) -> Iterator[\"VersionTreeNode\"]:\n",
    "        \"\"\" Return an iterator containing this node and all its\n",
    "        direct ancestors in the version tree, in that order. \"\"\"\n",
    "        yield self\n",
    "        parent_hash = self.parent_hash\n",
    "        while parent_hash is not None:\n",
    "            parent_node = self.get_node_by_hash(\n",
    "                parent_hash,\n",
    "                (ipfs_client or self.ipfs_client))\n",
    "            parent_hash = parent_node.parent_hash\n",
    "            yield parent_node\n",
    "\n",
    "    @classmethod\n",
    "    def get_node_with_ancestors_by_hash(\n",
    "            cls,\n",
    "            multihash: str,\n",
    "            ipfs_client: ipfsapi.Client) -> Iterator[\"VersionTreeNode\"]:\n",
    "        \"\"\" Convenience method to get an iterator of the node identified by the\n",
    "        provided UTF-8 IPFS multihash, along with all of its ancestors, in\n",
    "        that order.\"\"\"\n",
    "        return cls.get_node_by_hash(\n",
    "            multihash, ipfs_client).get_with_ancestors(ipfs_client)\n",
    "\n",
    "    def to_bytes(self) -> bytes:\n",
    "        \"\"\" For contents b\"foo\", parent_hash \"bar\", and DELIMITER b\"|\",\n",
    "        returns b\"foo|bar\" \"\"\"\n",
    "        parent_hash_bytes = self.parent_hash.encode(\"utf-8\") if \\\n",
    "            self.parent_hash else \\\n",
    "            b\"\"\n",
    "        return self.DELIMITER.join((self.contents, parent_hash_bytes))\n",
    "\n",
    "    @classmethod\n",
    "    def from_bytes(cls, b: bytes) -> \"VersionTreeNode\":\n",
    "        \"\"\" In case the contents section happens to contain the DELIMITER\n",
    "        string, only splits on the final occurrence of DELIMITER. The\n",
    "        multihash is hexadecimal, so it won't contain the non-hex DELIMITER.\"\"\"\n",
    "        contents, parent_hash_bytes = b.rsplit(cls.DELIMITER, maxsplit=1)\n",
    "        return cls(contents, parent_hash_bytes.decode(\"utf-8\"))"
   ]
  },
  {
   "cell_type": "markdown",
   "metadata": {},
   "source": [
    "Load MNIST data."
   ]
  },
  {
   "cell_type": "code",
   "execution_count": 3,
   "metadata": {
    "collapsed": false
   },
   "outputs": [
    {
     "name": "stdout",
     "output_type": "stream",
     "text": [
      "x_train shape: (60000, 28, 28, 1)\n",
      "60000 train samples\n",
      "10000 test samples\n"
     ]
    }
   ],
   "source": [
    "'''Trains a simple convnet on the MNIST dataset.\n",
    "Gets to 99.25% test accuracy after 12 epochs\n",
    "(there is still a lot of margin for parameter tuning).\n",
    "16 seconds per epoch on a GRID K520 GPU.\n",
    "'''\n",
    "\n",
    "from __future__ import print_function\n",
    "import keras\n",
    "from keras.datasets import mnist\n",
    "from keras.models import Sequential\n",
    "from keras.layers import Dense, Dropout, Flatten\n",
    "from keras.layers import Conv2D, MaxPooling2D\n",
    "from keras import backend as K\n",
    "\n",
    "batch_size = 128\n",
    "num_classes = 10\n",
    "epochs = 1\n",
    "\n",
    "# input image dimensions\n",
    "img_rows, img_cols = 28, 28\n",
    "\n",
    "# the data, split between train and test sets\n",
    "(x_train, y_train), (x_test, y_test) = mnist.load_data()\n",
    "\n",
    "if K.image_data_format() == 'channels_first':\n",
    "    x_train = x_train.reshape(x_train.shape[0], 1, img_rows, img_cols)\n",
    "    x_test = x_test.reshape(x_test.shape[0], 1, img_rows, img_cols)\n",
    "    input_shape = (1, img_rows, img_cols)\n",
    "else:\n",
    "    x_train = x_train.reshape(x_train.shape[0], img_rows, img_cols, 1)\n",
    "    x_test = x_test.reshape(x_test.shape[0], img_rows, img_cols, 1)\n",
    "    input_shape = (img_rows, img_cols, 1)\n",
    "\n",
    "x_train = x_train.astype('float32')\n",
    "x_test = x_test.astype('float32')\n",
    "x_train /= 255\n",
    "x_test /= 255\n",
    "print('x_train shape:', x_train.shape)\n",
    "print(x_train.shape[0], 'train samples')\n",
    "print(x_test.shape[0], 'test samples')\n",
    "\n",
    "# convert class vectors to binary class matrices\n",
    "y_train = keras.utils.to_categorical(y_train, num_classes)\n",
    "y_test = keras.utils.to_categorical(y_test, num_classes)"
   ]
  },
  {
   "cell_type": "markdown",
   "metadata": {},
   "source": [
    "Split the data."
   ]
  },
  {
   "cell_type": "code",
   "execution_count": 4,
   "metadata": {
    "collapsed": true
   },
   "outputs": [],
   "source": [
    "size_part = len(x_train)//3\n",
    "x_train_part_1 = x_train[:size_part,: :]\n",
    "y_train_part_1 = y_train[:size_part]\n",
    "\n",
    "x_train_part_2 = x_train[size_part:size_part*2,: :] \n",
    "y_train_part_2 = y_train[size_part:size_part*2]\n",
    "\n",
    "x_train_part_3 = x_train[size_part*2:size_part*3,: :]\n",
    "y_train_part_3 =  y_train[size_part*2:size_part*3]"
   ]
  },
  {
   "cell_type": "markdown",
   "metadata": {},
   "source": [
    "Create the model."
   ]
  },
  {
   "cell_type": "code",
   "execution_count": 5,
   "metadata": {
    "collapsed": true
   },
   "outputs": [],
   "source": [
    "model = Sequential()\n",
    "model.add(Conv2D(32, kernel_size=(3, 3),\n",
    "                 activation='relu',\n",
    "                 input_shape=input_shape))\n",
    "model.add(Conv2D(64, (3, 3), activation='relu'))\n",
    "model.add(MaxPooling2D(pool_size=(2, 2)))\n",
    "model.add(Dropout(0.25))\n",
    "model.add(Flatten())\n",
    "model.add(Dense(128, activation='relu'))\n",
    "model.add(Dropout(0.5))\n",
    "model.add(Dense(num_classes, activation='softmax'))\n",
    "\n",
    "model.compile(loss=keras.losses.categorical_crossentropy,\n",
    "              optimizer=keras.optimizers.Adadelta(),\n",
    "              metrics=['accuracy'])"
   ]
  },
  {
   "cell_type": "markdown",
   "metadata": {},
   "source": [
    "#### Fit model on the first part then commit weights"
   ]
  },
  {
   "cell_type": "code",
   "execution_count": 6,
   "metadata": {
    "collapsed": false
   },
   "outputs": [
    {
     "name": "stdout",
     "output_type": "stream",
     "text": [
      "Train on 20000 samples, validate on 10000 samples\n",
      "Epoch 1/1\n",
      "20000/20000 [==============================] - 88s 4ms/step - loss: 0.5453 - acc: 0.8272 - val_loss: 0.1258 - val_acc: 0.9611\n",
      "Test loss: 0.125796962319687\n",
      "Test accuracy: 0.9611\n"
     ]
    }
   ],
   "source": [
    "model.fit(x_train_part_1, y_train_part_1,\n",
    "          batch_size=batch_size,\n",
    "          epochs=epochs,\n",
    "          verbose=1,\n",
    "          validation_data=(x_test, y_test))\n",
    "score = model.evaluate(x_test, y_test, verbose=0)\n",
    "print('Test loss:', score[0])\n",
    "print('Test accuracy:', score[1])"
   ]
  },
  {
   "cell_type": "markdown",
   "metadata": {},
   "source": [
    "Commit weigths after training the model on the first part of the MNIST data."
   ]
  },
  {
   "cell_type": "code",
   "execution_count": 7,
   "metadata": {
    "collapsed": false
   },
   "outputs": [
    {
     "name": "stdout",
     "output_type": "stream",
     "text": [
      "QmWqA59vaqAPvsw4nM8Euu2rXPifFcrP9msRoFi1QFC6hR\n"
     ]
    }
   ],
   "source": [
    "# Get the weights of the model\n",
    "weights_part_1 = model.get_weights()\n",
    "# Create a node to store the weights\n",
    "n1 = VersionTreeNode(pickle.dumps(weights_part_1), None)\n",
    "# commit the node to write the weights to IPFS. \n",
    "# Set parent_hash to None if the first version of weights (root of the tree)\n",
    "n1_ipfs_address = n1.commit(client)\n",
    "print(n1_ipfs_address)\n",
    "\n",
    "model.set_weights(pickle.loads(n1.contents))"
   ]
  },
  {
   "cell_type": "markdown",
   "metadata": {},
   "source": [
    "#### Fit model on the second part then commit weights"
   ]
  },
  {
   "cell_type": "code",
   "execution_count": 8,
   "metadata": {
    "collapsed": false
   },
   "outputs": [
    {
     "name": "stdout",
     "output_type": "stream",
     "text": [
      "Train on 20000 samples, validate on 10000 samples\n",
      "Epoch 1/1\n",
      "20000/20000 [==============================] - 80s 4ms/step - loss: 0.1694 - acc: 0.9491 - val_loss: 0.0864 - val_acc: 0.9720\n",
      "Test loss: 0.08644894710863009\n",
      "Test accuracy: 0.972\n"
     ]
    }
   ],
   "source": [
    "model.fit(x_train_part_2, y_train_part_2,\n",
    "          batch_size=batch_size,\n",
    "          epochs=epochs,\n",
    "          verbose=1,\n",
    "          validation_data=(x_test, y_test))\n",
    "score = model.evaluate(x_test, y_test, verbose=0)\n",
    "print('Test loss:', score[0])\n",
    "print('Test accuracy:', score[1])"
   ]
  },
  {
   "cell_type": "code",
   "execution_count": 9,
   "metadata": {
    "collapsed": false
   },
   "outputs": [
    {
     "name": "stdout",
     "output_type": "stream",
     "text": [
      "QmVBav35oEgAaXVGgZESMcRMMwSCBW4tYPAW8Xr4RYxRFc\n"
     ]
    }
   ],
   "source": [
    "weights_part_2 = model.get_weights()\n",
    "\n",
    "n2 = VersionTreeNode(pickle.dumps(weights_part_2), n1_ipfs_address)\n",
    "\n",
    "n2_ipfs_address = n2.commit(client)\n",
    "print(n2_ipfs_address)\n",
    "\n",
    "model.set_weights(pickle.loads(n2.contents))"
   ]
  },
  {
   "cell_type": "markdown",
   "metadata": {},
   "source": [
    "#### Fit model on the third part then commit weights"
   ]
  },
  {
   "cell_type": "code",
   "execution_count": 10,
   "metadata": {
    "collapsed": false
   },
   "outputs": [
    {
     "name": "stdout",
     "output_type": "stream",
     "text": [
      "Train on 20000 samples, validate on 10000 samples\n",
      "Epoch 1/1\n",
      "20000/20000 [==============================] - 75s 4ms/step - loss: 0.1234 - acc: 0.9642 - val_loss: 0.0607 - val_acc: 0.9791\n",
      "Test loss: 0.06074867364875972\n",
      "Test accuracy: 0.9791\n"
     ]
    }
   ],
   "source": [
    "model.fit(x_train_part_3, y_train_part_3,\n",
    "          batch_size=batch_size,\n",
    "          epochs=epochs,\n",
    "          verbose=1,\n",
    "          validation_data=(x_test, y_test))\n",
    "score = model.evaluate(x_test, y_test, verbose=0)\n",
    "print('Test loss:', score[0])\n",
    "print('Test accuracy:', score[1])"
   ]
  },
  {
   "cell_type": "code",
   "execution_count": 11,
   "metadata": {
    "collapsed": true
   },
   "outputs": [],
   "source": [
    "weights_part_3 = model.get_weights()\n",
    "\n",
    "n3 = VersionTreeNode(pickle.dumps(weights_part_3), parent_hash=n2_ipfs_address)\n",
    "\n",
    "n3_ipfs_address = n3.commit(client)"
   ]
  },
  {
   "cell_type": "markdown",
   "metadata": {},
   "source": [
    "#### Get historical weights"
   ]
  },
  {
   "cell_type": "code",
   "execution_count": 12,
   "metadata": {
    "collapsed": true
   },
   "outputs": [],
   "source": [
    "node_ancestors = n3.get_with_ancestors(client)"
   ]
  },
  {
   "cell_type": "code",
   "execution_count": null,
   "metadata": {
    "collapsed": false
   },
   "outputs": [],
   "source": [
    "historical_weights = [pickle.loads(x.contents) for x in node_ancestors]"
   ]
  },
  {
   "cell_type": "code",
   "execution_count": null,
   "metadata": {
    "collapsed": false
   },
   "outputs": [
    {
     "name": "stdout",
     "output_type": "stream",
     "text": [
      "Test loss: 0.06074867364875972\n",
      "Test accuracy: 0.9791\n",
      "Test loss: 0.08644894710863009\n",
      "Test accuracy: 0.972\n"
     ]
    }
   ],
   "source": [
    "for i in range(len(historical_weights)):\n",
    "    model.set_weights(historical_weights[i])\n",
    "    score = model.evaluate(x_test, y_test, verbose=0)\n",
    "    print('Test loss:', score[0])\n",
    "    print('Test accuracy:', score[1])"
   ]
  },
  {
   "cell_type": "markdown",
   "metadata": {},
   "source": [
    "The test loss and accuracy are matching the original loss and accuracy before commit."
   ]
  },
  {
   "cell_type": "code",
   "execution_count": null,
   "metadata": {
    "collapsed": true
   },
   "outputs": [],
   "source": []
  }
 ],
 "metadata": {
  "anaconda-cloud": {},
  "kernelspec": {
   "display_name": "Python [conda env:openmined2]",
   "language": "python",
   "name": "conda-env-openmined2-py"
  },
  "language_info": {
   "codemirror_mode": {
    "name": "ipython",
    "version": 3
   },
   "file_extension": ".py",
   "mimetype": "text/x-python",
   "name": "python",
   "nbconvert_exporter": "python",
   "pygments_lexer": "ipython3",
   "version": "3.6.4"
  }
 },
 "nbformat": 4,
 "nbformat_minor": 2
}
