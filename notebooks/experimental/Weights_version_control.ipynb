{
 "cells": [
  {
   "cell_type": "markdown",
   "metadata": {},
   "source": [
    "# Weights Version Control"
   ]
  },
  {
   "cell_type": "code",
   "execution_count": 1,
   "metadata": {},
   "outputs": [
    {
     "name": "stderr",
     "output_type": "stream",
     "text": [
      "/Users/yanndupis/anaconda2/envs/openmined2/lib/python3.6/site-packages/h5py/__init__.py:36: FutureWarning: Conversion of the second argument of issubdtype from `float` to `np.floating` is deprecated. In future, it will be treated as `np.float64 == np.dtype(float).type`.\n",
      "  from ._conv import register_converters as _register_converters\n",
      "Using TensorFlow backend.\n"
     ]
    }
   ],
   "source": [
    "from grid.ipfsapi.client import Client\n",
    "import numpy as np\n",
    "import pickle\n",
    "client = Client()"
   ]
  },
  {
   "cell_type": "markdown",
   "metadata": {},
   "source": [
    "This notebook illustrate version control of the weights with VersionTreeNode api.\n",
    "- First we split the MNIST data in three parts.\n",
    "- We train the model on each part. Every time we train the model on a subset of the original dataset, we commit the weights.\n",
    "- VersionTreeNode gives us the abilty to get access to the historical version of the weights by listing ancestors."
   ]
  },
  {
   "cell_type": "code",
   "execution_count": 2,
   "metadata": {},
   "outputs": [],
   "source": [
    "# TO DELETE once it's merged to grid master bran\n",
    "\"\"\" This module contains an implementation of an IPFS\n",
    "version-control system, which is structured as a directed in-tree with nodes\n",
    "represented by the bytes representation of the VersionTreeNode class. \"\"\"\n",
    "from typing import Optional, Iterator\n",
    "\n",
    "from grid import ipfsapi\n",
    "\n",
    "# TODO: Unit tests.\n",
    "# TODO: Do we want to store the hash on the node after it's been committed?\n",
    "class VersionTreeNode:\n",
    "    \"\"\" Thin wrapper around a piece of IPFS-versioned data and the\n",
    "    IPFS multihash of its parent. \"\"\"\n",
    "    # Delimiter for serializing packed object.\n",
    "    DELIMITER = b\"|\"\n",
    "\n",
    "    def __init__(self,\n",
    "                 contents: bytes,\n",
    "                 parent_hash: Optional[str] = None,\n",
    "                 ipfs_client: ipfsapi.Client = None):\n",
    "        \"\"\" parent_hash is a UTF-8 IPFS multihash identifying\n",
    "        this node's parent in the version tree. If parent_hash is None,\n",
    "        this node is the root of a version tree. \"\"\"\n",
    "        self.contents = contents\n",
    "        # Convert empty string to None to minimize typing bugs.\n",
    "        # Porbably should be encode() but won't be able to encode None\n",
    "        #self.parent_hash = parent_hash.decode(\"utf-8\") or None\n",
    "        self.parent_hash = parent_hash or None\n",
    "        self.ipfs_client = ipfs_client\n",
    "\n",
    "    # TODO: Should there just be a singleton IPFS client in the ipfsapi.client\n",
    "    # module?  It seems like the current architecture would require\n",
    "    # it to either be passed around all over the place or potentially go\n",
    "    # through the connection process multiple times, and I don't think\n",
    "    # multiple configurations need to be maintained for a given worker node.\n",
    "    def commit(self, ipfs_client: ipfsapi.Client = None) -> str:\n",
    "        \"\"\" Commits the node to the version tree, and returns the\n",
    "        UTF-8 multihash representing its IPFS ID\"\"\"\n",
    "        return (ipfs_client or self.ipfs_client).add_bytes(self.to_bytes())\n",
    "\n",
    "    @staticmethod\n",
    "    def get_node_by_hash(multihash: str,\n",
    "                         ipfs_client: ipfsapi.Client) -> \"VersionTreeNode\":\n",
    "        \"\"\" Retrieve and deserialize a VersionTreeNode addressed\n",
    "        by it's UTF-8 multihash IPFS ID. \"\"\"\n",
    "        return VersionTreeNode.from_bytes(ipfs_client.cat(multihash))\n",
    "\n",
    "    def get_with_ancestors(\n",
    "            self,\n",
    "            ipfs_client: ipfsapi.Client = None) -> Iterator[\"VersionTreeNode\"]:\n",
    "        \"\"\" Return an iterator containing this node and all its\n",
    "        direct ancestors in the version tree, in that order. \"\"\"\n",
    "        yield self\n",
    "        parent_hash = self.parent_hash\n",
    "        while parent_hash is not None:\n",
    "            parent_node = VersionTreeNode.get_node_by_hash(\n",
    "                parent_hash,\n",
    "                (ipfs_client or self.ipfs_client))\n",
    "            parent_hash = parent_node.parent_hash\n",
    "            yield parent_node\n",
    "\n",
    "    @staticmethod\n",
    "    def get_node_with_ancestors_by_hash(\n",
    "            multihash: str,\n",
    "            ipfs_client: ipfsapi.Client) -> Iterator[\"VersionTreeNode\"]:\n",
    "        \"\"\" Convenience method to get an iterator of the node identified by the\n",
    "        provided UTF-8 IPFS multihash, along with all of its ancestors, in\n",
    "        that order.\"\"\"\n",
    "        return VersionTreeNode.get_node_by_hash(\n",
    "            multihash, ipfs_client).get_with_ancestors(ipfs_client)\n",
    "\n",
    "    def to_bytes(self) -> bytes:\n",
    "        \"\"\" For contents b\"foo\", parent_hash \"bar\", and DELIMITER b\"|\",\n",
    "        returns b\"foo|bar\" \"\"\"\n",
    "        parent_hash_bytes = self.parent_hash.encode(\"utf-8\") if \\\n",
    "            self.parent_hash else \\\n",
    "            b\"\"\n",
    "        return VersionTreeNode.DELIMITER.join(\n",
    "            (self.contents, parent_hash_bytes)\n",
    "        )\n",
    "\n",
    "    @staticmethod\n",
    "    def from_bytes(b: bytes) -> \"VersionTreeNode\":\n",
    "        return VersionTreeNode(*b.split(VersionTreeNode.DELIMITER))"
   ]
  },
  {
   "cell_type": "markdown",
   "metadata": {},
   "source": [
    "Load MNIST data."
   ]
  },
  {
   "cell_type": "code",
   "execution_count": 3,
   "metadata": {},
   "outputs": [
    {
     "name": "stdout",
     "output_type": "stream",
     "text": [
      "x_train shape: (60000, 28, 28, 1)\n",
      "60000 train samples\n",
      "10000 test samples\n"
     ]
    }
   ],
   "source": [
    "'''Trains a simple convnet on the MNIST dataset.\n",
    "Gets to 99.25% test accuracy after 12 epochs\n",
    "(there is still a lot of margin for parameter tuning).\n",
    "16 seconds per epoch on a GRID K520 GPU.\n",
    "'''\n",
    "\n",
    "from __future__ import print_function\n",
    "import keras\n",
    "from keras.datasets import mnist\n",
    "from keras.models import Sequential\n",
    "from keras.layers import Dense, Dropout, Flatten\n",
    "from keras.layers import Conv2D, MaxPooling2D\n",
    "from keras import backend as K\n",
    "\n",
    "batch_size = 128\n",
    "num_classes = 10\n",
    "epochs = 1\n",
    "\n",
    "# input image dimensions\n",
    "img_rows, img_cols = 28, 28\n",
    "\n",
    "# the data, split between train and test sets\n",
    "(x_train, y_train), (x_test, y_test) = mnist.load_data()\n",
    "\n",
    "if K.image_data_format() == 'channels_first':\n",
    "    x_train = x_train.reshape(x_train.shape[0], 1, img_rows, img_cols)\n",
    "    x_test = x_test.reshape(x_test.shape[0], 1, img_rows, img_cols)\n",
    "    input_shape = (1, img_rows, img_cols)\n",
    "else:\n",
    "    x_train = x_train.reshape(x_train.shape[0], img_rows, img_cols, 1)\n",
    "    x_test = x_test.reshape(x_test.shape[0], img_rows, img_cols, 1)\n",
    "    input_shape = (img_rows, img_cols, 1)\n",
    "\n",
    "x_train = x_train.astype('float32')\n",
    "x_test = x_test.astype('float32')\n",
    "x_train /= 255\n",
    "x_test /= 255\n",
    "print('x_train shape:', x_train.shape)\n",
    "print(x_train.shape[0], 'train samples')\n",
    "print(x_test.shape[0], 'test samples')\n",
    "\n",
    "# convert class vectors to binary class matrices\n",
    "y_train = keras.utils.to_categorical(y_train, num_classes)\n",
    "y_test = keras.utils.to_categorical(y_test, num_classes)"
   ]
  },
  {
   "cell_type": "markdown",
   "metadata": {},
   "source": [
    "Split the data."
   ]
  },
  {
   "cell_type": "code",
   "execution_count": 4,
   "metadata": {},
   "outputs": [],
   "source": [
    "size_part = len(x_train)//3\n",
    "x_train_part_1 = x_train[:size_part,: :]\n",
    "y_train_part_1 = y_train[:size_part]\n",
    "\n",
    "x_train_part_2 = x_train[size_part:size_part*2,: :] \n",
    "y_train_part_2 = y_train[size_part:size_part*2]\n",
    "\n",
    "x_train_part_3 = x_train[size_part*2:size_part*3,: :]\n",
    "y_train_part_3 =  y_train[size_part*2:size_part*3]"
   ]
  },
  {
   "cell_type": "markdown",
   "metadata": {},
   "source": [
    "Create the model."
   ]
  },
  {
   "cell_type": "code",
   "execution_count": 5,
   "metadata": {},
   "outputs": [],
   "source": [
    "model = Sequential()\n",
    "model.add(Conv2D(32, kernel_size=(3, 3),\n",
    "                 activation='relu',\n",
    "                 input_shape=input_shape))\n",
    "model.add(Conv2D(64, (3, 3), activation='relu'))\n",
    "model.add(MaxPooling2D(pool_size=(2, 2)))\n",
    "model.add(Dropout(0.25))\n",
    "model.add(Flatten())\n",
    "model.add(Dense(128, activation='relu'))\n",
    "model.add(Dropout(0.5))\n",
    "model.add(Dense(num_classes, activation='softmax'))\n",
    "\n",
    "model.compile(loss=keras.losses.categorical_crossentropy,\n",
    "              optimizer=keras.optimizers.Adadelta(),\n",
    "              metrics=['accuracy'])"
   ]
  },
  {
   "cell_type": "markdown",
   "metadata": {},
   "source": [
    "#### Fit model on the first part then commit weights"
   ]
  },
  {
   "cell_type": "code",
   "execution_count": 6,
   "metadata": {},
   "outputs": [
    {
     "name": "stdout",
     "output_type": "stream",
     "text": [
      "Train on 20000 samples, validate on 10000 samples\n",
      "Epoch 1/1\n",
      "20000/20000 [==============================] - 69s 3ms/step - loss: 0.5215 - acc: 0.8368 - val_loss: 0.1596 - val_acc: 0.9466\n",
      "Test loss: 0.15963942354917526\n",
      "Test accuracy: 0.9466\n"
     ]
    }
   ],
   "source": [
    "model.fit(x_train_part_1, y_train_part_1,\n",
    "          batch_size=batch_size,\n",
    "          epochs=epochs,\n",
    "          verbose=1,\n",
    "          validation_data=(x_test, y_test))\n",
    "score = model.evaluate(x_test, y_test, verbose=0)\n",
    "print('Test loss:', score[0])\n",
    "print('Test accuracy:', score[1])"
   ]
  },
  {
   "cell_type": "markdown",
   "metadata": {},
   "source": [
    "Commit weigths after training the model on the first part of the MNIST data."
   ]
  },
  {
   "cell_type": "code",
   "execution_count": 7,
   "metadata": {},
   "outputs": [
    {
     "name": "stdout",
     "output_type": "stream",
     "text": [
      "Qmd5dAkM79xewwHobhvkcSwTuX6sKRYukDx2AzXcYkAGGN\n"
     ]
    }
   ],
   "source": [
    "# Get the weights of the model\n",
    "weights_part_1 = model.get_weights()\n",
    "# Create a node to store the weights\n",
    "n1 = VersionTreeNode(pickle.dumps(weights_part_1), None)\n",
    "# commit the node to write the weights to IPFS. \n",
    "# Set parent_hash to None if the first version of weights (root of the tree)\n",
    "n1_ipfs_address = n1.commit(client)\n",
    "print(n1_ipfs_address)\n",
    "\n",
    "model.set_weights(pickle.loads(n1.contents))"
   ]
  },
  {
   "cell_type": "markdown",
   "metadata": {},
   "source": [
    "#### Fit model on the second part then commit weights"
   ]
  },
  {
   "cell_type": "code",
   "execution_count": 8,
   "metadata": {},
   "outputs": [
    {
     "name": "stdout",
     "output_type": "stream",
     "text": [
      "Train on 20000 samples, validate on 10000 samples\n",
      "Epoch 1/1\n",
      "20000/20000 [==============================] - 74s 4ms/step - loss: 0.1650 - acc: 0.9507 - val_loss: 0.0792 - val_acc: 0.9760\n",
      "Test loss: 0.07918845291715115\n",
      "Test accuracy: 0.976\n"
     ]
    }
   ],
   "source": [
    "model.fit(x_train_part_2, y_train_part_2,\n",
    "          batch_size=batch_size,\n",
    "          epochs=epochs,\n",
    "          verbose=1,\n",
    "          validation_data=(x_test, y_test))\n",
    "score = model.evaluate(x_test, y_test, verbose=0)\n",
    "print('Test loss:', score[0])\n",
    "print('Test accuracy:', score[1])"
   ]
  },
  {
   "cell_type": "code",
   "execution_count": 9,
   "metadata": {},
   "outputs": [
    {
     "name": "stdout",
     "output_type": "stream",
     "text": [
      "QmeHuL2NeFDrcX3uiWoHsCexuEna3eCHfT7rkxAXyB3xuZ\n"
     ]
    }
   ],
   "source": [
    "weights_part_2 = model.get_weights()\n",
    "\n",
    "n2 = VersionTreeNode(pickle.dumps(weights_part_2), n1_ipfs_address)\n",
    "\n",
    "n2_ipfs_address = n2.commit(client)\n",
    "print(n2_ipfs_address)\n",
    "\n",
    "model.set_weights(pickle.loads(n2.contents))"
   ]
  },
  {
   "cell_type": "markdown",
   "metadata": {},
   "source": [
    "#### Fit model on the third part then commit weights"
   ]
  },
  {
   "cell_type": "code",
   "execution_count": 10,
   "metadata": {},
   "outputs": [
    {
     "name": "stdout",
     "output_type": "stream",
     "text": [
      "Train on 20000 samples, validate on 10000 samples\n",
      "Epoch 1/1\n",
      "20000/20000 [==============================] - 70s 3ms/step - loss: 0.1203 - acc: 0.9643 - val_loss: 0.0559 - val_acc: 0.9816\n",
      "Test loss: 0.055859832402365285\n",
      "Test accuracy: 0.9816\n"
     ]
    }
   ],
   "source": [
    "model.fit(x_train_part_3, y_train_part_3,\n",
    "          batch_size=batch_size,\n",
    "          epochs=epochs,\n",
    "          verbose=1,\n",
    "          validation_data=(x_test, y_test))\n",
    "score = model.evaluate(x_test, y_test, verbose=0)\n",
    "print('Test loss:', score[0])\n",
    "print('Test accuracy:', score[1])"
   ]
  },
  {
   "cell_type": "code",
   "execution_count": 11,
   "metadata": {},
   "outputs": [],
   "source": [
    "weights_part_3 = model.get_weights()\n",
    "\n",
    "n3 = VersionTreeNode(pickle.dumps(weights_part_3), parent_hash=n2_ipfs_address)\n",
    "\n",
    "n3_ipfs_address = n3.commit(client)"
   ]
  },
  {
   "cell_type": "markdown",
   "metadata": {},
   "source": [
    "#### Get historical weights"
   ]
  },
  {
   "cell_type": "code",
   "execution_count": 12,
   "metadata": {},
   "outputs": [],
   "source": [
    "node_ancestors = n3.get_with_ancestors(client)"
   ]
  },
  {
   "cell_type": "code",
   "execution_count": 13,
   "metadata": {},
   "outputs": [
    {
     "ename": "TypeError",
     "evalue": "__init__() takes from 2 to 4 positional arguments but 13114 were given",
     "output_type": "error",
     "traceback": [
      "\u001b[0;31m---------------------------------------------------------------------------\u001b[0m",
      "\u001b[0;31mTypeError\u001b[0m                                 Traceback (most recent call last)",
      "\u001b[0;32m<ipython-input-13-690bfe7df078>\u001b[0m in \u001b[0;36m<module>\u001b[0;34m()\u001b[0m\n\u001b[0;32m----> 1\u001b[0;31m \u001b[0mhistorical_weights\u001b[0m \u001b[0;34m=\u001b[0m \u001b[0;34m[\u001b[0m\u001b[0mpickle\u001b[0m\u001b[0;34m.\u001b[0m\u001b[0mloads\u001b[0m\u001b[0;34m(\u001b[0m\u001b[0mx\u001b[0m\u001b[0;34m.\u001b[0m\u001b[0mcontents\u001b[0m\u001b[0;34m)\u001b[0m \u001b[0;32mfor\u001b[0m \u001b[0mx\u001b[0m \u001b[0;32min\u001b[0m \u001b[0mnode_ancestors\u001b[0m\u001b[0;34m]\u001b[0m\u001b[0;34m\u001b[0m\u001b[0m\n\u001b[0m",
      "\u001b[0;32m<ipython-input-13-690bfe7df078>\u001b[0m in \u001b[0;36m<listcomp>\u001b[0;34m(.0)\u001b[0m\n\u001b[0;32m----> 1\u001b[0;31m \u001b[0mhistorical_weights\u001b[0m \u001b[0;34m=\u001b[0m \u001b[0;34m[\u001b[0m\u001b[0mpickle\u001b[0m\u001b[0;34m.\u001b[0m\u001b[0mloads\u001b[0m\u001b[0;34m(\u001b[0m\u001b[0mx\u001b[0m\u001b[0;34m.\u001b[0m\u001b[0mcontents\u001b[0m\u001b[0;34m)\u001b[0m \u001b[0;32mfor\u001b[0m \u001b[0mx\u001b[0m \u001b[0;32min\u001b[0m \u001b[0mnode_ancestors\u001b[0m\u001b[0;34m]\u001b[0m\u001b[0;34m\u001b[0m\u001b[0m\n\u001b[0m",
      "\u001b[0;32m<ipython-input-2-21188149670b>\u001b[0m in \u001b[0;36mget_with_ancestors\u001b[0;34m(self, ipfs_client)\u001b[0m\n\u001b[1;32m     56\u001b[0m             parent_node = VersionTreeNode.get_node_by_hash(\n\u001b[1;32m     57\u001b[0m                 \u001b[0mparent_hash\u001b[0m\u001b[0;34m,\u001b[0m\u001b[0;34m\u001b[0m\u001b[0m\n\u001b[0;32m---> 58\u001b[0;31m                 (ipfs_client or self.ipfs_client))\n\u001b[0m\u001b[1;32m     59\u001b[0m             \u001b[0mparent_hash\u001b[0m \u001b[0;34m=\u001b[0m \u001b[0mparent_node\u001b[0m\u001b[0;34m.\u001b[0m\u001b[0mparent_hash\u001b[0m\u001b[0;34m\u001b[0m\u001b[0m\n\u001b[1;32m     60\u001b[0m             \u001b[0;32myield\u001b[0m \u001b[0mparent_node\u001b[0m\u001b[0;34m\u001b[0m\u001b[0m\n",
      "\u001b[0;32m<ipython-input-2-21188149670b>\u001b[0m in \u001b[0;36mget_node_by_hash\u001b[0;34m(multihash, ipfs_client)\u001b[0m\n\u001b[1;32m     44\u001b[0m         \"\"\" Retrieve and deserialize a VersionTreeNode addressed\n\u001b[1;32m     45\u001b[0m         by it's UTF-8 multihash IPFS ID. \"\"\"\n\u001b[0;32m---> 46\u001b[0;31m         \u001b[0;32mreturn\u001b[0m \u001b[0mVersionTreeNode\u001b[0m\u001b[0;34m.\u001b[0m\u001b[0mfrom_bytes\u001b[0m\u001b[0;34m(\u001b[0m\u001b[0mipfs_client\u001b[0m\u001b[0;34m.\u001b[0m\u001b[0mcat\u001b[0m\u001b[0;34m(\u001b[0m\u001b[0mmultihash\u001b[0m\u001b[0;34m)\u001b[0m\u001b[0;34m)\u001b[0m\u001b[0;34m\u001b[0m\u001b[0m\n\u001b[0m\u001b[1;32m     47\u001b[0m \u001b[0;34m\u001b[0m\u001b[0m\n\u001b[1;32m     48\u001b[0m     def get_with_ancestors(\n",
      "\u001b[0;32m<ipython-input-2-21188149670b>\u001b[0m in \u001b[0;36mfrom_bytes\u001b[0;34m(b)\u001b[0m\n\u001b[1;32m     80\u001b[0m     \u001b[0;34m@\u001b[0m\u001b[0mstaticmethod\u001b[0m\u001b[0;34m\u001b[0m\u001b[0m\n\u001b[1;32m     81\u001b[0m     \u001b[0;32mdef\u001b[0m \u001b[0mfrom_bytes\u001b[0m\u001b[0;34m(\u001b[0m\u001b[0mb\u001b[0m\u001b[0;34m:\u001b[0m \u001b[0mbytes\u001b[0m\u001b[0;34m)\u001b[0m \u001b[0;34m->\u001b[0m \u001b[0;34m\"VersionTreeNode\"\u001b[0m\u001b[0;34m:\u001b[0m\u001b[0;34m\u001b[0m\u001b[0m\n\u001b[0;32m---> 82\u001b[0;31m         \u001b[0;32mreturn\u001b[0m \u001b[0mVersionTreeNode\u001b[0m\u001b[0;34m(\u001b[0m\u001b[0;34m*\u001b[0m\u001b[0mb\u001b[0m\u001b[0;34m.\u001b[0m\u001b[0msplit\u001b[0m\u001b[0;34m(\u001b[0m\u001b[0mVersionTreeNode\u001b[0m\u001b[0;34m.\u001b[0m\u001b[0mDELIMITER\u001b[0m\u001b[0;34m)\u001b[0m\u001b[0;34m)\u001b[0m\u001b[0;34m\u001b[0m\u001b[0m\n\u001b[0m",
      "\u001b[0;31mTypeError\u001b[0m: __init__() takes from 2 to 4 positional arguments but 13114 were given"
     ]
    }
   ],
   "source": [
    "historical_weights = [pickle.loads(x.contents) for x in node_ancestors]"
   ]
  },
  {
   "cell_type": "code",
   "execution_count": null,
   "metadata": {},
   "outputs": [],
   "source": [
    "for i in range(len(historical_weights)):\n",
    "    model.set_weights(weights_log[i])\n",
    "    score = model.evaluate(x_test, y_test, verbose=0)\n",
    "    print('Test loss:', score[0])\n",
    "    print('Test accuracy:', score[1])"
   ]
  },
  {
   "cell_type": "code",
   "execution_count": null,
   "metadata": {},
   "outputs": [],
   "source": []
  },
  {
   "cell_type": "code",
   "execution_count": null,
   "metadata": {},
   "outputs": [],
   "source": []
  }
 ],
 "metadata": {
  "kernelspec": {
   "display_name": "Python 3",
   "language": "python",
   "name": "python3"
  },
  "language_info": {
   "codemirror_mode": {
    "name": "ipython",
    "version": 3
   },
   "file_extension": ".py",
   "mimetype": "text/x-python",
   "name": "python",
   "nbconvert_exporter": "python",
   "pygments_lexer": "ipython3",
   "version": "3.6.4"
  }
 },
 "nbformat": 4,
 "nbformat_minor": 2
}
