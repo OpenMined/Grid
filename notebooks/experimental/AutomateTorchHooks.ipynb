{
 "cells": [
  {
   "cell_type": "markdown",
   "metadata": {},
   "source": [
    "### Notes"
   ]
  },
  {
   "cell_type": "markdown",
   "metadata": {},
   "source": [
    "Note, this requires using PyTorch v0.3.1.  Somewhere between 0.3.1 and 0.4.0 parts of the backend were significantly rewritten, preventing us from performing the following hacks. (Likely has to do with them fusing Variable and Tensor).  That may change once their new API stabilizes.\n",
    "\n",
    "The nice thing about how this is working is that it should be general enough to work for compute, tree, and federated modes of Grid, depending on how the `receive` function works under the hood."
   ]
  },
  {
   "cell_type": "code",
   "execution_count": 1,
   "metadata": {
    "scrolled": true
   },
   "outputs": [
    {
     "name": "stderr",
     "output_type": "stream",
     "text": [
      "/Users/jasonmancuso/anaconda/envs/openmined/lib/python3.6/site-packages/h5py-2.7.1-py3.6-macosx-10.7-x86_64.egg/h5py/__init__.py:36: FutureWarning: Conversion of the second argument of issubdtype from `float` to `np.floating` is deprecated. In future, it will be treated as `np.float64 == np.dtype(float).type`.\n",
      "  from ._conv import register_converters as _register_converters\n",
      "Using TensorFlow backend.\n"
     ]
    }
   ],
   "source": [
    "from grid.clients.torch import TorchClient"
   ]
  },
  {
   "cell_type": "code",
   "execution_count": 2,
   "metadata": {},
   "outputs": [
    {
     "name": "stdout",
     "output_type": "stream",
     "text": [
      "\n",
      "\u001b[34mUPDATE: \u001b[0mConnecting to IPFS... this can take a few seconds...\n",
      "\n",
      "\u001b[32mSUCCESS: \u001b[0mConnected!!! - My ID: QmeVrfEayAzvVM9Ujhyu4SjtQnNmQmmF7dvyRtMmzc9wh4\n",
      "\n",
      "\u001b[34mUPDATE: \u001b[0mQuerying known workers...\n",
      "\tWORKER: /p2p-circuit/ipfs/QmQabt3SWuDvjse9z7GAcH2BGQv4wH8bumkd4x5oXN2obX...\u001b[31mFAIL!!!\u001b[0m\n",
      "\tWORKER: /p2p-circuit/ipfs/Qmaosc64H6Y29VFCFYJzJXCX9AuRp7RCsekLmajHNVEARD...\u001b[32mSUCCESS!!!\u001b[0m\n",
      "\n",
      "\u001b[34mUPDATE: \u001b[0mSearching for IPFS nodes - 90 found overall - 1 are OpenMined workers          \n",
      "\n",
      "\u001b[32mSUCCESS: \u001b[0mFound 1 OpenMined nodes!!!\n",
      "\n"
     ]
    }
   ],
   "source": [
    "client = TorchClient(verbose = False)"
   ]
  },
  {
   "cell_type": "code",
   "execution_count": 3,
   "metadata": {},
   "outputs": [],
   "source": [
    "service_self = client.services['torch_service']"
   ]
  },
  {
   "cell_type": "code",
   "execution_count": 4,
   "metadata": {},
   "outputs": [],
   "source": [
    "# service_self = client.services['torch_service']\n",
    "# def hook_float_tensor___init__(service_self):\n",
    "#     torch.FloatTensor.old___init__ = torch.FloatTensor.__init__\n",
    "#     def new___init__(self, *args, **kwargs):\n",
    "#         self.old___init__(*args, **kwargs)\n",
    "#         self = service_self.register_object(self,False)\n",
    "\n",
    "#     torch.FloatTensor.__init__ = new___init__"
   ]
  },
  {
   "cell_type": "code",
   "execution_count": 5,
   "metadata": {
    "collapsed": true
   },
   "outputs": [],
   "source": [
    "import torch\n",
    "import inspect\n",
    "from torch.autograd import Variable\n",
    "import random\n",
    "import re\n",
    "from functools import wraps, partial, partialmethod\n",
    "from types import *\n",
    "import imp\n",
    "# from contextlib import contextmanager"
   ]
  },
  {
   "cell_type": "code",
   "execution_count": 6,
   "metadata": {},
   "outputs": [],
   "source": [
    "def assign_workers_function(worker_ids):\n",
    "    def decorate(func):\n",
    "        @wraps(func)\n",
    "        def send_to_workers(*args, **kwargs):\n",
    "            part = func(*args, **kwargs)\n",
    "            command = compile_command(part)\n",
    "            for worker in worker_ids:\n",
    "                print(\"Placeholder print for sending command to worker {}\".format(worker))\n",
    "                args, kwargs = send_command(command)\n",
    "            receive_commands(worker_ids)  ## Probably needs to happen async\n",
    "            return args, kwargs\n",
    "        return send_to_workers\n",
    "    return decorate"
   ]
  },
  {
   "cell_type": "code",
   "execution_count": 7,
   "metadata": {
    "collapsed": true
   },
   "outputs": [],
   "source": [
    "tensor_types = [torch.FloatTensor,\n",
    "                torch.DoubleTensor,\n",
    "                torch.HalfTensor,\n",
    "                torch.ByteTensor,\n",
    "                torch.CharTensor,\n",
    "                torch.ShortTensor,\n",
    "                torch.IntTensor,\n",
    "                torch.LongTensor]"
   ]
  },
  {
   "cell_type": "code",
   "execution_count": 8,
   "metadata": {},
   "outputs": [],
   "source": [
    "def assign_workers_method(worker_ids):\n",
    "    def decorate(method):\n",
    "        @wraps(method)\n",
    "        def send_to_workers(self, *args, **kwargs):\n",
    "            part = method(self, *args, **kwargs)\n",
    "            if self.is_pointer_to_remote:\n",
    "                command = compile_command(part)\n",
    "                for worker in worker_ids:\n",
    "                    print(\"Placeholder print for sending command to worker {}\".format(worker))\n",
    "                    args, kwargs = send_command(command)\n",
    "                receive_commands(worker_ids)  ## Probably needs to happen async\n",
    "                return args, kwargs\n",
    "            else:\n",
    "                result = part.func(self, *args, **kwargs)\n",
    "                if type(result) in tensor_types:\n",
    "                    my_service = self.worker.services['torch_service']\n",
    "                    result = my_service.register_object(result, False)\n",
    "                return result\n",
    "        return send_to_workers\n",
    "    return decorate"
   ]
  },
  {
   "cell_type": "code",
   "execution_count": 9,
   "metadata": {},
   "outputs": [],
   "source": [
    "# # Slightly modified to remove parent class dependency\n",
    "# torch.FloatTensor.old___init__ = torch.FloatTensor.__init__\n",
    "# def hook_float_tensor___init__():\n",
    "#     def new___init__(self, tensor, owner=client.services['torch_service'], *args, **kwargs):\n",
    "#         super(torch.FloatTensor, self).__init__(*args, **kwargs)\n",
    "#         self = owner.register_object(self, False)\n",
    "\n",
    "#     torch.FloatTensor.__init__ = new___init__"
   ]
  },
  {
   "cell_type": "code",
   "execution_count": 10,
   "metadata": {},
   "outputs": [],
   "source": [
    "# service_self = client.services['torch_service']\n",
    "# def hook_float_tensor___init__(service_self):\n",
    "#     def new___init__(self, *args, **kwargs):\n",
    "#         super(torch.FloatTensor, self).__init__(*args, **kwargs)\n",
    "#         self = service_self.register_object(self,False)\n",
    "\n",
    "#     torch.FloatTensor.__init__ = new___init__"
   ]
  },
  {
   "cell_type": "code",
   "execution_count": 11,
   "metadata": {
    "collapsed": true
   },
   "outputs": [],
   "source": [
    "# def assign_workers_factory(worker_ids):\n",
    "#     def decorate(method):\n",
    "#         @wraps(method)\n",
    "#         def send_to_workers(self, *args, **kwargs):\n",
    "#             part = method(self, *args, **kwargs)\n",
    "#             command = compile_command(part)\n",
    "#             for worker in worker_ids:\n",
    "#                 print(\"Placeholder print for sending command to worker {}\".format(worker))\n",
    "#                 args, kwargs = send_command(command)\n",
    "#             receive_commands(worker_ids)  ## Probably needs to happen async\n",
    "#             return old_init(*args, **kwargs)\n",
    "#         return send_to_workers\n",
    "#     return decorate"
   ]
  },
  {
   "cell_type": "code",
   "execution_count": 12,
   "metadata": {},
   "outputs": [],
   "source": [
    "def pass_func_args(func):\n",
    "    @wraps(func)\n",
    "    def pass_args(*args, **kwargs):\n",
    "        return partial(func, *args, **kwargs)\n",
    "    return pass_args\n",
    "\n",
    "def pass_method_args(method):\n",
    "    @wraps(method)\n",
    "    def pass_args(*args, **kwargs):\n",
    "        return partialmethod(method, *args, **kwargs)\n",
    "    return pass_args"
   ]
  },
  {
   "cell_type": "code",
   "execution_count": 13,
   "metadata": {},
   "outputs": [],
   "source": [
    "def send_command(command):\n",
    "    print(command['command'])\n",
    "    print([type(arg) for arg in command['args']])\n",
    "    print([type(pair) for pair in command['kwargs']])\n",
    "    print('===========')\n",
    "    print()\n",
    "    return command['args'], command['kwargs']\n",
    "\n",
    "def receive_commands(worker_ids):\n",
    "    print('Placeholder print for receiving commands from workers in the following list')\n",
    "    print(worker_ids)"
   ]
  },
  {
   "cell_type": "code",
   "execution_count": 14,
   "metadata": {},
   "outputs": [],
   "source": [
    "def compile_command(partial_func):\n",
    "    func = partial_func.func\n",
    "    args = partial_func.args\n",
    "    kwargs = partial_func.keywords\n",
    "    command = {}\n",
    "    command['command'] = func.__name__\n",
    "    command['command_type'] = type(func)\n",
    "    command['args'] = args\n",
    "    command['kwargs'] = kwargs\n",
    "    command['arg_types'] = [type(x) for x in args]\n",
    "    command['kwarg_types'] = [type(kwargs[x]) for x in kwargs]\n",
    "    return command"
   ]
  },
  {
   "cell_type": "code",
   "execution_count": 15,
   "metadata": {},
   "outputs": [
    {
     "name": "stdout",
     "output_type": "stream",
     "text": [
      "CPU times: user 1.3 s, sys: 45.2 ms, total: 1.35 s\n",
      "Wall time: 1.34 s\n"
     ]
    }
   ],
   "source": [
    "%%time\n",
    "for x in range(100000):\n",
    "    y = torch.FloatTensor([[2,2],[2,2]])\n",
    "    z = torch.FloatTensor([[1,1],[1,1]])\n",
    "    res = y.add(z)"
   ]
  },
  {
   "cell_type": "code",
   "execution_count": 16,
   "metadata": {
    "scrolled": true
   },
   "outputs": [
    {
     "name": "stdout",
     "output_type": "stream",
     "text": [
      "__add__\n",
      "__and__\n",
      "__array__\n",
      "__array_wrap__\n",
      "__bool__\n",
      "__class__  skipped\n",
      "__deepcopy__\n",
      "__delattr__  skipped\n",
      "__delitem__\n",
      "__dict__  skipped\n",
      "__dir__  skipped\n",
      "__div__\n",
      "__doc__  skipped\n",
      "__eq__  skipped\n",
      "__float__\n",
      "__format__  skipped\n",
      "__ge__  skipped\n",
      "__getattribute__  skipped\n",
      "__getitem__\n",
      "__getstate__\n",
      "__gt__  skipped\n",
      "__hash__  skipped\n",
      "__iadd__\n",
      "__iand__\n",
      "__idiv__\n",
      "__ilshift__\n",
      "__imul__\n",
      "__init__  skipped\n",
      "__init_subclass__  skipped\n",
      "__int__\n",
      "__invert__\n",
      "__ior__\n",
      "__ipow__\n",
      "__irshift__\n",
      "__isub__\n",
      "__iter__\n",
      "__itruediv__\n",
      "__ixor__\n",
      "__le__  skipped\n",
      "__len__\n",
      "__long__\n",
      "__lshift__\n",
      "__lt__  skipped\n",
      "__matmul__\n",
      "__mod__\n",
      "__module__  skipped\n",
      "__mul__\n",
      "__ne__  skipped\n",
      "__neg__\n",
      "__new__  skipped\n",
      "__nonzero__\n",
      "__or__\n",
      "__pow__\n",
      "__radd__\n",
      "__rdiv__\n",
      "__reduce__  skipped\n",
      "__reduce_ex__  skipped\n",
      "__repr__  skipped\n",
      "__rmul__\n",
      "__rpow__\n",
      "__rshift__\n",
      "__rsub__\n",
      "__rtruediv__\n",
      "__setattr__  skipped\n",
      "__setitem__\n",
      "__setstate__\n",
      "__sizeof__  skipped\n",
      "__str__  skipped\n",
      "__sub__\n",
      "__subclasshook__  skipped\n",
      "__truediv__\n",
      "__weakref__  skipped\n",
      "__xor__\n",
      "_advanced_index_add\n",
      "_advanced_index_select\n",
      "_cdata  skipped\n",
      "_check_advanced_indexing\n",
      "_new_with_metadata_file  skipped\n",
      "_set_index\n",
      "_sparse_mask\n",
      "_torch  skipped\n",
      "_write_metadata\n",
      "abs\n",
      "abs_\n",
      "acos\n",
      "acos_\n",
      "add\n",
      "add_\n",
      "addbmm\n",
      "addbmm_\n",
      "addcdiv\n",
      "addcdiv_\n",
      "addcmul\n",
      "addcmul_\n",
      "addmm\n",
      "addmm_\n",
      "addmv\n",
      "addmv_\n",
      "addr\n",
      "addr_\n",
      "apply_\n",
      "asin\n",
      "asin_\n",
      "atan\n",
      "atan2\n",
      "atan2_\n",
      "atan_\n",
      "baddbmm\n",
      "baddbmm_\n",
      "bernoulli\n",
      "bernoulli_\n",
      "bmm\n",
      "btrifact\n",
      "btrisolve\n",
      "byte\n",
      "cauchy_\n",
      "ceil\n",
      "ceil_\n",
      "char\n",
      "chunk\n",
      "clamp\n",
      "clamp_\n",
      "clone\n",
      "contiguous\n",
      "copy_\n",
      "cos\n",
      "cos_\n",
      "cosh\n",
      "cosh_\n",
      "cpu\n",
      "cross\n",
      "cuda\n",
      "cumprod\n",
      "cumsum\n",
      "data  skipped\n",
      "data_ptr\n",
      "de  skipped\n",
      "diag\n",
      "dim\n",
      "dist\n",
      "div\n",
      "div_\n",
      "dot\n",
      "double\n",
      "eig\n",
      "element_size\n",
      "eq\n",
      "eq_\n",
      "equal\n",
      "erf\n",
      "erf_\n",
      "erfinv\n",
      "erfinv_\n",
      "exp\n",
      "exp_\n",
      "expand\n",
      "expand_as\n",
      "exponential_\n",
      "fill_\n",
      "float\n",
      "floor\n",
      "floor_\n",
      "fmod\n",
      "fmod_\n",
      "frac\n",
      "frac_\n",
      "gather\n",
      "ge\n",
      "ge_\n",
      "gels\n",
      "geometric_\n",
      "geqrf\n",
      "ger\n",
      "gesv\n",
      "get  skipped\n",
      "gt\n",
      "gt_\n",
      "half\n",
      "histc\n",
      "index\n",
      "index_add_\n",
      "index_copy_\n",
      "index_fill_\n",
      "index_select\n",
      "int\n",
      "inverse\n",
      "is_contiguous\n",
      "is_cuda  skipped\n",
      "is_pinned\n",
      "is_same_size\n",
      "is_set_to\n",
      "is_shared\n",
      "is_signed\n",
      "is_sparse  skipped\n",
      "kthvalue\n",
      "le\n",
      "le_\n",
      "lerp\n",
      "lerp_\n",
      "lgamma\n",
      "lgamma_\n",
      "log\n",
      "log1p\n",
      "log1p_\n",
      "log_\n",
      "log_normal_\n",
      "long\n",
      "lt\n",
      "lt_\n",
      "map2_\n",
      "map_\n",
      "masked_copy_\n",
      "masked_fill_\n",
      "masked_scatter_\n",
      "masked_select\n",
      "matmul\n",
      "max\n",
      "mean\n",
      "median\n",
      "min\n",
      "mm\n",
      "mode\n",
      "mul\n",
      "mul_\n",
      "multinomial\n",
      "mv\n",
      "narrow\n",
      "ndimension  skipped\n",
      "ne\n",
      "ne_\n",
      "neg\n",
      "neg_\n",
      "nelement  skipped\n",
      "new\n",
      "nonzero\n",
      "norm\n",
      "normal_\n",
      "numel  skipped\n",
      "numpy\n",
      "old__repr__  skipped\n",
      "orgqr\n",
      "ormqr\n",
      "permute\n",
      "pin_memory\n",
      "potrf\n",
      "potri\n",
      "potrs\n",
      "pow\n",
      "pow_\n",
      "process_command  skipped\n",
      "prod\n",
      "pstrf\n",
      "put_\n",
      "qr\n",
      "random_\n",
      "reciprocal\n",
      "reciprocal_\n",
      "remainder\n",
      "remainder_\n",
      "renorm\n",
      "renorm_\n",
      "repeat\n",
      "resize_\n",
      "resize_as_\n",
      "round\n",
      "round_\n",
      "rsqrt\n",
      "rsqrt_\n",
      "scatter_\n",
      "scatter_add_\n",
      "select\n",
      "send  skipped\n",
      "ser  skipped\n",
      "set_\n",
      "shape  skipped\n",
      "share_memory_\n",
      "short\n",
      "sigmoid\n",
      "sigmoid_\n",
      "sign\n",
      "sign_\n",
      "sin\n",
      "sin_\n",
      "sinh\n",
      "sinh_\n",
      "size  skipped\n",
      "sort\n",
      "split\n",
      "sqrt\n",
      "sqrt_\n",
      "squeeze\n",
      "squeeze_\n",
      "std\n",
      "storage\n",
      "storage_offset\n",
      "storage_type  skipped\n",
      "stride\n",
      "sub\n",
      "sub_\n",
      "sum\n",
      "svd\n",
      "symeig\n",
      "t\n",
      "t_\n",
      "take\n",
      "tan\n",
      "tan_\n",
      "tanh\n",
      "tanh_\n",
      "tolist\n",
      "topk\n",
      "trace\n",
      "transpose\n",
      "transpose_\n",
      "tril\n",
      "tril_\n",
      "triu\n",
      "triu_\n",
      "trtrs\n",
      "trunc\n",
      "trunc_\n",
      "type\n",
      "type_as\n",
      "unfold\n",
      "uniform_\n",
      "unsqueeze\n",
      "unsqueeze_\n",
      "var\n",
      "view\n",
      "view_as\n",
      "zero_\n",
      "CPU times: user 16.6 ms, sys: 6.08 ms, total: 22.7 ms\n",
      "Wall time: 17.5 ms\n"
     ]
    }
   ],
   "source": [
    "%%time\n",
    "\n",
    "for attr in dir(torch):\n",
    "    if attr == 'typename':\n",
    "        continue\n",
    "    if type(torch.__getattribute__(attr)) in [FunctionType, BuiltinFunctionType]:\n",
    "        torch.__setattr__(attr, assign_workers_function(['A1','B1', 'B2'])(pass_func_args(torch.__getattribute__(attr))))\n",
    "\n",
    "exclude = ['ndimension', 'nelement', 'size','numel', 'ser', 'de']\n",
    "for attr in dir(torch.FloatTensor):\n",
    "    lit = getattr(torch.FloatTensor, attr)\n",
    "    is_desc = inspect.ismethoddescriptor(lit)\n",
    "    is_func = type(lit)==FunctionType\n",
    "    is_mappingproxy = attr == '__dict__'\n",
    "    try:\n",
    "        is_service_func = 'TorchService' in lit.__qualname__\n",
    "    except:\n",
    "        is_service_func = False\n",
    "    is_base = attr in dir(object)\n",
    "    is_old = re.match('old*', attr) is not None\n",
    "    if attr in exclude:\n",
    "        print(attr,' skipped')\n",
    "        continue\n",
    "    if (is_desc or (is_func and not is_service_func)) and not is_base and not is_old:\n",
    "        print(attr)\n",
    "        setattr(torch.FloatTensor, 'old_{}'.format(attr), lit)\n",
    "        setattr(torch.FloatTensor, attr, assign_workers_method(['A1','B1', 'B2'])(pass_method_args(lit)))\n",
    "    else:\n",
    "        print(attr, ' skipped')"
   ]
  },
  {
   "cell_type": "code",
   "execution_count": 17,
   "metadata": {},
   "outputs": [
    {
     "name": "stdout",
     "output_type": "stream",
     "text": [
      "CPU times: user 1.95 s, sys: 77.1 ms, total: 2.03 s\n",
      "Wall time: 2.02 s\n"
     ]
    }
   ],
   "source": [
    "%%time\n",
    "for x in range(100000):\n",
    "    y = torch.FloatTensor([[2,2],[2,2]])\n",
    "    z = torch.FloatTensor([[1,1],[1,1]])\n",
    "    res = y.add(z)"
   ]
  },
  {
   "cell_type": "code",
   "execution_count": 18,
   "metadata": {},
   "outputs": [],
   "source": [
    "x = y.add(z)"
   ]
  },
  {
   "cell_type": "code",
   "execution_count": 19,
   "metadata": {},
   "outputs": [
    {
     "name": "stdout",
     "output_type": "stream",
     "text": [
      "False\n",
      "6881100897\n"
     ]
    }
   ],
   "source": [
    "print(x.is_pointer_to_remote)\n",
    "print(x.id)"
   ]
  },
  {
   "cell_type": "code",
   "execution_count": 20,
   "metadata": {},
   "outputs": [
    {
     "data": {
      "text/plain": [
       "\n",
       " 3  3\n",
       " 3  3\n",
       "[torch.FloatTensor of size 2x2]"
      ]
     },
     "execution_count": 20,
     "metadata": {},
     "output_type": "execute_result"
    }
   ],
   "source": [
    "x"
   ]
  },
  {
   "cell_type": "code",
   "execution_count": 21,
   "metadata": {},
   "outputs": [
    {
     "data": {
      "text/plain": [
       "\n",
       " 0  0\n",
       " 0  0\n",
       "[torch.FloatTensor of size 2x2]"
      ]
     },
     "execution_count": 21,
     "metadata": {},
     "output_type": "execute_result"
    }
   ],
   "source": [
    "x.fill_(0)"
   ]
  },
  {
   "cell_type": "code",
   "execution_count": 22,
   "metadata": {},
   "outputs": [
    {
     "name": "stdout",
     "output_type": "stream",
     "text": [
      "\n",
      " 0  0\n",
      " 0  0\n",
      "[torch.FloatTensor of size 2x2]\n",
      "\n"
     ]
    }
   ],
   "source": [
    "print(x)"
   ]
  },
  {
   "cell_type": "code",
   "execution_count": 23,
   "metadata": {},
   "outputs": [],
   "source": [
    "x.is_pointer_to_remote = True\n",
    "x.owner = 'other_guy'"
   ]
  },
  {
   "cell_type": "code",
   "execution_count": 24,
   "metadata": {},
   "outputs": [
    {
     "name": "stdout",
     "output_type": "stream",
     "text": [
      "Placeholder print for sending command to worker A1\n",
      "normal_\n",
      "[<class 'torch.FloatTensor'>]\n",
      "[]\n",
      "===========\n",
      "\n",
      "Placeholder print for sending command to worker B1\n",
      "normal_\n",
      "[<class 'torch.FloatTensor'>]\n",
      "[]\n",
      "===========\n",
      "\n",
      "Placeholder print for sending command to worker B2\n",
      "normal_\n",
      "[<class 'torch.FloatTensor'>]\n",
      "[]\n",
      "===========\n",
      "\n",
      "Placeholder print for receiving commands from workers in the following list\n",
      "['A1', 'B1', 'B2']\n"
     ]
    },
    {
     "data": {
      "text/plain": [
       "(([ torch.FloatTensor - Location:other_guy ],), {})"
      ]
     },
     "execution_count": 24,
     "metadata": {},
     "output_type": "execute_result"
    }
   ],
   "source": [
    "x.normal_()"
   ]
  },
  {
   "cell_type": "code",
   "execution_count": 25,
   "metadata": {},
   "outputs": [
    {
     "name": "stdout",
     "output_type": "stream",
     "text": [
      "Placeholder print for sending command to worker A1\n",
      "uniform_\n",
      "[<class 'torch.FloatTensor'>]\n",
      "[]\n",
      "===========\n",
      "\n",
      "Placeholder print for sending command to worker B1\n",
      "uniform_\n",
      "[<class 'torch.FloatTensor'>]\n",
      "[]\n",
      "===========\n",
      "\n",
      "Placeholder print for sending command to worker B2\n",
      "uniform_\n",
      "[<class 'torch.FloatTensor'>]\n",
      "[]\n",
      "===========\n",
      "\n",
      "Placeholder print for receiving commands from workers in the following list\n",
      "['A1', 'B1', 'B2']\n"
     ]
    },
    {
     "data": {
      "text/plain": [
       "(([ torch.FloatTensor - Location:other_guy ],), {})"
      ]
     },
     "execution_count": 25,
     "metadata": {},
     "output_type": "execute_result"
    }
   ],
   "source": [
    "x.uniform_()"
   ]
  },
  {
   "cell_type": "code",
   "execution_count": 26,
   "metadata": {},
   "outputs": [
    {
     "name": "stdout",
     "output_type": "stream",
     "text": [
      "Placeholder print for sending command to worker A1\n",
      "add\n",
      "[<class 'torch.FloatTensor'>, <class 'torch.FloatTensor'>]\n",
      "[]\n",
      "===========\n",
      "\n",
      "Placeholder print for sending command to worker B1\n",
      "add\n",
      "[<class 'torch.FloatTensor'>, <class 'torch.FloatTensor'>]\n",
      "[]\n",
      "===========\n",
      "\n",
      "Placeholder print for sending command to worker B2\n",
      "add\n",
      "[<class 'torch.FloatTensor'>, <class 'torch.FloatTensor'>]\n",
      "[]\n",
      "===========\n",
      "\n",
      "Placeholder print for receiving commands from workers in the following list\n",
      "['A1', 'B1', 'B2']\n"
     ]
    },
    {
     "data": {
      "text/plain": [
       "(([ torch.FloatTensor - Location:other_guy ],\n",
       "  [ torch.FloatTensor - Location:other_guy ]),\n",
       " {})"
      ]
     },
     "execution_count": 26,
     "metadata": {},
     "output_type": "execute_result"
    }
   ],
   "source": [
    "torch.add(x, x)"
   ]
  }
 ],
 "metadata": {
  "kernelspec": {
   "display_name": "Python [conda env:openmined]",
   "language": "python",
   "name": "conda-env-openmined-py"
  },
  "language_info": {
   "codemirror_mode": {
    "name": "ipython",
    "version": 3
   },
   "file_extension": ".py",
   "mimetype": "text/x-python",
   "name": "python",
   "nbconvert_exporter": "python",
   "pygments_lexer": "ipython3",
   "version": "3.6.4"
  }
 },
 "nbformat": 4,
 "nbformat_minor": 2
}
