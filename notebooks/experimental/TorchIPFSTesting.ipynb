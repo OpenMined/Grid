{
 "cells": [
  {
   "cell_type": "code",
   "execution_count": 1,
   "metadata": {
    "collapsed": true
   },
   "outputs": [],
   "source": [
    "import torch"
   ]
  },
  {
   "cell_type": "code",
   "execution_count": 2,
   "metadata": {},
   "outputs": [
    {
     "name": "stderr",
     "output_type": "stream",
     "text": [
      "/Users/jasonmancuso/anaconda/envs/openmined/lib/python3.6/site-packages/h5py-2.7.1-py3.6-macosx-10.7-x86_64.egg/h5py/__init__.py:36: FutureWarning: Conversion of the second argument of issubdtype from `float` to `np.floating` is deprecated. In future, it will be treated as `np.float64 == np.dtype(float).type`.\n",
      "  from ._conv import register_converters as _register_converters\n",
      "Using TensorFlow backend.\n"
     ]
    }
   ],
   "source": [
    "from grid.clients.torch import TorchClient"
   ]
  },
  {
   "cell_type": "code",
   "execution_count": 3,
   "metadata": {},
   "outputs": [
    {
     "name": "stdout",
     "output_type": "stream",
     "text": [
      "\n",
      "\u001b[34mUPDATE: \u001b[0mConnecting to IPFS... this can take a few seconds...\n",
      "\n",
      "\u001b[32mSUCCESS: \u001b[0mConnected!!! - My ID: client:QmeVrfEayAzvVM9Ujhyu4SjtQnNmQmmF7dvyRtMmzc9wh4\n",
      "all parts .... ['', 'Users', 'jasonmancuso', '.openmined']\n",
      "full path /\n",
      "full path /Users/\n",
      "full path /Users/jasonmancuso/\n",
      "full path /Users/jasonmancuso/.openmined/\n",
      "\n",
      "\u001b[34mUPDATE: \u001b[0mQuerying known workers...\n",
      "\tWORKER: /p2p-circuit/ipfs/QmQabt3SWuDvjse9z7GAcH2BGQv4wH8bumkd4x5oXN2obX...\u001b[32mSUCCESS!!!\u001b[0m\n",
      "\tWORKER: /p2p-circuit/ipfs/QmXkWUybbTnfvFH8SUcrug6RGTLYTB23gSockKLxueR1vQ...\u001b[32mSUCCESS!!!\u001b[0m\n",
      "\tWORKER: /p2p-circuit/ipfs/QmXVoAQN2hHf5VF5SfCV4kQqZqNuZi3PE1so3pMYFguSUS...\u001b[32mSUCCESS!!!\u001b[0m\n",
      "\n",
      "\n",
      "\u001b[34mUPDATE: \u001b[0mSearching for IPFS nodes - 14 found overall - 3 are OpenMined workers          \n",
      "\n",
      "\u001b[32mSUCCESS: \u001b[0mFound 3 OpenMined nodes!!!\n",
      "\n",
      "Overloading Torch module\n",
      "Overloading FloatTensor\n",
      "Overloading DoubleTensor\n",
      "Overloading HalfTensor\n",
      "Overloading ByteTensor\n",
      "Overloading CharTensor\n",
      "Overloading ShortTensor\n",
      "Overloading IntTensor\n",
      "Overloading LongTensor\n",
      "Overloading Variable\n",
      "==============\n",
      "Overloading complete.\n"
     ]
    }
   ],
   "source": [
    "client = TorchClient(verbose=False)"
   ]
  },
  {
   "cell_type": "code",
   "execution_count": 9,
   "metadata": {},
   "outputs": [
    {
     "name": "stdout",
     "output_type": "stream",
     "text": [
      "QmQabt3SWuDvjse9z7GAcH2BGQv4wH8bumkd4x5oXN2obX\n",
      "anchor:QmXkWUybbTnfvFH8SUcrug6RGTLYTB23gSockKLxueR1vQ\n",
      "QmXVoAQN2hHf5VF5SfCV4kQqZqNuZi3PE1so3pMYFguSUS\n",
      "anchor:QmXkWUybbTnfvFH8SUcrug6RGTLYTB23gSockKLxueR1vQ\n"
     ]
    }
   ],
   "source": [
    "for x in client:\n",
    "    print(x)"
   ]
  },
  {
   "cell_type": "code",
   "execution_count": null,
   "metadata": {
    "collapsed": true
   },
   "outputs": [],
   "source": []
  }
 ],
 "metadata": {
  "kernelspec": {
   "display_name": "Python [conda env:openmined]",
   "language": "python",
   "name": "conda-env-openmined-py"
  },
  "language_info": {
   "codemirror_mode": {
    "name": "ipython",
    "version": 3
   },
   "file_extension": ".py",
   "mimetype": "text/x-python",
   "name": "python",
   "nbconvert_exporter": "python",
   "pygments_lexer": "ipython3",
   "version": "3.6.4"
  }
 },
 "nbformat": 4,
 "nbformat_minor": 2
}
