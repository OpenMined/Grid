{
 "cells": [
  {
   "cell_type": "code",
   "execution_count": 1,
   "metadata": {},
   "outputs": [],
   "source": [
    "### TODO DBG: Docstring or top-level comment\n",
    "# IMPORTANT: MAKE SURE YOU'RE RUNNING THIS NOTEBOOK FROM THE TOP-LEVEL OF THE Grid repo \n",
    "### TODO DBG: Remove this block, it's just because my env isn't setup with Torch\n",
    "import sys\n",
    "from unittest.mock import Mock\n",
    "sys.modules[\"torch\"] = Mock()"
   ]
  },
  {
   "cell_type": "code",
   "execution_count": 2,
   "metadata": {},
   "outputs": [],
   "source": [
    "# Imports and constants\n",
    "from grid.ipfsapi.version_tree import VersionTreeNode\n",
    "from grid.ipfsapi.client import Client as IpfsClient"
   ]
  },
  {
   "cell_type": "markdown",
   "metadata": {},
   "source": [
    "You'll need to have an IPFS daemon API server running at localhost:5001"
   ]
  },
  {
   "cell_type": "code",
   "execution_count": 3,
   "metadata": {},
   "outputs": [],
   "source": [
    "ipfs_client = IpfsClient()"
   ]
  },
  {
   "cell_type": "markdown",
   "metadata": {},
   "source": [
    "We'll create and upload to IPFS a chain of nodes of a new version tree, starting with the root.  The IPFS Client object can either be provided during init, or passed directly into methods that interact with IPFS."
   ]
  },
  {
   "cell_type": "code",
   "execution_count": 4,
   "metadata": {},
   "outputs": [],
   "source": [
    "DELIM = VersionTreeNode.DELIMITER\n",
    "contents = [b\"root content\",\n",
    "            b\"1st child of root\",\n",
    "            b\"2nd child of root\",\n",
    "            b\"grandchild, with \" + DELIM + b\"delimiter\" + DELIM]\n",
    "\n",
    "root_node = VersionTreeNode(contents=contents[0], ipfs_client=ipfs_client)  # no parent hash required\n",
    "root_hash = root_node.commit()  # The IPFS multihash addressing the serialized VersionTreeNode object\n",
    "\n",
    "first_child_node = VersionTreeNode(contents=contents[1], parent_hash=root_hash, ipfs_client=ipfs_client)\n",
    "first_child_hash = first_child_node.commit()\n",
    "\n",
    "second_child_node = VersionTreeNode(contents=contents[2], parent_hash=root_hash, ipfs_client=ipfs_client)\n",
    "second_child_hash = second_child_node.commit()\n",
    "\n",
    "# Contents that contain the delimiter should still behave properly.\n",
    "grandchild_node = VersionTreeNode(contents=contents[3], parent_hash=first_child_hash)\n",
    "grandchild_hash = grandchild_node.commit(ipfs_client)"
   ]
  },
  {
   "cell_type": "markdown",
   "metadata": {},
   "source": [
    "We've now created four nodes, each with different contents, and with edges from each child to its parent, addressed by its multihash.  The root in the tree we've created has two children, one of which has its own child.\n",
    "\n",
    "Let's start by retrieving each node directly by hash, using the static get_node_by_hash method."
   ]
  },
  {
   "cell_type": "code",
   "execution_count": 5,
   "metadata": {},
   "outputs": [
    {
     "name": "stdout",
     "output_type": "stream",
     "text": [
      "VersionTreeNode with contents: b'root content'\n",
      "parent_hash: None\n",
      "\n",
      "VersionTreeNode with contents: b'1st child of root'\n",
      "parent_hash: QmatVYrLdmpKurr5APtAq9Qqp4rFuUkTPEpDLuuhsTtPbY\n",
      "\n",
      "VersionTreeNode with contents: b'2nd child of root'\n",
      "parent_hash: QmatVYrLdmpKurr5APtAq9Qqp4rFuUkTPEpDLuuhsTtPbY\n",
      "\n",
      "VersionTreeNode with contents: b'grandchild, with |delimiter|'\n",
      "parent_hash: QmYHZ3BaivYbhzz86jCUtJLsj3BtjHTX8A1NX5gVLh6LHf\n"
     ]
    }
   ],
   "source": [
    "def print_nodes(nodes):\n",
    "    print(\"\\n\\n\".join(map(str, nodes)))\n",
    "\n",
    "hashes = [root_hash, first_child_hash, second_child_hash, grandchild_hash]\n",
    "retrieved_nodes = [VersionTreeNode.get_node_by_hash(h, ipfs_client) for h in hashes]\n",
    "print_nodes(retrieved_nodes)\n",
    "assert retrieved_nodes == [root_node, first_child_node, second_child_node, grandchild_node]"
   ]
  },
  {
   "cell_type": "markdown",
   "metadata": {},
   "source": [
    "Now we'll try out the get_with_ancestors() method, which returns an iterator of nodes that represent the node and all of its ancestors, from leaf to root.  Note that since this returns an iterator, we can go as far back in the tree as we like without incurring the network or computational cost of retrieving the whole chain."
   ]
  },
  {
   "cell_type": "code",
   "execution_count": 11,
   "metadata": {},
   "outputs": [
    {
     "name": "stdout",
     "output_type": "stream",
     "text": [
      "******* Grandchild node ancestor chain: ************\n",
      "VersionTreeNode with contents: b'grandchild, with |delimiter|'\n",
      "parent_hash: QmYHZ3BaivYbhzz86jCUtJLsj3BtjHTX8A1NX5gVLh6LHf\n",
      "\n",
      "VersionTreeNode with contents: b'1st child of root'\n",
      "parent_hash: QmatVYrLdmpKurr5APtAq9Qqp4rFuUkTPEpDLuuhsTtPbY\n",
      "\n",
      "VersionTreeNode with contents: b'root content'\n",
      "parent_hash: None\n",
      "\n",
      "******* First child node ancestor chain: ***********\n",
      "VersionTreeNode with contents: b'1st child of root'\n",
      "parent_hash: QmatVYrLdmpKurr5APtAq9Qqp4rFuUkTPEpDLuuhsTtPbY\n",
      "\n",
      "VersionTreeNode with contents: b'root content'\n",
      "parent_hash: None\n",
      "\n",
      "******* Second child node ancestor chain: ***********\n",
      "VersionTreeNode with contents: b'2nd child of root'\n",
      "parent_hash: QmatVYrLdmpKurr5APtAq9Qqp4rFuUkTPEpDLuuhsTtPbY\n",
      "\n",
      "VersionTreeNode with contents: b'root content'\n",
      "parent_hash: None\n",
      "\n",
      "******* Root's ancestor chain: *******\n",
      "VersionTreeNode with contents: b'root content'\n",
      "parent_hash: None\n"
     ]
    }
   ],
   "source": [
    "# Nodes that were not instantiated with an IPFS client need to pass one in.\n",
    "print(\"******* Grandchild node ancestor chain: ************\")\n",
    "print_nodes(grandchild_node.get_with_ancestors(ipfs_client))\n",
    "print(\"\\n******* First child node ancestor chain: ***********\")\n",
    "print_nodes(first_child_node.get_with_ancestors())\n",
    "print(\"\\n******* Second child node ancestor chain: ***********\")\n",
    "print_nodes(second_child_node.get_with_ancestors())\n",
    "print(\"\\n******* Root's ancestor chain: *******\")\n",
    "print_nodes(root_node.get_with_ancestors())"
   ]
  },
  {
   "cell_type": "markdown",
   "metadata": {},
   "source": [
    "get_node_with_ancestors_by_hash() is a convenience method that combines get_node_by_hash() and get_with_ancestors()"
   ]
  },
  {
   "cell_type": "code",
   "execution_count": 7,
   "metadata": {},
   "outputs": [
    {
     "name": "stdout",
     "output_type": "stream",
     "text": [
      "VersionTreeNode with contents: b'grandchild, with |delimiter|'\n",
      "parent_hash: QmYHZ3BaivYbhzz86jCUtJLsj3BtjHTX8A1NX5gVLh6LHf\n",
      "\n",
      "VersionTreeNode with contents: b'1st child of root'\n",
      "parent_hash: QmatVYrLdmpKurr5APtAq9Qqp4rFuUkTPEpDLuuhsTtPbY\n",
      "\n",
      "VersionTreeNode with contents: b'root content'\n",
      "parent_hash: None\n"
     ]
    }
   ],
   "source": [
    "print_nodes(grandchild_node.get_node_with_ancestors_by_hash(grandchild_hash, ipfs_client))"
   ]
  }
 ],
 "metadata": {
  "kernelspec": {
   "display_name": "Python 3",
   "language": "python",
   "name": "python3"
  },
  "language_info": {
   "codemirror_mode": {
    "name": "ipython",
    "version": 3
   },
   "file_extension": ".py",
   "mimetype": "text/x-python",
   "name": "python",
   "nbconvert_exporter": "python",
   "pygments_lexer": "ipython3",
   "version": "3.6.3"
  }
 },
 "nbformat": 4,
 "nbformat_minor": 2
}
