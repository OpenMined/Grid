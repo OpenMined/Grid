{
 "cells": [
  {
   "cell_type": "code",
   "execution_count": 1,
   "metadata": {
    "collapsed": true
   },
   "outputs": [],
   "source": [
    "import torch"
   ]
  },
  {
   "cell_type": "code",
   "execution_count": 2,
   "metadata": {},
   "outputs": [
    {
     "name": "stderr",
     "output_type": "stream",
     "text": [
      "/Users/jasonmancuso/anaconda/envs/openmined/lib/python3.6/site-packages/h5py-2.7.1-py3.6-macosx-10.7-x86_64.egg/h5py/__init__.py:36: FutureWarning: Conversion of the second argument of issubdtype from `float` to `np.floating` is deprecated. In future, it will be treated as `np.float64 == np.dtype(float).type`.\n",
      "  from ._conv import register_converters as _register_converters\n",
      "Using TensorFlow backend.\n"
     ]
    }
   ],
   "source": [
    "import re\n",
    "from grid.clients.torch import TorchClient"
   ]
  },
  {
   "cell_type": "code",
   "execution_count": 3,
   "metadata": {},
   "outputs": [
    {
     "name": "stdout",
     "output_type": "stream",
     "text": [
      "\n",
      "\u001b[34mUPDATE: \u001b[0mConnecting to IPFS... this can take a few seconds...\n",
      "\n",
      "\u001b[32mSUCCESS: \u001b[0mConnected!!! - My ID: client:QmeVrfEayAzvVM9Ujhyu4SjtQnNmQmmF7dvyRtMmzc9wh4\n",
      "all parts .... ['', 'Users', 'jasonmancuso', '.openmined']\n",
      "full path /\n",
      "full path /Users/\n",
      "full path /Users/jasonmancuso/\n",
      "full path /Users/jasonmancuso/.openmined/\n",
      "\n",
      "\u001b[34mUPDATE: \u001b[0mQuerying known workers...\n",
      "\tWORKER: /p2p-circuit/ipfs/QmXkWUybbTnfvFH8SUcrug6RGTLYTB23gSockKLxueR1vQ...\u001b[32mSUCCESS!!!\u001b[0m\n",
      "\tWORKER: /p2p-circuit/ipfs/QmXVoAQN2hHf5VF5SfCV4kQqZqNuZi3PE1so3pMYFguSUS...\u001b[32mSUCCESS!!!\u001b[0m\n",
      "\tWORKER: /p2p-circuit/ipfs/QmQabt3SWuDvjse9z7GAcH2BGQv4wH8bumkd4x5oXN2obX...\u001b[32mSUCCESS!!!\u001b[0m\n",
      "\n",
      "\n",
      "\u001b[34mUPDATE: \u001b[0mSearching for IPFS nodes - 9 found overall - 4 are OpenMined workers          \n",
      "\n",
      "\u001b[32mSUCCESS: \u001b[0mFound 4 OpenMined nodes!!!\n",
      "\n",
      "Overloading Torch module\n",
      "Overloading FloatTensor\n",
      "Overloading DoubleTensor\n",
      "Overloading HalfTensor\n",
      "Overloading ByteTensor\n",
      "Overloading CharTensor\n",
      "Overloading ShortTensor\n",
      "Overloading IntTensor\n",
      "Overloading LongTensor\n",
      "Overloading Variable\n",
      "==============\n",
      "Overloading complete.\n"
     ]
    }
   ],
   "source": [
    "client = TorchClient(verbose=False)"
   ]
  },
  {
   "cell_type": "code",
   "execution_count": 4,
   "metadata": {},
   "outputs": [
    {
     "name": "stdout",
     "output_type": "stream",
     "text": [
      "compute:QmeVrfEayAzvVM9Ujhyu4SjtQnNmQmmF7dvyRtMmzc9wh4\n",
      "compute:QmXJMbiCqQdFCUjwy63GMUDDKCfEabJRYo2RHPjheCW8mc\n"
     ]
    }
   ],
   "source": [
    "compute_nodes = [x for x in client if re.match('compute:', x)]\n",
    "for x in compute_nodes:\n",
    "    print(x)"
   ]
  },
  {
   "cell_type": "code",
   "execution_count": 5,
   "metadata": {},
   "outputs": [],
   "source": [
    "laptop = compute_nodes[0]\n",
    "desktop = compute_nodes[1]"
   ]
  },
  {
   "cell_type": "code",
   "execution_count": 6,
   "metadata": {
    "collapsed": true
   },
   "outputs": [],
   "source": [
    "# Convenient way to send specific tensors to certain nodes\n",
    "assign_tensors_to_nodes = {}\n",
    "assign_tensors_to_nodes[desktop] = []\n",
    "assign_tensors_to_nodes[laptop] = []"
   ]
  },
  {
   "cell_type": "code",
   "execution_count": 7,
   "metadata": {},
   "outputs": [],
   "source": [
    "# Loop over available nodes\n",
    "for node in compute_nodes:\n",
    "    for i in range(5):\n",
    "        # Just getting five randomly generated 2x2 matrices here\n",
    "        assign_tensors_to_nodes[node].append(torch.FloatTensor(2,2))\n",
    "        \n",
    "# Fill desktop tensors with 1s\n",
    "for tensor in assign_tensors_to_nodes[desktop]:\n",
    "    tensor.fill_(1)\n",
    "    \n",
    "# Fill desktop tensors with 2s\n",
    "for tensor in assign_tensors_to_nodes[laptop]:\n",
    "    tensor.fill_(2)"
   ]
  },
  {
   "cell_type": "code",
   "execution_count": 8,
   "metadata": {
    "scrolled": false
   },
   "outputs": [
    {
     "data": {
      "text/plain": [
       "[\n",
       "  1  1\n",
       "  1  1\n",
       " [torch.FloatTensor of size 2x2], \n",
       "  1  1\n",
       "  1  1\n",
       " [torch.FloatTensor of size 2x2], \n",
       "  1  1\n",
       "  1  1\n",
       " [torch.FloatTensor of size 2x2], \n",
       "  1  1\n",
       "  1  1\n",
       " [torch.FloatTensor of size 2x2], \n",
       "  1  1\n",
       "  1  1\n",
       " [torch.FloatTensor of size 2x2]]"
      ]
     },
     "execution_count": 8,
     "metadata": {},
     "output_type": "execute_result"
    }
   ],
   "source": [
    "# List of tensors -- tensors are local\n",
    "# Sanity check -- we want desktop to have 2x2 matrices filled with 1s\n",
    "assign_tensors_to_nodes[desktop]"
   ]
  },
  {
   "cell_type": "code",
   "execution_count": 9,
   "metadata": {
    "scrolled": false
   },
   "outputs": [
    {
     "data": {
      "text/plain": [
       "[\n",
       "  2  2\n",
       "  2  2\n",
       " [torch.FloatTensor of size 2x2], \n",
       "  2  2\n",
       "  2  2\n",
       " [torch.FloatTensor of size 2x2], \n",
       "  2  2\n",
       "  2  2\n",
       " [torch.FloatTensor of size 2x2], \n",
       "  2  2\n",
       "  2  2\n",
       " [torch.FloatTensor of size 2x2], \n",
       "  2  2\n",
       "  2  2\n",
       " [torch.FloatTensor of size 2x2]]"
      ]
     },
     "execution_count": 9,
     "metadata": {},
     "output_type": "execute_result"
    }
   ],
   "source": [
    "# List of tensors -- tensors are local\n",
    "# Sanity check -- we want laptop to have 2x2 matrices filled with 2s\n",
    "assign_tensors_to_nodes[laptop]"
   ]
  },
  {
   "cell_type": "code",
   "execution_count": 10,
   "metadata": {},
   "outputs": [
    {
     "name": "stdout",
     "output_type": "stream",
     "text": [
      "\n",
      " 16  16\n",
      " 16  16\n",
      "[torch.FloatTensor of size 2x2]\n",
      "\n"
     ]
    }
   ],
   "source": [
    "# Multiply all tensors we want to send to desktop.\n",
    "# Computation is done on this machine\n",
    "accumulate = assign_tensors_to_nodes[desktop][0]\n",
    "for x in assign_tensors_to_nodes[desktop][1:]:\n",
    "    accumulate = accumulate.matmul(x)\n",
    "print(accumulate)"
   ]
  },
  {
   "cell_type": "code",
   "execution_count": 11,
   "metadata": {},
   "outputs": [
    {
     "name": "stdout",
     "output_type": "stream",
     "text": [
      "\n",
      " 512  512\n",
      " 512  512\n",
      "[torch.FloatTensor of size 2x2]\n",
      "\n"
     ]
    }
   ],
   "source": [
    "# Multiply all tensors we want to send to laptop.\n",
    "# Computation is done on this machine\n",
    "accumulate = assign_tensors_to_nodes[laptop][0]\n",
    "for x in assign_tensors_to_nodes[laptop][1:]:\n",
    "    accumulate = accumulate.matmul(x)\n",
    "print(accumulate)"
   ]
  },
  {
   "cell_type": "code",
   "execution_count": 12,
   "metadata": {
    "collapsed": true
   },
   "outputs": [],
   "source": [
    "# Send tensors to desktop node\n",
    "for send_this_to_desktop in assign_tensors_to_nodes[desktop]:\n",
    "    send_this_to_desktop.send_(desktop)\n",
    "\n",
    "# Send tensors to laptop node\n",
    "for send_this_to_laptop in assign_tensors_to_nodes[laptop]:\n",
    "    send_this_to_laptop.send_(laptop)"
   ]
  },
  {
   "cell_type": "code",
   "execution_count": 13,
   "metadata": {},
   "outputs": [
    {
     "data": {
      "text/plain": [
       "[[torch.FloatTensor - Locations:['compute:QmXJMbiCqQdFCUjwy63GMUDDKCfEabJRYo2RHPjheCW8mc']],\n",
       " [torch.FloatTensor - Locations:['compute:QmXJMbiCqQdFCUjwy63GMUDDKCfEabJRYo2RHPjheCW8mc']],\n",
       " [torch.FloatTensor - Locations:['compute:QmXJMbiCqQdFCUjwy63GMUDDKCfEabJRYo2RHPjheCW8mc']],\n",
       " [torch.FloatTensor - Locations:['compute:QmXJMbiCqQdFCUjwy63GMUDDKCfEabJRYo2RHPjheCW8mc']],\n",
       " [torch.FloatTensor - Locations:['compute:QmXJMbiCqQdFCUjwy63GMUDDKCfEabJRYo2RHPjheCW8mc']]]"
      ]
     },
     "execution_count": 13,
     "metadata": {},
     "output_type": "execute_result"
    }
   ],
   "source": [
    "# List of desktop tensors, now on desktop node\n",
    "assign_tensors_to_nodes[desktop]"
   ]
  },
  {
   "cell_type": "code",
   "execution_count": 14,
   "metadata": {},
   "outputs": [
    {
     "data": {
      "text/plain": [
       "[[torch.FloatTensor - Locations:['compute:QmeVrfEayAzvVM9Ujhyu4SjtQnNmQmmF7dvyRtMmzc9wh4']],\n",
       " [torch.FloatTensor - Locations:['compute:QmeVrfEayAzvVM9Ujhyu4SjtQnNmQmmF7dvyRtMmzc9wh4']],\n",
       " [torch.FloatTensor - Locations:['compute:QmeVrfEayAzvVM9Ujhyu4SjtQnNmQmmF7dvyRtMmzc9wh4']],\n",
       " [torch.FloatTensor - Locations:['compute:QmeVrfEayAzvVM9Ujhyu4SjtQnNmQmmF7dvyRtMmzc9wh4']],\n",
       " [torch.FloatTensor - Locations:['compute:QmeVrfEayAzvVM9Ujhyu4SjtQnNmQmmF7dvyRtMmzc9wh4']]]"
      ]
     },
     "execution_count": 14,
     "metadata": {},
     "output_type": "execute_result"
    }
   ],
   "source": [
    "# List of laptop tensors, now on laptop node\n",
    "assign_tensors_to_nodes[laptop]"
   ]
  },
  {
   "cell_type": "code",
   "execution_count": 15,
   "metadata": {},
   "outputs": [
    {
     "name": "stdout",
     "output_type": "stream",
     "text": [
      "[torch.FloatTensor with no dimension]\n",
      "\n"
     ]
    }
   ],
   "source": [
    "# Multiply all tensors on desktop.\n",
    "# Computation is done on desktop.\n",
    "accumulate_desk = assign_tensors_to_nodes[desktop][0]\n",
    "for x in assign_tensors_to_nodes[desktop][1:]:\n",
    "    accumulate_desk = accumulate_desk.matmul(x)\n",
    "print(accumulate_desk)"
   ]
  },
  {
   "cell_type": "code",
   "execution_count": 16,
   "metadata": {},
   "outputs": [
    {
     "name": "stdout",
     "output_type": "stream",
     "text": [
      "[torch.FloatTensor with no dimension]\n",
      "\n"
     ]
    }
   ],
   "source": [
    "# Multiply all tensors on laptop.\n",
    "# Computation is done on laptop.\n",
    "accumulate_lap = assign_tensors_to_nodes[laptop][0]\n",
    "for x in assign_tensors_to_nodes[laptop][1:]:\n",
    "    accumulate_lap = accumulate_lap.matmul(x)\n",
    "print(accumulate_lap)"
   ]
  },
  {
   "cell_type": "code",
   "execution_count": 17,
   "metadata": {},
   "outputs": [
    {
     "data": {
      "text/plain": [
       "\n",
       " 16  16\n",
       " 16  16\n",
       "[torch.FloatTensor of size 2x2]"
      ]
     },
     "execution_count": 17,
     "metadata": {},
     "output_type": "execute_result"
    }
   ],
   "source": [
    "# Returns the data resulting from desktop computation\n",
    "accumulate_desk.get_()"
   ]
  },
  {
   "cell_type": "code",
   "execution_count": 18,
   "metadata": {},
   "outputs": [
    {
     "data": {
      "text/plain": [
       "\n",
       " 512  512\n",
       " 512  512\n",
       "[torch.FloatTensor of size 2x2]"
      ]
     },
     "execution_count": 18,
     "metadata": {},
     "output_type": "execute_result"
    }
   ],
   "source": [
    "# Returns the data resulting from laptop computation\n",
    "accumulate_lap.get_()"
   ]
  },
  {
   "cell_type": "code",
   "execution_count": 19,
   "metadata": {},
   "outputs": [
    {
     "data": {
      "text/plain": [
       "True"
      ]
     },
     "execution_count": 19,
     "metadata": {},
     "output_type": "execute_result"
    }
   ],
   "source": [
    "(2 * accumulate_desk ** 2 == accumulate_lap).all()"
   ]
  },
  {
   "cell_type": "code",
   "execution_count": 20,
   "metadata": {},
   "outputs": [
    {
     "data": {
      "text/plain": [
       "True"
      ]
     },
     "execution_count": 20,
     "metadata": {},
     "output_type": "execute_result"
    }
   ],
   "source": [
    "(accumulate_lap == accumulate).all()"
   ]
  }
 ],
 "metadata": {
  "kernelspec": {
   "display_name": "Python [conda env:openmined]",
   "language": "python",
   "name": "conda-env-openmined-py"
  },
  "language_info": {
   "codemirror_mode": {
    "name": "ipython",
    "version": 3
   },
   "file_extension": ".py",
   "mimetype": "text/x-python",
   "name": "python",
   "nbconvert_exporter": "python",
   "pygments_lexer": "ipython3",
   "version": "3.6.4"
  }
 },
 "nbformat": 4,
 "nbformat_minor": 2
}
