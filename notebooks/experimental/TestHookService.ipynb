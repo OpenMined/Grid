{
 "cells": [
  {
   "cell_type": "code",
   "execution_count": 1,
   "metadata": {},
   "outputs": [
    {
     "name": "stderr",
     "output_type": "stream",
     "text": [
      "/Users/jasonmancuso/anaconda/envs/openmined/lib/python3.6/site-packages/h5py-2.7.1-py3.6-macosx-10.7-x86_64.egg/h5py/__init__.py:36: FutureWarning: Conversion of the second argument of issubdtype from `float` to `np.floating` is deprecated. In future, it will be treated as `np.float64 == np.dtype(float).type`.\n",
      "  from ._conv import register_converters as _register_converters\n",
      "Using TensorFlow backend.\n"
     ]
    }
   ],
   "source": [
    "from grid.clients.torch import TorchClient"
   ]
  },
  {
   "cell_type": "code",
   "execution_count": 2,
   "metadata": {
    "scrolled": false
   },
   "outputs": [
    {
     "name": "stdout",
     "output_type": "stream",
     "text": [
      "\n",
      "\u001b[34mUPDATE: \u001b[0mConnecting to IPFS... this can take a few seconds...\n",
      "\n",
      "\u001b[32mSUCCESS: \u001b[0mConnected!!! - My ID: client:QmeVrfEayAzvVM9Ujhyu4SjtQnNmQmmF7dvyRtMmzc9wh4\n",
      "all parts .... ['', 'Users', 'jasonmancuso', '.openmined']\n",
      "full path /\n",
      "full path /Users/\n",
      "full path /Users/jasonmancuso/\n",
      "full path /Users/jasonmancuso/.openmined/\n",
      "\n",
      "\u001b[34mUPDATE: \u001b[0mQuerying known workers...\n",
      "\tWORKER: /p2p-circuit/ipfs/QmQabt3SWuDvjse9z7GAcH2BGQv4wH8bumkd4x5oXN2obX...\u001b[32mSUCCESS!!!\u001b[0m\n",
      "\n",
      "\n",
      "\u001b[34mUPDATE: \u001b[0mSearching for IPFS nodes - 5 found overall - 1 are OpenMined workers          \n",
      "\n",
      "\u001b[32mSUCCESS: \u001b[0mFound 1 OpenMined nodes!!!\n",
      "\n",
      "Overloading Torch module\n",
      "Overloading FloatTensor\n",
      "Overloading DoubleTensor\n",
      "Overloading HalfTensor\n",
      "Overloading ByteTensor\n",
      "Overloading CharTensor\n",
      "Overloading ShortTensor\n",
      "Overloading IntTensor\n",
      "Overloading LongTensor\n",
      "Overloading Variable\n",
      "==============\n",
      "Overloading complete.\n"
     ]
    }
   ],
   "source": [
    "# Must import torch before instantiating client,\n",
    "# otherwise the hooked torch module will not be in the current working environment\n",
    "import torch\n",
    "from torch.autograd import Variable\n",
    "known_workers=['/p2p-circuit/ipfs/QmQabt3SWuDvjse9z7GAcH2BGQv4wH8bumkd4x5oXN2obX']\n",
    "client = TorchClient(verbose = False, include_github_known_workers=False, known_workers =  known_workers)"
   ]
  },
  {
   "cell_type": "code",
   "execution_count": 3,
   "metadata": {
    "collapsed": true
   },
   "outputs": [],
   "source": [
    "x = torch.FloatTensor(5)"
   ]
  },
  {
   "cell_type": "code",
   "execution_count": 4,
   "metadata": {},
   "outputs": [
    {
     "data": {
      "text/plain": [
       "958270325"
      ]
     },
     "execution_count": 4,
     "metadata": {},
     "output_type": "execute_result"
    }
   ],
   "source": [
    "x.id"
   ]
  },
  {
   "cell_type": "code",
   "execution_count": 5,
   "metadata": {},
   "outputs": [
    {
     "name": "stdout",
     "output_type": "stream",
     "text": [
      "add\n",
      "<class 'builtin_function_or_method'>\n",
      "[['client:QmeVrfEayAzvVM9Ujhyu4SjtQnNmQmmF7dvyRtMmzc9wh4'], ['client:QmeVrfEayAzvVM9Ujhyu4SjtQnNmQmmF7dvyRtMmzc9wh4']]\n"
     ]
    },
    {
     "data": {
      "text/plain": [
       "\n",
       " 0.0000e+00\n",
       " 7.3787e+19\n",
       "-1.9816e-21\n",
       " 5.0499e-29\n",
       " 5.6052e-45\n",
       "[torch.FloatTensor of size 5]"
      ]
     },
     "execution_count": 5,
     "metadata": {},
     "output_type": "execute_result"
    }
   ],
   "source": [
    "torch.add(x, x)"
   ]
  },
  {
   "cell_type": "code",
   "execution_count": 6,
   "metadata": {},
   "outputs": [
    {
     "data": {
      "text/plain": [
       "['client:QmeVrfEayAzvVM9Ujhyu4SjtQnNmQmmF7dvyRtMmzc9wh4']"
      ]
     },
     "execution_count": 6,
     "metadata": {},
     "output_type": "execute_result"
    }
   ],
   "source": [
    "x.owners"
   ]
  },
  {
   "cell_type": "code",
   "execution_count": 7,
   "metadata": {
    "collapsed": true
   },
   "outputs": [],
   "source": [
    "y = Variable(x)"
   ]
  },
  {
   "cell_type": "code",
   "execution_count": 8,
   "metadata": {},
   "outputs": [
    {
     "data": {
      "text/plain": [
       "['client:QmeVrfEayAzvVM9Ujhyu4SjtQnNmQmmF7dvyRtMmzc9wh4']"
      ]
     },
     "execution_count": 8,
     "metadata": {},
     "output_type": "execute_result"
    }
   ],
   "source": [
    "y.owners"
   ]
  },
  {
   "cell_type": "code",
   "execution_count": 9,
   "metadata": {},
   "outputs": [
    {
     "name": "stdout",
     "output_type": "stream",
     "text": [
      "add\n",
      "<class 'builtin_function_or_method'>\n",
      "[['client:QmeVrfEayAzvVM9Ujhyu4SjtQnNmQmmF7dvyRtMmzc9wh4'], ['client:QmeVrfEayAzvVM9Ujhyu4SjtQnNmQmmF7dvyRtMmzc9wh4']]\n"
     ]
    },
    {
     "data": {
      "text/plain": [
       "Variable containing:\n",
       " 0.0000e+00\n",
       " 7.3787e+19\n",
       "-1.9816e-21\n",
       " 5.0499e-29\n",
       " 5.6052e-45\n",
       "[torch.FloatTensor of size 5]"
      ]
     },
     "execution_count": 9,
     "metadata": {},
     "output_type": "execute_result"
    }
   ],
   "source": [
    "torch.add(y, y)"
   ]
  },
  {
   "cell_type": "code",
   "execution_count": 10,
   "metadata": {
    "collapsed": true
   },
   "outputs": [],
   "source": [
    "x.is_pointer_to_remote = True\n",
    "x.owners = ['worker:other_guy']"
   ]
  },
  {
   "cell_type": "code",
   "execution_count": 11,
   "metadata": {},
   "outputs": [
    {
     "name": "stdout",
     "output_type": "stream",
     "text": [
      "add\n",
      "<class 'builtin_function_or_method'>\n",
      "[['worker:other_guy'], ['worker:other_guy']]\n",
      "Placeholder print for sending command to worker worker:other_guy\n",
      "add\n",
      "[<class 'torch.FloatTensor'>, <class 'torch.FloatTensor'>]\n",
      "[]\n",
      "===========\n",
      "\n"
     ]
    },
    {
     "data": {
      "text/plain": [
       "(([ <class 'torch.FloatTensor'> - Location:['worker:other_guy'] ],\n",
       "  [ <class 'torch.FloatTensor'> - Location:['worker:other_guy'] ]),\n",
       " {})"
      ]
     },
     "execution_count": 11,
     "metadata": {},
     "output_type": "execute_result"
    }
   ],
   "source": [
    "torch.add(x, x)"
   ]
  },
  {
   "cell_type": "code",
   "execution_count": 12,
   "metadata": {},
   "outputs": [
    {
     "name": "stdout",
     "output_type": "stream",
     "text": [
      "add\n",
      "<class 'method_descriptor'>\n",
      "[['worker:other_guy'], ['worker:other_guy']]\n",
      "Placeholder print for sending command to worker worker:other_guy\n",
      "add\n",
      "[<class 'torch.FloatTensor'>, <class 'torch.FloatTensor'>]\n",
      "[]\n",
      "===========\n",
      "\n"
     ]
    },
    {
     "data": {
      "text/plain": [
       "(([ <class 'torch.FloatTensor'> - Location:['worker:other_guy'] ],\n",
       "  [ <class 'torch.FloatTensor'> - Location:['worker:other_guy'] ]),\n",
       " {})"
      ]
     },
     "execution_count": 12,
     "metadata": {},
     "output_type": "execute_result"
    }
   ],
   "source": [
    "x.add(x)"
   ]
  },
  {
   "cell_type": "code",
   "execution_count": null,
   "metadata": {
    "collapsed": true
   },
   "outputs": [],
   "source": []
  }
 ],
 "metadata": {
  "kernelspec": {
   "display_name": "Python [conda env:openmined]",
   "language": "python",
   "name": "conda-env-openmined-py"
  },
  "language_info": {
   "codemirror_mode": {
    "name": "ipython",
    "version": 3
   },
   "file_extension": ".py",
   "mimetype": "text/x-python",
   "name": "python",
   "nbconvert_exporter": "python",
   "pygments_lexer": "ipython3",
   "version": "3.6.4"
  }
 },
 "nbformat": 4,
 "nbformat_minor": 2
}
