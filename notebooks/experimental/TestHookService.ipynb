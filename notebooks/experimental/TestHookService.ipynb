{
 "cells": [
  {
   "cell_type": "markdown",
   "metadata": {},
   "source": [
    "### Basic Testing for Issue 129"
   ]
  },
  {
   "cell_type": "code",
   "execution_count": 1,
   "metadata": {
    "collapsed": true
   },
   "outputs": [],
   "source": [
    "import torch\n",
    "import re\n",
    "from functools import partial, partialmethod"
   ]
  },
  {
   "cell_type": "code",
   "execution_count": 2,
   "metadata": {
    "collapsed": true
   },
   "outputs": [],
   "source": [
    "def map_tuple(service, args, func):\n",
    "    if service:\n",
    "        return tuple(func(service, x) for x in args)\n",
    "    else:\n",
    "        return tuple(func(x) for x in args)\n",
    "\n",
    "def map_dict(service, kwargs, func):\n",
    "    if service:\n",
    "        return {key:func(service, val) for key, val in kwargs.items()}\n",
    "    else:\n",
    "        return {key:func(val) for key, val in kwargs.items()}\n",
    "\n",
    "def passer(func, *args, **kwargs):\n",
    "    return partial(func, *args, **kwargs)\n",
    "\n",
    "def passer_m(func, *args, **kwargs):\n",
    "    return partialmethod(func, *args, **kwargs)\n",
    "\n",
    "def compile_command(partial_func, has_self):\n",
    "    func = partial_func.func\n",
    "    args = partial_func.args\n",
    "    kwargs = partial_func.keywords\n",
    "    command = {}\n",
    "    command['has_self'] = has_self\n",
    "    if has_self:\n",
    "        command['self'] = replace_tensorvar(args[0])\n",
    "        args = args[1:]\n",
    "    command['command'] = func.__name__\n",
    "    command['args'] = map_tuple(None, args, replace_tensorvar)\n",
    "    command['kwargs'] = map_dict(None, kwargs, replace_tensorvar)\n",
    "    return command"
   ]
  },
  {
   "cell_type": "code",
   "execution_count": 3,
   "metadata": {
    "collapsed": true
   },
   "outputs": [],
   "source": [
    "class DummyWorker(object):\n",
    "    def __init__(self):\n",
    "        self.objects = {}\n",
    "\n",
    "class DummyService(object):\n",
    "    def __init__(self, worker):\n",
    "        super().__init__()\n",
    "        self.worker = worker\n",
    "        \n",
    "def replace_tensorvar(x):\n",
    "    try:\n",
    "        return '_fl.{}'.format(x.id) if (torch.is_tensor(x) \n",
    "            or isinstance(x, torch.autograd.Variable)) else [replace_tensorvar(i) for i in x]\n",
    "    except (AttributeError, TypeError):\n",
    "        return x\n",
    "    \n",
    "def retrieve_tensor(self, x):\n",
    "    try:\n",
    "        return self.worker.objects[id_tensorvar(x)]\n",
    "    except TypeError:\n",
    "        try:\n",
    "            return [self.worker.objects[i] for i in id_tensorvar(x)]\n",
    "        except TypeError:\n",
    "            return x\n",
    "    except KeyError:\n",
    "        return x\n",
    "\n",
    "def command_guard(command, allowed):\n",
    "    if command not in allowed:\n",
    "        raise RuntimeError(\n",
    "            'Command \"{}\" is not a supported Torch operation.'.format(command))\n",
    "    return command\n",
    "\n",
    "def id_tensorvar(x):\n",
    "    pat = re.compile('_fl.(.*)')\n",
    "    try:\n",
    "        if isinstance(x, str):\n",
    "            return pat.search(x).group(1)\n",
    "        else:\n",
    "            return [id_tensorvar(i) for i in x]\n",
    "    except AttributeError:\n",
    "        return x\n",
    "    \n",
    "def process_command(self, command_msg):\n",
    "    args = map_tuple(self, command_msg['args'], retrieve_tensor)\n",
    "    kwargs = map_dict(self, command_msg['kwargs'], retrieve_tensor)\n",
    "    has_self = command_msg['has_self']\n",
    "    if has_self:\n",
    "        command = command_guard(command_msg['command'],\n",
    "            self.tensorvar_methods)\n",
    "        obj_self = retrieve_tensor(self, command_msg['self'])\n",
    "        command = eval('obj_self.{}'.format(command))\n",
    "    else:\n",
    "        command = command_guard(command_msg['command'], self.torch_funcs)\n",
    "        command = eval('torch.{}'.format(command))\n",
    "    return command(*args, **kwargs)"
   ]
  },
  {
   "cell_type": "code",
   "execution_count": 4,
   "metadata": {
    "collapsed": true
   },
   "outputs": [],
   "source": [
    "worker = DummyWorker()\n",
    "self = DummyService(worker)"
   ]
  },
  {
   "cell_type": "code",
   "execution_count": 5,
   "metadata": {
    "collapsed": true
   },
   "outputs": [],
   "source": [
    "self.tensor_types = [torch.FloatTensor,\n",
    "    torch.DoubleTensor,\n",
    "    torch.HalfTensor,\n",
    "    torch.ByteTensor,\n",
    "    torch.CharTensor,\n",
    "    torch.ShortTensor,\n",
    "    torch.IntTensor,\n",
    "    torch.LongTensor]\n",
    "\n",
    "self.var_types = [torch.autograd.variable.Variable]\n",
    "\n",
    "self.tensorvar_types = self.tensor_types + self.var_types\n",
    "\n",
    "self.torch_funcs = dir(torch)\n",
    "\n",
    "self.tensorvar_methods = list(\n",
    "            set(\n",
    "                [method\n",
    "                    for tensorvar in self.tensorvar_types\n",
    "                    for method in dir(tensorvar)]\n",
    "                )\n",
    "            )"
   ]
  },
  {
   "cell_type": "code",
   "execution_count": 6,
   "metadata": {
    "collapsed": true
   },
   "outputs": [],
   "source": [
    "x = torch.FloatTensor(3,3).uniform_()\n",
    "x.id = 'poof'\n",
    "y = torch.FloatTensor(3,3).uniform_()\n",
    "y.id = 'boop'"
   ]
  },
  {
   "cell_type": "code",
   "execution_count": 7,
   "metadata": {
    "collapsed": true
   },
   "outputs": [],
   "source": [
    "self.worker.objects[x.id] = x\n",
    "self.worker.objects[y.id] = y"
   ]
  },
  {
   "cell_type": "code",
   "execution_count": 8,
   "metadata": {
    "collapsed": true
   },
   "outputs": [],
   "source": [
    "part = passer(torch.add,x,other=y)\n",
    "comm = compile_command(part, has_self=False)\n",
    "part_m = passer_m(torch.FloatTensor.add, x, other=y)\n",
    "comm_m = compile_command(part_m, has_self=True)\n",
    "part_cat = passer(torch.cat,[x,y],dim=0)\n",
    "comm_cat = compile_command(part_cat, has_self=False)"
   ]
  },
  {
   "cell_type": "code",
   "execution_count": 9,
   "metadata": {},
   "outputs": [
    {
     "data": {
      "text/plain": [
       "{'args': ('_fl.poof',),\n",
       " 'command': 'add',\n",
       " 'has_self': False,\n",
       " 'kwargs': {'other': '_fl.boop'}}"
      ]
     },
     "execution_count": 9,
     "metadata": {},
     "output_type": "execute_result"
    }
   ],
   "source": [
    "comm"
   ]
  },
  {
   "cell_type": "code",
   "execution_count": 10,
   "metadata": {},
   "outputs": [
    {
     "data": {
      "text/plain": [
       "{'args': (),\n",
       " 'command': 'add',\n",
       " 'has_self': True,\n",
       " 'kwargs': {'other': '_fl.boop'},\n",
       " 'self': '_fl.poof'}"
      ]
     },
     "execution_count": 10,
     "metadata": {},
     "output_type": "execute_result"
    }
   ],
   "source": [
    "comm_m"
   ]
  },
  {
   "cell_type": "code",
   "execution_count": 11,
   "metadata": {},
   "outputs": [
    {
     "data": {
      "text/plain": [
       "{'args': (['_fl.poof', '_fl.boop'],),\n",
       " 'command': 'cat',\n",
       " 'has_self': False,\n",
       " 'kwargs': {'dim': 0}}"
      ]
     },
     "execution_count": 11,
     "metadata": {},
     "output_type": "execute_result"
    }
   ],
   "source": [
    "comm_cat"
   ]
  },
  {
   "cell_type": "code",
   "execution_count": 12,
   "metadata": {},
   "outputs": [
    {
     "name": "stdout",
     "output_type": "stream",
     "text": [
      "\n",
      " 0.0490  0.2131  0.9104\n",
      " 0.3258  0.9905  0.4065\n",
      " 0.5038  0.3850  0.3989\n",
      "[torch.FloatTensor of size 3x3]\n",
      "\n"
     ]
    }
   ],
   "source": [
    "print(x)"
   ]
  },
  {
   "cell_type": "code",
   "execution_count": 13,
   "metadata": {},
   "outputs": [
    {
     "name": "stdout",
     "output_type": "stream",
     "text": [
      "\n",
      " 0.3818  0.1040  0.4905\n",
      " 0.4824  0.4064  0.0770\n",
      " 0.2465  0.2892  0.3712\n",
      "[torch.FloatTensor of size 3x3]\n",
      "\n"
     ]
    }
   ],
   "source": [
    "print(y)"
   ]
  },
  {
   "cell_type": "code",
   "execution_count": 14,
   "metadata": {},
   "outputs": [
    {
     "data": {
      "text/plain": [
       "True"
      ]
     },
     "execution_count": 14,
     "metadata": {},
     "output_type": "execute_result"
    }
   ],
   "source": [
    "(process_command(self, comm) == (x + y)).all()"
   ]
  },
  {
   "cell_type": "code",
   "execution_count": 15,
   "metadata": {},
   "outputs": [
    {
     "data": {
      "text/plain": [
       "True"
      ]
     },
     "execution_count": 15,
     "metadata": {},
     "output_type": "execute_result"
    }
   ],
   "source": [
    "(process_command(self, comm) == process_command(self, comm_m)).all()"
   ]
  },
  {
   "cell_type": "code",
   "execution_count": 16,
   "metadata": {},
   "outputs": [
    {
     "data": {
      "text/plain": [
       "True"
      ]
     },
     "execution_count": 16,
     "metadata": {},
     "output_type": "execute_result"
    }
   ],
   "source": [
    "(process_command(self, comm_cat) == torch.cat([x,y], dim=0)).all()"
   ]
  },
  {
   "cell_type": "markdown",
   "metadata": {},
   "source": [
    "### Testing for Issue 133"
   ]
  },
  {
   "cell_type": "code",
   "execution_count": 17,
   "metadata": {},
   "outputs": [
    {
     "name": "stderr",
     "output_type": "stream",
     "text": [
      "/Users/jasonmancuso/anaconda/envs/openmined/lib/python3.6/site-packages/h5py-2.7.1-py3.6-macosx-10.7-x86_64.egg/h5py/__init__.py:36: FutureWarning: Conversion of the second argument of issubdtype from `float` to `np.floating` is deprecated. In future, it will be treated as `np.float64 == np.dtype(float).type`.\n",
      "  from ._conv import register_converters as _register_converters\n",
      "Using TensorFlow backend.\n"
     ]
    }
   ],
   "source": [
    "from grid.clients.torch import TorchClient"
   ]
  },
  {
   "cell_type": "code",
   "execution_count": 18,
   "metadata": {
    "scrolled": false
   },
   "outputs": [
    {
     "name": "stdout",
     "output_type": "stream",
     "text": [
      "\n",
      "\u001b[34mUPDATE: \u001b[0mConnecting to IPFS... this can take a few seconds...\n",
      "\n",
      "\u001b[32mSUCCESS: \u001b[0mConnected!!! - My ID: client:QmeVrfEayAzvVM9Ujhyu4SjtQnNmQmmF7dvyRtMmzc9wh4\n",
      "all parts .... ['', 'Users', 'jasonmancuso', '.openmined']\n",
      "full path /\n",
      "full path /Users/\n",
      "full path /Users/jasonmancuso/\n",
      "full path /Users/jasonmancuso/.openmined/\n",
      "Overloading Torch module\n",
      "Overloading FloatTensor\n",
      "Overloading DoubleTensor\n",
      "Overloading HalfTensor\n",
      "Overloading ByteTensor\n",
      "Overloading CharTensor\n",
      "Overloading ShortTensor\n",
      "Overloading IntTensor\n",
      "Overloading LongTensor\n",
      "Overloading Variable\n",
      "==============\n",
      "Overloading complete.\n"
     ]
    }
   ],
   "source": [
    "# Must import torch before instantiating client,\n",
    "# otherwise the hooked torch module will not be in the current working environment\n",
    "import torch\n",
    "from torch.autograd import Variable\n",
    "known_workers=['/p2p-circuit/ipfs/QmQabt3SWuDvjse9z7GAcH2BGQv4wH8bumkd4x5oXN2obX']\n",
    "client = TorchClient(verbose = False, include_github_known_workers=True, known_workers =  known_workers)"
   ]
  },
  {
   "cell_type": "code",
   "execution_count": 19,
   "metadata": {
    "collapsed": true
   },
   "outputs": [],
   "source": [
    "x = torch.FloatTensor(5)"
   ]
  },
  {
   "cell_type": "code",
   "execution_count": 20,
   "metadata": {},
   "outputs": [
    {
     "data": {
      "text/plain": [
       "6153933887"
      ]
     },
     "execution_count": 20,
     "metadata": {},
     "output_type": "execute_result"
    }
   ],
   "source": [
    "x.id"
   ]
  },
  {
   "cell_type": "code",
   "execution_count": 21,
   "metadata": {},
   "outputs": [
    {
     "name": "stdout",
     "output_type": "stream",
     "text": [
      "[['client:QmeVrfEayAzvVM9Ujhyu4SjtQnNmQmmF7dvyRtMmzc9wh4'], ['client:QmeVrfEayAzvVM9Ujhyu4SjtQnNmQmmF7dvyRtMmzc9wh4']]\n"
     ]
    },
    {
     "data": {
      "text/plain": [
       "\n",
       " 0.0000e+00\n",
       " 4.0000e+00\n",
       "-1.1197e+31\n",
       " 3.1699e+29\n",
       " 4.8628e-14\n",
       "[torch.FloatTensor of size 5]"
      ]
     },
     "execution_count": 21,
     "metadata": {},
     "output_type": "execute_result"
    }
   ],
   "source": [
    "torch.add(x, x)"
   ]
  },
  {
   "cell_type": "code",
   "execution_count": 22,
   "metadata": {},
   "outputs": [
    {
     "data": {
      "text/plain": [
       "['client:QmeVrfEayAzvVM9Ujhyu4SjtQnNmQmmF7dvyRtMmzc9wh4']"
      ]
     },
     "execution_count": 22,
     "metadata": {},
     "output_type": "execute_result"
    }
   ],
   "source": [
    "x.owners"
   ]
  },
  {
   "cell_type": "code",
   "execution_count": 23,
   "metadata": {
    "collapsed": true
   },
   "outputs": [],
   "source": [
    "y = Variable(x)"
   ]
  },
  {
   "cell_type": "code",
   "execution_count": 24,
   "metadata": {},
   "outputs": [
    {
     "data": {
      "text/plain": [
       "['client:QmeVrfEayAzvVM9Ujhyu4SjtQnNmQmmF7dvyRtMmzc9wh4']"
      ]
     },
     "execution_count": 24,
     "metadata": {},
     "output_type": "execute_result"
    }
   ],
   "source": [
    "y.owners"
   ]
  },
  {
   "cell_type": "code",
   "execution_count": 25,
   "metadata": {},
   "outputs": [
    {
     "name": "stdout",
     "output_type": "stream",
     "text": [
      "[['client:QmeVrfEayAzvVM9Ujhyu4SjtQnNmQmmF7dvyRtMmzc9wh4'], ['client:QmeVrfEayAzvVM9Ujhyu4SjtQnNmQmmF7dvyRtMmzc9wh4']]\n"
     ]
    },
    {
     "data": {
      "text/plain": [
       "Variable containing:\n",
       " 0.0000e+00\n",
       " 4.0000e+00\n",
       "-1.1197e+31\n",
       " 3.1699e+29\n",
       " 4.8628e-14\n",
       "[torch.FloatTensor of size 5]"
      ]
     },
     "execution_count": 25,
     "metadata": {},
     "output_type": "execute_result"
    }
   ],
   "source": [
    "torch.add(y, y)"
   ]
  },
  {
   "cell_type": "code",
   "execution_count": 26,
   "metadata": {
    "collapsed": true
   },
   "outputs": [],
   "source": [
    "x.is_pointer = True\n",
    "x.owners = ['worker:other_guy']"
   ]
  },
  {
   "cell_type": "code",
   "execution_count": 27,
   "metadata": {},
   "outputs": [
    {
     "name": "stdout",
     "output_type": "stream",
     "text": [
      "[['worker:other_guy'], ['worker:other_guy']]\n",
      "Placeholder print for sending command to worker worker:other_guy\n",
      "add\n",
      "[<class 'torch.FloatTensor'>, <class 'torch.FloatTensor'>]\n",
      "[]\n",
      "===========\n",
      "\n"
     ]
    }
   ],
   "source": [
    "z1 = torch.add(x, x)"
   ]
  },
  {
   "cell_type": "code",
   "execution_count": 28,
   "metadata": {},
   "outputs": [
    {
     "name": "stdout",
     "output_type": "stream",
     "text": [
      "[['worker:other_guy']]\n",
      "Placeholder print for sending command to worker worker:other_guy\n",
      "add\n",
      "[<class 'torch.FloatTensor'>]\n",
      "[]\n",
      "===========\n",
      "\n"
     ]
    }
   ],
   "source": [
    "z2 = x.add(x)"
   ]
  },
  {
   "cell_type": "code",
   "execution_count": 29,
   "metadata": {},
   "outputs": [
    {
     "name": "stdout",
     "output_type": "stream",
     "text": [
      "8773738021\n"
     ]
    },
    {
     "data": {
      "text/plain": [
       "['other_worker']"
      ]
     },
     "execution_count": 29,
     "metadata": {},
     "output_type": "execute_result"
    }
   ],
   "source": [
    "print(z1.id)\n",
    "z1.owners"
   ]
  },
  {
   "cell_type": "code",
   "execution_count": 30,
   "metadata": {},
   "outputs": [
    {
     "name": "stdout",
     "output_type": "stream",
     "text": [
      "8881315526\n"
     ]
    },
    {
     "data": {
      "text/plain": [
       "['other_worker']"
      ]
     },
     "execution_count": 30,
     "metadata": {},
     "output_type": "execute_result"
    }
   ],
   "source": [
    "print(z2.id)\n",
    "z2.owners"
   ]
  },
  {
   "cell_type": "code",
   "execution_count": 31,
   "metadata": {
    "collapsed": true
   },
   "outputs": [],
   "source": [
    "import json\n",
    "import torch"
   ]
  },
  {
   "cell_type": "code",
   "execution_count": 32,
   "metadata": {
    "collapsed": true
   },
   "outputs": [],
   "source": [
    "tensor_type = torch.FloatTensor"
   ]
  },
  {
   "cell_type": "code",
   "execution_count": 33,
   "metadata": {
    "collapsed": true
   },
   "outputs": [],
   "source": [
    "self = torch.LongTensor(5)\n",
    "self.id = 235412354\n",
    "self.owners = ['a','b']"
   ]
  },
  {
   "cell_type": "code",
   "execution_count": 34,
   "metadata": {},
   "outputs": [],
   "source": [
    "def ser(self, include_data=True):\n",
    "\n",
    "    msg = {}\n",
    "    msg['torch_type'] = self.type()\n",
    "    if (include_data):\n",
    "        msg['data'] = self.tolist()\n",
    "    msg['id'] = self.id\n",
    "    msg['owners'] = self.owners\n",
    "\n",
    "    return json.dumps(msg)"
   ]
  },
  {
   "cell_type": "code",
   "execution_count": 35,
   "metadata": {},
   "outputs": [
    {
     "data": {
      "text/plain": [
       "\"<class 'torch.autograd.variable.Variable'>\""
      ]
     },
     "execution_count": 35,
     "metadata": {},
     "output_type": "execute_result"
    }
   ],
   "source": [
    "str(torch.autograd.Variable)"
   ]
  },
  {
   "cell_type": "code",
   "execution_count": 36,
   "metadata": {},
   "outputs": [
    {
     "data": {
      "text/plain": [
       "Parameter containing:\n",
       " 4.6117e+18\n",
       " 4.6117e+18\n",
       " 9.0000e+00\n",
       " 1.6888e+15\n",
       " 4.6117e+18\n",
       "[torch.LongTensor of size 5]"
      ]
     },
     "execution_count": 36,
     "metadata": {},
     "output_type": "execute_result"
    }
   ],
   "source": [
    "torch.nn.parameter.Parameter(self)"
   ]
  },
  {
   "cell_type": "code",
   "execution_count": 37,
   "metadata": {
    "collapsed": true
   },
   "outputs": [],
   "source": [
    "msg = json.loads(ser(self))"
   ]
  },
  {
   "cell_type": "code",
   "execution_count": 38,
   "metadata": {
    "collapsed": true
   },
   "outputs": [],
   "source": [
    "map_torch_type = {\n",
    "    'torch.FloatTensor':torch.FloatTensor,\n",
    "    'torch.DoubleTensor':torch.DoubleTensor,\n",
    "    'torch.HalfTensor':torch.HalfTensor,\n",
    "    'torch.ByteTensor':torch.ByteTensor,\n",
    "    'torch.CharTensor':torch.CharTensor,\n",
    "    'torch.ShortTensor':torch.ShortTensor,\n",
    "    'torch.IntTensor':torch.IntTensor,\n",
    "    'torch.LongTensor':torch.LongTensor,\n",
    "    'torch.autograd.variable.Variable':torch.autograd.variable.Variable,\n",
    "    'torch.nn.parameter.Parameter':torch.nn.parameter.Parameter\n",
    "}"
   ]
  },
  {
   "cell_type": "code",
   "execution_count": 39,
   "metadata": {
    "collapsed": true
   },
   "outputs": [],
   "source": [
    "def types_guard(obj_type):\n",
    "    return map_torch_type[obj_type]"
   ]
  },
  {
   "cell_type": "code",
   "execution_count": 40,
   "metadata": {},
   "outputs": [
    {
     "data": {
      "text/plain": [
       "dict_values([<class 'torch.FloatTensor'>, <class 'torch.DoubleTensor'>, <class 'torch.HalfTensor'>, <class 'torch.ByteTensor'>, <class 'torch.CharTensor'>, <class 'torch.ShortTensor'>, <class 'torch.IntTensor'>, <class 'torch.LongTensor'>, <class 'torch.autograd.variable.Variable'>, <class 'torch.nn.parameter.Parameter'>])"
      ]
     },
     "execution_count": 40,
     "metadata": {},
     "output_type": "execute_result"
    }
   ],
   "source": [
    "map_torch_type.values()"
   ]
  },
  {
   "cell_type": "code",
   "execution_count": 41,
   "metadata": {},
   "outputs": [
    {
     "name": "stdout",
     "output_type": "stream",
     "text": [
      "<class 'str'>\n"
     ]
    }
   ],
   "source": [
    "print(type(msg['torch_type']))"
   ]
  },
  {
   "cell_type": "code",
   "execution_count": 42,
   "metadata": {},
   "outputs": [
    {
     "data": {
      "text/plain": [
       "torch.LongTensor"
      ]
     },
     "execution_count": 42,
     "metadata": {},
     "output_type": "execute_result"
    }
   ],
   "source": [
    "types_guard(msg['torch_type'])"
   ]
  },
  {
   "cell_type": "code",
   "execution_count": 43,
   "metadata": {
    "collapsed": true
   },
   "outputs": [],
   "source": [
    "def hook_tensor_serde(service_self, tensor_type):\n",
    "    def ser(self, include_data=True):\n",
    "\n",
    "        msg = {}\n",
    "        msg['torch_type'] = tensor_type\n",
    "        if (include_data):\n",
    "            msg['data'] = self.tolist()\n",
    "        msg['id'] = self.id\n",
    "        msg['owner'] = self.owner\n",
    "\n",
    "        return json.dumps(msg)\n",
    "\n",
    "    def de(self, msg):\n",
    "        if (type(msg) == str):\n",
    "            msg = json.loads(msg)\n",
    "\n",
    "        if ('data' in msg.keys()):\n",
    "            v = torch.FloatTensor(msg['data'])\n",
    "        else:\n",
    "            v = torch.zeros(0)\n",
    "\n",
    "        del service_self.objects[v.id]\n",
    "\n",
    "        if (msg['id'] in service_self.objects.keys()):\n",
    "            v_orig = service_self.objects[msg['id']].set_(v)\n",
    "            return v_orig\n",
    "        else:\n",
    "            self.objects[msg['id']] = v\n",
    "            v.id = msg['id']\n",
    "            v.owner = msg['owner']\n",
    "            return v\n",
    "\n",
    "    tensor_type.ser = ser\n",
    "    tensor_type.de = de\n",
    "\n",
    "def hook_var_serde(service_self):\n",
    "    # TODO\n",
    "    pass"
   ]
  },
  {
   "cell_type": "code",
   "execution_count": null,
   "metadata": {
    "collapsed": true
   },
   "outputs": [],
   "source": []
  }
 ],
 "metadata": {
  "kernelspec": {
   "display_name": "Python [conda env:openmined]",
   "language": "python",
   "name": "conda-env-openmined-py"
  },
  "language_info": {
   "codemirror_mode": {
    "name": "ipython",
    "version": 3
   },
   "file_extension": ".py",
   "mimetype": "text/x-python",
   "name": "python",
   "nbconvert_exporter": "python",
   "pygments_lexer": "ipython3",
   "version": "3.6.4"
  }
 },
 "nbformat": 4,
 "nbformat_minor": 2
}
