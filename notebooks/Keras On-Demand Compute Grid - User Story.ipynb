{
 "cells": [
  {
   "cell_type": "markdown",
   "metadata": {},
   "source": [
    "# Keras On-Demand Compute Grid - User Story\n",
    "\n",
    "This notebook shows you basic commands for either running a worker that trains other peoples models (Section 1: Run Worker) or to train your own model on the grid using the client (Section 2: Run Client). Before running this notebook, you need to have:\n",
    "\n",
    "- installed IPFS (https://ipfs.io/docs/install/)\n",
    "- run `python3 setup.py install` from the root directory of the OpenMined/Grid project (this project)\n",
    "\n",
    "Then you're ready to run this notebook!"
   ]
  },
  {
   "cell_type": "code",
   "execution_count": 1,
   "metadata": {},
   "outputs": [
    {
     "name": "stderr",
     "output_type": "stream",
     "text": [
      "/Users/atrask/anaconda/lib/python3.6/site-packages/h5py/__init__.py:36: FutureWarning: Conversion of the second argument of issubdtype from `float` to `np.floating` is deprecated. In future, it will be treated as `np.float64 == np.dtype(float).type`.\n",
      "  from ._conv import register_converters as _register_converters\n",
      "Using TensorFlow backend.\n"
     ]
    },
    {
     "name": "stdout",
     "output_type": "stream",
     "text": [
      "\n",
      "\u001b[34mUPDATE: \u001b[0mConnecting to IPFS... this can take a few seconds...\n",
      "\n",
      "\u001b[32mSUCCESS: \u001b[0mConnected!!! - My ID: Qma5efEQtBUxDonmSDajv9dZ52axH9MNULKTgVpXWK8Ak2\n",
      "\n",
      "\u001b[34mUPDATE: \u001b[0mQuerying known workers...\n",
      "\tWORKER: /p2p-circuit/ipfs/QmQabt3SWuDvjse9z7GAcH2BGQv4wH8bumkd4x5oXN2obX...\u001b[32mSUCCESS!!!\u001b[0m\n",
      "\tWORKER: /p2p-circuit/ipfs/Qmaosc64H6Y29VFCFYJzJXCX9AuRp7RCsekLmajHNVEARD...\u001b[32mSUCCESS!!!\u001b[0m\n",
      "\n",
      "\u001b[34mUPDATE: \u001b[0mSearching for IPFS nodes - 7 found overall - 2 are OpenMined workers          \n",
      "\n",
      "\u001b[32mSUCCESS: \u001b[0mFound 2 OpenMined nodes!!!\n",
      "\n",
      "\u001b[90m ANCHOR - 0 - ID:N2obX  Ping:0.28sec  CPUs:1  CPU Load:6.5  Disk-util:97.7%  RAM-util:9.5%  GPUs:[]\u001b[0m\n",
      "\u001b[90m ANCHOR - 1 - ID:VEARD  Ping:0.26sec  CPUs:1  CPU Load:5.0  Disk-util:97.7%  RAM-util:14.2%  GPUs:[]\u001b[0m\n"
     ]
    }
   ],
   "source": [
    "import numpy as np\n",
    "import keras, grid\n",
    "from keras.models import Sequential\n",
    "from keras.layers.core import Dense, Dropout, Activation\n",
    "from keras.optimizers import SGD\n",
    "from grid.clients.keras import KerasClient\n",
    "\n",
    "g = KerasClient(min_om_nodes=2)"
   ]
  },
  {
   "cell_type": "code",
   "execution_count": 14,
   "metadata": {},
   "outputs": [
    {
     "name": "stdout",
     "output_type": "stream",
     "text": [
      "\n",
      "\u001b[34mUPDATE: \u001b[0mQuerying known workers...\n",
      "\tWORKER: /p2p-circuit/ipfs/QmQabt3SWuDvjse9z7GAcH2BGQv4wH8bumkd4x5oXN2obX...\u001b[31mFAIL!!!\u001b[0m\n",
      "\tWORKER: /p2p-circuit/ipfs/Qmaosc64H6Y29VFCFYJzJXCX9AuRp7RCsekLmajHNVEARD...\u001b[32mSUCCESS!!!\u001b[0m\n",
      "ALREADY SUBSCRIBED TO openmined:list_workers:Qma5efEQtBUxDonmSDajv9dZ52axH9MNULKTgVpXWK8Ak2\n",
      "\n",
      "\u001b[34mUPDATE: \u001b[0mSearching for IPFS nodes - 40 found overall - 6 are OpenMined workers          \n",
      "\n",
      "\u001b[32mSUCCESS: \u001b[0mFound 6 OpenMined nodes!!!\n",
      "\n",
      "\u001b[90m ANCHOR - 0 - ID:N2obX  Ping:0.48sec  CPUs:1  CPU Load:3.9  Disk-util:97.7%  RAM-util:8.20%  GPUs:[]\u001b[0m\n",
      "\u001b[90m ANCHOR - 1 - ID:VEARD  Ping:0.59sec  CPUs:1  CPU Load:3.5  Disk-util:97.7%  RAM-util:4.09%  GPUs:[]\u001b[0m\n",
      "COMPUTE - 2 - ID:K4Gbz  Ping:1.17sec  CPUs:2  CPU Load:2.4  Disk-util:2.1%  RAM-util:81.1%  GPUs:[0 : Tesla K80 : 10891/11439]\n",
      "COMPUTE - 3 - ID:i2Yjw  Ping:0.34sec  CPUs:16  CPU Load:4.4  Disk-util:68.0%  RAM-util:78.0%  GPUs:[0 : GeForce GTX 1080 Ti : 799/11171]\n",
      "COMPUTE - 4 - ID:GuTrf  Ping:0.99sec  CPUs:2  CPU Load:1.8  Disk-util:2.1%  RAM-util:86.8%  GPUs:[0 : Tesla K80 : 2/11439]\n",
      "COMPUTE - 5 - ID:JGr7h  Ping:1.31sec  CPUs:2  CPU Load:1.8  Disk-util:2.1%  RAM-util:86.6%  GPUs:[0 : Tesla K80 : 2/11439]\n",
      "COMPUTE - 6 - ID:iPADh  Ping:0.41sec  CPUs:2  CPU Load:3.2  Disk-util:2.2%  RAM-util:80.5%  GPUs:[0 : Tesla K80 : 10891/11439]\n"
     ]
    }
   ],
   "source": [
    "g.refresh(True,True)"
   ]
  },
  {
   "cell_type": "code",
   "execution_count": 7,
   "metadata": {},
   "outputs": [
    {
     "data": {
      "text/plain": [
       "'QmRiBiNS7gMEX8JLgXK7cgntVwVcsnnEDEg48KBA3JGr7h'"
      ]
     },
     "execution_count": 7,
     "metadata": {},
     "output_type": "execute_result"
    }
   ],
   "source": [
    "g[5]"
   ]
  },
  {
   "cell_type": "code",
   "execution_count": 13,
   "metadata": {},
   "outputs": [
    {
     "name": "stdout",
     "output_type": "stream",
     "text": [
      "PREFERRED NODE:QmYhaStJx18kV2LLLxYbPWG9YHGjSE9TBWB2YoDs5iPADh\n",
      "Worker:iPADh - Epoch 0 of 20 - Valid Loss: 0.807278\n",
      "Worker:iPADh - Epoch 1 of 20 - Valid Loss: 0.779479\n",
      "Worker:iPADh - Epoch 2 of 20 - Valid Loss: 0.764040\n",
      "Worker:iPADh - Epoch 3 of 20 - Valid Loss: 0.755739\n",
      "Worker:iPADh - Epoch 4 of 20 - Valid Loss: 0.748835\n",
      "Worker:iPADh - Epoch 5 of 20 - Valid Loss: 0.744044\n",
      "Worker:iPADh - Epoch 6 of 20 - Valid Loss: 0.735664\n",
      "Worker:iPADh - Epoch 7 of 20 - Valid Loss: 0.731103\n",
      "Worker:iPADh - Epoch 8 of 20 - Valid Loss: 0.732560\n",
      "Worker:iPADh - Epoch 9 of 20 - Valid Loss: 0.729052\n",
      "Worker:iPADh - Epoch 10 of 20 - Valid Loss: 0.724547\n",
      "Worker:iPADh - Epoch 11 of 20 - Valid Loss: 0.718029\n",
      "Worker:iPADh - Epoch 12 of 20 - Valid Loss: 0.712462\n",
      "Worker:iPADh - Epoch 13 of 20 - Valid Loss: 0.714327\n",
      "Worker:iPADh - Epoch 14 of 20 - Valid Loss: 0.706593\n",
      "Worker:iPADh - Epoch 15 of 20 - Valid Loss: 0.705550\n",
      "Worker:iPADh - Epoch 16 of 20 - Valid Loss: 0.702763\n",
      "Worker:iPADh - Epoch 17 of 20 - Valid Loss: 0.699974\n",
      "Worker:iPADh - Epoch 18 of 20 - Valid Loss: 0.697212\n",
      "Worker:iPADh - Epoch 19 of 20 - Valid Loss: 0.692419\n",
      "\n",
      "\u001b[34mUPDATE: \u001b[0mConnecting to IPFS... this can take a few seconds...\n",
      "\n",
      "\u001b[32mSUCCESS: \u001b[0mConnected!!! - My ID: Qma5efEQtBUxDonmSDajv9dZ52axH9MNULKTgVpXWK8Ak2\n",
      "\n",
      "\u001b[34mUPDATE: \u001b[0mConnecting to IPFS... this can take a few seconds...\n",
      "\n",
      "\u001b[32mSUCCESS: \u001b[0mConnected!!! - My ID: Qma5efEQtBUxDonmSDajv9dZ52axH9MNULKTgVpXWK8Ak2\n"
     ]
    }
   ],
   "source": [
    "input = np.array([[0,0],[0,1],[1,0],[1,1]])\n",
    "target = np.array([[0],[1],[1],[0]])\n",
    "\n",
    "model = Sequential()\n",
    "model.add(Dense(8, input_dim=2))\n",
    "model.add(Activation('tanh'))\n",
    "model.add(Dense(1))\n",
    "model.add(Activation('sigmoid'))\n",
    "\n",
    "sgd = SGD(lr=0.1)\n",
    "model.compile(loss='binary_crossentropy', optimizer=sgd)\n",
    "\n",
    "model, train_spec = g.fit(model,input,target,epochs=20,log_interval=100,preferred_node=g[6])"
   ]
  },
  {
   "cell_type": "code",
   "execution_count": 9,
   "metadata": {},
   "outputs": [
    {
     "data": {
      "text/plain": [
       "{'batch_size': 1,\n",
       " 'data_addr': 'QmRy2NX5y6LSynVS9DL9ZtJ51yV57CtVAQsLZyuqZ5AB9E',\n",
       " 'epochs': 20,\n",
       " 'framework': 'keras',\n",
       " 'log_interval': 100,\n",
       " 'model_addr': 'Qma5iFvEzUzohjGQroQ9aUSox2cCQo2SK7uwAu1eKJxDd7',\n",
       " 'preferred_node': 'QmZ2kWw9pnrV1vP4Vvi1McRqYWcTQjDpKa3WQCwAHK4Gbz',\n",
       " 'train_channel': 'openmined_train_Qma5iFvEzUzohjGQroQ9aUSox2cCQo2SK7uwAu1eKJxDd7',\n",
       " 'type': 'fit'}"
      ]
     },
     "execution_count": 9,
     "metadata": {},
     "output_type": "execute_result"
    }
   ],
   "source": [
    "train_spec"
   ]
  },
  {
   "cell_type": "code",
   "execution_count": 10,
   "metadata": {},
   "outputs": [
    {
     "name": "stdout",
     "output_type": "stream",
     "text": [
      "_________________________________________________________________\n",
      "Layer (type)                 Output Shape              Param #   \n",
      "=================================================================\n",
      "dense_1 (Dense)              (None, 8)                 24        \n",
      "_________________________________________________________________\n",
      "activation_1 (Activation)    (None, 8)                 0         \n",
      "_________________________________________________________________\n",
      "dense_2 (Dense)              (None, 1)                 9         \n",
      "_________________________________________________________________\n",
      "activation_2 (Activation)    (None, 1)                 0         \n",
      "=================================================================\n",
      "Total params: 33\n",
      "Trainable params: 33\n",
      "Non-trainable params: 0\n",
      "_________________________________________________________________\n"
     ]
    }
   ],
   "source": [
    "model.summary()"
   ]
  },
  {
   "cell_type": "code",
   "execution_count": null,
   "metadata": {},
   "outputs": [],
   "source": []
  }
 ],
 "metadata": {
  "kernelspec": {
   "display_name": "Python 3",
   "language": "python",
   "name": "python3"
  },
  "language_info": {
   "codemirror_mode": {
    "name": "ipython",
    "version": 3
   },
   "file_extension": ".py",
   "mimetype": "text/x-python",
   "name": "python",
   "nbconvert_exporter": "python",
   "pygments_lexer": "ipython3",
   "version": "3.6.1"
  }
 },
 "nbformat": 4,
 "nbformat_minor": 2
}
