{
 "cells": [
  {
   "cell_type": "markdown",
   "metadata": {},
   "source": [
    "# Instructions\n",
    "\n",
    "This notebook shows you basic commands for either running a worker that trains other peoples models (Section 1: Run Worker) or to train your own model on the grid using the client (Section 2: Run Client). Before running this notebook, you need to have:\n",
    "\n",
    "- installed IPFS (https://ipfs.io/docs/install/)\n",
    "- run `python3 setup.py install` from the root directory of the OpenMined/Grid project (this project)\n",
    "\n",
    "Then you're ready to run this notebook!"
   ]
  },
  {
   "cell_type": "code",
   "execution_count": null,
   "metadata": {},
   "outputs": [
    {
     "name": "stderr",
     "output_type": "stream",
     "text": [
      "/Users/atrask/anaconda/lib/python3.6/site-packages/h5py/__init__.py:36: FutureWarning: Conversion of the second argument of issubdtype from `float` to `np.floating` is deprecated. In future, it will be treated as `np.float64 == np.dtype(float).type`.\n",
      "  from ._conv import register_converters as _register_converters\n",
      "Using TensorFlow backend.\n"
     ]
    },
    {
     "name": "stdout",
     "output_type": "stream",
     "text": [
      "\n",
      "\u001b[34mUPDATE: \u001b[0mConnecting to IPFS... this can take a few seconds...\n",
      "\n",
      "\u001b[32mSUCCESS: \u001b[0mConnected!!! - My ID: Qma5efEQtBUxDonmSDajv9dZ52axH9MNULKTgVpXWK8Ak2\n"
     ]
    }
   ],
   "source": [
    "import numpy as np\n",
    "import keras, grid\n",
    "from keras.models import Sequential\n",
    "from keras.layers.core import Dense, Dropout, Activation\n",
    "from keras.optimizers import SGD\n",
    "from grid.clients.keras import KerasClient\n",
    "\n",
    "g = KerasClient(min_om_nodes=2)"
   ]
  },
  {
   "cell_type": "code",
   "execution_count": 2,
   "metadata": {},
   "outputs": [
    {
     "data": {
      "text/plain": [
       "8"
      ]
     },
     "execution_count": 2,
     "metadata": {},
     "output_type": "execute_result"
    }
   ],
   "source": [
    "len(g)"
   ]
  },
  {
   "cell_type": "code",
   "execution_count": 5,
   "metadata": {},
   "outputs": [
    {
     "data": {
      "text/plain": [
       "'QmfYFd4jP1JcSMGx4Y5FYjEDyTjepuFt37XdNBgmGi2Yjw'"
      ]
     },
     "execution_count": 5,
     "metadata": {},
     "output_type": "execute_result"
    }
   ],
   "source": [
    "g[7]"
   ]
  },
  {
   "cell_type": "code",
   "execution_count": 14,
   "metadata": {},
   "outputs": [
    {
     "name": "stdout",
     "output_type": "stream",
     "text": [
      "\n",
      "\u001b[34mUPDATE: \u001b[0mQuerying known workers...\n",
      "\tWORKER: /p2p-circuit/ipfs/Qmaosc64H6Y29VFCFYJzJXCX9AuRp7RCsekLmajHNVEARD...\u001b[32mSUCCESS!!!\u001b[0m\n",
      "\tWORKER: /p2p-circuit/ipfs/QmQabt3SWuDvjse9z7GAcH2BGQv4wH8bumkd4x5oXN2obX...\u001b[32mSUCCESS!!!\u001b[0m\n",
      "ALREADY SUBSCRIBED TO openmined:list_workers:Qma5efEQtBUxDonmSDajv9dZ52axH9MNULKTgVpXWK8Ak2\n",
      "\n",
      "\u001b[34mUPDATE: \u001b[0mSearching for IPFS nodes - 56 found overall - 7 are OpenMined workers          \n",
      "\n",
      "\u001b[32mSUCCESS: \u001b[0mFound 7 OpenMined nodes!!!\n",
      "\n",
      "COMPUTE - 0 - ID:i2Yjw  Ping:0.45sec  CPUs:16  CPU Load:0.5  Disk-util:86.8%  RAM-util:78.3%  GPUs:[0 : GeForce GTX 1080 Ti : 799/11171]\n",
      "\u001b[90m ANCHOR - 1 - ID:VEARD  Ping:4.47sec  CPUs:1  CPU Load:3.7  Disk-util:97.7%  RAM-util:16.5%  GPUs:[]\u001b[0m\n",
      "COMPUTE - 2 - ID:GuTrf  Ping:1.66sec  CPUs:2  CPU Load:2.2  Disk-util:2.1%  RAM-util:87.0%  GPUs:[0 : Tesla K80 : 2/11439]\n",
      "COMPUTE - 3 - ID:iPADh  Ping:2.59sec  CPUs:2  CPU Load:3.9  Disk-util:2.2%  RAM-util:80.4%  GPUs:[0 : Tesla K80 : 10891/11439]\n",
      "COMPUTE - 4 - ID:LJqCp  Ping:1.69sec  CPUs:2  CPU Load:1.8  Disk-util:2.1%  RAM-util:86.6%  GPUs:[0 : Tesla K80 : 2/11439]\n",
      "COMPUTE - 5 - ID:K4Gbz  Ping:1.33sec  CPUs:2  CPU Load:1.8  Disk-util:2.1%  RAM-util:86.7%  GPUs:[0 : Tesla K80 : 2/11439]\n",
      "COMPUTE - 6 - ID:JGr7h  Ping:0.65sec  CPUs:2  CPU Load:1.6  Disk-util:2.1%  RAM-util:86.9%  GPUs:[0 : Tesla K80 : 2/11439]\n"
     ]
    }
   ],
   "source": [
    "g.refresh()"
   ]
  },
  {
   "cell_type": "code",
   "execution_count": null,
   "metadata": {},
   "outputs": [],
   "source": []
  },
  {
   "cell_type": "code",
   "execution_count": 12,
   "metadata": {},
   "outputs": [
    {
     "name": "stdout",
     "output_type": "stream",
     "text": [
      "PREFERRED NODE:QmfYFd4jP1JcSMGx4Y5FYjEDyTjepuFt37XdNBgmGi2Yjw\n",
      "Worker:i2Yjw - Epoch 0 of 20 - Valid Loss: 0.777106\n",
      "Worker:i2Yjw - Epoch 1 of 20 - Valid Loss: 0.766340\n",
      "Worker:i2Yjw - Epoch 2 of 20 - Valid Loss: 0.757369\n",
      "Worker:i2Yjw - Epoch 3 of 20 - Valid Loss: 0.750807\n",
      "Worker:i2Yjw - Epoch 4 of 20 - Valid Loss: 0.742187\n",
      "Worker:i2Yjw - Epoch 5 of 20 - Valid Loss: 0.738694\n",
      "Worker:i2Yjw - Epoch 6 of 20 - Valid Loss: 0.735782\n",
      "Worker:i2Yjw - Epoch 7 of 20 - Valid Loss: 0.732346\n",
      "Worker:i2Yjw - Epoch 8 of 20 - Valid Loss: 0.729861\n",
      "Worker:i2Yjw - Epoch 9 of 20 - Valid Loss: 0.727987\n",
      "Worker:i2Yjw - Epoch 10 of 20 - Valid Loss: 0.724040\n",
      "Worker:i2Yjw - Epoch 11 of 20 - Valid Loss: 0.719626\n",
      "Worker:i2Yjw - Epoch 12 of 20 - Valid Loss: 0.718125\n",
      "Worker:i2Yjw - Epoch 13 of 20 - Valid Loss: 0.714652\n",
      "Worker:i2Yjw - Epoch 14 of 20 - Valid Loss: 0.711499\n",
      "Worker:i2Yjw - Epoch 15 of 20 - Valid Loss: 0.706093\n",
      "Worker:i2Yjw - Epoch 16 of 20 - Valid Loss: 0.705113\n",
      "Worker:i2Yjw - Epoch 17 of 20 - Valid Loss: 0.702114\n",
      "Worker:i2Yjw - Epoch 18 of 20 - Valid Loss: 0.696923\n",
      "Worker:i2Yjw - Epoch 19 of 20 - Valid Loss: 0.694852\n",
      "\n",
      "\u001b[34mUPDATE: \u001b[0mConnecting to IPFS... this can take a few seconds...\n",
      "\n",
      "\u001b[32mSUCCESS: \u001b[0mConnected!!! - My ID: Qma5efEQtBUxDonmSDajv9dZ52axH9MNULKTgVpXWK8Ak2\n",
      "\n",
      "\u001b[34mUPDATE: \u001b[0mConnecting to IPFS... this can take a few seconds...\n",
      "\n",
      "\u001b[32mSUCCESS: \u001b[0mConnected!!! - My ID: Qma5efEQtBUxDonmSDajv9dZ52axH9MNULKTgVpXWK8Ak2\n"
     ]
    }
   ],
   "source": [
    "input = np.array([[0,0],[0,1],[1,0],[1,1]])\n",
    "target = np.array([[0],[1],[1],[0]])\n",
    "\n",
    "model = Sequential()\n",
    "model.add(Dense(8, input_dim=2))\n",
    "model.add(Activation('tanh'))\n",
    "model.add(Dense(1))\n",
    "model.add(Activation('sigmoid'))\n",
    "\n",
    "sgd = SGD(lr=0.1)\n",
    "model.compile(loss='binary_crossentropy', optimizer=sgd)\n",
    "\n",
    "model, train_spec = g.fit(model,input,target,epochs=20,log_interval=100,preferred_node=g[0])"
   ]
  },
  {
   "cell_type": "code",
   "execution_count": 4,
   "metadata": {},
   "outputs": [
    {
     "data": {
      "text/plain": [
       "{'batch_size': 1,\n",
       " 'data_addr': 'QmRy2NX5y6LSynVS9DL9ZtJ51yV57CtVAQsLZyuqZ5AB9E',\n",
       " 'epochs': 20,\n",
       " 'framework': 'keras',\n",
       " 'log_interval': 100,\n",
       " 'model_addr': 'QmayNSvNvuE5kvn2iJNWJBm2he6LjERardoM4FW6mSSudP',\n",
       " 'preferred_node': 'QmNxbPtZu1GkXcLE5hzvYkRrcf1kRvxX8cTEPErqAkBwbx',\n",
       " 'train_channel': 'openmined_train_QmayNSvNvuE5kvn2iJNWJBm2he6LjERardoM4FW6mSSudP',\n",
       " 'type': 'fit'}"
      ]
     },
     "execution_count": 4,
     "metadata": {},
     "output_type": "execute_result"
    }
   ],
   "source": [
    "train_spec"
   ]
  },
  {
   "cell_type": "code",
   "execution_count": 5,
   "metadata": {},
   "outputs": [
    {
     "name": "stdout",
     "output_type": "stream",
     "text": [
      "_________________________________________________________________\n",
      "Layer (type)                 Output Shape              Param #   \n",
      "=================================================================\n",
      "dense_1 (Dense)              (None, 8)                 24        \n",
      "_________________________________________________________________\n",
      "activation_1 (Activation)    (None, 8)                 0         \n",
      "_________________________________________________________________\n",
      "dense_2 (Dense)              (None, 1)                 9         \n",
      "_________________________________________________________________\n",
      "activation_2 (Activation)    (None, 1)                 0         \n",
      "=================================================================\n",
      "Total params: 33\n",
      "Trainable params: 33\n",
      "Non-trainable params: 0\n",
      "_________________________________________________________________\n",
      "Failed to reconnect in the opposite direciton to:/p2p-circuit/ipfs/Qma5efEQtBUxDonmSDajv9dZ52axH9MNULKTgVpXWK8Ak2\n",
      "Failed to reconnect in the opposite direciton to:/p2p-circuit/ipfs/Qma5efEQtBUxDonmSDajv9dZ52axH9MNULKTgVpXWK8Ak2\n",
      "Failed to reconnect in the opposite direciton to:/p2p-circuit/ipfs/Qma5efEQtBUxDonmSDajv9dZ52axH9MNULKTgVpXWK8Ak2\n",
      "Failed to reconnect in the opposite direciton to:/p2p-circuit/ipfs/Qma5efEQtBUxDonmSDajv9dZ52axH9MNULKTgVpXWK8Ak2\n",
      "Failed to reconnect in the opposite direciton to:/p2p-circuit/ipfs/Qma5efEQtBUxDonmSDajv9dZ52axH9MNULKTgVpXWK8Ak2\n",
      "Failed to reconnect in the opposite direciton to:/p2p-circuit/ipfs/Qma5efEQtBUxDonmSDajv9dZ52axH9MNULKTgVpXWK8Ak2\n",
      "Failed to reconnect in the opposite direciton to:/p2p-circuit/ipfs/Qma5efEQtBUxDonmSDajv9dZ52axH9MNULKTgVpXWK8Ak2\n",
      "Failed to reconnect in the opposite direciton to:/p2p-circuit/ipfs/Qma5efEQtBUxDonmSDajv9dZ52axH9MNULKTgVpXWK8Ak2\n",
      "Failed to reconnect in the opposite direciton to:/p2p-circuit/ipfs/Qma5efEQtBUxDonmSDajv9dZ52axH9MNULKTgVpXWK8Ak2\n",
      "Failed to reconnect in the opposite direciton to:/p2p-circuit/ipfs/Qma5efEQtBUxDonmSDajv9dZ52axH9MNULKTgVpXWK8Ak2\n",
      "Failed to reconnect in the opposite direciton to:/p2p-circuit/ipfs/Qma5efEQtBUxDonmSDajv9dZ52axH9MNULKTgVpXWK8Ak2\n",
      "Failed to reconnect in the opposite direciton to:/p2p-circuit/ipfs/Qma5efEQtBUxDonmSDajv9dZ52axH9MNULKTgVpXWK8Ak2\n",
      "Failed to reconnect in the opposite direciton to:/p2p-circuit/ipfs/Qma5efEQtBUxDonmSDajv9dZ52axH9MNULKTgVpXWK8Ak2\n",
      "Failed to reconnect in the opposite direciton to:/p2p-circuit/ipfs/Qma5efEQtBUxDonmSDajv9dZ52axH9MNULKTgVpXWK8Ak2\n",
      "Failed to reconnect in the opposite direciton to:/p2p-circuit/ipfs/Qma5efEQtBUxDonmSDajv9dZ52axH9MNULKTgVpXWK8Ak2\n",
      "Failed to reconnect in the opposite direciton to:/p2p-circuit/ipfs/Qma5efEQtBUxDonmSDajv9dZ52axH9MNULKTgVpXWK8Ak2\n",
      "Failed to reconnect in the opposite direciton to:/p2p-circuit/ipfs/Qma5efEQtBUxDonmSDajv9dZ52axH9MNULKTgVpXWK8Ak2\n",
      "Failed to reconnect in the opposite direciton to:/p2p-circuit/ipfs/Qma5efEQtBUxDonmSDajv9dZ52axH9MNULKTgVpXWK8Ak2\n",
      "Failed to reconnect in the opposite direciton to:/p2p-circuit/ipfs/Qma5efEQtBUxDonmSDajv9dZ52axH9MNULKTgVpXWK8Ak2\n",
      "Failed to reconnect in the opposite direciton to:/p2p-circuit/ipfs/Qma5efEQtBUxDonmSDajv9dZ52axH9MNULKTgVpXWK8Ak2\n",
      "Failed to reconnect in the opposite direciton to:/p2p-circuit/ipfs/Qma5efEQtBUxDonmSDajv9dZ52axH9MNULKTgVpXWK8Ak2\n",
      "Failed to reconnect in the opposite direciton to:/p2p-circuit/ipfs/Qma5efEQtBUxDonmSDajv9dZ52axH9MNULKTgVpXWK8Ak2\n",
      "Failed to reconnect in the opposite direciton to:/p2p-circuit/ipfs/Qma5efEQtBUxDonmSDajv9dZ52axH9MNULKTgVpXWK8Ak2\n",
      "Failed to reconnect in the opposite direciton to:/p2p-circuit/ipfs/Qma5efEQtBUxDonmSDajv9dZ52axH9MNULKTgVpXWK8Ak2\n"
     ]
    }
   ],
   "source": [
    "model.summary()"
   ]
  },
  {
   "cell_type": "code",
   "execution_count": null,
   "metadata": {},
   "outputs": [],
   "source": []
  }
 ],
 "metadata": {
  "kernelspec": {
   "display_name": "Python 3",
   "language": "python",
   "name": "python3"
  },
  "language_info": {
   "codemirror_mode": {
    "name": "ipython",
    "version": 3
   },
   "file_extension": ".py",
   "mimetype": "text/x-python",
   "name": "python",
   "nbconvert_exporter": "python",
   "pygments_lexer": "ipython3",
   "version": "3.6.1"
  }
 },
 "nbformat": 4,
 "nbformat_minor": 2
}
