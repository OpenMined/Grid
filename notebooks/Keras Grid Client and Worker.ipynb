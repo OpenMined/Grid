{
 "cells": [
  {
   "cell_type": "markdown",
   "metadata": {},
   "source": [
    "# Instructions\n",
    "\n",
    "This notebook shows you basic commands for either running a worker that trains other peoples models (Section 1: Run Worker) or to train your own model on the grid using the client (Section 2: Run Client). Before running this notebook, you need to have:\n",
    "\n",
    "- installed IPFS (https://ipfs.io/docs/install/)\n",
    "- run `python3 setup.py install` from the root directory of the OpenMined/Grid project (this project)\n",
    "\n",
    "Then you're ready to run this notebook!"
   ]
  },
  {
   "cell_type": "code",
   "execution_count": 1,
   "metadata": {},
   "outputs": [
    {
     "name": "stderr",
     "output_type": "stream",
     "text": [
      "/Users/atrask/anaconda/lib/python3.6/site-packages/h5py/__init__.py:36: FutureWarning: Conversion of the second argument of issubdtype from `float` to `np.floating` is deprecated. In future, it will be treated as `np.float64 == np.dtype(float).type`.\n",
      "  from ._conv import register_converters as _register_converters\n",
      "Using TensorFlow backend.\n"
     ]
    },
    {
     "name": "stdout",
     "output_type": "stream",
     "text": [
      "\n",
      "\u001b[34mUPDATE: \u001b[0mConnecting to IPFS... this can take a few seconds...\n",
      "\n",
      "\u001b[32mSUCCESS: \u001b[0mConnected!!!\n",
      "SUBSCRIBING TO openmined:list_workers\n",
      "\n",
      "\u001b[34mUPDATE: \u001b[0mQuerying known workers...\n",
      "\tWORKER: /p2p-circuit/ipfs/QmQabt3SWuDvjse9z7GAcH2BGQv4wH8bumkd4x5oXN2obX...\u001b[32mSUCCESS!!!\u001b[0m\n",
      "\tWORKER: /p2p-circuit/ipfs/Qmaosc64H6Y29VFCFYJzJXCX9AuRp7RCsekLmajHNVEARD...\u001b[32mSUCCESS!!!\u001b[0m\n",
      "SUBSCRIBING TO openmined:list_workers:Qma5efEQtBUxDonmSDajv9dZ52axH9MNULKTgVpXWK8Ak2\n",
      "\n",
      "Failed to reconnect in the opposite direciton to:/p2p-circuit/ipfs/Qma5efEQtBUxDonmSDajv9dZ52axH9MNULKTgVpXWK8Ak2\n",
      "\u001b[34mUPDATE: \u001b[0mSearching for IPFS nodes - 56 found overall - 6 are OpenMined workers          \n",
      "\n",
      "\u001b[32mSUCCESS: \u001b[0mFound 6 OpenMined nodes!!!\n",
      "\n"
     ]
    }
   ],
   "source": [
    "import numpy as np\n",
    "import keras, grid\n",
    "from keras.models import Sequential\n",
    "from keras.layers.core import Dense, Dropout, Activation\n",
    "from keras.optimizers import SGD\n",
    "from grid.clients.keras import KerasClient\n",
    "\n",
    "g = KerasClient(min_om_nodes=2)"
   ]
  },
  {
   "cell_type": "code",
   "execution_count": 2,
   "metadata": {},
   "outputs": [
    {
     "data": {
      "text/plain": [
       "{'Strings': ['QmckHmqq1o93KVBWzPK71JvMgUumAJFjQzpQGFxnoJaVdT',\n",
       "  'QmWBoEQyeubK6eZZj6z7prK6SVD4F4FDpADHCjtzNBg9ka',\n",
       "  'QmNxbPtZu1GkXcLE5hzvYkRrcf1kRvxX8cTEPErqAkBwbx',\n",
       "  'QmQabt3SWuDvjse9z7GAcH2BGQv4wH8bumkd4x5oXN2obX',\n",
       "  'Qmaosc64H6Y29VFCFYJzJXCX9AuRp7RCsekLmajHNVEARD',\n",
       "  'QmeRd6KJT3XH14UatYdV3Jsm4A8HdULEYc3HSkGWtkvqHW']}"
      ]
     },
     "execution_count": 2,
     "metadata": {},
     "output_type": "execute_result"
    }
   ],
   "source": [
    "om_nodes = g.api.pubsub_peers('openmined')\n",
    "om_nodes"
   ]
  },
  {
   "cell_type": "code",
   "execution_count": 3,
   "metadata": {},
   "outputs": [
    {
     "name": "stdout",
     "output_type": "stream",
     "text": [
      "PREFERRED NODE:QmWBoEQyeubK6eZZj6z7prK6SVD4F4FDpADHCjtzNBg9ka\n",
      "SUBSCRIBING TO openmined_train_QmNQhH2rTTdLKEQbgr4FYvy3ZbGE18RuSMM81oRJBFmPYu\n",
      "Worker:Bg9ka - Epoch 0 of 20 - Valid Loss: 0.743384\n",
      "Worker:Bg9ka - Epoch 1 of 20 - Valid Loss: 0.737590\n",
      "Worker:Bg9ka - Epoch 2 of 20 - Valid Loss: 0.732767\n",
      "Worker:Bg9ka - Epoch 3 of 20 - Valid Loss: 0.729608\n",
      "Worker:Bg9ka - Epoch 4 of 20 - Valid Loss: 0.726445\n",
      "Worker:Bg9ka - Epoch 5 of 20 - Valid Loss: 0.722841\n",
      "Worker:Bg9ka - Epoch 6 of 20 - Valid Loss: 0.718528\n",
      "Worker:Bg9ka - Epoch 7 of 20 - Valid Loss: 0.718616\n",
      "Worker:Bg9ka - Epoch 8 of 20 - Valid Loss: 0.714147\n",
      "Worker:Bg9ka - Epoch 9 of 20 - Valid Loss: 0.714949\n",
      "Worker:Bg9ka - Epoch 10 of 20 - Valid Loss: 0.712289\n",
      "Worker:Bg9ka - Epoch 11 of 20 - Valid Loss: 0.707885\n",
      "Worker:Bg9ka - Epoch 12 of 20 - Valid Loss: 0.708273\n",
      "Worker:Bg9ka - Epoch 13 of 20 - Valid Loss: 0.706412\n",
      "Worker:Bg9ka - Epoch 14 of 20 - Valid Loss: 0.704056\n",
      "Worker:Bg9ka - Epoch 15 of 20 - Valid Loss: 0.701472\n",
      "Worker:Bg9ka - Epoch 16 of 20 - Valid Loss: 0.699937\n",
      "Worker:Bg9ka - Epoch 17 of 20 - Valid Loss: 0.694829\n",
      "Worker:Bg9ka - Epoch 18 of 20 - Valid Loss: 0.695675\n",
      "Worker:Bg9ka - Epoch 19 of 20 - Valid Loss: 0.692807\n",
      "\n",
      "\u001b[34mUPDATE: \u001b[0mConnecting to IPFS... this can take a few seconds...\n",
      "\n",
      "\u001b[32mSUCCESS: \u001b[0mConnected!!!\n",
      "\n",
      "\u001b[34mUPDATE: \u001b[0mConnecting to IPFS... this can take a few seconds...\n",
      "\n",
      "\u001b[32mSUCCESS: \u001b[0mConnected!!!\n",
      "Failed to reconnect in the opposite direciton to:/p2p-circuit/ipfs/Qma5efEQtBUxDonmSDajv9dZ52axH9MNULKTgVpXWK8Ak2\n",
      "Failed to reconnect in the opposite direciton to:/p2p-circuit/ipfs/Qma5efEQtBUxDonmSDajv9dZ52axH9MNULKTgVpXWK8Ak2\n",
      "Failed to reconnect in the opposite direciton to:/p2p-circuit/ipfs/Qma5efEQtBUxDonmSDajv9dZ52axH9MNULKTgVpXWK8Ak2\n",
      "Failed to reconnect in the opposite direciton to:/p2p-circuit/ipfs/Qma5efEQtBUxDonmSDajv9dZ52axH9MNULKTgVpXWK8Ak2\n",
      "Failed to reconnect in the opposite direciton to:/p2p-circuit/ipfs/Qma5efEQtBUxDonmSDajv9dZ52axH9MNULKTgVpXWK8Ak2\n",
      "Failed to reconnect in the opposite direciton to:/p2p-circuit/ipfs/Qma5efEQtBUxDonmSDajv9dZ52axH9MNULKTgVpXWK8Ak2\n",
      "Failed to reconnect in the opposite direciton to:/p2p-circuit/ipfs/Qma5efEQtBUxDonmSDajv9dZ52axH9MNULKTgVpXWK8Ak2\n",
      "Failed to reconnect in the opposite direciton to:/p2p-circuit/ipfs/Qma5efEQtBUxDonmSDajv9dZ52axH9MNULKTgVpXWK8Ak2\n",
      "Failed to reconnect in the opposite direciton to:/p2p-circuit/ipfs/QmWBoEQyeubK6eZZj6z7prK6SVD4F4FDpADHCjtzNBg9ka\n",
      "Failed to reconnect in the opposite direciton to:/p2p-circuit/ipfs/Qma5efEQtBUxDonmSDajv9dZ52axH9MNULKTgVpXWK8Ak2\n",
      "Failed to reconnect in the opposite direciton to:/p2p-circuit/ipfs/QmWBoEQyeubK6eZZj6z7prK6SVD4F4FDpADHCjtzNBg9ka\n",
      "Failed to reconnect in the opposite direciton to:/p2p-circuit/ipfs/Qma5efEQtBUxDonmSDajv9dZ52axH9MNULKTgVpXWK8Ak2\n",
      "Failed to reconnect in the opposite direciton to:/p2p-circuit/ipfs/Qma5efEQtBUxDonmSDajv9dZ52axH9MNULKTgVpXWK8Ak2\n",
      "Failed to reconnect in the opposite direciton to:/p2p-circuit/ipfs/QmWBoEQyeubK6eZZj6z7prK6SVD4F4FDpADHCjtzNBg9ka\n",
      "Failed to reconnect in the opposite direciton to:/p2p-circuit/ipfs/Qma5efEQtBUxDonmSDajv9dZ52axH9MNULKTgVpXWK8Ak2\n",
      "Failed to reconnect in the opposite direciton to:/p2p-circuit/ipfs/Qma5efEQtBUxDonmSDajv9dZ52axH9MNULKTgVpXWK8Ak2\n",
      "Failed to reconnect in the opposite direciton to:/p2p-circuit/ipfs/Qma5efEQtBUxDonmSDajv9dZ52axH9MNULKTgVpXWK8Ak2\n",
      "Failed to reconnect in the opposite direciton to:/p2p-circuit/ipfs/Qma5efEQtBUxDonmSDajv9dZ52axH9MNULKTgVpXWK8Ak2\n",
      "Failed to reconnect in the opposite direciton to:/p2p-circuit/ipfs/Qma5efEQtBUxDonmSDajv9dZ52axH9MNULKTgVpXWK8Ak2\n",
      "Failed to reconnect in the opposite direciton to:/p2p-circuit/ipfs/Qma5efEQtBUxDonmSDajv9dZ52axH9MNULKTgVpXWK8Ak2\n",
      "Failed to reconnect in the opposite direciton to:/p2p-circuit/ipfs/QmWBoEQyeubK6eZZj6z7prK6SVD4F4FDpADHCjtzNBg9ka\n",
      "Failed to reconnect in the opposite direciton to:/p2p-circuit/ipfs/Qma5efEQtBUxDonmSDajv9dZ52axH9MNULKTgVpXWK8Ak2\n",
      "Failed to reconnect in the opposite direciton to:/p2p-circuit/ipfs/Qma5efEQtBUxDonmSDajv9dZ52axH9MNULKTgVpXWK8Ak2\n",
      "Failed to reconnect in the opposite direciton to:/p2p-circuit/ipfs/Qma5efEQtBUxDonmSDajv9dZ52axH9MNULKTgVpXWK8Ak2\n",
      "Failed to reconnect in the opposite direciton to:/p2p-circuit/ipfs/Qma5efEQtBUxDonmSDajv9dZ52axH9MNULKTgVpXWK8Ak2\n",
      "Failed to reconnect in the opposite direciton to:/p2p-circuit/ipfs/Qma5efEQtBUxDonmSDajv9dZ52axH9MNULKTgVpXWK8Ak2\n",
      "Failed to reconnect in the opposite direciton to:/p2p-circuit/ipfs/Qma5efEQtBUxDonmSDajv9dZ52axH9MNULKTgVpXWK8Ak2\n",
      "Failed to reconnect in the opposite direciton to:/p2p-circuit/ipfs/Qma5efEQtBUxDonmSDajv9dZ52axH9MNULKTgVpXWK8Ak2\n",
      "Failed to reconnect in the opposite direciton to:/p2p-circuit/ipfs/Qma5efEQtBUxDonmSDajv9dZ52axH9MNULKTgVpXWK8Ak2\n",
      "Failed to reconnect in the opposite direciton to:/p2p-circuit/ipfs/Qma5efEQtBUxDonmSDajv9dZ52axH9MNULKTgVpXWK8Ak2\n",
      "Failed to reconnect in the opposite direciton to:/p2p-circuit/ipfs/Qma5efEQtBUxDonmSDajv9dZ52axH9MNULKTgVpXWK8Ak2\n"
     ]
    }
   ],
   "source": [
    "input = np.array([[0,0],[0,1],[1,0],[1,1]])\n",
    "target = np.array([[0],[1],[1],[0]])\n",
    "\n",
    "model = Sequential()\n",
    "model.add(Dense(8, input_dim=2))\n",
    "model.add(Activation('tanh'))\n",
    "model.add(Dense(1))\n",
    "model.add(Activation('sigmoid'))\n",
    "\n",
    "sgd = SGD(lr=0.1)\n",
    "model.compile(loss='binary_crossentropy', optimizer=sgd)\n",
    "\n",
    "model, train_spec = g.fit(model,input,target,epochs=20,log_interval=100,preferred_node='QmWBoEQyeubK6eZZj6z7prK6SVD4F4FDpADHCjtzNBg9ka')"
   ]
  },
  {
   "cell_type": "code",
   "execution_count": 4,
   "metadata": {},
   "outputs": [
    {
     "data": {
      "text/plain": [
       "{'batch_size': 1,\n",
       " 'data_addr': 'QmRy2NX5y6LSynVS9DL9ZtJ51yV57CtVAQsLZyuqZ5AB9E',\n",
       " 'epochs': 20,\n",
       " 'framework': 'keras',\n",
       " 'log_interval': 100,\n",
       " 'model_addr': 'QmayNSvNvuE5kvn2iJNWJBm2he6LjERardoM4FW6mSSudP',\n",
       " 'preferred_node': 'QmNxbPtZu1GkXcLE5hzvYkRrcf1kRvxX8cTEPErqAkBwbx',\n",
       " 'train_channel': 'openmined_train_QmayNSvNvuE5kvn2iJNWJBm2he6LjERardoM4FW6mSSudP',\n",
       " 'type': 'fit'}"
      ]
     },
     "execution_count": 4,
     "metadata": {},
     "output_type": "execute_result"
    }
   ],
   "source": [
    "train_spec"
   ]
  },
  {
   "cell_type": "code",
   "execution_count": 5,
   "metadata": {},
   "outputs": [
    {
     "name": "stdout",
     "output_type": "stream",
     "text": [
      "_________________________________________________________________\n",
      "Layer (type)                 Output Shape              Param #   \n",
      "=================================================================\n",
      "dense_1 (Dense)              (None, 8)                 24        \n",
      "_________________________________________________________________\n",
      "activation_1 (Activation)    (None, 8)                 0         \n",
      "_________________________________________________________________\n",
      "dense_2 (Dense)              (None, 1)                 9         \n",
      "_________________________________________________________________\n",
      "activation_2 (Activation)    (None, 1)                 0         \n",
      "=================================================================\n",
      "Total params: 33\n",
      "Trainable params: 33\n",
      "Non-trainable params: 0\n",
      "_________________________________________________________________\n",
      "Failed to reconnect in the opposite direciton to:/p2p-circuit/ipfs/Qma5efEQtBUxDonmSDajv9dZ52axH9MNULKTgVpXWK8Ak2\n",
      "Failed to reconnect in the opposite direciton to:/p2p-circuit/ipfs/Qma5efEQtBUxDonmSDajv9dZ52axH9MNULKTgVpXWK8Ak2\n",
      "Failed to reconnect in the opposite direciton to:/p2p-circuit/ipfs/Qma5efEQtBUxDonmSDajv9dZ52axH9MNULKTgVpXWK8Ak2\n",
      "Failed to reconnect in the opposite direciton to:/p2p-circuit/ipfs/Qma5efEQtBUxDonmSDajv9dZ52axH9MNULKTgVpXWK8Ak2\n",
      "Failed to reconnect in the opposite direciton to:/p2p-circuit/ipfs/Qma5efEQtBUxDonmSDajv9dZ52axH9MNULKTgVpXWK8Ak2\n",
      "Failed to reconnect in the opposite direciton to:/p2p-circuit/ipfs/Qma5efEQtBUxDonmSDajv9dZ52axH9MNULKTgVpXWK8Ak2\n",
      "Failed to reconnect in the opposite direciton to:/p2p-circuit/ipfs/Qma5efEQtBUxDonmSDajv9dZ52axH9MNULKTgVpXWK8Ak2\n",
      "Failed to reconnect in the opposite direciton to:/p2p-circuit/ipfs/Qma5efEQtBUxDonmSDajv9dZ52axH9MNULKTgVpXWK8Ak2\n",
      "Failed to reconnect in the opposite direciton to:/p2p-circuit/ipfs/Qma5efEQtBUxDonmSDajv9dZ52axH9MNULKTgVpXWK8Ak2\n",
      "Failed to reconnect in the opposite direciton to:/p2p-circuit/ipfs/Qma5efEQtBUxDonmSDajv9dZ52axH9MNULKTgVpXWK8Ak2\n",
      "Failed to reconnect in the opposite direciton to:/p2p-circuit/ipfs/Qma5efEQtBUxDonmSDajv9dZ52axH9MNULKTgVpXWK8Ak2\n",
      "Failed to reconnect in the opposite direciton to:/p2p-circuit/ipfs/Qma5efEQtBUxDonmSDajv9dZ52axH9MNULKTgVpXWK8Ak2\n",
      "Failed to reconnect in the opposite direciton to:/p2p-circuit/ipfs/Qma5efEQtBUxDonmSDajv9dZ52axH9MNULKTgVpXWK8Ak2\n",
      "Failed to reconnect in the opposite direciton to:/p2p-circuit/ipfs/Qma5efEQtBUxDonmSDajv9dZ52axH9MNULKTgVpXWK8Ak2\n",
      "Failed to reconnect in the opposite direciton to:/p2p-circuit/ipfs/Qma5efEQtBUxDonmSDajv9dZ52axH9MNULKTgVpXWK8Ak2\n",
      "Failed to reconnect in the opposite direciton to:/p2p-circuit/ipfs/Qma5efEQtBUxDonmSDajv9dZ52axH9MNULKTgVpXWK8Ak2\n",
      "Failed to reconnect in the opposite direciton to:/p2p-circuit/ipfs/Qma5efEQtBUxDonmSDajv9dZ52axH9MNULKTgVpXWK8Ak2\n",
      "Failed to reconnect in the opposite direciton to:/p2p-circuit/ipfs/Qma5efEQtBUxDonmSDajv9dZ52axH9MNULKTgVpXWK8Ak2\n",
      "Failed to reconnect in the opposite direciton to:/p2p-circuit/ipfs/Qma5efEQtBUxDonmSDajv9dZ52axH9MNULKTgVpXWK8Ak2\n",
      "Failed to reconnect in the opposite direciton to:/p2p-circuit/ipfs/Qma5efEQtBUxDonmSDajv9dZ52axH9MNULKTgVpXWK8Ak2\n",
      "Failed to reconnect in the opposite direciton to:/p2p-circuit/ipfs/Qma5efEQtBUxDonmSDajv9dZ52axH9MNULKTgVpXWK8Ak2\n",
      "Failed to reconnect in the opposite direciton to:/p2p-circuit/ipfs/Qma5efEQtBUxDonmSDajv9dZ52axH9MNULKTgVpXWK8Ak2\n",
      "Failed to reconnect in the opposite direciton to:/p2p-circuit/ipfs/Qma5efEQtBUxDonmSDajv9dZ52axH9MNULKTgVpXWK8Ak2\n",
      "Failed to reconnect in the opposite direciton to:/p2p-circuit/ipfs/Qma5efEQtBUxDonmSDajv9dZ52axH9MNULKTgVpXWK8Ak2\n"
     ]
    }
   ],
   "source": [
    "model.summary()"
   ]
  },
  {
   "cell_type": "code",
   "execution_count": null,
   "metadata": {},
   "outputs": [],
   "source": []
  }
 ],
 "metadata": {
  "kernelspec": {
   "display_name": "Python 3",
   "language": "python",
   "name": "python3"
  },
  "language_info": {
   "codemirror_mode": {
    "name": "ipython",
    "version": 3
   },
   "file_extension": ".py",
   "mimetype": "text/x-python",
   "name": "python",
   "nbconvert_exporter": "python",
   "pygments_lexer": "ipython3",
   "version": "3.6.1"
  }
 },
 "nbformat": 4,
 "nbformat_minor": 2
}
