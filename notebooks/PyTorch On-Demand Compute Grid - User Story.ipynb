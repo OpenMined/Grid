{
 "cells": [
  {
   "cell_type": "markdown",
   "metadata": {},
   "source": [
    "# PyTorch On-Demand Compute Grid - User Story\n",
    "\n",
    "This notebook shows existing functionality which allows PyTorch users to train models on our decentralized compute grid."
   ]
  },
  {
   "cell_type": "code",
   "execution_count": 1,
   "metadata": {},
   "outputs": [
    {
     "name": "stderr",
     "output_type": "stream",
     "text": [
      "/Users/atrask/anaconda/lib/python3.6/site-packages/h5py/__init__.py:36: FutureWarning: Conversion of the second argument of issubdtype from `float` to `np.floating` is deprecated. In future, it will be treated as `np.float64 == np.dtype(float).type`.\n",
      "  from ._conv import register_converters as _register_converters\n",
      "Using TensorFlow backend.\n"
     ]
    }
   ],
   "source": [
    "import torch\n",
    "import numpy as np\n",
    "from grid.clients.torch import TorchClient"
   ]
  },
  {
   "cell_type": "code",
   "execution_count": 2,
   "metadata": {},
   "outputs": [
    {
     "name": "stdout",
     "output_type": "stream",
     "text": [
      "\n",
      "\u001b[34mUPDATE: \u001b[0mConnecting to IPFS... this can take a few seconds...\n",
      "_request response2_content:b'{\"Version\":\"0.4.11\",\"Commit\":\"41102bd\",\"Repo\":\"6\",\"System\":\"amd64/darwin\",\"Golang\":\"go1.9\"}\\n'\n",
      "_request reqponse2:<class 'dict'>\n",
      "_request response2_content:b'{\\n  \"API\": {\\n    \"HTTPHeaders\": null\\n  },\\n  \"Addresses\": {\\n    \"API\": \"/ip4/127.0.0.1/tcp/5001\",\\n    \"Announce\": [],\\n    \"Gateway\": \"/ip4/127.0.0.1/tcp/8080\",\\n    \"NoAnnounce\": [],\\n    \"Swarm\": [\\n      \"/ip4/0.0.0.0/tcp/4001\",\\n      \"/ip6/::/tcp/4001\"\\n    ]\\n  },\\n  \"Bootstrap\": [\\n    \"/ip4/54.173.200.160/tcp/4001/ipfs/QmSCXtNJGfQD6dkYWinDu6jjAcetqg8Je4uAbtShPHfPQS\",\\n    \"/ip4/172.31.27.187/tcp/4001/ipfs/QmfFFpFFZBu6Ut6qUpdMHQ4dMKZ9XgDRDMoGRowFhoSjSs\",\\n    \"/ip4/127.0.0.1/tcp/4001/ipfs/QmfFFpFFZBu6Ut6qUpdMHQ4dMKZ9XgDRDMoGRowFhoSjSs\",\\n    \"/dnsaddr/bootstrap.libp2p.io/ipfs/QmNnooDu7bfjPFoTZYxMNLWUQJyrVwtbZg5gBMjTezGAJN\",\\n    \"/dnsaddr/bootstrap.libp2p.io/ipfs/QmQCU2EcMqAqQPR2i9bChDtGNJchTbq5TbXJJ16u19uLTa\",\\n    \"/dnsaddr/bootstrap.libp2p.io/ipfs/QmbLHAnMoJPWSCR5Zhtx6BHJX9KiKNN6tpvbUcqanj75Nb\",\\n    \"/dnsaddr/bootstrap.libp2p.io/ipfs/QmcZf59bWwK5XFi76CZX8cbJ4BhTzzA3gU1ZjYZcYW3dwt\",\\n    \"/ip4/104.131.131.82/tcp/4001/ipfs/QmaCpDMGvV2BGHeYERUEnRQAwe3N8SzbUtfsmvsqQLuvuJ\",\\n    \"/ip4/104.236.179.241/tcp/4001/ipfs/QmSoLPppuBtQSGwKDZT2M73ULpjvfd3aZ6ha4oFGL1KrGM\",\\n    \"/ip4/128.199.219.111/tcp/4001/ipfs/QmSoLSafTMBsPKadTEgaXctDQVcqN88CNLHXMkTNwMKPnu\",\\n    \"/ip4/104.236.76.40/tcp/4001/ipfs/QmSoLV4Bbm51jM9C4gDYZQ9Cy3U6aXMJDAbzgu2fzaDs64\",\\n    \"/ip4/178.62.158.247/tcp/4001/ipfs/QmSoLer265NRgSp2LA3dPaeykiS1J6DifTC88f5uVQKNAd\",\\n    \"/ip6/2604:a880:1:20::203:d001/tcp/4001/ipfs/QmSoLPppuBtQSGwKDZT2M73ULpjvfd3aZ6ha4oFGL1KrGM\",\\n    \"/ip6/2400:6180:0:d0::151:6001/tcp/4001/ipfs/QmSoLSafTMBsPKadTEgaXctDQVcqN88CNLHXMkTNwMKPnu\",\\n    \"/ip6/2604:a880:800:10::4a:5001/tcp/4001/ipfs/QmSoLV4Bbm51jM9C4gDYZQ9Cy3U6aXMJDAbzgu2fzaDs64\",\\n    \"/ip6/2a03:b0c0:0:1010::23:1001/tcp/4001/ipfs/QmSoLer265NRgSp2LA3dPaeykiS1J6DifTC88f5uVQKNAd\"\\n  ],\\n  \"Datastore\": {\\n    \"BloomFilterSize\": 0,\\n    \"GCPeriod\": \"1h\",\\n    \"HashOnRead\": false,\\n    \"Spec\": {\\n      \"mounts\": [\\n        {\\n          \"child\": {\\n            \"path\": \"blocks\",\\n            \"shardFunc\": \"/repo/flatfs/shard/v1/next-to-last/2\",\\n            \"sync\": true,\\n            \"type\": \"flatfs\"\\n          },\\n          \"mountpoint\": \"/blocks\",\\n          \"prefix\": \"flatfs.datastore\",\\n          \"type\": \"measure\"\\n        },\\n        {\\n          \"child\": {\\n            \"compression\": \"none\",\\n            \"path\": \"datastore\",\\n            \"type\": \"levelds\"\\n          },\\n          \"mountpoint\": \"/\",\\n          \"prefix\": \"leveldb.datastore\",\\n          \"type\": \"measure\"\\n        }\\n      ],\\n      \"type\": \"mount\"\\n    },\\n    \"StorageGCWatermark\": 90,\\n    \"StorageMax\": \"10GB\"\\n  },\\n  \"Discovery\": {\\n    \"MDNS\": {\\n      \"Enabled\": true,\\n      \"Interval\": 10\\n    }\\n  },\\n  \"Experimental\": {\\n    \"FilestoreEnabled\": false,\\n    \"Libp2pStreamMounting\": false,\\n    \"ShardingEnabled\": false\\n  },\\n  \"Gateway\": {\\n    \"HTTPHeaders\": {\\n      \"Access-Control-Allow-Headers\": [\\n        \"X-Requested-With\",\\n        \"Range\"\\n      ],\\n      \"Access-Control-Allow-Methods\": [\\n        \"GET\"\\n      ],\\n      \"Access-Control-Allow-Origin\": [\\n        \"*\"\\n      ]\\n    },\\n    \"PathPrefixes\": [],\\n    \"RootRedirect\": \"\",\\n    \"Writable\": false\\n  },\\n  \"Identity\": {\\n    \"PeerID\": \"Qma5efEQtBUxDonmSDajv9dZ52axH9MNULKTgVpXWK8Ak2\"\\n  },\\n  \"Ipns\": {\\n    \"RecordLifetime\": \"\",\\n    \"RepublishPeriod\": \"\",\\n    \"ResolveCacheSize\": 128\\n  },\\n  \"Mounts\": {\\n    \"FuseAllowOther\": false,\\n    \"IPFS\": \"/ipfs\",\\n    \"IPNS\": \"/ipns\"\\n  },\\n  \"Reprovider\": {\\n    \"Interval\": \"12h\",\\n    \"Strategy\": \"all\"\\n  },\\n  \"SupernodeRouting\": {\\n    \"Servers\": null\\n  },\\n  \"Swarm\": {\\n    \"AddrFilters\": null,\\n    \"DisableBandwidthMetrics\": false,\\n    \"DisableNatPortMap\": false,\\n    \"DisableRelay\": false,\\n    \"EnableRelayHop\": false\\n  }\\n}'\n",
      "_request reqponse2:<class 'dict'>\n",
      "\n",
      "\u001b[32mSUCCESS: \u001b[0mConnected!!! - My ID: client:Qma5efEQtBUxDonmSDajv9dZ52axH9MNULKTgVpXWK8Ak2\n",
      "_request response2_content:b'{\\n  \"API\": {\\n    \"HTTPHeaders\": null\\n  },\\n  \"Addresses\": {\\n    \"API\": \"/ip4/127.0.0.1/tcp/5001\",\\n    \"Announce\": [],\\n    \"Gateway\": \"/ip4/127.0.0.1/tcp/8080\",\\n    \"NoAnnounce\": [],\\n    \"Swarm\": [\\n      \"/ip4/0.0.0.0/tcp/4001\",\\n      \"/ip6/::/tcp/4001\"\\n    ]\\n  },\\n  \"Bootstrap\": [\\n    \"/ip4/54.173.200.160/tcp/4001/ipfs/QmSCXtNJGfQD6dkYWinDu6jjAcetqg8Je4uAbtShPHfPQS\",\\n    \"/ip4/172.31.27.187/tcp/4001/ipfs/QmfFFpFFZBu6Ut6qUpdMHQ4dMKZ9XgDRDMoGRowFhoSjSs\",\\n    \"/ip4/127.0.0.1/tcp/4001/ipfs/QmfFFpFFZBu6Ut6qUpdMHQ4dMKZ9XgDRDMoGRowFhoSjSs\",\\n    \"/dnsaddr/bootstrap.libp2p.io/ipfs/QmNnooDu7bfjPFoTZYxMNLWUQJyrVwtbZg5gBMjTezGAJN\",\\n    \"/dnsaddr/bootstrap.libp2p.io/ipfs/QmQCU2EcMqAqQPR2i9bChDtGNJchTbq5TbXJJ16u19uLTa\",\\n    \"/dnsaddr/bootstrap.libp2p.io/ipfs/QmbLHAnMoJPWSCR5Zhtx6BHJX9KiKNN6tpvbUcqanj75Nb\",\\n    \"/dnsaddr/bootstrap.libp2p.io/ipfs/QmcZf59bWwK5XFi76CZX8cbJ4BhTzzA3gU1ZjYZcYW3dwt\",\\n    \"/ip4/104.131.131.82/tcp/4001/ipfs/QmaCpDMGvV2BGHeYERUEnRQAwe3N8SzbUtfsmvsqQLuvuJ\",\\n    \"/ip4/104.236.179.241/tcp/4001/ipfs/QmSoLPppuBtQSGwKDZT2M73ULpjvfd3aZ6ha4oFGL1KrGM\",\\n    \"/ip4/128.199.219.111/tcp/4001/ipfs/QmSoLSafTMBsPKadTEgaXctDQVcqN88CNLHXMkTNwMKPnu\",\\n    \"/ip4/104.236.76.40/tcp/4001/ipfs/QmSoLV4Bbm51jM9C4gDYZQ9Cy3U6aXMJDAbzgu2fzaDs64\",\\n    \"/ip4/178.62.158.247/tcp/4001/ipfs/QmSoLer265NRgSp2LA3dPaeykiS1J6DifTC88f5uVQKNAd\",\\n    \"/ip6/2604:a880:1:20::203:d001/tcp/4001/ipfs/QmSoLPppuBtQSGwKDZT2M73ULpjvfd3aZ6ha4oFGL1KrGM\",\\n    \"/ip6/2400:6180:0:d0::151:6001/tcp/4001/ipfs/QmSoLSafTMBsPKadTEgaXctDQVcqN88CNLHXMkTNwMKPnu\",\\n    \"/ip6/2604:a880:800:10::4a:5001/tcp/4001/ipfs/QmSoLV4Bbm51jM9C4gDYZQ9Cy3U6aXMJDAbzgu2fzaDs64\",\\n    \"/ip6/2a03:b0c0:0:1010::23:1001/tcp/4001/ipfs/QmSoLer265NRgSp2LA3dPaeykiS1J6DifTC88f5uVQKNAd\"\\n  ],\\n  \"Datastore\": {\\n    \"BloomFilterSize\": 0,\\n    \"GCPeriod\": \"1h\",\\n    \"HashOnRead\": false,\\n    \"Spec\": {\\n      \"mounts\": [\\n        {\\n          \"child\": {\\n            \"path\": \"blocks\",\\n            \"shardFunc\": \"/repo/flatfs/shard/v1/next-to-last/2\",\\n            \"sync\": true,\\n            \"type\": \"flatfs\"\\n          },\\n          \"mountpoint\": \"/blocks\",\\n          \"prefix\": \"flatfs.datastore\",\\n          \"type\": \"measure\"\\n        },\\n        {\\n          \"child\": {\\n            \"compression\": \"none\",\\n            \"path\": \"datastore\",\\n            \"type\": \"levelds\"\\n          },\\n          \"mountpoint\": \"/\",\\n          \"prefix\": \"leveldb.datastore\",\\n          \"type\": \"measure\"\\n        }\\n      ],\\n      \"type\": \"mount\"\\n    },\\n    \"StorageGCWatermark\": 90,\\n    \"StorageMax\": \"10GB\"\\n  },\\n  \"Discovery\": {\\n    \"MDNS\": {\\n      \"Enabled\": true,\\n      \"Interval\": 10\\n    }\\n  },\\n  \"Experimental\": {\\n    \"FilestoreEnabled\": false,\\n    \"Libp2pStreamMounting\": false,\\n    \"ShardingEnabled\": false\\n  },\\n  \"Gateway\": {\\n    \"HTTPHeaders\": {\\n      \"Access-Control-Allow-Headers\": [\\n        \"X-Requested-With\",\\n        \"Range\"\\n      ],\\n      \"Access-Control-Allow-Methods\": [\\n        \"GET\"\\n      ],\\n      \"Access-Control-Allow-Origin\": [\\n        \"*\"\\n      ]\\n    },\\n    \"PathPrefixes\": [],\\n    \"RootRedirect\": \"\",\\n    \"Writable\": false\\n  },\\n  \"Identity\": {\\n    \"PeerID\": \"Qma5efEQtBUxDonmSDajv9dZ52axH9MNULKTgVpXWK8Ak2\"\\n  },\\n  \"Ipns\": {\\n    \"RecordLifetime\": \"\",\\n    \"RepublishPeriod\": \"\",\\n    \"ResolveCacheSize\": 128\\n  },\\n  \"Mounts\": {\\n    \"FuseAllowOther\": false,\\n    \"IPFS\": \"/ipfs\",\\n    \"IPNS\": \"/ipns\"\\n  },\\n  \"Reprovider\": {\\n    \"Interval\": \"12h\",\\n    \"Strategy\": \"all\"\\n  },\\n  \"SupernodeRouting\": {\\n    \"Servers\": null\\n  },\\n  \"Swarm\": {\\n    \"AddrFilters\": null,\\n    \"DisableBandwidthMetrics\": false,\\n    \"DisableNatPortMap\": false,\\n    \"DisableRelay\": false,\\n    \"EnableRelayHop\": false\\n  }\\n}'\n",
      "_request reqponse2:<class 'dict'>\n",
      "\n",
      "\u001b[34mUPDATE: \u001b[0mQuerying known workers...\n",
      "\tWORKER: /p2p-circuit/ipfs/QmXkWUybbTnfvFH8SUcrug6RGTLYTB23gSockKLxueR1vQ..._request response2_content:b'{\"Strings\":[\"connect QmXkWUybbTnfvFH8SUcrug6RGTLYTB23gSockKLxueR1vQ success\"]}\\n'\n",
      "_request reqponse2:<class 'dict'>\n",
      "\u001b[32mSUCCESS!!!\u001b[0m\n",
      "\tWORKER: /p2p-circuit/ipfs/QmQabt3SWuDvjse9z7GAcH2BGQv4wH8bumkd4x5oXN2obX..._request response2_content:b'{\"Strings\":[\"connect QmQabt3SWuDvjse9z7GAcH2BGQv4wH8bumkd4x5oXN2obX success\"]}\\n'\n",
      "_request reqponse2:<class 'dict'>\n",
      "\u001b[32mSUCCESS!!!\u001b[0m\n",
      "\tWORKER: /p2p-circuit/ipfs/Qme8SQLibzaAPQSS4GRFQCqAXqVPVknZeDLPqeePYYka8d..._request response2_content:b'{\"Message\":\"connect Qme8SQLibzaAPQSS4GRFQCqAXqVPVknZeDLPqeePYYka8d failure: dial attempt failed: \\\\u003cpeer.ID a5efEQ\\\\u003e --\\\\u003e \\\\u003cpeer.ID e8SQLi\\\\u003e dial attempt failed: Failed to dial through 14 known relay hosts\",\"Code\":0}\\n'\n",
      "\u001b[31mFAIL!!!\u001b[0m\n",
      "\tWORKER: /p2p-circuit/ipfs/Qmaosc64H6Y29VFCFYJzJXCX9AuRp7RCsekLmajHNVEARD..._request response2_content:b'{\"Message\":\"connect Qmaosc64H6Y29VFCFYJzJXCX9AuRp7RCsekLmajHNVEARD failure: dial attempt failed: \\\\u003cpeer.ID a5efEQ\\\\u003e --\\\\u003e \\\\u003cpeer.ID aosc64\\\\u003e dial attempt failed: Failed to dial through 14 known relay hosts\",\"Code\":0}\\n'\n",
      "\u001b[31mFAIL!!!\u001b[0m\n",
      "_request reqponse:<class 'generator'>\n",
      "_request response2_content:b''\n",
      "_request reqponse2:<class 'list'>\n",
      "\n",
      "\n",
      "_request response2_content:b'{\"Strings\":[\"QmXkWUybbTnfvFH8SUcrug6RGTLYTB23gSockKLxueR1vQ\",\"QmPz3CyRYrtXDxzKwRBwu2R6sHo3uW9E38uz48T8Ln7fcs\",\"QmWFZFULFNw45eaYz3ht2hK58fNhCZZwgz8AjjKtqgUnds\",\"QmSoLV4Bbm51jM9C4gDYZQ9Cy3U6aXMJDAbzgu2fzaDs64\",\"QmSoLer265NRgSp2LA3dPaeykiS1J6DifTC88f5uVQKNAd\",\"QmSoLSafTMBsPKadTEgaXctDQVcqN88CNLHXMkTNwMKPnu\",\"QmT6E8HvKv9TFEVZxPiFbWTfwqReQGaiLGgmw4iQyPKPRD\",\"QmQabt3SWuDvjse9z7GAcH2BGQv4wH8bumkd4x5oXN2obX\"]}\\n'\n",
      "_request reqponse2:<class 'dict'>\n",
      "_request response2_content:b'{\"Strings\":[\"QmQabt3SWuDvjse9z7GAcH2BGQv4wH8bumkd4x5oXN2obX\"]}\\n'\n",
      "_request reqponse2:<class 'dict'>\n",
      "<class 'dict'>\n",
      "{'Strings': ['QmQabt3SWuDvjse9z7GAcH2BGQv4wH8bumkd4x5oXN2obX']}\n",
      "\u001b[34mUPDATE: \u001b[0mSearching for IPFS nodes - 8 found overall - 1 are OpenMined workers          \n",
      "\n",
      "\u001b[32mSUCCESS: \u001b[0mFound 1 OpenMined nodes!!!\n",
      "\n",
      "_request reqponse:<class 'generator'>_request reqponse:<class 'generator'>\n",
      "\n",
      "_request reqponse:<class 'generator'>\n",
      "_request response2_content:b''\n",
      "_request reqponse2:<class 'list'>\n",
      "_request response2_content:b''\n",
      "_request reqponse2:<class 'list'>\n",
      "_request reqponse:<class 'generator'>\n",
      "_request response2_content:b''\n",
      "_request reqponse2:<class 'list'>\n",
      "_request reqponse:<class 'generator'>\n",
      "_request response2_content:b''\n",
      "_request reqponse2:<class 'list'>\n",
      "_request response2_content:b''\n",
      "_request reqponse2:<class 'list'>\n",
      "_request response2_content:b''\n",
      "_request reqponse2:<class 'list'>\n",
      "_request reqponse:<class 'generator'>\n",
      "_request response2_content:b''\n",
      "_request reqponse2:<class 'list'>\n",
      "_request response2_content:b''\n",
      "_request reqponse2:<class 'list'>\n",
      "_request response2_content:b'{\"Strings\":[\"QmQabt3SWuDvjse9z7GAcH2BGQv4wH8bumkd4x5oXN2obX\"]}\\n'\n",
      "_request reqponse2:<class 'dict'>\n",
      "<class 'dict'>\n",
      "{'Strings': ['QmQabt3SWuDvjse9z7GAcH2BGQv4wH8bumkd4x5oXN2obX']}\n",
      "_request response2_content:b'{\\n  \"API\": {\\n    \"HTTPHeaders\": null\\n  },\\n  \"Addresses\": {\\n    \"API\": \"/ip4/127.0.0.1/tcp/5001\",\\n    \"Announce\": [],\\n    \"Gateway\": \"/ip4/127.0.0.1/tcp/8080\",\\n    \"NoAnnounce\": [],\\n    \"Swarm\": [\\n      \"/ip4/0.0.0.0/tcp/4001\",\\n      \"/ip6/::/tcp/4001\"\\n    ]\\n  },\\n  \"Bootstrap\": [\\n    \"/ip4/54.173.200.160/tcp/4001/ipfs/QmSCXtNJGfQD6dkYWinDu6jjAcetqg8Je4uAbtShPHfPQS\",\\n    \"/ip4/172.31.27.187/tcp/4001/ipfs/QmfFFpFFZBu6Ut6qUpdMHQ4dMKZ9XgDRDMoGRowFhoSjSs\",\\n    \"/ip4/127.0.0.1/tcp/4001/ipfs/QmfFFpFFZBu6Ut6qUpdMHQ4dMKZ9XgDRDMoGRowFhoSjSs\",\\n    \"/dnsaddr/bootstrap.libp2p.io/ipfs/QmNnooDu7bfjPFoTZYxMNLWUQJyrVwtbZg5gBMjTezGAJN\",\\n    \"/dnsaddr/bootstrap.libp2p.io/ipfs/QmQCU2EcMqAqQPR2i9bChDtGNJchTbq5TbXJJ16u19uLTa\",\\n    \"/dnsaddr/bootstrap.libp2p.io/ipfs/QmbLHAnMoJPWSCR5Zhtx6BHJX9KiKNN6tpvbUcqanj75Nb\",\\n    \"/dnsaddr/bootstrap.libp2p.io/ipfs/QmcZf59bWwK5XFi76CZX8cbJ4BhTzzA3gU1ZjYZcYW3dwt\",\\n    \"/ip4/104.131.131.82/tcp/4001/ipfs/QmaCpDMGvV2BGHeYERUEnRQAwe3N8SzbUtfsmvsqQLuvuJ\",\\n    \"/ip4/104.236.179.241/tcp/4001/ipfs/QmSoLPppuBtQSGwKDZT2M73ULpjvfd3aZ6ha4oFGL1KrGM\",\\n    \"/ip4/128.199.219.111/tcp/4001/ipfs/QmSoLSafTMBsPKadTEgaXctDQVcqN88CNLHXMkTNwMKPnu\",\\n    \"/ip4/104.236.76.40/tcp/4001/ipfs/QmSoLV4Bbm51jM9C4gDYZQ9Cy3U6aXMJDAbzgu2fzaDs64\",\\n    \"/ip4/178.62.158.247/tcp/4001/ipfs/QmSoLer265NRgSp2LA3dPaeykiS1J6DifTC88f5uVQKNAd\",\\n    \"/ip6/2604:a880:1:20::203:d001/tcp/4001/ipfs/QmSoLPppuBtQSGwKDZT2M73ULpjvfd3aZ6ha4oFGL1KrGM\",\\n    \"/ip6/2400:6180:0:d0::151:6001/tcp/4001/ipfs/QmSoLSafTMBsPKadTEgaXctDQVcqN88CNLHXMkTNwMKPnu\",\\n    \"/ip6/2604:a880:800:10::4a:5001/tcp/4001/ipfs/QmSoLV4Bbm51jM9C4gDYZQ9Cy3U6aXMJDAbzgu2fzaDs64\",\\n    \"/ip6/2a03:b0c0:0:1010::23:1001/tcp/4001/ipfs/QmSoLer265NRgSp2LA3dPaeykiS1J6DifTC88f5uVQKNAd\"\\n  ],\\n  \"Datastore\": {\\n    \"BloomFilterSize\": 0,\\n    \"GCPeriod\": \"1h\",\\n    \"HashOnRead\": false,\\n    \"Spec\": {\\n      \"mounts\": [\\n        {\\n          \"child\": {\\n            \"path\": \"blocks\",\\n            \"shardFunc\": \"/repo/flatfs/shard/v1/next-to-last/2\",\\n            \"sync\": true,\\n            \"type\": \"flatfs\"\\n          },\\n          \"mountpoint\": \"/blocks\",\\n          \"prefix\": \"flatfs.datastore\",\\n          \"type\": \"measure\"\\n        },\\n        {\\n          \"child\": {\\n            \"compression\": \"none\",\\n            \"path\": \"datastore\",\\n            \"type\": \"levelds\"\\n          },\\n          \"mountpoint\": \"/\",\\n          \"prefix\": \"leveldb.datastore\",\\n          \"type\": \"measure\"\\n        }\\n      ],\\n      \"type\": \"mount\"\\n    },\\n    \"StorageGCWatermark\": 90,\\n    \"StorageMax\": \"10GB\"\\n  },\\n  \"Discovery\": {\\n    \"MDNS\": {\\n      \"Enabled\": true,\\n      \"Interval\": 10\\n    }\\n  },\\n  \"Experimental\": {\\n    \"FilestoreEnabled\": false,\\n    \"Libp2pStreamMounting\": false,\\n    \"ShardingEnabled\": false\\n  },\\n  \"Gateway\": {\\n    \"HTTPHeaders\": {\\n      \"Access-Control-Allow-Headers\": [\\n        \"X-Requested-With\",\\n        \"Range\"\\n      ],\\n      \"Access-Control-Allow-Methods\": [\\n        \"GET\"\\n      ],\\n      \"Access-Control-Allow-Origin\": [\\n        \"*\"\\n      ]\\n    },\\n    \"PathPrefixes\": [],\\n    \"RootRedirect\": \"\",\\n    \"Writable\": false\\n  },\\n  \"Identity\": {\\n    \"PeerID\": \"Qma5efEQtBUxDonmSDajv9dZ52axH9MNULKTgVpXWK8Ak2\"\\n  },\\n  \"Ipns\": {\\n    \"RecordLifetime\": \"\",\\n    \"RepublishPeriod\": \"\",\\n    \"ResolveCacheSize\": 128\\n  },\\n  \"Mounts\": {\\n    \"FuseAllowOther\": false,\\n    \"IPFS\": \"/ipfs\",\\n    \"IPNS\": \"/ipns\"\\n  },\\n  \"Reprovider\": {\\n    \"Interval\": \"12h\",\\n    \"Strategy\": \"all\"\\n  },\\n  \"SupernodeRouting\": {\\n    \"Servers\": null\\n  },\\n  \"Swarm\": {\\n    \"AddrFilters\": null,\\n    \"DisableBandwidthMetrics\": false,\\n    \"DisableNatPortMap\": false,\\n    \"DisableRelay\": false,\\n    \"EnableRelayHop\": false\\n  }\\n}'\n",
      "_request reqponse2:<class 'dict'>\n",
      "_request reqponse:<class 'generator'>\n",
      "_request response2_content:b''\n",
      "_request reqponse2:<class 'list'>\n",
      "_request reqponse:<class 'generator'>\n",
      "_request response2_content:b''\n",
      "_request reqponse2:<class 'list'>\n",
      "_request response2_content:b''\n",
      "_request reqponse2:<class 'list'>\n",
      "_request response2_content:b''\n",
      "_request reqponse2:<class 'list'>\n"
     ]
    }
   ],
   "source": [
    "g = TorchClient(min_om_nodes=1,verbose=False)"
   ]
  },
  {
   "cell_type": "code",
   "execution_count": 10,
   "metadata": {},
   "outputs": [
    {
     "data": {
      "text/plain": [
       "['QmQabt3SWuDvjse9z7GAcH2BGQv4wH8bumkd4x5oXN2obX']"
      ]
     },
     "execution_count": 10,
     "metadata": {},
     "output_type": "execute_result"
    }
   ],
   "source": [
    "g.get_openmined_nodes()"
   ]
  },
  {
   "cell_type": "code",
   "execution_count": 12,
   "metadata": {},
   "outputs": [],
   "source": [
    "a = torch.FloatTensor([1,2,3,4])"
   ]
  },
  {
   "cell_type": "code",
   "execution_count": 13,
   "metadata": {},
   "outputs": [
    {
     "name": "stdout",
     "output_type": "stream",
     "text": [
      "\u001b[90m ANCHOR - 0 - ID:N2obX  Ping:0.18sec  CPUs:1  CPU Load:5.7  Disk-util:98.6%  RAM-util:20.5%  GPUs:[]\u001b[0m\n",
      "\u001b[90m ANCHOR - 1 - ID:VEARD  Ping:0.11sec  CPUs:1  CPU Load:4.1  Disk-util:97.6%  RAM-util:15.5%  GPUs:[]\u001b[0m\n"
     ]
    }
   ],
   "source": [
    "g.refresh(False,True)"
   ]
  },
  {
   "cell_type": "code",
   "execution_count": 14,
   "metadata": {},
   "outputs": [],
   "source": [
    "b = a + a"
   ]
  },
  {
   "cell_type": "code",
   "execution_count": 16,
   "metadata": {},
   "outputs": [
    {
     "ename": "IndexError",
     "evalue": "list index out of range",
     "output_type": "error",
     "traceback": [
      "\u001b[0;31m---------------------------------------------------------------------------\u001b[0m",
      "\u001b[0;31mIndexError\u001b[0m                                Traceback (most recent call last)",
      "\u001b[0;32m<ipython-input-16-6da5cc099fc9>\u001b[0m in \u001b[0;36m<module>\u001b[0;34m()\u001b[0m\n\u001b[0;32m----> 1\u001b[0;31m \u001b[0ma\u001b[0m\u001b[0;34m.\u001b[0m\u001b[0msend\u001b[0m\u001b[0;34m(\u001b[0m\u001b[0mg\u001b[0m\u001b[0;34m[\u001b[0m\u001b[0;36m3\u001b[0m\u001b[0;34m]\u001b[0m\u001b[0;34m)\u001b[0m\u001b[0;34m\u001b[0m\u001b[0m\n\u001b[0m",
      "\u001b[0;32m/Users/atrask/anaconda/lib/python3.6/site-packages/grid-0.1.0-py3.6.egg/grid/clients/base.py\u001b[0m in \u001b[0;36m__getitem__\u001b[0;34m(self, idx)\u001b[0m\n\u001b[1;32m    141\u001b[0m \u001b[0;34m\u001b[0m\u001b[0m\n\u001b[1;32m    142\u001b[0m     \u001b[0;32mdef\u001b[0m \u001b[0m__getitem__\u001b[0m\u001b[0;34m(\u001b[0m\u001b[0mself\u001b[0m\u001b[0;34m,\u001b[0m \u001b[0midx\u001b[0m\u001b[0;34m)\u001b[0m\u001b[0;34m:\u001b[0m\u001b[0;34m\u001b[0m\u001b[0m\n\u001b[0;32m--> 143\u001b[0;31m         \u001b[0;32mreturn\u001b[0m \u001b[0mself\u001b[0m\u001b[0;34m.\u001b[0m\u001b[0mstats\u001b[0m\u001b[0;34m[\u001b[0m\u001b[0midx\u001b[0m\u001b[0;34m]\u001b[0m\u001b[0;34m[\u001b[0m\u001b[0;34m'id'\u001b[0m\u001b[0;34m]\u001b[0m\u001b[0;34m\u001b[0m\u001b[0m\n\u001b[0m\u001b[1;32m    144\u001b[0m \u001b[0;34m\u001b[0m\u001b[0m\n\u001b[1;32m    145\u001b[0m     \u001b[0;32mdef\u001b[0m \u001b[0m__len__\u001b[0m\u001b[0;34m(\u001b[0m\u001b[0mself\u001b[0m\u001b[0;34m)\u001b[0m\u001b[0;34m:\u001b[0m\u001b[0;34m\u001b[0m\u001b[0m\n",
      "\u001b[0;31mIndexError\u001b[0m: list index out of range"
     ]
    }
   ],
   "source": [
    "a.send(g[3])"
   ]
  },
  {
   "cell_type": "code",
   "execution_count": 22,
   "metadata": {},
   "outputs": [
    {
     "data": {
      "text/plain": [
       "'QmYhaStJx18kV2LLLxYbPWG9YHGjSE9TBWB2YoDs5iPADh'"
      ]
     },
     "execution_count": 22,
     "metadata": {},
     "output_type": "execute_result"
    }
   ],
   "source": [
    "a.owner"
   ]
  },
  {
   "cell_type": "code",
   "execution_count": 23,
   "metadata": {},
   "outputs": [
    {
     "data": {
      "text/plain": [
       "[ torch.FloatTensor - Location:QmYhaStJx18kV2LLLxYbPWG9YHGjSE9TBWB2YoDs5iPADh ]"
      ]
     },
     "execution_count": 23,
     "metadata": {},
     "output_type": "execute_result"
    }
   ],
   "source": [
    "a"
   ]
  },
  {
   "cell_type": "code",
   "execution_count": 24,
   "metadata": {},
   "outputs": [
    {
     "data": {
      "text/plain": [
       "\n",
       " 1\n",
       " 2\n",
       " 3\n",
       " 4\n",
       "[torch.FloatTensor of size 4]"
      ]
     },
     "execution_count": 24,
     "metadata": {},
     "output_type": "execute_result"
    }
   ],
   "source": [
    "a.get()"
   ]
  },
  {
   "cell_type": "code",
   "execution_count": 25,
   "metadata": {},
   "outputs": [
    {
     "data": {
      "text/plain": [
       "'Qma5efEQtBUxDonmSDajv9dZ52axH9MNULKTgVpXWK8Ak2'"
      ]
     },
     "execution_count": 25,
     "metadata": {},
     "output_type": "execute_result"
    }
   ],
   "source": [
    "a.owner"
   ]
  },
  {
   "cell_type": "code",
   "execution_count": 26,
   "metadata": {},
   "outputs": [
    {
     "data": {
      "text/plain": [
       "\n",
       " 1\n",
       " 2\n",
       " 3\n",
       " 4\n",
       "[torch.FloatTensor of size 4]"
      ]
     },
     "execution_count": 26,
     "metadata": {},
     "output_type": "execute_result"
    }
   ],
   "source": [
    "a"
   ]
  },
  {
   "cell_type": "code",
   "execution_count": null,
   "metadata": {},
   "outputs": [],
   "source": []
  },
  {
   "cell_type": "code",
   "execution_count": null,
   "metadata": {},
   "outputs": [],
   "source": []
  },
  {
   "cell_type": "code",
   "execution_count": null,
   "metadata": {},
   "outputs": [],
   "source": []
  },
  {
   "cell_type": "code",
   "execution_count": null,
   "metadata": {},
   "outputs": [],
   "source": []
  },
  {
   "cell_type": "code",
   "execution_count": null,
   "metadata": {},
   "outputs": [],
   "source": []
  },
  {
   "cell_type": "code",
   "execution_count": null,
   "metadata": {},
   "outputs": [],
   "source": []
  },
  {
   "cell_type": "code",
   "execution_count": null,
   "metadata": {},
   "outputs": [],
   "source": []
  }
 ],
 "metadata": {
  "kernelspec": {
   "display_name": "Python 3",
   "language": "python",
   "name": "python3"
  },
  "language_info": {
   "codemirror_mode": {
    "name": "ipython",
    "version": 3
   },
   "file_extension": ".py",
   "mimetype": "text/x-python",
   "name": "python",
   "nbconvert_exporter": "python",
   "pygments_lexer": "ipython3",
   "version": "3.6.1"
  }
 },
 "nbformat": 4,
 "nbformat_minor": 2
}
